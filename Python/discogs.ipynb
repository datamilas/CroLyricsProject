{
 "cells": [
  {
   "cell_type": "code",
   "execution_count": 19,
   "metadata": {},
   "outputs": [],
   "source": [
    "import discogs_client\n",
    "import pandas as pd\n",
    "import time\n",
    "from utils import lower_and_remove_diacritics, similar"
   ]
  },
  {
   "cell_type": "code",
   "execution_count": 20,
   "metadata": {},
   "outputs": [],
   "source": [
    "d = discogs_client.Client('datamilas/0.1', user_token='BDGKHOLMZJxywoowKXvyRhXeqJhkezYxwVjxvBJR')"
   ]
  },
  {
   "cell_type": "markdown",
   "metadata": {},
   "source": [
    "Already scraped\n",
    "artist_name = \"Severina\"\n",
    "artist_id = 473824\n",
    "\n",
    "artist_name = \"Mia Dimšić\"\n",
    "artist_id = 5416029\n",
    "\n",
    "artist_name = \"Jelena Rozga\"\n",
    "artist_id = 1546627\n",
    "\n",
    "artist_name = \"Petar Grašo\"\n",
    "artist_id = 793012\n",
    "\n",
    "\n",
    "artist_name = \"Đani Maršan\"\n",
    "artist_id = 929048"
   ]
  },
  {
   "cell_type": "code",
   "execution_count": 21,
   "metadata": {},
   "outputs": [],
   "source": [
    "artist_name = \"Alen Vitasović\"\n",
    "artist_id = 345900"
   ]
  },
  {
   "cell_type": "code",
   "execution_count": 22,
   "metadata": {},
   "outputs": [
    {
     "data": {
      "text/plain": [
       "<Artist 345900 'Alen Vitasović'>"
      ]
     },
     "execution_count": 22,
     "metadata": {},
     "output_type": "execute_result"
    }
   ],
   "source": [
    "artist_object = d.artist(artist_id)\n",
    "artist_discogs = artist_object.name\n",
    "artist_object"
   ]
  },
  {
   "cell_type": "code",
   "execution_count": 23,
   "metadata": {},
   "outputs": [],
   "source": [
    "albums = artist_object.releases\n"
   ]
  },
  {
   "cell_type": "code",
   "execution_count": 24,
   "metadata": {},
   "outputs": [],
   "source": [
    "df_discogs = pd.DataFrame(columns=[\"Artist\"])"
   ]
  },
  {
   "cell_type": "code",
   "execution_count": 25,
   "metadata": {},
   "outputs": [
    {
     "name": "stdout",
     "output_type": "stream",
     "text": [
      "<Release 4803058 'Ne Moren Bez Nje'>\n",
      "<Master 393539 'Gušti Su Gušti'>\n",
      "<Master 1442330 'Svi Festivali Plus Koncert'>\n",
      "<Master 1342684 'Come Va?'>\n",
      "<Release 7647856 'Ja Ne Gren'>\n",
      "<Release 12699050 'Grih'>\n",
      "<Release 5616168 'Zlatna Kolekcija'>\n",
      "<Release 5816047 'Put Ka Sreći • Hrvatski Glazbenici Za Ivu Josipovića'>\n",
      "<Release 7478973 'Sve Spod Mi Raklja'>\n",
      "<Release 12298497 'The Best Of Collection'>\n",
      "<Release 17178472 'Oštarije Su Mi Zaprli'>\n"
     ]
    }
   ],
   "source": [
    "i=0\n",
    "for album in albums:\n",
    "    if album.data[\"role\"] == \"Main\":\n",
    "        print(album)\n",
    "        time.sleep(0.5)\n",
    "        for track in album.tracklist:\n",
    "            if len(track.artists)==0 or (artist_object in track.artists):\n",
    "                df_discogs.loc[i, \"Artist\"] = artist_name\n",
    "                df_discogs.loc[i, \"Artist_discogs\"] = artist_discogs\n",
    "                df_discogs.loc[i, \"Song_discogs\"] = track.title\n",
    "                if \"duration\" in track.data.keys(): df_discogs.loc[i, \"Song_duration_discogs\"] = track.data[\"duration\"]\n",
    "                if \"extraartists\" in track.data.keys():\n",
    "                    for ea in track.data[\"extraartists\"]:\n",
    "                        roles = ea[\"role\"].split(\", \")\n",
    "\n",
    "                        for role in roles:\n",
    "                            try: df_discogs.loc[i, f\"{role}_discogs\"] = df_discogs.loc[i, role]+\"/\"+ea[\"name\"]\n",
    "                            except: df_discogs.loc[i, f\"{role}_discogs\"] = ea[\"name\"]\n",
    "                df_discogs.loc[i, \"Album_title_discogs\"] = album.title\n",
    "                df_discogs.loc[i, \"Album_year_discogs\"] = album.year\n",
    "                df_discogs.loc[i, \"Album_genres_discogs\"] = str(album.genres)\n",
    "\n",
    "                i+=1"
   ]
  },
  {
   "cell_type": "code",
   "execution_count": 26,
   "metadata": {},
   "outputs": [],
   "source": [
    "df_discogs[\"Album_year_discogs\"] = df_discogs[\"Album_year_discogs\"].astype(int)\n",
    "df_discogs[\"Album_year_title_discogs\"] = df_discogs[\"Album_year_discogs\"].astype(str)+\"-\"+df_discogs[\"Album_title_discogs\"]\n",
    "df_discogs[\"All_albums_discogs\"] = df_discogs.groupby(\"Song_discogs\")[\"Album_year_title_discogs\"].transform(lambda x: '/'.join(x))"
   ]
  },
  {
   "cell_type": "code",
   "execution_count": 29,
   "metadata": {},
   "outputs": [],
   "source": [
    "df_discogs.sort_values(\"Album_year_discogs\").reset_index(drop=True, inplace=True)\n",
    "df_discogs = df_discogs.drop_duplicates(subset=[\"Song_discogs\"])\n",
    "df_discogs = df_discogs.reset_index(drop=True)"
   ]
  },
  {
   "cell_type": "code",
   "execution_count": 30,
   "metadata": {},
   "outputs": [],
   "source": [
    "columns_to_take = [col for col in df_discogs.columns if col in ['Artist_discogs', 'Song_discogs', 'Song_duration_discogs',\n",
    "       'Album_title_discogs', 'Album_year_discogs', 'Album_genres_discogs','All_albums_discogs',\n",
    "       'Lyrics By_discogs', 'Music By_discogs', 'Featuring_discogs']]\n"
   ]
  },
  {
   "cell_type": "code",
   "execution_count": 32,
   "metadata": {},
   "outputs": [],
   "source": [
    "df = pd.read_csv(f\"data/{artist_name}_tekstovinet_lyricstranslate_diskografija_cuspajz.csv\")"
   ]
  },
  {
   "cell_type": "code",
   "execution_count": 33,
   "metadata": {},
   "outputs": [],
   "source": [
    "similarity_threshold = 0.9\n",
    "song_names = [lower_and_remove_diacritics(s).split('(')[0] for s in df_discogs.Song_discogs]\n",
    "for row in df.iterrows():\n",
    "    song_title = lower_and_remove_diacritics(row[1].Song_tekstovinet).split('(')[0]\n",
    "    similarities = [similar(song_title, s) for s in song_names]\n",
    "    max_similarity = max(similarities)\n",
    "    \n",
    "    if max_similarity>similarity_threshold:\n",
    "        df.loc[row[0], columns_to_take] = df_discogs.loc[similarities.index(max_similarity)][columns_to_take]\n",
    "\n"
   ]
  },
  {
   "cell_type": "code",
   "execution_count": 34,
   "metadata": {},
   "outputs": [
    {
     "data": {
      "text/html": [
       "<div>\n",
       "<style scoped>\n",
       "    .dataframe tbody tr th:only-of-type {\n",
       "        vertical-align: middle;\n",
       "    }\n",
       "\n",
       "    .dataframe tbody tr th {\n",
       "        vertical-align: top;\n",
       "    }\n",
       "\n",
       "    .dataframe thead th {\n",
       "        text-align: right;\n",
       "    }\n",
       "</style>\n",
       "<table border=\"1\" class=\"dataframe\">\n",
       "  <thead>\n",
       "    <tr style=\"text-align: right;\">\n",
       "      <th></th>\n",
       "      <th>Album_1_diskografija</th>\n",
       "      <th>Album_year_discogs</th>\n",
       "      <th>Album_title_discogs</th>\n",
       "      <th>All_albums_discogs</th>\n",
       "    </tr>\n",
       "  </thead>\n",
       "  <tbody>\n",
       "    <tr>\n",
       "      <th>1</th>\n",
       "      <td>1995 - Svi festivali</td>\n",
       "      <td>1995.0</td>\n",
       "      <td>Svi Festivali Plus Koncert</td>\n",
       "      <td>1995-Svi Festivali Plus Koncert/2010-Zlatna Ko...</td>\n",
       "    </tr>\n",
       "    <tr>\n",
       "      <th>3</th>\n",
       "      <td>1997 - Come va?</td>\n",
       "      <td>1997.0</td>\n",
       "      <td>Come Va?</td>\n",
       "      <td>1997-Come Va?</td>\n",
       "    </tr>\n",
       "    <tr>\n",
       "      <th>7</th>\n",
       "      <td>1994 - Gušti su gušti</td>\n",
       "      <td>1994.0</td>\n",
       "      <td>Gušti Su Gušti</td>\n",
       "      <td>1994-Gušti Su Gušti/1995-Svi Festivali Plus Ko...</td>\n",
       "    </tr>\n",
       "    <tr>\n",
       "      <th>8</th>\n",
       "      <td>2000 - Dora 2000</td>\n",
       "      <td>2000.0</td>\n",
       "      <td>Ja Ne Gren</td>\n",
       "      <td>2000-Ja Ne Gren/2010-Zlatna Kolekcija</td>\n",
       "    </tr>\n",
       "    <tr>\n",
       "      <th>10</th>\n",
       "      <td>1994 - Gušti su gušti</td>\n",
       "      <td>1995.0</td>\n",
       "      <td>Svi Festivali Plus Koncert</td>\n",
       "      <td>1995-Svi Festivali Plus Koncert/2010-Zlatna Ko...</td>\n",
       "    </tr>\n",
       "    <tr>\n",
       "      <th>12</th>\n",
       "      <td>1995 - Svi festivali</td>\n",
       "      <td>1995.0</td>\n",
       "      <td>Svi Festivali Plus Koncert</td>\n",
       "      <td>1995-Svi Festivali Plus Koncert</td>\n",
       "    </tr>\n",
       "    <tr>\n",
       "      <th>19</th>\n",
       "      <td>1995 - Svi festivali</td>\n",
       "      <td>1995.0</td>\n",
       "      <td>Svi Festivali Plus Koncert</td>\n",
       "      <td>1995-Svi Festivali Plus Koncert/2000-Ja Ne Gre...</td>\n",
       "    </tr>\n",
       "    <tr>\n",
       "      <th>21</th>\n",
       "      <td>1995 - Svi festivali</td>\n",
       "      <td>1995.0</td>\n",
       "      <td>Svi Festivali Plus Koncert</td>\n",
       "      <td>1995-Svi Festivali Plus Koncert/2010-Zlatna Ko...</td>\n",
       "    </tr>\n",
       "    <tr>\n",
       "      <th>22</th>\n",
       "      <td>1994 - Gušti su gušti</td>\n",
       "      <td>1993.0</td>\n",
       "      <td>Ne Moren Bez Nje</td>\n",
       "      <td>1993-Ne Moren Bez Nje/1994-Gušti Su Gušti/1995...</td>\n",
       "    </tr>\n",
       "    <tr>\n",
       "      <th>23</th>\n",
       "      <td>2006 - Dora 2006</td>\n",
       "      <td>2010.0</td>\n",
       "      <td>Zlatna Kolekcija</td>\n",
       "      <td>2010-Zlatna Kolekcija</td>\n",
       "    </tr>\n",
       "    <tr>\n",
       "      <th>25</th>\n",
       "      <td>2007 - Dora 2007</td>\n",
       "      <td>2010.0</td>\n",
       "      <td>Zlatna Kolekcija</td>\n",
       "      <td>2010-Zlatna Kolekcija</td>\n",
       "    </tr>\n",
       "    <tr>\n",
       "      <th>26</th>\n",
       "      <td>2004 - Dalmatinska Šansona 2004</td>\n",
       "      <td>2010.0</td>\n",
       "      <td>Zlatna Kolekcija</td>\n",
       "      <td>2010-Zlatna Kolekcija</td>\n",
       "    </tr>\n",
       "  </tbody>\n",
       "</table>\n",
       "</div>"
      ],
      "text/plain": [
       "               Album_1_diskografija  Album_year_discogs  \\\n",
       "1              1995 - Svi festivali              1995.0   \n",
       "3                   1997 - Come va?              1997.0   \n",
       "7             1994 - Gušti su gušti              1994.0   \n",
       "8                  2000 - Dora 2000              2000.0   \n",
       "10            1994 - Gušti su gušti              1995.0   \n",
       "12             1995 - Svi festivali              1995.0   \n",
       "19             1995 - Svi festivali              1995.0   \n",
       "21             1995 - Svi festivali              1995.0   \n",
       "22            1994 - Gušti su gušti              1993.0   \n",
       "23                 2006 - Dora 2006              2010.0   \n",
       "25                 2007 - Dora 2007              2010.0   \n",
       "26  2004 - Dalmatinska Šansona 2004              2010.0   \n",
       "\n",
       "           Album_title_discogs  \\\n",
       "1   Svi Festivali Plus Koncert   \n",
       "3                     Come Va?   \n",
       "7               Gušti Su Gušti   \n",
       "8                   Ja Ne Gren   \n",
       "10  Svi Festivali Plus Koncert   \n",
       "12  Svi Festivali Plus Koncert   \n",
       "19  Svi Festivali Plus Koncert   \n",
       "21  Svi Festivali Plus Koncert   \n",
       "22            Ne Moren Bez Nje   \n",
       "23            Zlatna Kolekcija   \n",
       "25            Zlatna Kolekcija   \n",
       "26            Zlatna Kolekcija   \n",
       "\n",
       "                                   All_albums_discogs  \n",
       "1   1995-Svi Festivali Plus Koncert/2010-Zlatna Ko...  \n",
       "3                                       1997-Come Va?  \n",
       "7   1994-Gušti Su Gušti/1995-Svi Festivali Plus Ko...  \n",
       "8               2000-Ja Ne Gren/2010-Zlatna Kolekcija  \n",
       "10  1995-Svi Festivali Plus Koncert/2010-Zlatna Ko...  \n",
       "12                    1995-Svi Festivali Plus Koncert  \n",
       "19  1995-Svi Festivali Plus Koncert/2000-Ja Ne Gre...  \n",
       "21  1995-Svi Festivali Plus Koncert/2010-Zlatna Ko...  \n",
       "22  1993-Ne Moren Bez Nje/1994-Gušti Su Gušti/1995...  \n",
       "23                              2010-Zlatna Kolekcija  \n",
       "25                              2010-Zlatna Kolekcija  \n",
       "26                              2010-Zlatna Kolekcija  "
      ]
     },
     "execution_count": 34,
     "metadata": {},
     "output_type": "execute_result"
    }
   ],
   "source": [
    "df[[\"Album_1_diskografija\", \"Album_year_discogs\", \"Album_title_discogs\", \"All_albums_discogs\"]].dropna()"
   ]
  },
  {
   "cell_type": "code",
   "execution_count": 35,
   "metadata": {},
   "outputs": [
    {
     "data": {
      "text/html": [
       "<div>\n",
       "<style scoped>\n",
       "    .dataframe tbody tr th:only-of-type {\n",
       "        vertical-align: middle;\n",
       "    }\n",
       "\n",
       "    .dataframe tbody tr th {\n",
       "        vertical-align: top;\n",
       "    }\n",
       "\n",
       "    .dataframe thead th {\n",
       "        text-align: right;\n",
       "    }\n",
       "</style>\n",
       "<table border=\"1\" class=\"dataframe\">\n",
       "  <thead>\n",
       "    <tr style=\"text-align: right;\">\n",
       "      <th></th>\n",
       "      <th>Album_lyricstranslate</th>\n",
       "      <th>Album_year_discogs</th>\n",
       "      <th>Album_title_discogs</th>\n",
       "    </tr>\n",
       "  </thead>\n",
       "  <tbody>\n",
       "    <tr>\n",
       "      <th>18</th>\n",
       "      <td>CD Single</td>\n",
       "      <td>2003.0</td>\n",
       "      <td>Grih</td>\n",
       "    </tr>\n",
       "  </tbody>\n",
       "</table>\n",
       "</div>"
      ],
      "text/plain": [
       "   Album_lyricstranslate  Album_year_discogs Album_title_discogs\n",
       "18             CD Single              2003.0                Grih"
      ]
     },
     "execution_count": 35,
     "metadata": {},
     "output_type": "execute_result"
    }
   ],
   "source": [
    "df[[\"Album_lyricstranslate\", \"Album_year_discogs\", \"Album_title_discogs\"]].dropna()"
   ]
  },
  {
   "cell_type": "code",
   "execution_count": 36,
   "metadata": {},
   "outputs": [],
   "source": [
    "df.to_csv(f\"data/{artist_name}_final.csv\", index=False)"
   ]
  },
  {
   "cell_type": "code",
   "execution_count": 37,
   "metadata": {},
   "outputs": [],
   "source": [
    "df_discogs.to_csv(f\"data/{artist_name}_discogs.csv\", index=False)"
   ]
  }
 ],
 "metadata": {
  "interpreter": {
   "hash": "5c3b02fa24688d32a1d09351b7f8eac82a87272ad081601c73caead00a8e1fc4"
  },
  "kernelspec": {
   "display_name": "Python 2.7.18 32-bit (system)",
   "language": "python",
   "name": "python3"
  },
  "language_info": {
   "codemirror_mode": {
    "name": "ipython",
    "version": 3
   },
   "file_extension": ".py",
   "mimetype": "text/x-python",
   "name": "python",
   "nbconvert_exporter": "python",
   "pygments_lexer": "ipython3",
   "version": "3.8.1"
  },
  "orig_nbformat": 4
 },
 "nbformat": 4,
 "nbformat_minor": 2
}
