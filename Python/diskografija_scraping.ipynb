{
 "cells": [
  {
   "cell_type": "code",
   "execution_count": 17,
   "metadata": {},
   "outputs": [],
   "source": [
    "from selenium import webdriver\n",
    "from selenium.webdriver.common.keys import Keys\n",
    "from selenium.webdriver.common.by import By\n",
    "from selenium.webdriver.support.ui import WebDriverWait\n",
    "from selenium.webdriver.support import expected_conditions as EC\n",
    "from selenium.webdriver.chrome.service import Service\n",
    "import pandas as pd\n",
    "import numpy as np\n",
    "import time"
   ]
  },
  {
   "cell_type": "code",
   "execution_count": 18,
   "metadata": {},
   "outputs": [],
   "source": [
    "from utils import check_if_titles_match, lower_and_remove_diacritics"
   ]
  },
  {
   "cell_type": "markdown",
   "metadata": {},
   "source": [
    "Already scraped\n",
    "artist_name = \"Severina\"\n",
    "artist_name = \"Mia Dimšić\"\n",
    "artist_name = \"Jelena Rozga\"\n",
    "artist_name = \"Petar Grašo\"\n",
    "artist_name = \"Đani Maršan\"\n",
    "artist_name = \"Aerodrom\"\n"
   ]
  },
  {
   "cell_type": "code",
   "execution_count": 32,
   "metadata": {},
   "outputs": [],
   "source": [
    "artist_name = \"Alen Vitasović\"\n"
   ]
  },
  {
   "cell_type": "code",
   "execution_count": 33,
   "metadata": {},
   "outputs": [],
   "source": [
    "df = pd.read_csv(f\"data/{artist_name}_tekstovinet_lyricstranslate.csv\")\n"
   ]
  },
  {
   "cell_type": "code",
   "execution_count": 34,
   "metadata": {},
   "outputs": [
    {
     "data": {
      "text/html": [
       "<div>\n",
       "<style scoped>\n",
       "    .dataframe tbody tr th:only-of-type {\n",
       "        vertical-align: middle;\n",
       "    }\n",
       "\n",
       "    .dataframe tbody tr th {\n",
       "        vertical-align: top;\n",
       "    }\n",
       "\n",
       "    .dataframe thead th {\n",
       "        text-align: right;\n",
       "    }\n",
       "</style>\n",
       "<table border=\"1\" class=\"dataframe\">\n",
       "  <thead>\n",
       "    <tr style=\"text-align: right;\">\n",
       "      <th></th>\n",
       "      <th>Song_ID</th>\n",
       "      <th>Artist</th>\n",
       "      <th>Artist_diskografija</th>\n",
       "      <th>Song_tekstovinet</th>\n",
       "      <th>Views_tekstovinet</th>\n",
       "      <th>Lyrics_tekstovinet</th>\n",
       "      <th>Url_tekstovinet</th>\n",
       "      <th>Writer_lyricstranslate</th>\n",
       "      <th>Song_lyricstranslate</th>\n",
       "      <th>EngTitle_lyricstranslate</th>\n",
       "      <th>Album_lyricstranslate</th>\n",
       "      <th>Lyrics_lyricstranslate</th>\n",
       "      <th>EngLyrics_lyricstranslate</th>\n",
       "      <th>Url_lyricstranslate</th>\n",
       "    </tr>\n",
       "  </thead>\n",
       "  <tbody>\n",
       "    <tr>\n",
       "      <th>0</th>\n",
       "      <td>H/8bQC7v_1_0</td>\n",
       "      <td>Alen Vitasović</td>\n",
       "      <td>Alen Vitasović</td>\n",
       "      <td>Ako tebi lazen ja</td>\n",
       "      <td>2417</td>\n",
       "      <td>Mislim na tebe\\r\\nka iz spine curi vrime, brzo...</td>\n",
       "      <td>https://tekstovi.net/2,2448,42582.html</td>\n",
       "      <td>NaN</td>\n",
       "      <td>Ako tebi lažen ja</td>\n",
       "      <td>NaN</td>\n",
       "      <td>NaN</td>\n",
       "      <td>Mislim na tebe\\nka iz spine curi vrime, brzo g...</td>\n",
       "      <td>NaN</td>\n",
       "      <td>https://lyricstranslate.com/de/alen-vitasovi%C...</td>\n",
       "    </tr>\n",
       "    <tr>\n",
       "      <th>1</th>\n",
       "      <td>H/8bQC7v_1_1</td>\n",
       "      <td>Alen Vitasović</td>\n",
       "      <td>Alen Vitasović</td>\n",
       "      <td>Bura</td>\n",
       "      <td>7517</td>\n",
       "      <td>Bura, svo je grane slomila\\r\\ni tvoje je tilo ...</td>\n",
       "      <td>https://tekstovi.net/2,2448,32922.html</td>\n",
       "      <td>NaN</td>\n",
       "      <td>Bura</td>\n",
       "      <td>NaN</td>\n",
       "      <td>NaN</td>\n",
       "      <td>Bura, svo je grane slomila\\ni tvoje je tilo ob...</td>\n",
       "      <td>NaN</td>\n",
       "      <td>https://lyricstranslate.com/en/alen-vitasovi%C...</td>\n",
       "    </tr>\n",
       "    <tr>\n",
       "      <th>2</th>\n",
       "      <td>H/8bQC7v_1_2</td>\n",
       "      <td>Alen Vitasović</td>\n",
       "      <td>Alen Vitasović</td>\n",
       "      <td>Ca mi sad ne smi rec (feat. Zdenko Hrsak)</td>\n",
       "      <td>1705</td>\n",
       "      <td>Vani je cvika, po krovu ledi tuce \\r\\nnema kuc...</td>\n",
       "      <td>https://tekstovi.net/2,2448,52349.html</td>\n",
       "      <td>NaN</td>\n",
       "      <td>NaN</td>\n",
       "      <td>NaN</td>\n",
       "      <td>NaN</td>\n",
       "      <td>NaN</td>\n",
       "      <td>NaN</td>\n",
       "      <td>NaN</td>\n",
       "    </tr>\n",
       "    <tr>\n",
       "      <th>3</th>\n",
       "      <td>H/8bQC7v_1_3</td>\n",
       "      <td>Alen Vitasović</td>\n",
       "      <td>Alen Vitasović</td>\n",
       "      <td>Cesta priko mora</td>\n",
       "      <td>5463</td>\n",
       "      <td>Ja san s tobon biti stija\\r\\n i po svitu san h...</td>\n",
       "      <td>https://tekstovi.net/2,2448,47629.html</td>\n",
       "      <td>NaN</td>\n",
       "      <td>NaN</td>\n",
       "      <td>NaN</td>\n",
       "      <td>NaN</td>\n",
       "      <td>NaN</td>\n",
       "      <td>NaN</td>\n",
       "      <td>NaN</td>\n",
       "    </tr>\n",
       "    <tr>\n",
       "      <th>4</th>\n",
       "      <td>H/8bQC7v_1_4</td>\n",
       "      <td>Alen Vitasović</td>\n",
       "      <td>Alen Vitasović</td>\n",
       "      <td>Cvit</td>\n",
       "      <td>1052</td>\n",
       "      <td>Moglo je pasati cuda bolje\\r\\nvrimena je bilo ...</td>\n",
       "      <td>https://tekstovi.net/2,2448,58376.html</td>\n",
       "      <td>NaN</td>\n",
       "      <td>NaN</td>\n",
       "      <td>NaN</td>\n",
       "      <td>NaN</td>\n",
       "      <td>NaN</td>\n",
       "      <td>NaN</td>\n",
       "      <td>NaN</td>\n",
       "    </tr>\n",
       "  </tbody>\n",
       "</table>\n",
       "</div>"
      ],
      "text/plain": [
       "        Song_ID          Artist Artist_diskografija  \\\n",
       "0  H/8bQC7v_1_0  Alen Vitasović      Alen Vitasović   \n",
       "1  H/8bQC7v_1_1  Alen Vitasović      Alen Vitasović   \n",
       "2  H/8bQC7v_1_2  Alen Vitasović      Alen Vitasović   \n",
       "3  H/8bQC7v_1_3  Alen Vitasović      Alen Vitasović   \n",
       "4  H/8bQC7v_1_4  Alen Vitasović      Alen Vitasović   \n",
       "\n",
       "                            Song_tekstovinet  Views_tekstovinet  \\\n",
       "0                          Ako tebi lazen ja               2417   \n",
       "1                                       Bura               7517   \n",
       "2  Ca mi sad ne smi rec (feat. Zdenko Hrsak)               1705   \n",
       "3                           Cesta priko mora               5463   \n",
       "4                                       Cvit               1052   \n",
       "\n",
       "                                  Lyrics_tekstovinet  \\\n",
       "0  Mislim na tebe\\r\\nka iz spine curi vrime, brzo...   \n",
       "1  Bura, svo je grane slomila\\r\\ni tvoje je tilo ...   \n",
       "2  Vani je cvika, po krovu ledi tuce \\r\\nnema kuc...   \n",
       "3  Ja san s tobon biti stija\\r\\n i po svitu san h...   \n",
       "4  Moglo je pasati cuda bolje\\r\\nvrimena je bilo ...   \n",
       "\n",
       "                          Url_tekstovinet  Writer_lyricstranslate  \\\n",
       "0  https://tekstovi.net/2,2448,42582.html                     NaN   \n",
       "1  https://tekstovi.net/2,2448,32922.html                     NaN   \n",
       "2  https://tekstovi.net/2,2448,52349.html                     NaN   \n",
       "3  https://tekstovi.net/2,2448,47629.html                     NaN   \n",
       "4  https://tekstovi.net/2,2448,58376.html                     NaN   \n",
       "\n",
       "  Song_lyricstranslate EngTitle_lyricstranslate Album_lyricstranslate  \\\n",
       "0    Ako tebi lažen ja                      NaN                   NaN   \n",
       "1                 Bura                      NaN                   NaN   \n",
       "2                  NaN                      NaN                   NaN   \n",
       "3                  NaN                      NaN                   NaN   \n",
       "4                  NaN                      NaN                   NaN   \n",
       "\n",
       "                              Lyrics_lyricstranslate  \\\n",
       "0  Mislim na tebe\\nka iz spine curi vrime, brzo g...   \n",
       "1  Bura, svo je grane slomila\\ni tvoje je tilo ob...   \n",
       "2                                                NaN   \n",
       "3                                                NaN   \n",
       "4                                                NaN   \n",
       "\n",
       "  EngLyrics_lyricstranslate                                Url_lyricstranslate  \n",
       "0                       NaN  https://lyricstranslate.com/de/alen-vitasovi%C...  \n",
       "1                       NaN  https://lyricstranslate.com/en/alen-vitasovi%C...  \n",
       "2                       NaN                                                NaN  \n",
       "3                       NaN                                                NaN  \n",
       "4                       NaN                                                NaN  "
      ]
     },
     "execution_count": 34,
     "metadata": {},
     "output_type": "execute_result"
    }
   ],
   "source": [
    "df.head()"
   ]
  },
  {
   "cell_type": "code",
   "execution_count": 22,
   "metadata": {},
   "outputs": [
    {
     "data": {
      "text/plain": [
       "12"
      ]
     },
     "execution_count": 22,
     "metadata": {},
     "output_type": "execute_result"
    }
   ],
   "source": [
    "df[\"Lyrics_lyricstranslate\"].isnull().sum()"
   ]
  },
  {
   "cell_type": "code",
   "execution_count": 23,
   "metadata": {},
   "outputs": [],
   "source": [
    "#df[df[\"Lyrics_lyricstranslate\"].isnull()]"
   ]
  },
  {
   "cell_type": "code",
   "execution_count": 24,
   "metadata": {},
   "outputs": [],
   "source": [
    "def scrape_for_authors_and_albums(song_name, artist_name):\n",
    "    #search\n",
    "    driver.find_element(By.CLASS_NAME, 'search-page').clear()\n",
    "    search_box = driver.find_element(By.CLASS_NAME, 'search-page')\n",
    "    song_name = lower_and_remove_diacritics(song_name)\n",
    "    search_box.send_keys(song_name)\n",
    "    search_box.send_keys(Keys.RETURN)\n",
    "    time.sleep(3)\n",
    "    \n",
    "    \n",
    "    #get results of search\n",
    "    #search_result = driver.find_element(By.CLASS_NAME, 'search-result')\n",
    "    try:\n",
    "        song_results = driver.find_element(By.XPATH, f\"//*[contains(text(), 'Pjesme')]/following-sibling::ul\")\n",
    "        song_results = song_results.find_elements(By.TAG_NAME, 'a')\n",
    "\n",
    "        #go through search results\n",
    "        for song in song_results:\n",
    "\n",
    "            song.send_keys(Keys.CONTROL + Keys.RETURN)\n",
    "            window_handles = driver.window_handles\n",
    "\n",
    "            driver.switch_to.window(driver.window_handles[1])\n",
    "            time.sleep(1)            \n",
    "\n",
    "            if  check_performer(artist_name):\n",
    "                subfields, authors = get_authors()\n",
    "                albums = get_albums()\n",
    "                song_url = driver.current_url\n",
    "                song_name_website = driver.find_element(By.XPATH, f\"//*[contains(text(), 'Pjesma')]/following-sibling::h1\").text\n",
    "                driver.close()\n",
    "                driver.switch_to.window(window_name=window_handles[0])\n",
    "                return subfields, authors, albums, song_url, song_name_website\n",
    "                \n",
    "            else:\n",
    "                driver.close()\n",
    "                driver.switch_to.window(window_name=window_handles[0])\n",
    "    \n",
    "    except Exception as e: print(f\"Problem with scraping authors and albums for song {song_name}\")\n",
    "\n",
    "    return False    \n"
   ]
  },
  {
   "cell_type": "code",
   "execution_count": 25,
   "metadata": {},
   "outputs": [],
   "source": [
    "def check_performer(artist_name):\n",
    "    authors = driver.find_elements(By.TAG_NAME, \"h3\")[1:]\n",
    "    artist_name = lower_and_remove_diacritics(artist_name)\n",
    "    for index, author in enumerate(authors):\n",
    "        subfield = author.text.capitalize()\n",
    "        if subfield == \"Izvedba\":\n",
    "            siblings_of_current = driver.find_elements(By.XPATH, f\"//*[contains(text(), '{subfield}')]/following-sibling::a\")\n",
    "            if index<len(authors)-1: \n",
    "                siblings_of_next = driver.find_elements(By.XPATH, f\"//*[contains(text(), '{authors[index+1].text.capitalize()}')]/following-sibling::a\")\n",
    "                result = [r.text for r in siblings_of_current[0: len(siblings_of_current)-len(siblings_of_next)]]\n",
    "            else: result = [r.text for r in siblings_of_current] \n",
    "            \n",
    "    return True if len([r for r in result if artist_name in lower_and_remove_diacritics(r)])>0 else False\n"
   ]
  },
  {
   "cell_type": "code",
   "execution_count": 26,
   "metadata": {},
   "outputs": [],
   "source": [
    "def get_authors():\n",
    "    all_fields = []\n",
    "    all_authors = []\n",
    "    #authors = driver.find_elements(By.TAG_NAME, \"h3\")[1:]\n",
    "    authors = driver.find_elements(By.XPATH, f\"//*[contains(text(), 'Autori')]/following-sibling::h3\")\n",
    "    for index, author in enumerate(authors):\n",
    "        subfield = author.text.capitalize()\n",
    "        siblings_of_current = driver.find_elements(By.XPATH, f\"//*[contains(text(), '{subfield}')]/following-sibling::a\")\n",
    "        if len(siblings_of_current)>0:\n",
    "            if index<len(authors)-1: \n",
    "                siblings_of_next = driver.find_elements(By.XPATH, f\"//*[contains(text(), '{authors[index+1].text.capitalize()}')]/following-sibling::a\")\n",
    "                result = [r.text for r in siblings_of_current[0: len(siblings_of_current)-len(siblings_of_next)]]\n",
    "            else: result = [r.text for r in siblings_of_current]\n",
    "            all_fields.append(subfield)\n",
    "            all_authors.append(str(result))\n",
    "            \n",
    "    return all_fields, all_authors\n"
   ]
  },
  {
   "cell_type": "code",
   "execution_count": 27,
   "metadata": {},
   "outputs": [],
   "source": [
    "def get_albums():\n",
    "    albums = driver.find_elements(By.XPATH, f\"//*[contains(text(), 'Albumi')]/following-sibling::div\")\n",
    "    #return [f\"{album.text}-{album.find_element(By.TAG_NAME, 'a').text}\" for album in albums]\n",
    "    return [{album.text} for album in albums]      \n",
    "    "
   ]
  },
  {
   "cell_type": "code",
   "execution_count": 35,
   "metadata": {},
   "outputs": [
    {
     "name": "stdout",
     "output_type": "stream",
     "text": [
      "Succesfully found information for Ako tebi lažen ja from Alen Vitasović\n",
      "#######\n",
      "Succesfully found information for Bura from Alen Vitasović\n",
      "#######\n",
      "Succesfully found information for Ca mi sad ne smi rec  from Alen Vitasović\n",
      "#######\n",
      "Succesfully found information for Cesta priko mora from Alen Vitasović\n",
      "#######\n",
      "Problem with finding info for Cvit from Alen Vitasović\n",
      "cannot unpack non-iterable bool object\n",
      "#######\n",
      "Succesfully found information for Dajla from Alen Vitasović\n",
      "#######\n",
      "Succesfully found information for Groznjana grada  from Alen Vitasović\n",
      "#######\n",
      "Succesfully found information for Gušti su gušti from Alen Vitasović\n",
      "#######\n",
      "Succesfully found information for Ja ne gren from Alen Vitasović\n",
      "#######\n",
      "Problem with finding info for Ja san Istrijan from Alen Vitasović\n",
      "cannot unpack non-iterable bool object\n",
      "#######\n",
      "Succesfully found information for Jenu noć from Alen Vitasović\n",
      "#######\n",
      "Problem with scraping authors and albums for song kad ce vrime od kruha i grozja\n",
      "Problem with finding info for Kad ce vrime od kruha i grozja from Alen Vitasović\n",
      "cannot unpack non-iterable bool object\n",
      "#######\n",
      "Succesfully found information for Ko mi reces da from Alen Vitasović\n",
      "#######\n",
      "Problem with finding info for Lipe oci from Alen Vitasović\n",
      "cannot unpack non-iterable bool object\n",
      "#######\n",
      "Problem with scraping authors and albums for song lipo ime hajdukovo\n",
      "Problem with finding info for Lipo ime Hajdukovo from Alen Vitasović\n",
      "cannot unpack non-iterable bool object\n",
      "#######\n",
      "Succesfully found information for Moja mila from Alen Vitasović\n",
      "#######\n",
      "Problem with scraping authors and albums for song ja ne moren bez nje\n",
      "Problem with finding info for Ja ne moren bez nje from Alen Vitasović\n",
      "cannot unpack non-iterable bool object\n",
      "#######\n",
      "Problem with scraping authors and albums for song da se ne zatare\n",
      "Problem with finding info for Da se ne zatare from Alen Vitasović\n",
      "cannot unpack non-iterable bool object\n",
      "#######\n",
      "Succesfully found information for Nis mi se ne da from Alen Vitasović\n",
      "#######\n",
      "Succesfully found information for Nisi vise mala from Alen Vitasović\n",
      "#######\n",
      "Succesfully found information for Od subote from Alen Vitasović\n",
      "#######\n",
      "Succesfully found information for Samo Bog te moga uciniti from Alen Vitasović\n",
      "#######\n",
      "Succesfully found information for Sandra from Alen Vitasović\n",
      "#######\n",
      "Succesfully found information for Skifo from Alen Vitasović\n",
      "#######\n",
      "Succesfully found information for Srebrni lancun from Alen Vitasović\n",
      "#######\n",
      "Succesfully found information for Sve bi za nju da from Alen Vitasović\n",
      "#######\n",
      "Succesfully found information for Zima mi je from Alen Vitasović\n",
      "#######\n"
     ]
    }
   ],
   "source": [
    "ser = Service(\"chromedriver.exe\")\n",
    "op = webdriver.ChromeOptions()\n",
    "driver = webdriver.Chrome(service=ser, options=op)\n",
    "driver.get(\"https://diskografija.com/\")\n",
    "\n",
    "\n",
    "df_new = df.copy()#[0:5]\n",
    "for row in df_new.iterrows():\n",
    "    artist_name = row[1].Artist_diskografija\n",
    "    song_name = row[1].Song_lyricstranslate\n",
    "    if type(song_name)==float: song_name = row[1].Song_tekstovinet\n",
    "    try: song_name = song_name[0:song_name.index(\"(\")]\n",
    "    except:pass\n",
    "    \n",
    "    try: \n",
    "        subfields, authors, albums, song_url, song_title_website = scrape_for_authors_and_albums(song_name, artist_name)\n",
    "    \n",
    "        for subfield, author in zip(subfields, authors):\n",
    "            df.loc[row[0], f\"{subfield}_diskografija\"] = author\n",
    "            \n",
    "        for i, album in enumerate(albums):\n",
    "            df.loc[row[0], f\"Album_{i+1}_diskografija\"] = album\n",
    "        df.loc[row[0], \"Url_diskografija\"] = song_url\n",
    "        df.loc[row[0], \"Song_diskografija\"] = song_title_website\n",
    "\n",
    "        print(f\"Succesfully found information for {song_name} from {artist_name}\")\n",
    "    \n",
    "    except Exception as e:\n",
    "        print(f\"Problem with finding info for {song_name} from {artist_name}\")\n",
    "        print(e)\n",
    "    print(\"#######\")\n",
    "    time.sleep(3)\n",
    "    \n"
   ]
  },
  {
   "cell_type": "code",
   "execution_count": 36,
   "metadata": {},
   "outputs": [
    {
     "data": {
      "text/html": [
       "<div>\n",
       "<style scoped>\n",
       "    .dataframe tbody tr th:only-of-type {\n",
       "        vertical-align: middle;\n",
       "    }\n",
       "\n",
       "    .dataframe tbody tr th {\n",
       "        vertical-align: top;\n",
       "    }\n",
       "\n",
       "    .dataframe thead th {\n",
       "        text-align: right;\n",
       "    }\n",
       "</style>\n",
       "<table border=\"1\" class=\"dataframe\">\n",
       "  <thead>\n",
       "    <tr style=\"text-align: right;\">\n",
       "      <th></th>\n",
       "      <th>Song_tekstovinet</th>\n",
       "      <th>Song_diskografija</th>\n",
       "    </tr>\n",
       "  </thead>\n",
       "  <tbody>\n",
       "  </tbody>\n",
       "</table>\n",
       "</div>"
      ],
      "text/plain": [
       "Empty DataFrame\n",
       "Columns: [Song_tekstovinet, Song_diskografija]\n",
       "Index: []"
      ]
     },
     "execution_count": 36,
     "metadata": {},
     "output_type": "execute_result"
    }
   ],
   "source": [
    "check_if_titles_match(df, \"Song_tekstovinet\", \"Song_diskografija\")"
   ]
  },
  {
   "cell_type": "code",
   "execution_count": 37,
   "metadata": {},
   "outputs": [
    {
     "data": {
      "text/plain": [
       "20"
      ]
     },
     "execution_count": 37,
     "metadata": {},
     "output_type": "execute_result"
    }
   ],
   "source": [
    "df[\"Lyrics_lyricstranslate\"].isnull().sum()"
   ]
  },
  {
   "cell_type": "code",
   "execution_count": 38,
   "metadata": {},
   "outputs": [],
   "source": [
    "df.to_csv(f\"data/{artist_name}_tekstovinet_lyricstranslate_diskografija.csv\", index=False)\n"
   ]
  }
 ],
 "metadata": {
  "interpreter": {
   "hash": "e2508fbeaf0035d4c531c3d527c39fb188abce83002e3c53cf0e64c03f8f5210"
  },
  "kernelspec": {
   "display_name": "Python 3.8.3 ('base')",
   "language": "python",
   "name": "python3"
  },
  "language_info": {
   "codemirror_mode": {
    "name": "ipython",
    "version": 3
   },
   "file_extension": ".py",
   "mimetype": "text/x-python",
   "name": "python",
   "nbconvert_exporter": "python",
   "pygments_lexer": "ipython3",
   "version": "3.8.1"
  },
  "orig_nbformat": 4
 },
 "nbformat": 4,
 "nbformat_minor": 2
}
