{
 "cells": [
  {
   "cell_type": "code",
   "execution_count": 1,
   "metadata": {},
   "outputs": [],
   "source": [
    "import pandas as pd\n",
    "import matplotlib.pyplot as plt\n",
    "\n"
   ]
  },
  {
   "cell_type": "code",
   "execution_count": 2,
   "metadata": {},
   "outputs": [],
   "source": [
    "df = pd.read_csv('lyrics.csv')\n",
    "df = df.dropna()\n",
    "\n",
    "# # remove punctionation (tag = Z)\n",
    "df = df[df.Tags != \"Z\"]\n",
    "# df = df.set_index(\"Tags\")\n",
    "# df = df.drop(\"Z\", axis=0) "
   ]
  },
  {
   "cell_type": "code",
   "execution_count": 3,
   "metadata": {},
   "outputs": [
    {
     "output_type": "execute_result",
     "data": {
      "text/plain": "biti       1040\nja          654\nti          537\ni           364\nda          356\n           ... \nbudala        1\nsličan        1\nroman         1\nizmeđu        1\nspajati       1\nName: Lemma, Length: 1459, dtype: int64"
     },
     "metadata": {},
     "execution_count": 3
    }
   ],
   "source": [
    "df.Lemma.unique()\n",
    "df.Lemma.value_counts() "
   ]
  },
  {
   "cell_type": "code",
   "execution_count": null,
   "metadata": {},
   "outputs": [],
   "source": []
  },
  {
   "cell_type": "code",
   "execution_count": 4,
   "metadata": {},
   "outputs": [
    {
     "output_type": "execute_result",
     "data": {
      "text/plain": "                Artist             Song       Song_ID  Surface   Tags  \\\n4      Mate Miso Kovac   Ako me ostaviš    Zwn2Yv0K_1   pokuca  Vmr3s   \n15     Mate Miso Kovac   Ako me ostaviš    Zwn2Yv0K_1     vodi  Vmr3s   \n24     Mate Miso Kovac   Ako me ostaviš    Zwn2Yv0K_1    tješi  Vmr3s   \n29     Mate Miso Kovac   Ako me ostaviš    Zwn2Yv0K_1  ostaviš  Vmr2s   \n32     Mate Miso Kovac   Ako me ostaviš    Zwn2Yv0K_1  poželiš  Vmr2s   \n...                ...              ...           ...      ...    ...   \n16385  Mate Miso Kovac  Znam da si sama  Zwn2Yv0K_100       ću  Var1s   \n16390  Mate Miso Kovac  Znam da si sama  Zwn2Yv0K_100     Naći    Vmn   \n16391  Mate Miso Kovac  Znam da si sama  Zwn2Yv0K_100       ću  Var1s   \n16397  Mate Miso Kovac  Znam da si sama  Zwn2Yv0K_100     Doći    Vmn   \n16398  Mate Miso Kovac  Znam da si sama  Zwn2Yv0K_100       ću  Var1s   \n\n           Lemma Entity  isVerb  \n4       pokucati      O       0  \n15        voditi      O       0  \n24       tješiti      O       0  \n29      ostaviti      O       0  \n32     poželjeti      O       0  \n...          ...    ...     ...  \n16385     htjeti      O       0  \n16390       naći      O       0  \n16391     htjeti      O       0  \n16397       doći      O       0  \n16398     htjeti      O       0  \n\n[3797 rows x 8 columns]",
      "text/html": "<div>\n<style scoped>\n    .dataframe tbody tr th:only-of-type {\n        vertical-align: middle;\n    }\n\n    .dataframe tbody tr th {\n        vertical-align: top;\n    }\n\n    .dataframe thead th {\n        text-align: right;\n    }\n</style>\n<table border=\"1\" class=\"dataframe\">\n  <thead>\n    <tr style=\"text-align: right;\">\n      <th></th>\n      <th>Artist</th>\n      <th>Song</th>\n      <th>Song_ID</th>\n      <th>Surface</th>\n      <th>Tags</th>\n      <th>Lemma</th>\n      <th>Entity</th>\n      <th>isVerb</th>\n    </tr>\n  </thead>\n  <tbody>\n    <tr>\n      <th>4</th>\n      <td>Mate Miso Kovac</td>\n      <td>Ako me ostaviš</td>\n      <td>Zwn2Yv0K_1</td>\n      <td>pokuca</td>\n      <td>Vmr3s</td>\n      <td>pokucati</td>\n      <td>O</td>\n      <td>0</td>\n    </tr>\n    <tr>\n      <th>15</th>\n      <td>Mate Miso Kovac</td>\n      <td>Ako me ostaviš</td>\n      <td>Zwn2Yv0K_1</td>\n      <td>vodi</td>\n      <td>Vmr3s</td>\n      <td>voditi</td>\n      <td>O</td>\n      <td>0</td>\n    </tr>\n    <tr>\n      <th>24</th>\n      <td>Mate Miso Kovac</td>\n      <td>Ako me ostaviš</td>\n      <td>Zwn2Yv0K_1</td>\n      <td>tješi</td>\n      <td>Vmr3s</td>\n      <td>tješiti</td>\n      <td>O</td>\n      <td>0</td>\n    </tr>\n    <tr>\n      <th>29</th>\n      <td>Mate Miso Kovac</td>\n      <td>Ako me ostaviš</td>\n      <td>Zwn2Yv0K_1</td>\n      <td>ostaviš</td>\n      <td>Vmr2s</td>\n      <td>ostaviti</td>\n      <td>O</td>\n      <td>0</td>\n    </tr>\n    <tr>\n      <th>32</th>\n      <td>Mate Miso Kovac</td>\n      <td>Ako me ostaviš</td>\n      <td>Zwn2Yv0K_1</td>\n      <td>poželiš</td>\n      <td>Vmr2s</td>\n      <td>poželjeti</td>\n      <td>O</td>\n      <td>0</td>\n    </tr>\n    <tr>\n      <th>...</th>\n      <td>...</td>\n      <td>...</td>\n      <td>...</td>\n      <td>...</td>\n      <td>...</td>\n      <td>...</td>\n      <td>...</td>\n      <td>...</td>\n    </tr>\n    <tr>\n      <th>16385</th>\n      <td>Mate Miso Kovac</td>\n      <td>Znam da si sama</td>\n      <td>Zwn2Yv0K_100</td>\n      <td>ću</td>\n      <td>Var1s</td>\n      <td>htjeti</td>\n      <td>O</td>\n      <td>0</td>\n    </tr>\n    <tr>\n      <th>16390</th>\n      <td>Mate Miso Kovac</td>\n      <td>Znam da si sama</td>\n      <td>Zwn2Yv0K_100</td>\n      <td>Naći</td>\n      <td>Vmn</td>\n      <td>naći</td>\n      <td>O</td>\n      <td>0</td>\n    </tr>\n    <tr>\n      <th>16391</th>\n      <td>Mate Miso Kovac</td>\n      <td>Znam da si sama</td>\n      <td>Zwn2Yv0K_100</td>\n      <td>ću</td>\n      <td>Var1s</td>\n      <td>htjeti</td>\n      <td>O</td>\n      <td>0</td>\n    </tr>\n    <tr>\n      <th>16397</th>\n      <td>Mate Miso Kovac</td>\n      <td>Znam da si sama</td>\n      <td>Zwn2Yv0K_100</td>\n      <td>Doći</td>\n      <td>Vmn</td>\n      <td>doći</td>\n      <td>O</td>\n      <td>0</td>\n    </tr>\n    <tr>\n      <th>16398</th>\n      <td>Mate Miso Kovac</td>\n      <td>Znam da si sama</td>\n      <td>Zwn2Yv0K_100</td>\n      <td>ću</td>\n      <td>Var1s</td>\n      <td>htjeti</td>\n      <td>O</td>\n      <td>0</td>\n    </tr>\n  </tbody>\n</table>\n<p>3797 rows × 8 columns</p>\n</div>"
     },
     "metadata": {},
     "execution_count": 4
    }
   ],
   "source": [
    "df[\"isVerb\"] = df[\"Tags\"].str.find('V') \n",
    "verbs = df[df.isVerb >= 0]\n",
    "verbs"
   ]
  },
  {
   "cell_type": "code",
   "execution_count": 5,
   "metadata": {},
   "outputs": [
    {
     "output_type": "execute_result",
     "data": {
      "text/plain": "                Artist             Song       Song_ID  Surface   Tags  \\\n4      Mate Miso Kovac   Ako me ostaviš    Zwn2Yv0K_1   pokuca  Vmr3s   \n15     Mate Miso Kovac   Ako me ostaviš    Zwn2Yv0K_1     vodi  Vmr3s   \n24     Mate Miso Kovac   Ako me ostaviš    Zwn2Yv0K_1    tješi  Vmr3s   \n29     Mate Miso Kovac   Ako me ostaviš    Zwn2Yv0K_1  ostaviš  Vmr2s   \n32     Mate Miso Kovac   Ako me ostaviš    Zwn2Yv0K_1  poželiš  Vmr2s   \n...                ...              ...           ...      ...    ...   \n16377  Mate Miso Kovac  Znam da si sama  Zwn2Yv0K_100    plači  Vmr3s   \n16383  Mate Miso Kovac  Znam da si sama  Zwn2Yv0K_100     doći    Vmn   \n16384  Mate Miso Kovac  Znam da si sama  Zwn2Yv0K_100   Ljubit    Vmn   \n16390  Mate Miso Kovac  Znam da si sama  Zwn2Yv0K_100     Naći    Vmn   \n16397  Mate Miso Kovac  Znam da si sama  Zwn2Yv0K_100     Doći    Vmn   \n\n           Lemma Entity  isVerb  isMain  \n4       pokucati      O       0       0  \n15        voditi      O       0       0  \n24       tješiti      O       0       0  \n29      ostaviti      O       0       0  \n32     poželjeti      O       0       0  \n...          ...    ...     ...     ...  \n16377    plakati      O       0       0  \n16383       doći      O       0       0  \n16384    ljubiti      O       0       0  \n16390       naći      O       0       0  \n16397       doći      O       0       0  \n\n[2488 rows x 9 columns]",
      "text/html": "<div>\n<style scoped>\n    .dataframe tbody tr th:only-of-type {\n        vertical-align: middle;\n    }\n\n    .dataframe tbody tr th {\n        vertical-align: top;\n    }\n\n    .dataframe thead th {\n        text-align: right;\n    }\n</style>\n<table border=\"1\" class=\"dataframe\">\n  <thead>\n    <tr style=\"text-align: right;\">\n      <th></th>\n      <th>Artist</th>\n      <th>Song</th>\n      <th>Song_ID</th>\n      <th>Surface</th>\n      <th>Tags</th>\n      <th>Lemma</th>\n      <th>Entity</th>\n      <th>isVerb</th>\n      <th>isMain</th>\n    </tr>\n  </thead>\n  <tbody>\n    <tr>\n      <th>4</th>\n      <td>Mate Miso Kovac</td>\n      <td>Ako me ostaviš</td>\n      <td>Zwn2Yv0K_1</td>\n      <td>pokuca</td>\n      <td>Vmr3s</td>\n      <td>pokucati</td>\n      <td>O</td>\n      <td>0</td>\n      <td>0</td>\n    </tr>\n    <tr>\n      <th>15</th>\n      <td>Mate Miso Kovac</td>\n      <td>Ako me ostaviš</td>\n      <td>Zwn2Yv0K_1</td>\n      <td>vodi</td>\n      <td>Vmr3s</td>\n      <td>voditi</td>\n      <td>O</td>\n      <td>0</td>\n      <td>0</td>\n    </tr>\n    <tr>\n      <th>24</th>\n      <td>Mate Miso Kovac</td>\n      <td>Ako me ostaviš</td>\n      <td>Zwn2Yv0K_1</td>\n      <td>tješi</td>\n      <td>Vmr3s</td>\n      <td>tješiti</td>\n      <td>O</td>\n      <td>0</td>\n      <td>0</td>\n    </tr>\n    <tr>\n      <th>29</th>\n      <td>Mate Miso Kovac</td>\n      <td>Ako me ostaviš</td>\n      <td>Zwn2Yv0K_1</td>\n      <td>ostaviš</td>\n      <td>Vmr2s</td>\n      <td>ostaviti</td>\n      <td>O</td>\n      <td>0</td>\n      <td>0</td>\n    </tr>\n    <tr>\n      <th>32</th>\n      <td>Mate Miso Kovac</td>\n      <td>Ako me ostaviš</td>\n      <td>Zwn2Yv0K_1</td>\n      <td>poželiš</td>\n      <td>Vmr2s</td>\n      <td>poželjeti</td>\n      <td>O</td>\n      <td>0</td>\n      <td>0</td>\n    </tr>\n    <tr>\n      <th>...</th>\n      <td>...</td>\n      <td>...</td>\n      <td>...</td>\n      <td>...</td>\n      <td>...</td>\n      <td>...</td>\n      <td>...</td>\n      <td>...</td>\n      <td>...</td>\n    </tr>\n    <tr>\n      <th>16377</th>\n      <td>Mate Miso Kovac</td>\n      <td>Znam da si sama</td>\n      <td>Zwn2Yv0K_100</td>\n      <td>plači</td>\n      <td>Vmr3s</td>\n      <td>plakati</td>\n      <td>O</td>\n      <td>0</td>\n      <td>0</td>\n    </tr>\n    <tr>\n      <th>16383</th>\n      <td>Mate Miso Kovac</td>\n      <td>Znam da si sama</td>\n      <td>Zwn2Yv0K_100</td>\n      <td>doći</td>\n      <td>Vmn</td>\n      <td>doći</td>\n      <td>O</td>\n      <td>0</td>\n      <td>0</td>\n    </tr>\n    <tr>\n      <th>16384</th>\n      <td>Mate Miso Kovac</td>\n      <td>Znam da si sama</td>\n      <td>Zwn2Yv0K_100</td>\n      <td>Ljubit</td>\n      <td>Vmn</td>\n      <td>ljubiti</td>\n      <td>O</td>\n      <td>0</td>\n      <td>0</td>\n    </tr>\n    <tr>\n      <th>16390</th>\n      <td>Mate Miso Kovac</td>\n      <td>Znam da si sama</td>\n      <td>Zwn2Yv0K_100</td>\n      <td>Naći</td>\n      <td>Vmn</td>\n      <td>naći</td>\n      <td>O</td>\n      <td>0</td>\n      <td>0</td>\n    </tr>\n    <tr>\n      <th>16397</th>\n      <td>Mate Miso Kovac</td>\n      <td>Znam da si sama</td>\n      <td>Zwn2Yv0K_100</td>\n      <td>Doći</td>\n      <td>Vmn</td>\n      <td>doći</td>\n      <td>O</td>\n      <td>0</td>\n      <td>0</td>\n    </tr>\n  </tbody>\n</table>\n<p>2488 rows × 9 columns</p>\n</div>"
     },
     "metadata": {},
     "execution_count": 5
    }
   ],
   "source": [
    "verbs[\"isMain\"] = verbs[\"Tags\"].str.find('Vm') \n",
    "main_verbs = verbs[verbs.isMain >= 0]\n",
    "main_verbs\n"
   ]
  },
  {
   "cell_type": "code",
   "execution_count": 6,
   "metadata": {},
   "outputs": [],
   "source": [
    "sd = main_verbs.Lemma.value_counts()"
   ]
  },
  {
   "cell_type": "code",
   "execution_count": 7,
   "metadata": {},
   "outputs": [],
   "source": [
    "sd = pd.DataFrame(sd)\n",
    "sd = sd[sd.Lemma > 30]"
   ]
  },
  {
   "cell_type": "code",
   "execution_count": 8,
   "metadata": {},
   "outputs": [
    {
     "output_type": "execute_result",
     "data": {
      "text/plain": "<BarContainer object of 16 artists>"
     },
     "metadata": {},
     "execution_count": 8
    },
    {
     "output_type": "display_data",
     "data": {
      "text/plain": "<Figure size 432x288 with 1 Axes>",
      "image/svg+xml": "<?xml version=\"1.0\" encoding=\"utf-8\" standalone=\"no\"?>\r\n<!DOCTYPE svg PUBLIC \"-//W3C//DTD SVG 1.1//EN\"\r\n  \"http://www.w3.org/Graphics/SVG/1.1/DTD/svg11.dtd\">\r\n<!-- Created with matplotlib (https://matplotlib.org/) -->\r\n<svg height=\"248.518125pt\" version=\"1.1\" viewBox=\"0 0 398.722059 248.518125\" width=\"398.722059pt\" xmlns=\"http://www.w3.org/2000/svg\" xmlns:xlink=\"http://www.w3.org/1999/xlink\">\r\n <metadata>\r\n  <rdf:RDF xmlns:cc=\"http://creativecommons.org/ns#\" xmlns:dc=\"http://purl.org/dc/elements/1.1/\" xmlns:rdf=\"http://www.w3.org/1999/02/22-rdf-syntax-ns#\">\r\n   <cc:Work>\r\n    <dc:type rdf:resource=\"http://purl.org/dc/dcmitype/StillImage\"/>\r\n    <dc:date>2020-08-13T12:21:08.573093</dc:date>\r\n    <dc:format>image/svg+xml</dc:format>\r\n    <dc:creator>\r\n     <cc:Agent>\r\n      <dc:title>Matplotlib v3.3.0, https://matplotlib.org/</dc:title>\r\n     </cc:Agent>\r\n    </dc:creator>\r\n   </cc:Work>\r\n  </rdf:RDF>\r\n </metadata>\r\n <defs>\r\n  <style type=\"text/css\">*{stroke-linecap:butt;stroke-linejoin:round;}</style>\r\n </defs>\r\n <g id=\"figure_1\">\r\n  <g id=\"patch_1\">\r\n   <path d=\"M 0 248.518125 \r\nL 398.722059 248.518125 \r\nL 398.722059 0 \r\nL 0 0 \r\nz\r\n\" style=\"fill:none;\"/>\r\n  </g>\r\n  <g id=\"axes_1\">\r\n   <g id=\"patch_2\">\r\n    <path d=\"M 49.257813 224.64 \r\nL 384.057813 224.64 \r\nL 384.057813 7.2 \r\nL 49.257813 7.2 \r\nz\r\n\" style=\"fill:#ffffff;\"/>\r\n   </g>\r\n   <g id=\"patch_3\">\r\n    <path clip-path=\"url(#p8fb3313946)\" d=\"M 49.257813 214.756364 \r\nL 368.114955 214.756364 \r\nL 368.114955 204.747618 \r\nL 49.257813 204.747618 \r\nz\r\n\" style=\"fill:#1f77b4;\"/>\r\n   </g>\r\n   <g id=\"patch_4\">\r\n    <path clip-path=\"url(#p8fb3313946)\" d=\"M 49.257813 202.245432 \r\nL 332.070235 202.245432 \r\nL 332.070235 192.236686 \r\nL 49.257813 192.236686 \r\nz\r\n\" style=\"fill:#1f77b4;\"/>\r\n   </g>\r\n   <g id=\"patch_5\">\r\n    <path clip-path=\"url(#p8fb3313946)\" d=\"M 49.257813 189.734499 \r\nL 298.798185 189.734499 \r\nL 298.798185 179.725754 \r\nL 49.257813 179.725754 \r\nz\r\n\" style=\"fill:#1f77b4;\"/>\r\n   </g>\r\n   <g id=\"patch_6\">\r\n    <path clip-path=\"url(#p8fb3313946)\" d=\"M 49.257813 177.223567 \r\nL 235.026757 177.223567 \r\nL 235.026757 167.214822 \r\nL 49.257813 167.214822 \r\nz\r\n\" style=\"fill:#1f77b4;\"/>\r\n   </g>\r\n   <g id=\"patch_7\">\r\n    <path clip-path=\"url(#p8fb3313946)\" d=\"M 49.257813 164.712635 \r\nL 210.072719 164.712635 \r\nL 210.072719 154.70389 \r\nL 49.257813 154.70389 \r\nz\r\n\" style=\"fill:#1f77b4;\"/>\r\n   </g>\r\n   <g id=\"patch_8\">\r\n    <path clip-path=\"url(#p8fb3313946)\" d=\"M 49.257813 152.201703 \r\nL 204.527378 152.201703 \r\nL 204.527378 142.192957 \r\nL 49.257813 142.192957 \r\nz\r\n\" style=\"fill:#1f77b4;\"/>\r\n   </g>\r\n   <g id=\"patch_9\">\r\n    <path clip-path=\"url(#p8fb3313946)\" d=\"M 49.257813 139.690771 \r\nL 165.709986 139.690771 \r\nL 165.709986 129.682025 \r\nL 49.257813 129.682025 \r\nz\r\n\" style=\"fill:#1f77b4;\"/>\r\n   </g>\r\n   <g id=\"patch_10\">\r\n    <path clip-path=\"url(#p8fb3313946)\" d=\"M 49.257813 127.179839 \r\nL 162.937316 127.179839 \r\nL 162.937316 117.171093 \r\nL 49.257813 117.171093 \r\nz\r\n\" style=\"fill:#1f77b4;\"/>\r\n   </g>\r\n   <g id=\"patch_11\">\r\n    <path clip-path=\"url(#p8fb3313946)\" d=\"M 49.257813 114.668907 \r\nL 154.619303 114.668907 \r\nL 154.619303 104.660161 \r\nL 49.257813 104.660161 \r\nz\r\n\" style=\"fill:#1f77b4;\"/>\r\n   </g>\r\n   <g id=\"patch_12\">\r\n    <path clip-path=\"url(#p8fb3313946)\" d=\"M 49.257813 102.157975 \r\nL 149.073962 102.157975 \r\nL 149.073962 92.149229 \r\nL 49.257813 92.149229 \r\nz\r\n\" style=\"fill:#1f77b4;\"/>\r\n   </g>\r\n   <g id=\"patch_13\">\r\n    <path clip-path=\"url(#p8fb3313946)\" d=\"M 49.257813 89.647043 \r\nL 143.52862 89.647043 \r\nL 143.52862 79.638297 \r\nL 49.257813 79.638297 \r\nz\r\n\" style=\"fill:#1f77b4;\"/>\r\n   </g>\r\n   <g id=\"patch_14\">\r\n    <path clip-path=\"url(#p8fb3313946)\" d=\"M 49.257813 77.13611 \r\nL 140.755949 77.13611 \r\nL 140.755949 67.127365 \r\nL 49.257813 67.127365 \r\nz\r\n\" style=\"fill:#1f77b4;\"/>\r\n   </g>\r\n   <g id=\"patch_15\">\r\n    <path clip-path=\"url(#p8fb3313946)\" d=\"M 49.257813 64.625178 \r\nL 140.755949 64.625178 \r\nL 140.755949 54.616433 \r\nL 49.257813 54.616433 \r\nz\r\n\" style=\"fill:#1f77b4;\"/>\r\n   </g>\r\n   <g id=\"patch_16\">\r\n    <path clip-path=\"url(#p8fb3313946)\" d=\"M 49.257813 52.114246 \r\nL 140.755949 52.114246 \r\nL 140.755949 42.105501 \r\nL 49.257813 42.105501 \r\nz\r\n\" style=\"fill:#1f77b4;\"/>\r\n   </g>\r\n   <g id=\"patch_17\">\r\n    <path clip-path=\"url(#p8fb3313946)\" d=\"M 49.257813 39.603314 \r\nL 137.983278 39.603314 \r\nL 137.983278 29.594568 \r\nL 49.257813 29.594568 \r\nz\r\n\" style=\"fill:#1f77b4;\"/>\r\n   </g>\r\n   <g id=\"patch_18\">\r\n    <path clip-path=\"url(#p8fb3313946)\" d=\"M 49.257813 27.092382 \r\nL 135.210608 27.092382 \r\nL 135.210608 17.083636 \r\nL 49.257813 17.083636 \r\nz\r\n\" style=\"fill:#1f77b4;\"/>\r\n   </g>\r\n   <g id=\"matplotlib.axis_1\">\r\n    <g id=\"xtick_1\">\r\n     <g id=\"line2d_1\">\r\n      <defs>\r\n       <path d=\"M 0 0 \r\nL 0 3.5 \r\n\" id=\"m6fc7aab371\" style=\"stroke:#000000;stroke-width:0.8;\"/>\r\n      </defs>\r\n      <g>\r\n       <use style=\"stroke:#000000;stroke-width:0.8;\" x=\"49.257813\" xlink:href=\"#m6fc7aab371\" y=\"224.64\"/>\r\n      </g>\r\n     </g>\r\n     <g id=\"text_1\">\r\n      <!-- 0 -->\r\n      <g transform=\"translate(46.076563 239.238437)scale(0.1 -0.1)\">\r\n       <defs>\r\n        <path d=\"M 31.78125 66.40625 \r\nQ 24.171875 66.40625 20.328125 58.90625 \r\nQ 16.5 51.421875 16.5 36.375 \r\nQ 16.5 21.390625 20.328125 13.890625 \r\nQ 24.171875 6.390625 31.78125 6.390625 \r\nQ 39.453125 6.390625 43.28125 13.890625 \r\nQ 47.125 21.390625 47.125 36.375 \r\nQ 47.125 51.421875 43.28125 58.90625 \r\nQ 39.453125 66.40625 31.78125 66.40625 \r\nz\r\nM 31.78125 74.21875 \r\nQ 44.046875 74.21875 50.515625 64.515625 \r\nQ 56.984375 54.828125 56.984375 36.375 \r\nQ 56.984375 17.96875 50.515625 8.265625 \r\nQ 44.046875 -1.421875 31.78125 -1.421875 \r\nQ 19.53125 -1.421875 13.0625 8.265625 \r\nQ 6.59375 17.96875 6.59375 36.375 \r\nQ 6.59375 54.828125 13.0625 64.515625 \r\nQ 19.53125 74.21875 31.78125 74.21875 \r\nz\r\n\" id=\"DejaVuSans-48\"/>\r\n       </defs>\r\n       <use xlink:href=\"#DejaVuSans-48\"/>\r\n      </g>\r\n     </g>\r\n    </g>\r\n    <g id=\"xtick_2\">\r\n     <g id=\"line2d_2\">\r\n      <g>\r\n       <use style=\"stroke:#000000;stroke-width:0.8;\" x=\"104.711229\" xlink:href=\"#m6fc7aab371\" y=\"224.64\"/>\r\n      </g>\r\n     </g>\r\n     <g id=\"text_2\">\r\n      <!-- 20 -->\r\n      <g transform=\"translate(98.348729 239.238437)scale(0.1 -0.1)\">\r\n       <defs>\r\n        <path d=\"M 19.1875 8.296875 \r\nL 53.609375 8.296875 \r\nL 53.609375 0 \r\nL 7.328125 0 \r\nL 7.328125 8.296875 \r\nQ 12.9375 14.109375 22.625 23.890625 \r\nQ 32.328125 33.6875 34.8125 36.53125 \r\nQ 39.546875 41.84375 41.421875 45.53125 \r\nQ 43.3125 49.21875 43.3125 52.78125 \r\nQ 43.3125 58.59375 39.234375 62.25 \r\nQ 35.15625 65.921875 28.609375 65.921875 \r\nQ 23.96875 65.921875 18.8125 64.3125 \r\nQ 13.671875 62.703125 7.8125 59.421875 \r\nL 7.8125 69.390625 \r\nQ 13.765625 71.78125 18.9375 73 \r\nQ 24.125 74.21875 28.421875 74.21875 \r\nQ 39.75 74.21875 46.484375 68.546875 \r\nQ 53.21875 62.890625 53.21875 53.421875 \r\nQ 53.21875 48.921875 51.53125 44.890625 \r\nQ 49.859375 40.875 45.40625 35.40625 \r\nQ 44.1875 33.984375 37.640625 27.21875 \r\nQ 31.109375 20.453125 19.1875 8.296875 \r\nz\r\n\" id=\"DejaVuSans-50\"/>\r\n       </defs>\r\n       <use xlink:href=\"#DejaVuSans-50\"/>\r\n       <use x=\"63.623047\" xlink:href=\"#DejaVuSans-48\"/>\r\n      </g>\r\n     </g>\r\n    </g>\r\n    <g id=\"xtick_3\">\r\n     <g id=\"line2d_3\">\r\n      <g>\r\n       <use style=\"stroke:#000000;stroke-width:0.8;\" x=\"160.164645\" xlink:href=\"#m6fc7aab371\" y=\"224.64\"/>\r\n      </g>\r\n     </g>\r\n     <g id=\"text_3\">\r\n      <!-- 40 -->\r\n      <g transform=\"translate(153.802145 239.238437)scale(0.1 -0.1)\">\r\n       <defs>\r\n        <path d=\"M 37.796875 64.3125 \r\nL 12.890625 25.390625 \r\nL 37.796875 25.390625 \r\nz\r\nM 35.203125 72.90625 \r\nL 47.609375 72.90625 \r\nL 47.609375 25.390625 \r\nL 58.015625 25.390625 \r\nL 58.015625 17.1875 \r\nL 47.609375 17.1875 \r\nL 47.609375 0 \r\nL 37.796875 0 \r\nL 37.796875 17.1875 \r\nL 4.890625 17.1875 \r\nL 4.890625 26.703125 \r\nz\r\n\" id=\"DejaVuSans-52\"/>\r\n       </defs>\r\n       <use xlink:href=\"#DejaVuSans-52\"/>\r\n       <use x=\"63.623047\" xlink:href=\"#DejaVuSans-48\"/>\r\n      </g>\r\n     </g>\r\n    </g>\r\n    <g id=\"xtick_4\">\r\n     <g id=\"line2d_4\">\r\n      <g>\r\n       <use style=\"stroke:#000000;stroke-width:0.8;\" x=\"215.618061\" xlink:href=\"#m6fc7aab371\" y=\"224.64\"/>\r\n      </g>\r\n     </g>\r\n     <g id=\"text_4\">\r\n      <!-- 60 -->\r\n      <g transform=\"translate(209.255561 239.238437)scale(0.1 -0.1)\">\r\n       <defs>\r\n        <path d=\"M 33.015625 40.375 \r\nQ 26.375 40.375 22.484375 35.828125 \r\nQ 18.609375 31.296875 18.609375 23.390625 \r\nQ 18.609375 15.53125 22.484375 10.953125 \r\nQ 26.375 6.390625 33.015625 6.390625 \r\nQ 39.65625 6.390625 43.53125 10.953125 \r\nQ 47.40625 15.53125 47.40625 23.390625 \r\nQ 47.40625 31.296875 43.53125 35.828125 \r\nQ 39.65625 40.375 33.015625 40.375 \r\nz\r\nM 52.59375 71.296875 \r\nL 52.59375 62.3125 \r\nQ 48.875 64.0625 45.09375 64.984375 \r\nQ 41.3125 65.921875 37.59375 65.921875 \r\nQ 27.828125 65.921875 22.671875 59.328125 \r\nQ 17.53125 52.734375 16.796875 39.40625 \r\nQ 19.671875 43.65625 24.015625 45.921875 \r\nQ 28.375 48.1875 33.59375 48.1875 \r\nQ 44.578125 48.1875 50.953125 41.515625 \r\nQ 57.328125 34.859375 57.328125 23.390625 \r\nQ 57.328125 12.15625 50.6875 5.359375 \r\nQ 44.046875 -1.421875 33.015625 -1.421875 \r\nQ 20.359375 -1.421875 13.671875 8.265625 \r\nQ 6.984375 17.96875 6.984375 36.375 \r\nQ 6.984375 53.65625 15.1875 63.9375 \r\nQ 23.390625 74.21875 37.203125 74.21875 \r\nQ 40.921875 74.21875 44.703125 73.484375 \r\nQ 48.484375 72.75 52.59375 71.296875 \r\nz\r\n\" id=\"DejaVuSans-54\"/>\r\n       </defs>\r\n       <use xlink:href=\"#DejaVuSans-54\"/>\r\n       <use x=\"63.623047\" xlink:href=\"#DejaVuSans-48\"/>\r\n      </g>\r\n     </g>\r\n    </g>\r\n    <g id=\"xtick_5\">\r\n     <g id=\"line2d_5\">\r\n      <g>\r\n       <use style=\"stroke:#000000;stroke-width:0.8;\" x=\"271.071477\" xlink:href=\"#m6fc7aab371\" y=\"224.64\"/>\r\n      </g>\r\n     </g>\r\n     <g id=\"text_5\">\r\n      <!-- 80 -->\r\n      <g transform=\"translate(264.708977 239.238437)scale(0.1 -0.1)\">\r\n       <defs>\r\n        <path d=\"M 31.78125 34.625 \r\nQ 24.75 34.625 20.71875 30.859375 \r\nQ 16.703125 27.09375 16.703125 20.515625 \r\nQ 16.703125 13.921875 20.71875 10.15625 \r\nQ 24.75 6.390625 31.78125 6.390625 \r\nQ 38.8125 6.390625 42.859375 10.171875 \r\nQ 46.921875 13.96875 46.921875 20.515625 \r\nQ 46.921875 27.09375 42.890625 30.859375 \r\nQ 38.875 34.625 31.78125 34.625 \r\nz\r\nM 21.921875 38.8125 \r\nQ 15.578125 40.375 12.03125 44.71875 \r\nQ 8.5 49.078125 8.5 55.328125 \r\nQ 8.5 64.0625 14.71875 69.140625 \r\nQ 20.953125 74.21875 31.78125 74.21875 \r\nQ 42.671875 74.21875 48.875 69.140625 \r\nQ 55.078125 64.0625 55.078125 55.328125 \r\nQ 55.078125 49.078125 51.53125 44.71875 \r\nQ 48 40.375 41.703125 38.8125 \r\nQ 48.828125 37.15625 52.796875 32.3125 \r\nQ 56.78125 27.484375 56.78125 20.515625 \r\nQ 56.78125 9.90625 50.3125 4.234375 \r\nQ 43.84375 -1.421875 31.78125 -1.421875 \r\nQ 19.734375 -1.421875 13.25 4.234375 \r\nQ 6.78125 9.90625 6.78125 20.515625 \r\nQ 6.78125 27.484375 10.78125 32.3125 \r\nQ 14.796875 37.15625 21.921875 38.8125 \r\nz\r\nM 18.3125 54.390625 \r\nQ 18.3125 48.734375 21.84375 45.5625 \r\nQ 25.390625 42.390625 31.78125 42.390625 \r\nQ 38.140625 42.390625 41.71875 45.5625 \r\nQ 45.3125 48.734375 45.3125 54.390625 \r\nQ 45.3125 60.0625 41.71875 63.234375 \r\nQ 38.140625 66.40625 31.78125 66.40625 \r\nQ 25.390625 66.40625 21.84375 63.234375 \r\nQ 18.3125 60.0625 18.3125 54.390625 \r\nz\r\n\" id=\"DejaVuSans-56\"/>\r\n       </defs>\r\n       <use xlink:href=\"#DejaVuSans-56\"/>\r\n       <use x=\"63.623047\" xlink:href=\"#DejaVuSans-48\"/>\r\n      </g>\r\n     </g>\r\n    </g>\r\n    <g id=\"xtick_6\">\r\n     <g id=\"line2d_6\">\r\n      <g>\r\n       <use style=\"stroke:#000000;stroke-width:0.8;\" x=\"326.524893\" xlink:href=\"#m6fc7aab371\" y=\"224.64\"/>\r\n      </g>\r\n     </g>\r\n     <g id=\"text_6\">\r\n      <!-- 100 -->\r\n      <g transform=\"translate(316.981143 239.238437)scale(0.1 -0.1)\">\r\n       <defs>\r\n        <path d=\"M 12.40625 8.296875 \r\nL 28.515625 8.296875 \r\nL 28.515625 63.921875 \r\nL 10.984375 60.40625 \r\nL 10.984375 69.390625 \r\nL 28.421875 72.90625 \r\nL 38.28125 72.90625 \r\nL 38.28125 8.296875 \r\nL 54.390625 8.296875 \r\nL 54.390625 0 \r\nL 12.40625 0 \r\nz\r\n\" id=\"DejaVuSans-49\"/>\r\n       </defs>\r\n       <use xlink:href=\"#DejaVuSans-49\"/>\r\n       <use x=\"63.623047\" xlink:href=\"#DejaVuSans-48\"/>\r\n       <use x=\"127.246094\" xlink:href=\"#DejaVuSans-48\"/>\r\n      </g>\r\n     </g>\r\n    </g>\r\n    <g id=\"xtick_7\">\r\n     <g id=\"line2d_7\">\r\n      <g>\r\n       <use style=\"stroke:#000000;stroke-width:0.8;\" x=\"381.978309\" xlink:href=\"#m6fc7aab371\" y=\"224.64\"/>\r\n      </g>\r\n     </g>\r\n     <g id=\"text_7\">\r\n      <!-- 120 -->\r\n      <g transform=\"translate(372.434559 239.238437)scale(0.1 -0.1)\">\r\n       <use xlink:href=\"#DejaVuSans-49\"/>\r\n       <use x=\"63.623047\" xlink:href=\"#DejaVuSans-50\"/>\r\n       <use x=\"127.246094\" xlink:href=\"#DejaVuSans-48\"/>\r\n      </g>\r\n     </g>\r\n    </g>\r\n   </g>\r\n   <g id=\"matplotlib.axis_2\">\r\n    <g id=\"ytick_1\">\r\n     <g id=\"line2d_8\">\r\n      <defs>\r\n       <path d=\"M 0 0 \r\nL -3.5 0 \r\n\" id=\"m22b1f91ddb\" style=\"stroke:#000000;stroke-width:0.8;\"/>\r\n      </defs>\r\n      <g>\r\n       <use style=\"stroke:#000000;stroke-width:0.8;\" x=\"49.257813\" xlink:href=\"#m22b1f91ddb\" y=\"209.751991\"/>\r\n      </g>\r\n     </g>\r\n     <g id=\"text_8\">\r\n      <!-- znati -->\r\n      <g transform=\"translate(17.845313 213.55121)scale(0.1 -0.1)\">\r\n       <defs>\r\n        <path d=\"M 5.515625 54.6875 \r\nL 48.1875 54.6875 \r\nL 48.1875 46.484375 \r\nL 14.40625 7.171875 \r\nL 48.1875 7.171875 \r\nL 48.1875 0 \r\nL 4.296875 0 \r\nL 4.296875 8.203125 \r\nL 38.09375 47.515625 \r\nL 5.515625 47.515625 \r\nz\r\n\" id=\"DejaVuSans-122\"/>\r\n        <path d=\"M 54.890625 33.015625 \r\nL 54.890625 0 \r\nL 45.90625 0 \r\nL 45.90625 32.71875 \r\nQ 45.90625 40.484375 42.875 44.328125 \r\nQ 39.84375 48.1875 33.796875 48.1875 \r\nQ 26.515625 48.1875 22.3125 43.546875 \r\nQ 18.109375 38.921875 18.109375 30.90625 \r\nL 18.109375 0 \r\nL 9.078125 0 \r\nL 9.078125 54.6875 \r\nL 18.109375 54.6875 \r\nL 18.109375 46.1875 \r\nQ 21.34375 51.125 25.703125 53.5625 \r\nQ 30.078125 56 35.796875 56 \r\nQ 45.21875 56 50.046875 50.171875 \r\nQ 54.890625 44.34375 54.890625 33.015625 \r\nz\r\n\" id=\"DejaVuSans-110\"/>\r\n        <path d=\"M 34.28125 27.484375 \r\nQ 23.390625 27.484375 19.1875 25 \r\nQ 14.984375 22.515625 14.984375 16.5 \r\nQ 14.984375 11.71875 18.140625 8.90625 \r\nQ 21.296875 6.109375 26.703125 6.109375 \r\nQ 34.1875 6.109375 38.703125 11.40625 \r\nQ 43.21875 16.703125 43.21875 25.484375 \r\nL 43.21875 27.484375 \r\nz\r\nM 52.203125 31.203125 \r\nL 52.203125 0 \r\nL 43.21875 0 \r\nL 43.21875 8.296875 \r\nQ 40.140625 3.328125 35.546875 0.953125 \r\nQ 30.953125 -1.421875 24.3125 -1.421875 \r\nQ 15.921875 -1.421875 10.953125 3.296875 \r\nQ 6 8.015625 6 15.921875 \r\nQ 6 25.140625 12.171875 29.828125 \r\nQ 18.359375 34.515625 30.609375 34.515625 \r\nL 43.21875 34.515625 \r\nL 43.21875 35.40625 \r\nQ 43.21875 41.609375 39.140625 45 \r\nQ 35.0625 48.390625 27.6875 48.390625 \r\nQ 23 48.390625 18.546875 47.265625 \r\nQ 14.109375 46.140625 10.015625 43.890625 \r\nL 10.015625 52.203125 \r\nQ 14.9375 54.109375 19.578125 55.046875 \r\nQ 24.21875 56 28.609375 56 \r\nQ 40.484375 56 46.34375 49.84375 \r\nQ 52.203125 43.703125 52.203125 31.203125 \r\nz\r\n\" id=\"DejaVuSans-97\"/>\r\n        <path d=\"M 18.3125 70.21875 \r\nL 18.3125 54.6875 \r\nL 36.8125 54.6875 \r\nL 36.8125 47.703125 \r\nL 18.3125 47.703125 \r\nL 18.3125 18.015625 \r\nQ 18.3125 11.328125 20.140625 9.421875 \r\nQ 21.96875 7.515625 27.59375 7.515625 \r\nL 36.8125 7.515625 \r\nL 36.8125 0 \r\nL 27.59375 0 \r\nQ 17.1875 0 13.234375 3.875 \r\nQ 9.28125 7.765625 9.28125 18.015625 \r\nL 9.28125 47.703125 \r\nL 2.6875 47.703125 \r\nL 2.6875 54.6875 \r\nL 9.28125 54.6875 \r\nL 9.28125 70.21875 \r\nz\r\n\" id=\"DejaVuSans-116\"/>\r\n        <path d=\"M 9.421875 54.6875 \r\nL 18.40625 54.6875 \r\nL 18.40625 0 \r\nL 9.421875 0 \r\nz\r\nM 9.421875 75.984375 \r\nL 18.40625 75.984375 \r\nL 18.40625 64.59375 \r\nL 9.421875 64.59375 \r\nz\r\n\" id=\"DejaVuSans-105\"/>\r\n       </defs>\r\n       <use xlink:href=\"#DejaVuSans-122\"/>\r\n       <use x=\"52.490234\" xlink:href=\"#DejaVuSans-110\"/>\r\n       <use x=\"115.869141\" xlink:href=\"#DejaVuSans-97\"/>\r\n       <use x=\"177.148438\" xlink:href=\"#DejaVuSans-116\"/>\r\n       <use x=\"216.357422\" xlink:href=\"#DejaVuSans-105\"/>\r\n      </g>\r\n     </g>\r\n    </g>\r\n    <g id=\"ytick_2\">\r\n     <g id=\"line2d_9\">\r\n      <g>\r\n       <use style=\"stroke:#000000;stroke-width:0.8;\" x=\"49.257813\" xlink:href=\"#m22b1f91ddb\" y=\"197.241059\"/>\r\n      </g>\r\n     </g>\r\n     <g id=\"text_9\">\r\n      <!-- voljeti -->\r\n      <g transform=\"translate(11.8125 201.040277)scale(0.1 -0.1)\">\r\n       <defs>\r\n        <path d=\"M 2.984375 54.6875 \r\nL 12.5 54.6875 \r\nL 29.59375 8.796875 \r\nL 46.6875 54.6875 \r\nL 56.203125 54.6875 \r\nL 35.6875 0 \r\nL 23.484375 0 \r\nz\r\n\" id=\"DejaVuSans-118\"/>\r\n        <path d=\"M 30.609375 48.390625 \r\nQ 23.390625 48.390625 19.1875 42.75 \r\nQ 14.984375 37.109375 14.984375 27.296875 \r\nQ 14.984375 17.484375 19.15625 11.84375 \r\nQ 23.34375 6.203125 30.609375 6.203125 \r\nQ 37.796875 6.203125 41.984375 11.859375 \r\nQ 46.1875 17.53125 46.1875 27.296875 \r\nQ 46.1875 37.015625 41.984375 42.703125 \r\nQ 37.796875 48.390625 30.609375 48.390625 \r\nz\r\nM 30.609375 56 \r\nQ 42.328125 56 49.015625 48.375 \r\nQ 55.71875 40.765625 55.71875 27.296875 \r\nQ 55.71875 13.875 49.015625 6.21875 \r\nQ 42.328125 -1.421875 30.609375 -1.421875 \r\nQ 18.84375 -1.421875 12.171875 6.21875 \r\nQ 5.515625 13.875 5.515625 27.296875 \r\nQ 5.515625 40.765625 12.171875 48.375 \r\nQ 18.84375 56 30.609375 56 \r\nz\r\n\" id=\"DejaVuSans-111\"/>\r\n        <path d=\"M 9.421875 75.984375 \r\nL 18.40625 75.984375 \r\nL 18.40625 0 \r\nL 9.421875 0 \r\nz\r\n\" id=\"DejaVuSans-108\"/>\r\n        <path d=\"M 9.421875 54.6875 \r\nL 18.40625 54.6875 \r\nL 18.40625 -0.984375 \r\nQ 18.40625 -11.421875 14.421875 -16.109375 \r\nQ 10.453125 -20.796875 1.609375 -20.796875 \r\nL -1.8125 -20.796875 \r\nL -1.8125 -13.1875 \r\nL 0.59375 -13.1875 \r\nQ 5.71875 -13.1875 7.5625 -10.8125 \r\nQ 9.421875 -8.453125 9.421875 -0.984375 \r\nz\r\nM 9.421875 75.984375 \r\nL 18.40625 75.984375 \r\nL 18.40625 64.59375 \r\nL 9.421875 64.59375 \r\nz\r\n\" id=\"DejaVuSans-106\"/>\r\n        <path d=\"M 56.203125 29.59375 \r\nL 56.203125 25.203125 \r\nL 14.890625 25.203125 \r\nQ 15.484375 15.921875 20.484375 11.0625 \r\nQ 25.484375 6.203125 34.421875 6.203125 \r\nQ 39.59375 6.203125 44.453125 7.46875 \r\nQ 49.3125 8.734375 54.109375 11.28125 \r\nL 54.109375 2.78125 \r\nQ 49.265625 0.734375 44.1875 -0.34375 \r\nQ 39.109375 -1.421875 33.890625 -1.421875 \r\nQ 20.796875 -1.421875 13.15625 6.1875 \r\nQ 5.515625 13.8125 5.515625 26.8125 \r\nQ 5.515625 40.234375 12.765625 48.109375 \r\nQ 20.015625 56 32.328125 56 \r\nQ 43.359375 56 49.78125 48.890625 \r\nQ 56.203125 41.796875 56.203125 29.59375 \r\nz\r\nM 47.21875 32.234375 \r\nQ 47.125 39.59375 43.09375 43.984375 \r\nQ 39.0625 48.390625 32.421875 48.390625 \r\nQ 24.90625 48.390625 20.390625 44.140625 \r\nQ 15.875 39.890625 15.1875 32.171875 \r\nz\r\n\" id=\"DejaVuSans-101\"/>\r\n       </defs>\r\n       <use xlink:href=\"#DejaVuSans-118\"/>\r\n       <use x=\"59.179688\" xlink:href=\"#DejaVuSans-111\"/>\r\n       <use x=\"120.361328\" xlink:href=\"#DejaVuSans-108\"/>\r\n       <use x=\"148.144531\" xlink:href=\"#DejaVuSans-106\"/>\r\n       <use x=\"175.927734\" xlink:href=\"#DejaVuSans-101\"/>\r\n       <use x=\"237.451172\" xlink:href=\"#DejaVuSans-116\"/>\r\n       <use x=\"276.660156\" xlink:href=\"#DejaVuSans-105\"/>\r\n      </g>\r\n     </g>\r\n    </g>\r\n    <g id=\"ytick_3\">\r\n     <g id=\"line2d_10\">\r\n      <g>\r\n       <use style=\"stroke:#000000;stroke-width:0.8;\" x=\"49.257813\" xlink:href=\"#m22b1f91ddb\" y=\"184.730127\"/>\r\n      </g>\r\n     </g>\r\n     <g id=\"text_10\">\r\n      <!-- moći -->\r\n      <g transform=\"translate(18.121875 188.529345)scale(0.1 -0.1)\">\r\n       <defs>\r\n        <path d=\"M 52 44.1875 \r\nQ 55.375 50.25 60.0625 53.125 \r\nQ 64.75 56 71.09375 56 \r\nQ 79.640625 56 84.28125 50.015625 \r\nQ 88.921875 44.046875 88.921875 33.015625 \r\nL 88.921875 0 \r\nL 79.890625 0 \r\nL 79.890625 32.71875 \r\nQ 79.890625 40.578125 77.09375 44.375 \r\nQ 74.3125 48.1875 68.609375 48.1875 \r\nQ 61.625 48.1875 57.5625 43.546875 \r\nQ 53.515625 38.921875 53.515625 30.90625 \r\nL 53.515625 0 \r\nL 44.484375 0 \r\nL 44.484375 32.71875 \r\nQ 44.484375 40.625 41.703125 44.40625 \r\nQ 38.921875 48.1875 33.109375 48.1875 \r\nQ 26.21875 48.1875 22.15625 43.53125 \r\nQ 18.109375 38.875 18.109375 30.90625 \r\nL 18.109375 0 \r\nL 9.078125 0 \r\nL 9.078125 54.6875 \r\nL 18.109375 54.6875 \r\nL 18.109375 46.1875 \r\nQ 21.1875 51.21875 25.484375 53.609375 \r\nQ 29.78125 56 35.6875 56 \r\nQ 41.65625 56 45.828125 52.96875 \r\nQ 50 49.953125 52 44.1875 \r\nz\r\n\" id=\"DejaVuSans-109\"/>\r\n        <path d=\"M 48.78125 52.59375 \r\nL 48.78125 44.1875 \r\nQ 44.96875 46.296875 41.140625 47.34375 \r\nQ 37.3125 48.390625 33.40625 48.390625 \r\nQ 24.65625 48.390625 19.8125 42.84375 \r\nQ 14.984375 37.3125 14.984375 27.296875 \r\nQ 14.984375 17.28125 19.8125 11.734375 \r\nQ 24.65625 6.203125 33.40625 6.203125 \r\nQ 37.3125 6.203125 41.140625 7.25 \r\nQ 44.96875 8.296875 48.78125 10.40625 \r\nL 48.78125 2.09375 \r\nQ 45.015625 0.34375 40.984375 -0.53125 \r\nQ 36.96875 -1.421875 32.421875 -1.421875 \r\nQ 20.0625 -1.421875 12.78125 6.34375 \r\nQ 5.515625 14.109375 5.515625 27.296875 \r\nQ 5.515625 40.671875 12.859375 48.328125 \r\nQ 20.21875 56 33.015625 56 \r\nQ 37.15625 56 41.109375 55.140625 \r\nQ 45.0625 54.296875 48.78125 52.59375 \r\nz\r\nM 38.484375 79.984375 \r\nL 48.1875 79.984375 \r\nL 32.28125 61.625 \r\nL 24.8125 61.625 \r\nz\r\n\" id=\"DejaVuSans-263\"/>\r\n       </defs>\r\n       <use xlink:href=\"#DejaVuSans-109\"/>\r\n       <use x=\"97.412109\" xlink:href=\"#DejaVuSans-111\"/>\r\n       <use x=\"158.59375\" xlink:href=\"#DejaVuSans-263\"/>\r\n       <use x=\"213.574219\" xlink:href=\"#DejaVuSans-105\"/>\r\n      </g>\r\n     </g>\r\n    </g>\r\n    <g id=\"ytick_4\">\r\n     <g id=\"line2d_11\">\r\n      <g>\r\n       <use style=\"stroke:#000000;stroke-width:0.8;\" x=\"49.257813\" xlink:href=\"#m22b1f91ddb\" y=\"172.219194\"/>\r\n      </g>\r\n     </g>\r\n     <g id=\"text_11\">\r\n      <!-- nemati -->\r\n      <g transform=\"translate(7.2 176.018413)scale(0.1 -0.1)\">\r\n       <use xlink:href=\"#DejaVuSans-110\"/>\r\n       <use x=\"63.378906\" xlink:href=\"#DejaVuSans-101\"/>\r\n       <use x=\"124.902344\" xlink:href=\"#DejaVuSans-109\"/>\r\n       <use x=\"222.314453\" xlink:href=\"#DejaVuSans-97\"/>\r\n       <use x=\"283.59375\" xlink:href=\"#DejaVuSans-116\"/>\r\n       <use x=\"322.802734\" xlink:href=\"#DejaVuSans-105\"/>\r\n      </g>\r\n     </g>\r\n    </g>\r\n    <g id=\"ytick_5\">\r\n     <g id=\"line2d_12\">\r\n      <g>\r\n       <use style=\"stroke:#000000;stroke-width:0.8;\" x=\"49.257813\" xlink:href=\"#m22b1f91ddb\" y=\"159.708262\"/>\r\n      </g>\r\n     </g>\r\n     <g id=\"text_12\">\r\n      <!-- živjeti -->\r\n      <g transform=\"translate(12.682813 163.707481)scale(0.1 -0.1)\">\r\n       <defs>\r\n        <path d=\"M 5.515625 54.6875 \r\nL 48.1875 54.6875 \r\nL 48.1875 46.484375 \r\nL 14.40625 7.171875 \r\nL 48.1875 7.171875 \r\nL 48.1875 0 \r\nL 4.296875 0 \r\nL 4.296875 8.203125 \r\nL 38.09375 47.515625 \r\nL 5.515625 47.515625 \r\nz\r\nM 22.703125 61.625 \r\nL 10.75 79.984375 \r\nL 17.53125 79.984375 \r\nL 26.3125 68.015625 \r\nL 35.109375 79.984375 \r\nL 41.890625 79.984375 \r\nL 29.9375 61.625 \r\nz\r\n\" id=\"DejaVuSans-382\"/>\r\n       </defs>\r\n       <use xlink:href=\"#DejaVuSans-382\"/>\r\n       <use x=\"52.490234\" xlink:href=\"#DejaVuSans-105\"/>\r\n       <use x=\"80.273438\" xlink:href=\"#DejaVuSans-118\"/>\r\n       <use x=\"139.453125\" xlink:href=\"#DejaVuSans-106\"/>\r\n       <use x=\"167.236328\" xlink:href=\"#DejaVuSans-101\"/>\r\n       <use x=\"228.759766\" xlink:href=\"#DejaVuSans-116\"/>\r\n       <use x=\"267.96875\" xlink:href=\"#DejaVuSans-105\"/>\r\n      </g>\r\n     </g>\r\n    </g>\r\n    <g id=\"ytick_6\">\r\n     <g id=\"line2d_13\">\r\n      <g>\r\n       <use style=\"stroke:#000000;stroke-width:0.8;\" x=\"49.257813\" xlink:href=\"#m22b1f91ddb\" y=\"147.19733\"/>\r\n      </g>\r\n     </g>\r\n     <g id=\"text_13\">\r\n      <!-- dati -->\r\n      <g transform=\"translate(23.082813 150.996549)scale(0.1 -0.1)\">\r\n       <defs>\r\n        <path d=\"M 45.40625 46.390625 \r\nL 45.40625 75.984375 \r\nL 54.390625 75.984375 \r\nL 54.390625 0 \r\nL 45.40625 0 \r\nL 45.40625 8.203125 \r\nQ 42.578125 3.328125 38.25 0.953125 \r\nQ 33.9375 -1.421875 27.875 -1.421875 \r\nQ 17.96875 -1.421875 11.734375 6.484375 \r\nQ 5.515625 14.40625 5.515625 27.296875 \r\nQ 5.515625 40.1875 11.734375 48.09375 \r\nQ 17.96875 56 27.875 56 \r\nQ 33.9375 56 38.25 53.625 \r\nQ 42.578125 51.265625 45.40625 46.390625 \r\nz\r\nM 14.796875 27.296875 \r\nQ 14.796875 17.390625 18.875 11.75 \r\nQ 22.953125 6.109375 30.078125 6.109375 \r\nQ 37.203125 6.109375 41.296875 11.75 \r\nQ 45.40625 17.390625 45.40625 27.296875 \r\nQ 45.40625 37.203125 41.296875 42.84375 \r\nQ 37.203125 48.484375 30.078125 48.484375 \r\nQ 22.953125 48.484375 18.875 42.84375 \r\nQ 14.796875 37.203125 14.796875 27.296875 \r\nz\r\n\" id=\"DejaVuSans-100\"/>\r\n       </defs>\r\n       <use xlink:href=\"#DejaVuSans-100\"/>\r\n       <use x=\"63.476562\" xlink:href=\"#DejaVuSans-97\"/>\r\n       <use x=\"124.755859\" xlink:href=\"#DejaVuSans-116\"/>\r\n       <use x=\"163.964844\" xlink:href=\"#DejaVuSans-105\"/>\r\n      </g>\r\n     </g>\r\n    </g>\r\n    <g id=\"ytick_7\">\r\n     <g id=\"line2d_14\">\r\n      <g>\r\n       <use style=\"stroke:#000000;stroke-width:0.8;\" x=\"49.257813\" xlink:href=\"#m22b1f91ddb\" y=\"134.686398\"/>\r\n      </g>\r\n     </g>\r\n     <g id=\"text_14\">\r\n      <!-- imati -->\r\n      <g transform=\"translate(16.9125 138.485617)scale(0.1 -0.1)\">\r\n       <use xlink:href=\"#DejaVuSans-105\"/>\r\n       <use x=\"27.783203\" xlink:href=\"#DejaVuSans-109\"/>\r\n       <use x=\"125.195312\" xlink:href=\"#DejaVuSans-97\"/>\r\n       <use x=\"186.474609\" xlink:href=\"#DejaVuSans-116\"/>\r\n       <use x=\"225.683594\" xlink:href=\"#DejaVuSans-105\"/>\r\n      </g>\r\n     </g>\r\n    </g>\r\n    <g id=\"ytick_8\">\r\n     <g id=\"line2d_15\">\r\n      <g>\r\n       <use style=\"stroke:#000000;stroke-width:0.8;\" x=\"49.257813\" xlink:href=\"#m22b1f91ddb\" y=\"122.175466\"/>\r\n      </g>\r\n     </g>\r\n     <g id=\"text_15\">\r\n      <!-- doći -->\r\n      <g transform=\"translate(21.514063 125.974685)scale(0.1 -0.1)\">\r\n       <use xlink:href=\"#DejaVuSans-100\"/>\r\n       <use x=\"63.476562\" xlink:href=\"#DejaVuSans-111\"/>\r\n       <use x=\"124.658203\" xlink:href=\"#DejaVuSans-263\"/>\r\n       <use x=\"179.638672\" xlink:href=\"#DejaVuSans-105\"/>\r\n      </g>\r\n     </g>\r\n    </g>\r\n    <g id=\"ytick_9\">\r\n     <g id=\"line2d_16\">\r\n      <g>\r\n       <use style=\"stroke:#000000;stroke-width:0.8;\" x=\"49.257813\" xlink:href=\"#m22b1f91ddb\" y=\"109.664534\"/>\r\n      </g>\r\n     </g>\r\n     <g id=\"text_16\">\r\n      <!-- nositi -->\r\n      <g transform=\"translate(15.115625 113.463753)scale(0.1 -0.1)\">\r\n       <defs>\r\n        <path d=\"M 44.28125 53.078125 \r\nL 44.28125 44.578125 \r\nQ 40.484375 46.53125 36.375 47.5 \r\nQ 32.28125 48.484375 27.875 48.484375 \r\nQ 21.1875 48.484375 17.84375 46.4375 \r\nQ 14.5 44.390625 14.5 40.28125 \r\nQ 14.5 37.15625 16.890625 35.375 \r\nQ 19.28125 33.59375 26.515625 31.984375 \r\nL 29.59375 31.296875 \r\nQ 39.15625 29.25 43.1875 25.515625 \r\nQ 47.21875 21.78125 47.21875 15.09375 \r\nQ 47.21875 7.46875 41.1875 3.015625 \r\nQ 35.15625 -1.421875 24.609375 -1.421875 \r\nQ 20.21875 -1.421875 15.453125 -0.5625 \r\nQ 10.6875 0.296875 5.421875 2 \r\nL 5.421875 11.28125 \r\nQ 10.40625 8.6875 15.234375 7.390625 \r\nQ 20.0625 6.109375 24.8125 6.109375 \r\nQ 31.15625 6.109375 34.5625 8.28125 \r\nQ 37.984375 10.453125 37.984375 14.40625 \r\nQ 37.984375 18.0625 35.515625 20.015625 \r\nQ 33.0625 21.96875 24.703125 23.78125 \r\nL 21.578125 24.515625 \r\nQ 13.234375 26.265625 9.515625 29.90625 \r\nQ 5.8125 33.546875 5.8125 39.890625 \r\nQ 5.8125 47.609375 11.28125 51.796875 \r\nQ 16.75 56 26.8125 56 \r\nQ 31.78125 56 36.171875 55.265625 \r\nQ 40.578125 54.546875 44.28125 53.078125 \r\nz\r\n\" id=\"DejaVuSans-115\"/>\r\n       </defs>\r\n       <use xlink:href=\"#DejaVuSans-110\"/>\r\n       <use x=\"63.378906\" xlink:href=\"#DejaVuSans-111\"/>\r\n       <use x=\"124.560547\" xlink:href=\"#DejaVuSans-115\"/>\r\n       <use x=\"176.660156\" xlink:href=\"#DejaVuSans-105\"/>\r\n       <use x=\"204.443359\" xlink:href=\"#DejaVuSans-116\"/>\r\n       <use x=\"243.652344\" xlink:href=\"#DejaVuSans-105\"/>\r\n      </g>\r\n     </g>\r\n    </g>\r\n    <g id=\"ytick_10\">\r\n     <g id=\"line2d_17\">\r\n      <g>\r\n       <use style=\"stroke:#000000;stroke-width:0.8;\" x=\"49.257813\" xlink:href=\"#m22b1f91ddb\" y=\"97.153602\"/>\r\n      </g>\r\n     </g>\r\n     <g id=\"text_17\">\r\n      <!-- ići -->\r\n      <g transform=\"translate(31.203125 100.952821)scale(0.1 -0.1)\">\r\n       <use xlink:href=\"#DejaVuSans-105\"/>\r\n       <use x=\"27.783203\" xlink:href=\"#DejaVuSans-263\"/>\r\n       <use x=\"82.763672\" xlink:href=\"#DejaVuSans-105\"/>\r\n      </g>\r\n     </g>\r\n    </g>\r\n    <g id=\"ytick_11\">\r\n     <g id=\"line2d_18\">\r\n      <g>\r\n       <use style=\"stroke:#000000;stroke-width:0.8;\" x=\"49.257813\" xlink:href=\"#m22b1f91ddb\" y=\"84.64267\"/>\r\n      </g>\r\n     </g>\r\n     <g id=\"text_18\">\r\n      <!-- čekati -->\r\n      <g transform=\"translate(12.164063 88.441888)scale(0.1 -0.1)\">\r\n       <defs>\r\n        <path d=\"M 48.78125 52.59375 \r\nL 48.78125 44.1875 \r\nQ 44.96875 46.296875 41.140625 47.34375 \r\nQ 37.3125 48.390625 33.40625 48.390625 \r\nQ 24.65625 48.390625 19.8125 42.84375 \r\nQ 14.984375 37.3125 14.984375 27.296875 \r\nQ 14.984375 17.28125 19.8125 11.734375 \r\nQ 24.65625 6.203125 33.40625 6.203125 \r\nQ 37.3125 6.203125 41.140625 7.25 \r\nQ 44.96875 8.296875 48.78125 10.40625 \r\nL 48.78125 2.09375 \r\nQ 45.015625 0.34375 40.984375 -0.53125 \r\nQ 36.96875 -1.421875 32.421875 -1.421875 \r\nQ 20.0625 -1.421875 12.78125 6.34375 \r\nQ 5.515625 14.109375 5.515625 27.296875 \r\nQ 5.515625 40.671875 12.859375 48.328125 \r\nQ 20.21875 56 33.015625 56 \r\nQ 37.15625 56 41.109375 55.140625 \r\nQ 45.0625 54.296875 48.78125 52.59375 \r\nz\r\nM 28.078125 61.625 \r\nL 16.109375 79.984375 \r\nL 22.90625 79.984375 \r\nL 31.6875 68.015625 \r\nL 40.484375 79.984375 \r\nL 47.265625 79.984375 \r\nL 35.296875 61.625 \r\nz\r\n\" id=\"DejaVuSans-269\"/>\r\n        <path d=\"M 9.078125 75.984375 \r\nL 18.109375 75.984375 \r\nL 18.109375 31.109375 \r\nL 44.921875 54.6875 \r\nL 56.390625 54.6875 \r\nL 27.390625 29.109375 \r\nL 57.625 0 \r\nL 45.90625 0 \r\nL 18.109375 26.703125 \r\nL 18.109375 0 \r\nL 9.078125 0 \r\nz\r\n\" id=\"DejaVuSans-107\"/>\r\n       </defs>\r\n       <use xlink:href=\"#DejaVuSans-269\"/>\r\n       <use x=\"54.980469\" xlink:href=\"#DejaVuSans-101\"/>\r\n       <use x=\"116.503906\" xlink:href=\"#DejaVuSans-107\"/>\r\n       <use x=\"172.664062\" xlink:href=\"#DejaVuSans-97\"/>\r\n       <use x=\"233.943359\" xlink:href=\"#DejaVuSans-116\"/>\r\n       <use x=\"273.152344\" xlink:href=\"#DejaVuSans-105\"/>\r\n      </g>\r\n     </g>\r\n    </g>\r\n    <g id=\"ytick_12\">\r\n     <g id=\"line2d_19\">\r\n      <g>\r\n       <use style=\"stroke:#000000;stroke-width:0.8;\" x=\"49.257813\" xlink:href=\"#m22b1f91ddb\" y=\"72.131738\"/>\r\n      </g>\r\n     </g>\r\n     <g id=\"text_19\">\r\n      <!-- čuti -->\r\n      <g transform=\"translate(23.723438 75.930956)scale(0.1 -0.1)\">\r\n       <defs>\r\n        <path d=\"M 8.5 21.578125 \r\nL 8.5 54.6875 \r\nL 17.484375 54.6875 \r\nL 17.484375 21.921875 \r\nQ 17.484375 14.15625 20.5 10.265625 \r\nQ 23.53125 6.390625 29.59375 6.390625 \r\nQ 36.859375 6.390625 41.078125 11.03125 \r\nQ 45.3125 15.671875 45.3125 23.6875 \r\nL 45.3125 54.6875 \r\nL 54.296875 54.6875 \r\nL 54.296875 0 \r\nL 45.3125 0 \r\nL 45.3125 8.40625 \r\nQ 42.046875 3.421875 37.71875 1 \r\nQ 33.40625 -1.421875 27.6875 -1.421875 \r\nQ 18.265625 -1.421875 13.375 4.4375 \r\nQ 8.5 10.296875 8.5 21.578125 \r\nz\r\nM 31.109375 56 \r\nz\r\n\" id=\"DejaVuSans-117\"/>\r\n       </defs>\r\n       <use xlink:href=\"#DejaVuSans-269\"/>\r\n       <use x=\"54.980469\" xlink:href=\"#DejaVuSans-117\"/>\r\n       <use x=\"118.359375\" xlink:href=\"#DejaVuSans-116\"/>\r\n       <use x=\"157.568359\" xlink:href=\"#DejaVuSans-105\"/>\r\n      </g>\r\n     </g>\r\n    </g>\r\n    <g id=\"ytick_13\">\r\n     <g id=\"line2d_20\">\r\n      <g>\r\n       <use style=\"stroke:#000000;stroke-width:0.8;\" x=\"49.257813\" xlink:href=\"#m22b1f91ddb\" y=\"59.620806\"/>\r\n      </g>\r\n     </g>\r\n     <g id=\"text_20\">\r\n      <!-- plakati -->\r\n      <g transform=\"translate(8.560938 63.420024)scale(0.1 -0.1)\">\r\n       <defs>\r\n        <path d=\"M 18.109375 8.203125 \r\nL 18.109375 -20.796875 \r\nL 9.078125 -20.796875 \r\nL 9.078125 54.6875 \r\nL 18.109375 54.6875 \r\nL 18.109375 46.390625 \r\nQ 20.953125 51.265625 25.265625 53.625 \r\nQ 29.59375 56 35.59375 56 \r\nQ 45.5625 56 51.78125 48.09375 \r\nQ 58.015625 40.1875 58.015625 27.296875 \r\nQ 58.015625 14.40625 51.78125 6.484375 \r\nQ 45.5625 -1.421875 35.59375 -1.421875 \r\nQ 29.59375 -1.421875 25.265625 0.953125 \r\nQ 20.953125 3.328125 18.109375 8.203125 \r\nz\r\nM 48.6875 27.296875 \r\nQ 48.6875 37.203125 44.609375 42.84375 \r\nQ 40.53125 48.484375 33.40625 48.484375 \r\nQ 26.265625 48.484375 22.1875 42.84375 \r\nQ 18.109375 37.203125 18.109375 27.296875 \r\nQ 18.109375 17.390625 22.1875 11.75 \r\nQ 26.265625 6.109375 33.40625 6.109375 \r\nQ 40.53125 6.109375 44.609375 11.75 \r\nQ 48.6875 17.390625 48.6875 27.296875 \r\nz\r\n\" id=\"DejaVuSans-112\"/>\r\n       </defs>\r\n       <use xlink:href=\"#DejaVuSans-112\"/>\r\n       <use x=\"63.476562\" xlink:href=\"#DejaVuSans-108\"/>\r\n       <use x=\"91.259766\" xlink:href=\"#DejaVuSans-97\"/>\r\n       <use x=\"152.539062\" xlink:href=\"#DejaVuSans-107\"/>\r\n       <use x=\"208.699219\" xlink:href=\"#DejaVuSans-97\"/>\r\n       <use x=\"269.978516\" xlink:href=\"#DejaVuSans-116\"/>\r\n       <use x=\"309.1875\" xlink:href=\"#DejaVuSans-105\"/>\r\n      </g>\r\n     </g>\r\n    </g>\r\n    <g id=\"ytick_14\">\r\n     <g id=\"line2d_21\">\r\n      <g>\r\n       <use style=\"stroke:#000000;stroke-width:0.8;\" x=\"49.257813\" xlink:href=\"#m22b1f91ddb\" y=\"47.109873\"/>\r\n      </g>\r\n     </g>\r\n     <g id=\"text_21\">\r\n      <!-- tražiti -->\r\n      <g transform=\"translate(13.373438 50.909092)scale(0.1 -0.1)\">\r\n       <defs>\r\n        <path d=\"M 41.109375 46.296875 \r\nQ 39.59375 47.171875 37.8125 47.578125 \r\nQ 36.03125 48 33.890625 48 \r\nQ 26.265625 48 22.1875 43.046875 \r\nQ 18.109375 38.09375 18.109375 28.8125 \r\nL 18.109375 0 \r\nL 9.078125 0 \r\nL 9.078125 54.6875 \r\nL 18.109375 54.6875 \r\nL 18.109375 46.1875 \r\nQ 20.953125 51.171875 25.484375 53.578125 \r\nQ 30.03125 56 36.53125 56 \r\nQ 37.453125 56 38.578125 55.875 \r\nQ 39.703125 55.765625 41.0625 55.515625 \r\nz\r\n\" id=\"DejaVuSans-114\"/>\r\n       </defs>\r\n       <use xlink:href=\"#DejaVuSans-116\"/>\r\n       <use x=\"39.208984\" xlink:href=\"#DejaVuSans-114\"/>\r\n       <use x=\"80.322266\" xlink:href=\"#DejaVuSans-97\"/>\r\n       <use x=\"141.601562\" xlink:href=\"#DejaVuSans-382\"/>\r\n       <use x=\"194.091797\" xlink:href=\"#DejaVuSans-105\"/>\r\n       <use x=\"221.875\" xlink:href=\"#DejaVuSans-116\"/>\r\n       <use x=\"261.083984\" xlink:href=\"#DejaVuSans-105\"/>\r\n      </g>\r\n     </g>\r\n    </g>\r\n    <g id=\"ytick_15\">\r\n     <g id=\"line2d_22\">\r\n      <g>\r\n       <use style=\"stroke:#000000;stroke-width:0.8;\" x=\"49.257813\" xlink:href=\"#m22b1f91ddb\" y=\"34.598941\"/>\r\n      </g>\r\n     </g>\r\n     <g id=\"text_22\">\r\n      <!-- morati -->\r\n      <g transform=\"translate(9.460938 38.39816)scale(0.1 -0.1)\">\r\n       <use xlink:href=\"#DejaVuSans-109\"/>\r\n       <use x=\"97.412109\" xlink:href=\"#DejaVuSans-111\"/>\r\n       <use x=\"158.59375\" xlink:href=\"#DejaVuSans-114\"/>\r\n       <use x=\"199.707031\" xlink:href=\"#DejaVuSans-97\"/>\r\n       <use x=\"260.986328\" xlink:href=\"#DejaVuSans-116\"/>\r\n       <use x=\"300.195312\" xlink:href=\"#DejaVuSans-105\"/>\r\n      </g>\r\n     </g>\r\n    </g>\r\n    <g id=\"ytick_16\">\r\n     <g id=\"line2d_23\">\r\n      <g>\r\n       <use style=\"stroke:#000000;stroke-width:0.8;\" x=\"49.257813\" xlink:href=\"#m22b1f91ddb\" y=\"22.088009\"/>\r\n      </g>\r\n     </g>\r\n     <g id=\"text_23\">\r\n      <!-- kazati -->\r\n      <g transform=\"translate(12.439063 25.887228)scale(0.1 -0.1)\">\r\n       <use xlink:href=\"#DejaVuSans-107\"/>\r\n       <use x=\"56.160156\" xlink:href=\"#DejaVuSans-97\"/>\r\n       <use x=\"117.439453\" xlink:href=\"#DejaVuSans-122\"/>\r\n       <use x=\"169.929688\" xlink:href=\"#DejaVuSans-97\"/>\r\n       <use x=\"231.208984\" xlink:href=\"#DejaVuSans-116\"/>\r\n       <use x=\"270.417969\" xlink:href=\"#DejaVuSans-105\"/>\r\n      </g>\r\n     </g>\r\n    </g>\r\n   </g>\r\n   <g id=\"patch_19\">\r\n    <path d=\"M 49.257813 224.64 \r\nL 49.257813 7.2 \r\n\" style=\"fill:none;stroke:#000000;stroke-linecap:square;stroke-linejoin:miter;stroke-width:0.8;\"/>\r\n   </g>\r\n   <g id=\"patch_20\">\r\n    <path d=\"M 384.057813 224.64 \r\nL 384.057813 7.2 \r\n\" style=\"fill:none;stroke:#000000;stroke-linecap:square;stroke-linejoin:miter;stroke-width:0.8;\"/>\r\n   </g>\r\n   <g id=\"patch_21\">\r\n    <path d=\"M 49.257813 224.64 \r\nL 384.057813 224.64 \r\n\" style=\"fill:none;stroke:#000000;stroke-linecap:square;stroke-linejoin:miter;stroke-width:0.8;\"/>\r\n   </g>\r\n   <g id=\"patch_22\">\r\n    <path d=\"M 49.257813 7.2 \r\nL 384.057813 7.2 \r\n\" style=\"fill:none;stroke:#000000;stroke-linecap:square;stroke-linejoin:miter;stroke-width:0.8;\"/>\r\n   </g>\r\n  </g>\r\n </g>\r\n <defs>\r\n  <clipPath id=\"p8fb3313946\">\r\n   <rect height=\"217.44\" width=\"334.8\" x=\"49.257813\" y=\"7.2\"/>\r\n  </clipPath>\r\n </defs>\r\n</svg>\r\n",
      "image/png": "[encoded data removed]"
     },
     "metadata": {
      "needs_background": "light"
     }
    }
   ],
   "source": [
    "names = sd.index\n",
    "values = sd[\"Lemma\"]\n",
    "\n",
    "\n",
    "plt.barh(names, values)\n"
   ]
  },
  {
   "cell_type": "code",
   "execution_count": 11,
   "metadata": {},
   "outputs": [
    {
     "output_type": "execute_result",
     "data": {
      "text/plain": "           Lemma\nznati        115\nvoljeti      102\nmoći          90\nnemati        67\nživjeti       58\n...          ...\nprodati        1\notkriti        1\nnatopiti       1\nširiti         1\nkorteđati      1\n\n[407 rows x 1 columns]",
      "text/html": "<div>\n<style scoped>\n    .dataframe tbody tr th:only-of-type {\n        vertical-align: middle;\n    }\n\n    .dataframe tbody tr th {\n        vertical-align: top;\n    }\n\n    .dataframe thead th {\n        text-align: right;\n    }\n</style>\n<table border=\"1\" class=\"dataframe\">\n  <thead>\n    <tr style=\"text-align: right;\">\n      <th></th>\n      <th>Lemma</th>\n    </tr>\n  </thead>\n  <tbody>\n    <tr>\n      <th>znati</th>\n      <td>115</td>\n    </tr>\n    <tr>\n      <th>voljeti</th>\n      <td>102</td>\n    </tr>\n    <tr>\n      <th>moći</th>\n      <td>90</td>\n    </tr>\n    <tr>\n      <th>nemati</th>\n      <td>67</td>\n    </tr>\n    <tr>\n      <th>živjeti</th>\n      <td>58</td>\n    </tr>\n    <tr>\n      <th>...</th>\n      <td>...</td>\n    </tr>\n    <tr>\n      <th>prodati</th>\n      <td>1</td>\n    </tr>\n    <tr>\n      <th>otkriti</th>\n      <td>1</td>\n    </tr>\n    <tr>\n      <th>natopiti</th>\n      <td>1</td>\n    </tr>\n    <tr>\n      <th>širiti</th>\n      <td>1</td>\n    </tr>\n    <tr>\n      <th>korteđati</th>\n      <td>1</td>\n    </tr>\n  </tbody>\n</table>\n<p>407 rows × 1 columns</p>\n</div>"
     },
     "metadata": {},
     "execution_count": 11
    }
   ],
   "source": [
    "sd = pd.DataFrame(sd)\n",
    "sd"
   ]
  },
  {
   "cell_type": "code",
   "execution_count": 12,
   "metadata": {},
   "outputs": [],
   "source": [
    "sd = sd[sd.Lemma > 20]"
   ]
  },
  {
   "cell_type": "code",
   "execution_count": 9,
   "metadata": {},
   "outputs": [],
   "source": [
    "import pymongo\n"
   ]
  },
  {
   "cell_type": "code",
   "execution_count": 10,
   "metadata": {
    "tags": []
   },
   "outputs": [
    {
     "output_type": "stream",
     "name": "stdout",
     "text": "['admin', 'config', 'db_name', 'local']\n"
    }
   ],
   "source": [
    "myclient = pymongo.MongoClient(\"mongodb://localhost:27017/\")\n",
    "print(myclient.list_database_names())"
   ]
  },
  {
   "cell_type": "code",
   "execution_count": 11,
   "metadata": {
    "tags": []
   },
   "outputs": [
    {
     "output_type": "stream",
     "name": "stdout",
     "text": "['verbs', 'artists']\n"
    }
   ],
   "source": [
    "mydb = myclient[\"db_name\"]\n",
    "print(mydb.list_collection_names())"
   ]
  },
  {
   "cell_type": "code",
   "execution_count": 12,
   "metadata": {
    "tags": []
   },
   "outputs": [
    {
     "output_type": "stream",
     "name": "stdout",
     "text": "{'name': 'Jelena Rozga'}\n{'name': 'Severina'}\n{'name': 'Oliver Dragojević'}\n{'name': 'Mate Mišo Kovač'}\n"
    }
   ],
   "source": [
    "artists_col = mydb[\"artists\"]\n",
    "\n",
    "for artist in artists_col.find({}, {\"_id\": 0, \"name\": 1}):\n",
    "    print(artist)"
   ]
  },
  {
   "cell_type": "code",
   "execution_count": 13,
   "metadata": {
    "tags": []
   },
   "outputs": [
    {
     "output_type": "stream",
     "name": "stdout",
     "text": "{'_id': ObjectId('5f351c21fb57460e285e4bca'), 'name': 'Oliver Dragojević', 'image': 'https://yt3.ggpht.com/a-/AAuE7mDa2Vfv0sQfgX1hvWFvsd2E1aV_xrtTyod9Ig=s240-mo-c-c0xffffffff-rj-k-no', 'nouns': [{'_id': ObjectId('5f351c21fb57460e285e4bcb'), 'word': 'Poljubac', 'repeats': 90}, {'_id': ObjectId('5f351c21fb57460e285e4bcc'), 'word': 'Poljubac', 'repeats': 90}, {'_id': ObjectId('5f351c21fb57460e285e4bcd'), 'word': 'Poljubac', 'repeats': 90}, {'_id': ObjectId('5f351c21fb57460e285e4bce'), 'word': 'Poljubac', 'repeats': 90}, {'_id': ObjectId('5f351c21fb57460e285e4bcf'), 'word': 'Poljubac', 'repeats': 90}], 'verbs': [{'_id': ObjectId('5f351c21fb57460e285e4bd0'), 'word': 'Poljubiti', 'repeats': 90}, {'_id': ObjectId('5f351c21fb57460e285e4bd1'), 'word': 'Poljubac', 'repeats': 90}, {'_id': ObjectId('5f351c21fb57460e285e4bd2'), 'word': 'Poljubac', 'repeats': 90}, {'_id': ObjectId('5f351c21fb57460e285e4bd3'), 'word': 'Poljubac', 'repeats': 90}, {'_id': ObjectId('5f351c21fb57460e285e4bd4'), 'word': 'Poljubac', 'repeats': 90}], '__v': 0}\n"
    }
   ],
   "source": [
    "myquery = { \"name\": { \"$regex\": \"O\" } }\n",
    "\n",
    "mydoc = artists_col.find(myquery)\n",
    "\n",
    "for artist in mydoc:\n",
    "    print(artist)"
   ]
  },
  {
   "cell_type": "code",
   "execution_count": 50,
   "metadata": {
    "tags": []
   },
   "outputs": [
    {
     "output_type": "stream",
     "name": "stdout",
     "text": "{'_id': ObjectId('5f34882a8a51c907a0eb497d'), 'name': 'Oliver Dragojević', 'image': 'https://yt3.ggpht.com/a-/AAuE7mDa2Vfv0sQfgX1hvWFvsd2E1aV_xrtTyod9Ig=s240-mo-c-c0xffffffff-rj-k-no', 'nouns': [{'_id': ObjectId('5f34882a8a51c907a0eb497e'), 'word': 'Poljubac', 'repeats': 90}, {'_id': ObjectId('5f34882a8a51c907a0eb497f'), 'word': 'Poljubac', 'repeats': 90}, {'_id': ObjectId('5f34882a8a51c907a0eb4980'), 'word': 'Poljubac', 'repeats': 90}, {'_id': ObjectId('5f34882a8a51c907a0eb4981'), 'word': 'Poljubac', 'repeats': 90}, {'_id': ObjectId('5f34882a8a51c907a0eb4982'), 'word': 'Poljubac', 'repeats': 90}], 'verbs': [{'_id': ObjectId('5f34882a8a51c907a0eb4983'), 'word': 'Poljubiti', 'repeats': 90}, {'_id': ObjectId('5f34882a8a51c907a0eb4984'), 'word': 'Poljubac', 'repeats': 90}, {'_id': ObjectId('5f34882a8a51c907a0eb4985'), 'word': 'Poljubac', 'repeats': 90}, {'_id': ObjectId('5f34882a8a51c907a0eb4986'), 'word': 'Poljubac', 'repeats': 90}, {'_id': ObjectId('5f34882a8a51c907a0eb4987'), 'word': 'Poljubac', 'repeats': 90}], '__v': 0}\n"
    }
   ],
   "source": [
    "myquery = {\"name\": \"Oliver Dragojević\"}\n",
    "newvalues = {\"$set\": {\"image\": \"https://yt3.ggpht.com/a-/AAuE7mDa2Vfv0sQfgX1hvWFvsd2E1aV_xrtTyod9Ig=s240-mo-c-c0xffffffff-rj-k-no\"}}\n",
    "\n",
    "artists_col.update_one(myquery, newvalues)\n",
    "\n",
    "print(artists_col.find_one({\"name\": \"Oliver Dragojević\"}))"
   ]
  },
  {
   "cell_type": "code",
   "execution_count": 14,
   "metadata": {},
   "outputs": [
    {
     "output_type": "execute_result",
     "data": {
      "text/plain": "         Lemma\nznati      115\nvoljeti    102\nmoći        90\nnemati      67\nživjeti     58\ndati        56\nimati       42\ndoći        41\nnositi      38\nići         36\nčekati      34\nčuti        33\nplakati     33\ntražiti     33\nmorati      32\nkazati      31",
      "text/html": "<div>\n<style scoped>\n    .dataframe tbody tr th:only-of-type {\n        vertical-align: middle;\n    }\n\n    .dataframe tbody tr th {\n        vertical-align: top;\n    }\n\n    .dataframe thead th {\n        text-align: right;\n    }\n</style>\n<table border=\"1\" class=\"dataframe\">\n  <thead>\n    <tr style=\"text-align: right;\">\n      <th></th>\n      <th>Lemma</th>\n    </tr>\n  </thead>\n  <tbody>\n    <tr>\n      <th>znati</th>\n      <td>115</td>\n    </tr>\n    <tr>\n      <th>voljeti</th>\n      <td>102</td>\n    </tr>\n    <tr>\n      <th>moći</th>\n      <td>90</td>\n    </tr>\n    <tr>\n      <th>nemati</th>\n      <td>67</td>\n    </tr>\n    <tr>\n      <th>živjeti</th>\n      <td>58</td>\n    </tr>\n    <tr>\n      <th>dati</th>\n      <td>56</td>\n    </tr>\n    <tr>\n      <th>imati</th>\n      <td>42</td>\n    </tr>\n    <tr>\n      <th>doći</th>\n      <td>41</td>\n    </tr>\n    <tr>\n      <th>nositi</th>\n      <td>38</td>\n    </tr>\n    <tr>\n      <th>ići</th>\n      <td>36</td>\n    </tr>\n    <tr>\n      <th>čekati</th>\n      <td>34</td>\n    </tr>\n    <tr>\n      <th>čuti</th>\n      <td>33</td>\n    </tr>\n    <tr>\n      <th>plakati</th>\n      <td>33</td>\n    </tr>\n    <tr>\n      <th>tražiti</th>\n      <td>33</td>\n    </tr>\n    <tr>\n      <th>morati</th>\n      <td>32</td>\n    </tr>\n    <tr>\n      <th>kazati</th>\n      <td>31</td>\n    </tr>\n  </tbody>\n</table>\n</div>"
     },
     "metadata": {},
     "execution_count": 14
    }
   ],
   "source": [
    "sd"
   ]
  },
  {
   "cell_type": "code",
   "execution_count": 15,
   "metadata": {},
   "outputs": [],
   "source": [
    "sd = sd.reset_index()\n"
   ]
  },
  {
   "cell_type": "code",
   "execution_count": 17,
   "metadata": {},
   "outputs": [
    {
     "output_type": "execute_result",
     "data": {
      "text/plain": "       word  repeats\n0     znati      115\n1   voljeti      102\n2      moći       90\n3    nemati       67\n4   živjeti       58\n5      dati       56\n6     imati       42\n7      doći       41\n8    nositi       38\n9       ići       36\n10   čekati       34\n11     čuti       33\n12  plakati       33\n13  tražiti       33\n14   morati       32\n15   kazati       31",
      "text/html": "<div>\n<style scoped>\n    .dataframe tbody tr th:only-of-type {\n        vertical-align: middle;\n    }\n\n    .dataframe tbody tr th {\n        vertical-align: top;\n    }\n\n    .dataframe thead th {\n        text-align: right;\n    }\n</style>\n<table border=\"1\" class=\"dataframe\">\n  <thead>\n    <tr style=\"text-align: right;\">\n      <th></th>\n      <th>word</th>\n      <th>repeats</th>\n    </tr>\n  </thead>\n  <tbody>\n    <tr>\n      <th>0</th>\n      <td>znati</td>\n      <td>115</td>\n    </tr>\n    <tr>\n      <th>1</th>\n      <td>voljeti</td>\n      <td>102</td>\n    </tr>\n    <tr>\n      <th>2</th>\n      <td>moći</td>\n      <td>90</td>\n    </tr>\n    <tr>\n      <th>3</th>\n      <td>nemati</td>\n      <td>67</td>\n    </tr>\n    <tr>\n      <th>4</th>\n      <td>živjeti</td>\n      <td>58</td>\n    </tr>\n    <tr>\n      <th>5</th>\n      <td>dati</td>\n      <td>56</td>\n    </tr>\n    <tr>\n      <th>6</th>\n      <td>imati</td>\n      <td>42</td>\n    </tr>\n    <tr>\n      <th>7</th>\n      <td>doći</td>\n      <td>41</td>\n    </tr>\n    <tr>\n      <th>8</th>\n      <td>nositi</td>\n      <td>38</td>\n    </tr>\n    <tr>\n      <th>9</th>\n      <td>ići</td>\n      <td>36</td>\n    </tr>\n    <tr>\n      <th>10</th>\n      <td>čekati</td>\n      <td>34</td>\n    </tr>\n    <tr>\n      <th>11</th>\n      <td>čuti</td>\n      <td>33</td>\n    </tr>\n    <tr>\n      <th>12</th>\n      <td>plakati</td>\n      <td>33</td>\n    </tr>\n    <tr>\n      <th>13</th>\n      <td>tražiti</td>\n      <td>33</td>\n    </tr>\n    <tr>\n      <th>14</th>\n      <td>morati</td>\n      <td>32</td>\n    </tr>\n    <tr>\n      <th>15</th>\n      <td>kazati</td>\n      <td>31</td>\n    </tr>\n  </tbody>\n</table>\n</div>"
     },
     "metadata": {},
     "execution_count": 17
    }
   ],
   "source": [
    "sd.columns = [\"word\", \"repeats\"]\n",
    "sd"
   ]
  },
  {
   "cell_type": "code",
   "execution_count": 18,
   "metadata": {},
   "outputs": [
    {
     "output_type": "execute_result",
     "data": {
      "text/plain": "[{'word': 'znati', 'repeats': 115},\n {'word': 'voljeti', 'repeats': 102},\n {'word': 'moći', 'repeats': 90},\n {'word': 'nemati', 'repeats': 67},\n {'word': 'živjeti', 'repeats': 58},\n {'word': 'dati', 'repeats': 56},\n {'word': 'imati', 'repeats': 42},\n {'word': 'doći', 'repeats': 41},\n {'word': 'nositi', 'repeats': 38},\n {'word': 'ići', 'repeats': 36},\n {'word': 'čekati', 'repeats': 34},\n {'word': 'čuti', 'repeats': 33},\n {'word': 'plakati', 'repeats': 33},\n {'word': 'tražiti', 'repeats': 33},\n {'word': 'morati', 'repeats': 32},\n {'word': 'kazati', 'repeats': 31}]"
     },
     "metadata": {},
     "execution_count": 18
    }
   ],
   "source": [
    "import json\n",
    "\n",
    "result = sd.to_json(orient=\"records\")\n",
    "parsed = json.loads(result)\n",
    "# json.dumps(parsed, indent=4) \n",
    "parsed"
   ]
  },
  {
   "cell_type": "code",
   "execution_count": 20,
   "metadata": {
    "tags": []
   },
   "outputs": [
    {
     "output_type": "stream",
     "name": "stdout",
     "text": "{'_id': ObjectId('5f351c21fb57460e285e4bd5'), 'name': 'Mate Mišo Kovač', 'image': 'https://i.scdn.co/image/ab67616d0000b273a6f5e0154fa751dfc3e81de0', 'nouns': [{'_id': ObjectId('5f351c21fb57460e285e4bd6'), 'word': 'Poljubac', 'repeats': 95}, {'_id': ObjectId('5f351c21fb57460e285e4bd7'), 'word': 'San', 'repeats': 90}, {'_id': ObjectId('5f351c21fb57460e285e4bd8'), 'word': 'Poljubac', 'repeats': 80}, {'_id': ObjectId('5f351c21fb57460e285e4bd9'), 'word': 'Poljubac', 'repeats': 90}, {'_id': ObjectId('5f351c21fb57460e285e4bda'), 'word': 'Poljubac', 'repeats': 90}], 'verbs': [{'word': 'znati', 'repeats': 115}, {'word': 'voljeti', 'repeats': 102}, {'word': 'moći', 'repeats': 90}, {'word': 'nemati', 'repeats': 67}, {'word': 'živjeti', 'repeats': 58}, {'word': 'dati', 'repeats': 56}, {'word': 'imati', 'repeats': 42}, {'word': 'doći', 'repeats': 41}, {'word': 'nositi', 'repeats': 38}, {'word': 'ići', 'repeats': 36}, {'word': 'čekati', 'repeats': 34}, {'word': 'čuti', 'repeats': 33}, {'word': 'plakati', 'repeats': 33}, {'word': 'tražiti', 'repeats': 33}, {'word': 'morati', 'repeats': 32}, {'word': 'kazati', 'repeats': 31}], '__v': 0}\n"
    }
   ],
   "source": [
    "myquery = { \"name\": { \"$regex\": \"^M\" } }\n",
    "newvalues = {\"$set\": {\"verbs\": parsed}}\n",
    "\n",
    "artists_col.update_one(myquery, newvalues)\n",
    "\n",
    "print(artists_col.find_one({\"name\": { \"$regex\": \"^M\" }}))"
   ]
  },
  {
   "cell_type": "code",
   "execution_count": null,
   "metadata": {},
   "outputs": [],
   "source": []
  }
 ],
 "metadata": {
  "kernelspec": {
   "display_name": "Python 3",
   "language": "python",
   "name": "python3"
  },
  "language_info": {
   "codemirror_mode": {
    "name": "ipython",
    "version": 3
   },
   "file_extension": ".py",
   "mimetype": "text/x-python",
   "name": "python",
   "nbconvert_exporter": "python",
   "pygments_lexer": "ipython3",
   "version": "3.8.5-final"
  }
 },
 "nbformat": 4,
 "nbformat_minor": 4
}