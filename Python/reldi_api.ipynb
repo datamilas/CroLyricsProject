{
 "cells": [
  {
   "cell_type": "code",
   "execution_count": null,
   "metadata": {},
   "outputs": [],
   "source": [
    "import pandas as pd\n",
    "from reldi.ner_tagger import NERTagger\n",
    "import json\n",
    "\n",
    "n=NERTagger('hr')\n",
    "n.authorize('datamilas','Jasamana1')\n"
   ]
  },
  {
   "cell_type": "code",
   "execution_count": 24,
   "metadata": {},
   "outputs": [],
   "source": [
    "#read data from sraping\n",
    "df = pd.read_csv('data.csv')\n",
    "\n"
   ]
  },
  {
   "cell_type": "code",
   "execution_count": 26,
   "metadata": {},
   "outputs": [],
   "source": [
    "#define which data to analyze\n",
    "\n",
    "#by song_ID\n",
    "df[\"toAnalyze\"] = df[\"Song_ID\"].str.find('Zwn2Yv0K') \n",
    "#df_old = df[df.toAnalyze == -1]\n",
    "#df_old = df_old.drop([\"toAnalyze\"], axis=1)\n",
    "\n",
    "df = df[df.toAnalyze >= 0]\n",
    "df = df.reset_index()\n",
    "df = df.drop([\"index\", \"toAnalyze\"], axis=1)\n"
   ]
  },
  {
   "cell_type": "code",
   "execution_count": null,
   "metadata": {},
   "outputs": [],
   "source": [
    "\n"
   ]
  },
  {
   "cell_type": "code",
   "execution_count": 5,
   "metadata": {},
   "outputs": [],
   "source": [
    "df_tagged = pd.DataFrame()\n",
    "\n",
    "df_tagged_lyrics = pd.DataFrame()"
   ]
  },
  {
   "cell_type": "code",
   "execution_count": null,
   "metadata": {},
   "outputs": [],
   "source": []
  },
  {
   "cell_type": "code",
   "execution_count": 6,
   "metadata": {},
   "outputs": [],
   "source": [
    "songs = df[\"Song\"]\n",
    "lyrics = df[\"Lyrics\"]\n",
    "\n",
    "for index, song in enumerate(songs):\n",
    "    tagged = json.loads(n.tag(song))\n",
    "    df_tagged = df_tagged.append(tagged, ignore_index=True)\n",
    "    \n",
    "    text = lyrics[index]\n",
    "    tagged_text = json.loads(n.tag(text))\n",
    "    df_tagged_lyrics = df_tagged_lyrics.append(tagged_text, ignore_index=True)"
   ]
  },
  {
   "cell_type": "code",
   "execution_count": null,
   "metadata": {},
   "outputs": [],
   "source": []
  },
  {
   "cell_type": "code",
   "execution_count": null,
   "metadata": {},
   "outputs": [],
   "source": []
  },
  {
   "cell_type": "code",
   "execution_count": 8,
   "metadata": {},
   "outputs": [],
   "source": [
    "column_names = [\"Artist\", \"Song\", \"Song_ID\", \"Surface\", \"Tags\", \"Lemma\", \"Entity\"]\n",
    "output_data = pd.DataFrame(columns = column_names)\n",
    "\n",
    "for index, row in df.iterrows():\n",
    "    for counter, word in enumerate(df_tagged[\"tokens\"][index][\"token\"]):\n",
    "        new_entry = pd.DataFrame([[\n",
    "        row[\"Artist\"],\n",
    "        row[\"Song\"],\n",
    "        row[\"Song_ID\"],\n",
    "        word[\"text\"],\n",
    "        df_tagged[\"POStags\"][index][\"tag\"][counter][\"text\"],\n",
    "        df_tagged[\"lemmas\"][index][\"lemma\"][counter][\"text\"],\n",
    "        df_tagged[\"namedEntities\"][index][\"entity\"][counter][\"value\"]]], \n",
    "        columns = column_names)\n",
    "\n",
    "        output_data = output_data.append(new_entry, ignore_index=True)\n"
   ]
  },
  {
   "cell_type": "code",
   "execution_count": null,
   "metadata": {},
   "outputs": [],
   "source": []
  },
  {
   "cell_type": "code",
   "execution_count": 10,
   "metadata": {},
   "outputs": [],
   "source": [
    "column_names = [\"Artist\", \"Song\", \"Song_ID\", \"Surface\", \"Tags\", \"Lemma\", \"Entity\"]\n",
    "output_data_lyrics = pd.DataFrame(columns = column_names)\n",
    "\n",
    "for index, row in df.iterrows():\n",
    "    for counter, word in enumerate(df_tagged_lyrics[\"tokens\"][index][\"token\"]):\n",
    "        new_entry = pd.DataFrame([[\n",
    "        row[\"Artist\"],\n",
    "        row[\"Song\"],\n",
    "        row[\"Song_ID\"],\n",
    "        word[\"text\"],\n",
    "        df_tagged_lyrics[\"POStags\"][index][\"tag\"][counter][\"text\"],\n",
    "        df_tagged_lyrics[\"lemmas\"][index][\"lemma\"][counter][\"text\"],\n",
    "        df_tagged_lyrics[\"namedEntities\"][index][\"entity\"][counter][\"value\"]]], \n",
    "        columns = column_names)\n",
    "\n",
    "        output_data_lyrics = output_data_lyrics.append(new_entry, ignore_index=True)"
   ]
  },
  {
   "cell_type": "code",
   "execution_count": null,
   "metadata": {},
   "outputs": [],
   "source": [
    "#append to existing data\n",
    "\n",
    "output_data.to_csv('titles.csv', index=False, encoding='utf-8', mode='a', header=False)\n",
    "output_data_lyrics.to_csv('lyrics.csv', index=False, encoding='utf-8', mode='a', header=False)"
   ]
  },
  {
   "cell_type": "code",
   "execution_count": null,
   "metadata": {},
   "outputs": [],
   "source": []
  },
  {
   "cell_type": "code",
   "execution_count": null,
   "metadata": {},
   "outputs": [],
   "source": []
  },
  {
   "cell_type": "code",
   "execution_count": 12,
   "metadata": {},
   "outputs": [],
   "source": []
  },
  {
   "cell_type": "code",
   "execution_count": null,
   "metadata": {},
   "outputs": [],
   "source": []
  },
  {
   "cell_type": "code",
   "execution_count": null,
   "metadata": {},
   "outputs": [],
   "source": []
  },
  {
   "cell_type": "code",
   "execution_count": null,
   "metadata": {},
   "outputs": [],
   "source": []
  },
  {
   "cell_type": "code",
   "execution_count": null,
   "metadata": {},
   "outputs": [],
   "source": []
  },
  {
   "cell_type": "code",
   "execution_count": null,
   "metadata": {},
   "outputs": [],
   "source": []
  },
  {
   "cell_type": "code",
   "execution_count": null,
   "metadata": {},
   "outputs": [],
   "source": []
  },
  {
   "cell_type": "code",
   "execution_count": null,
   "metadata": {},
   "outputs": [],
   "source": []
  },
  {
   "cell_type": "code",
   "execution_count": null,
   "metadata": {},
   "outputs": [],
   "source": [
    "\n",
    "\n",
    "\n"
   ]
  },
  {
   "cell_type": "code",
   "execution_count": null,
   "metadata": {},
   "outputs": [],
   "source": []
  },
  {
   "cell_type": "code",
   "execution_count": null,
   "metadata": {},
   "outputs": [],
   "source": []
  }
 ],
 "metadata": {
  "interpreter": {
   "hash": "5c3b02fa24688d32a1d09351b7f8eac82a87272ad081601c73caead00a8e1fc4"
  },
  "kernelspec": {
   "display_name": "Python 2",
   "language": "python",
   "name": "python3"
  },
  "language_info": {
   "codemirror_mode": {
    "name": "ipython",
    "version": 2
   },
   "file_extension": ".py",
   "mimetype": "text/x-python",
   "name": "python",
   "nbconvert_exporter": "python",
   "pygments_lexer": "ipython2",
   "version": "2.7.18"
  }
 },
 "nbformat": 4,
 "nbformat_minor": 4
}
