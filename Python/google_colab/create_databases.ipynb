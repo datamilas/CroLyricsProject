{
  "cells": [
    {
      "cell_type": "markdown",
      "metadata": {
        "colab_type": "text",
        "id": "view-in-github"
      },
      "source": [
        "<a href=\"https://colab.research.google.com/github/datamilas/CroLyricsProject/blob/master/Python/google_colab/create_databases.ipynb\" target=\"_parent\"><img src=\"https://colab.research.google.com/assets/colab-badge.svg\" alt=\"Open In Colab\"/></a>"
      ]
    },
    {
      "cell_type": "code",
      "execution_count": 1,
      "metadata": {
        "id": "15erapv610Ub"
      },
      "outputs": [],
      "source": [
        "import pandas as pd\n",
        "import sqlite3\n",
        "from os import path\n"
      ]
    },
    {
      "cell_type": "code",
      "execution_count": 15,
      "metadata": {
        "id": "8TCTCHba3yn6"
      },
      "outputs": [
        {
          "ename": "ModuleNotFoundError",
          "evalue": "No module named 'google.colab'",
          "output_type": "error",
          "traceback": [
            "\u001b[1;31m---------------------------------------------------------------------------\u001b[0m",
            "\u001b[1;31mModuleNotFoundError\u001b[0m                       Traceback (most recent call last)",
            "\u001b[1;32m<ipython-input-15-4996ee3d8d09>\u001b[0m in \u001b[0;36m<module>\u001b[1;34m\u001b[0m\n\u001b[1;32m----> 1\u001b[1;33m \u001b[1;32mfrom\u001b[0m \u001b[0mgoogle\u001b[0m\u001b[1;33m.\u001b[0m\u001b[0mcolab\u001b[0m \u001b[1;32mimport\u001b[0m \u001b[0mdrive\u001b[0m\u001b[1;33m\u001b[0m\u001b[1;33m\u001b[0m\u001b[0m\n\u001b[0m\u001b[0;32m      2\u001b[0m \u001b[0mdrive\u001b[0m\u001b[1;33m.\u001b[0m\u001b[0mmount\u001b[0m\u001b[1;33m(\u001b[0m\u001b[1;34m'/content/gdrive'\u001b[0m\u001b[1;33m)\u001b[0m\u001b[1;33m\u001b[0m\u001b[1;33m\u001b[0m\u001b[0m\n",
            "\u001b[1;31mModuleNotFoundError\u001b[0m: No module named 'google.colab'"
          ]
        }
      ],
      "source": [
        "from google.colab import drive\n",
        "drive.mount('/content/gdrive')\n"
      ]
    },
    {
      "cell_type": "code",
      "execution_count": 16,
      "metadata": {
        "id": "VUmfP0JC2wsi"
      },
      "outputs": [
        {
          "data": {
            "text/plain": [
              "<sqlite3.Cursor at 0x35fd4a5490>"
            ]
          },
          "execution_count": 16,
          "metadata": {},
          "output_type": "execute_result"
        }
      ],
      "source": [
        "##create info db\n",
        "conn = sqlite3.connect('info.db')\n",
        "c = conn.cursor()\n",
        "c.execute(\"\"\"CREATE TABLE artists (\n",
        "            code text,\n",
        "            name text\n",
        "            )\"\"\")\n",
        "\n",
        "c.execute(\"\"\"CREATE TABLE songs_info (\n",
        "            code text,\n",
        "            name text,\n",
        "            artist_code text,\n",
        "            artist_name text,\n",
        "            views integer,\n",
        "            lyrics_by text,\n",
        "            music_by text,\n",
        "            year integer,\n",
        "            album text,\n",
        "            duration text,\n",
        "            url text,\n",
        "            url_markdown text\n",
        "            )\"\"\")\n"
      ]
    },
    {
      "cell_type": "code",
      "execution_count": null,
      "metadata": {
        "id": "OI16VPYNCdgC"
      },
      "outputs": [],
      "source": []
    },
    {
      "cell_type": "code",
      "execution_count": 10,
      "metadata": {
        "id": "JVe0DIpv3UJd"
      },
      "outputs": [],
      "source": [
        "def insert_artist(artist_code, artist_name):\n",
        "    with conn:\n",
        "        c.execute(\"INSERT INTO artists VALUES (:code, :name)\", {'code': artist_code, 'name': artist_name})\n",
        "\n",
        "def insert_song_info(song_code, song_name, artist_code, artist_name, views, lyrics_by, music_by, year, album, duration, url, url_markdown):\n",
        "    with conn:\n",
        "        c.execute(\"INSERT INTO songs_info VALUES (:code, :name, :artist_code, :artist_name, :views, :lyrics_by, :music_by, :year, :album, :duration, :url, :url_markdown)\", \n",
        "                  {'code': song_code, 'name': song_name, 'artist_code': artist_code, 'artist_name': artist_name, 'views': views, 'lyrics_by': lyrics_by, 'music_by': music_by, 'year': year, 'album': album, 'duration': duration, 'url': url, 'url_markdown': url_markdown})"
      ]
    },
    {
      "cell_type": "code",
      "execution_count": 11,
      "metadata": {
        "id": "Fy5aalEg3on0"
      },
      "outputs": [],
      "source": [
        "#df_info = pd.read_csv(f\"/content/gdrive/My Drive/CroLyrics_data/info_for_scraping.csv\")\n",
        "df_info = pd.read_csv(f\"../CroLyrics_data/info_for_scraping.csv\")"
      ]
    },
    {
      "cell_type": "code",
      "execution_count": 17,
      "metadata": {
        "id": "8E7J0x2u36gA"
      },
      "outputs": [],
      "source": [
        "for artist_name in df_info.artist_name:\n",
        "  #file_path = f\"/content/gdrive/My Drive/CroLyrics_data/{artist_name}_clean_info.csv\"\n",
        "  file_path = f\"../CroLyrics_data/{artist_name}_clean_info.csv\"\n",
        "  \n",
        "  if ~path.exists(file_path) and artist_name == \"Maja Šuput & EnJoy\":\n",
        "    df =pd.read_csv(f\"../CroLyrics_data/Maja Šuput _ EnJoy_clean_info.csv\")\n",
        "  else:\n",
        "    df = pd.read_csv(file_path)\n",
        "  \n",
        "  artist_code = df.Song_ID[0].split(\"_\")[0]\n",
        "  insert_artist(artist_code, artist_name)\n",
        "\n",
        "  for row in df.iterrows():\n",
        "    info = row[1]\n",
        "    insert_song_info(info.Song_ID, info.Song, artist_code, artist_name, info.Views, info.Lyrics_by, info.Music_by, info.Year, info.Album, info.Song_duration_discogs, info.Url, f\"[{info.Url}]({info.Url})\")\n",
        " \n",
        "conn.close()     "
      ]
    },
    {
      "cell_type": "code",
      "execution_count": null,
      "metadata": {},
      "outputs": [],
      "source": []
    },
    {
      "cell_type": "code",
      "execution_count": null,
      "metadata": {
        "colab": {
          "base_uri": "https://localhost:8080/",
          "height": 338
        },
        "id": "rNa-fIHfCM9j",
        "outputId": "6b8f3c8c-b427-4261-f863-7eb3208a9657"
      },
      "outputs": [
        {
          "ename": "AttributeError",
          "evalue": "ignored",
          "output_type": "error",
          "traceback": [
            "\u001b[0;31m---------------------------------------------------------------------------\u001b[0m",
            "\u001b[0;31mAttributeError\u001b[0m                            Traceback (most recent call last)",
            "\u001b[0;32m<ipython-input-15-e254b78fca55>\u001b[0m in \u001b[0;36m<module>\u001b[0;34m()\u001b[0m\n\u001b[1;32m     12\u001b[0m     \u001b[0mdf\u001b[0m\u001b[0;34m[\u001b[0m\u001b[0;34m\"lemma\"\u001b[0m\u001b[0;34m]\u001b[0m \u001b[0;34m=\u001b[0m \u001b[0mdf\u001b[0m\u001b[0;34m.\u001b[0m\u001b[0mlemma\u001b[0m\u001b[0;34m.\u001b[0m\u001b[0mastype\u001b[0m\u001b[0;34m(\u001b[0m\u001b[0mstr\u001b[0m\u001b[0;34m)\u001b[0m\u001b[0;34m\u001b[0m\u001b[0;34m\u001b[0m\u001b[0m\n\u001b[1;32m     13\u001b[0m \u001b[0;34m\u001b[0m\u001b[0m\n\u001b[0;32m---> 14\u001b[0;31m \u001b[0mdf\u001b[0m\u001b[0;34m.\u001b[0m\u001b[0mlyrics\u001b[0m\u001b[0;34m.\u001b[0m\u001b[0mto_csv\u001b[0m\u001b[0;34m(\u001b[0m\u001b[0;34mf\"/content/gdrive/My Drive/CroLyrics_data/final_lyrics_all.csv\"\u001b[0m\u001b[0;34m,\u001b[0m \u001b[0mindex\u001b[0m\u001b[0;34m=\u001b[0m\u001b[0;32mFalse\u001b[0m\u001b[0;34m)\u001b[0m\u001b[0;34m\u001b[0m\u001b[0;34m\u001b[0m\u001b[0m\n\u001b[0m\u001b[1;32m     15\u001b[0m \u001b[0mdf\u001b[0m\u001b[0;34m.\u001b[0m\u001b[0mto_csv\u001b[0m\u001b[0;34m(\u001b[0m\u001b[0;34mf\"/content/gdrive/My Drive/CroLyrics_data/nlp_all.csv\"\u001b[0m\u001b[0;34m,\u001b[0m \u001b[0mindex\u001b[0m\u001b[0;34m=\u001b[0m\u001b[0;32mFalse\u001b[0m\u001b[0;34m)\u001b[0m\u001b[0;34m\u001b[0m\u001b[0;34m\u001b[0m\u001b[0m\n",
            "\u001b[0;32m/usr/local/lib/python3.7/dist-packages/pandas/core/generic.py\u001b[0m in \u001b[0;36m__getattr__\u001b[0;34m(self, name)\u001b[0m\n\u001b[1;32m   5485\u001b[0m         ):\n\u001b[1;32m   5486\u001b[0m             \u001b[0;32mreturn\u001b[0m \u001b[0mself\u001b[0m\u001b[0;34m[\u001b[0m\u001b[0mname\u001b[0m\u001b[0;34m]\u001b[0m\u001b[0;34m\u001b[0m\u001b[0;34m\u001b[0m\u001b[0m\n\u001b[0;32m-> 5487\u001b[0;31m         \u001b[0;32mreturn\u001b[0m \u001b[0mobject\u001b[0m\u001b[0;34m.\u001b[0m\u001b[0m__getattribute__\u001b[0m\u001b[0;34m(\u001b[0m\u001b[0mself\u001b[0m\u001b[0;34m,\u001b[0m \u001b[0mname\u001b[0m\u001b[0;34m)\u001b[0m\u001b[0;34m\u001b[0m\u001b[0;34m\u001b[0m\u001b[0m\n\u001b[0m\u001b[1;32m   5488\u001b[0m \u001b[0;34m\u001b[0m\u001b[0m\n\u001b[1;32m   5489\u001b[0m     \u001b[0;32mdef\u001b[0m \u001b[0m__setattr__\u001b[0m\u001b[0;34m(\u001b[0m\u001b[0mself\u001b[0m\u001b[0;34m,\u001b[0m \u001b[0mname\u001b[0m\u001b[0;34m:\u001b[0m \u001b[0mstr\u001b[0m\u001b[0;34m,\u001b[0m \u001b[0mvalue\u001b[0m\u001b[0;34m)\u001b[0m \u001b[0;34m->\u001b[0m \u001b[0;32mNone\u001b[0m\u001b[0;34m:\u001b[0m\u001b[0;34m\u001b[0m\u001b[0;34m\u001b[0m\u001b[0m\n",
            "\u001b[0;31mAttributeError\u001b[0m: 'DataFrame' object has no attribute 'lyrics'"
          ]
        }
      ],
      "source": [
        "df = pd.DataFrame()\n",
        "df_lyrics = pd.DataFrame()\n",
        "\n",
        "for artist_name in df_info.artist_name:\n",
        "  nlp_file_path = f\"/content/gdrive/My Drive/CroLyrics_data/{artist_name}_nlp.csv\"\n",
        "  if path.exists(nlp_file_path):\n",
        "    df_nlp = pd.read_csv(nlp_file_path)\n",
        "    \n",
        "    df_lyrics = df_lyrics.append(pd.read_csv(f\"/content/gdrive/My Drive/CroLyrics_data/{artist_name}_final_lyrics.csv\"))\n",
        "    df = df.append(df_nlp)\n",
        "    df = df[df[\"lemma\"] != \"´\"].reset_index(drop=True)\n",
        "    df[\"lemma\"] = df.lemma.astype(str)\n",
        "\n",
        "df_lyrics.to_csv(f\"/content/gdrive/My Drive/CroLyrics_data/final_lyrics_all.csv\", index=False)\n",
        "df.to_csv(f\"/content/gdrive/My Drive/CroLyrics_data/nlp_all.csv\", index=False)"
      ]
    },
    {
      "cell_type": "code",
      "execution_count": null,
      "metadata": {
        "id": "2S-S4Gd_E7mQ"
      },
      "outputs": [],
      "source": []
    },
    {
      "cell_type": "code",
      "execution_count": null,
      "metadata": {
        "id": "Wgxis16uEoQn"
      },
      "outputs": [],
      "source": [
        "df_embedded = pd.DataFrame()\n",
        "\n",
        "for artist_name in df_info.artist_name:\n",
        "  file_path = f\"/content/gdrive/My Drive/CroLyrics_data/{artist_name}_final_lyrics_embedded.csv\"\n",
        "  if path.exists(file_path):\n",
        "    df_embedded = df_embedded.append(pd.read_csv(file_path))\n",
        "\n",
        "df_embedded.to_csv(f\"/content/gdrive/My Drive/CroLyrics_data/embedded_all.csv\", index=False)"
      ]
    },
    {
      "cell_type": "code",
      "execution_count": null,
      "metadata": {
        "id": "pOGHNm4EEpgO"
      },
      "outputs": [],
      "source": []
    },
    {
      "cell_type": "code",
      "execution_count": null,
      "metadata": {
        "id": "fLvnjXf13wlb"
      },
      "outputs": [],
      "source": [
        "def get_artist_code(artist_name):\n",
        "    conn = sqlite3.connect('info.db')\n",
        "    c = conn.cursor()\n",
        "    c.execute(\"SELECT code FROM artists WHERE name=:name\", {'name': artist_name})\n",
        "    return c.fetchone()\n",
        "\n",
        "\n",
        "def get_artist_name(artist_code):\n",
        "    conn = sqlite3.connect('info.db')\n",
        "    c = conn.cursor()\n",
        "    c.execute(\"SELECT name FROM artists WHERE code=:code\", {'code': artist_code})\n",
        "    return c.fetchone()"
      ]
    },
    {
      "cell_type": "code",
      "execution_count": null,
      "metadata": {
        "id": "Uhzn9kvU5pvS"
      },
      "outputs": [],
      "source": [
        "\n",
        "c.execute(\"SELECT * FROM artists\")\n",
        "c.fetchall()"
      ]
    }
  ],
  "metadata": {
    "colab": {
      "authorship_tag": "ABX9TyPh1AEqwqP6UM2QzmEYqMxb",
      "include_colab_link": true,
      "name": "create_databases.ipynb",
      "provenance": []
    },
    "kernelspec": {
      "display_name": "Python 3",
      "name": "python3"
    },
    "language_info": {
      "codemirror_mode": {
        "name": "ipython",
        "version": 3
      },
      "file_extension": ".py",
      "mimetype": "text/x-python",
      "name": "python",
      "nbconvert_exporter": "python",
      "pygments_lexer": "ipython3",
      "version": "3.8.1"
    }
  },
  "nbformat": 4,
  "nbformat_minor": 0
}
