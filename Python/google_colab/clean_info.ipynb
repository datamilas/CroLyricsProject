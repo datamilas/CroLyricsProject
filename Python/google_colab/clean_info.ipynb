{
  "cells": [
    {
      "cell_type": "markdown",
      "metadata": {
        "colab_type": "text",
        "id": "view-in-github"
      },
      "source": [
        "<a href=\"https://colab.research.google.com/github/datamilas/CroLyricsProject/blob/master/Python/google_colab/clean_info.ipynb\" target=\"_parent\"><img src=\"https://colab.research.google.com/assets/colab-badge.svg\" alt=\"Open In Colab\"/></a>"
      ]
    },
    {
      "cell_type": "code",
      "execution_count": 1,
      "metadata": {
        "id": "X_6tLpceriNx"
      },
      "outputs": [],
      "source": [
        "import pandas as pd\n",
        "from os import path\n",
        "import numpy as np"
      ]
    },
    {
      "cell_type": "code",
      "execution_count": null,
      "metadata": {
        "id": "i6uoWLiIrukW"
      },
      "outputs": [],
      "source": []
    },
    {
      "cell_type": "code",
      "execution_count": 2,
      "metadata": {
        "colab": {
          "base_uri": "https://localhost:8080/"
        },
        "id": "FTD6QtIvruqd",
        "outputId": "a432d453-a79f-423b-f64c-0ca545429077"
      },
      "outputs": [
        {
          "name": "stdout",
          "output_type": "stream",
          "text": [
            "Mounted at /content/gdrive\n"
          ]
        }
      ],
      "source": [
        "from google.colab import drive\n",
        "drive.mount('/content/gdrive')"
      ]
    },
    {
      "cell_type": "code",
      "execution_count": null,
      "metadata": {
        "id": "oMOBwAOspY2H"
      },
      "outputs": [],
      "source": []
    },
    {
      "cell_type": "code",
      "execution_count": 3,
      "metadata": {
        "id": "UX5W-mwx1oFI"
      },
      "outputs": [],
      "source": [
        "def clean_data(df):\n",
        "  clean_df = pd.DataFrame()\n",
        "  clean_df[\"Song_ID\"] = df[\"Song_ID\"]\n",
        "  clean_df[\"Artist\"] = df[\"Artist\"]\n",
        "  clean_df[\"Song\"] = df.Song_lyricstranslate.fillna(df.Song_cuspajz).fillna(df.Song_tekstovinet)\n",
        "  clean_df[\"Url\"] = df.Url_lyricstranslate.fillna(df.Url_cuspajz).fillna(df.Url_tekstovinet)\n",
        "  clean_df[\"Views\"] = df.Views_tekstovinet\n",
        "\n",
        "  if not \"Stihovi_diskografija\" in df.columns: df[\"Stihovi_diskografija\"] = np.nan\n",
        "  else: df.Stihovi_diskografija = df.Stihovi_diskografija.str.replace(\"'\", \"\")\n",
        "  if (~df.Writer_lyricstranslate.isnull()).sum()>0: df.Writer_lyricstranslate = \"[\" + df.Writer_lyricstranslate + \"]\"\n",
        "  if not \"Lyrics By_discogs\" in df.columns: df[\"Lyrics By_discogs\"] = np.nan\n",
        "  if (~df[\"Lyrics By_discogs\"].isnull()).sum()>0: df[\"Lyrics By_discogs\"] = \"[\" + df[\"Lyrics By_discogs\"] + \"]\"\n",
        "  clean_df[\"Lyrics_by\"] = df.Stihovi_diskografija.fillna(df['Lyrics By_discogs']).fillna(df.Writer_lyricstranslate)\n",
        "\n",
        "  if not \"Skladba_diskografija\" in df.columns: df[\"Skladba_diskografija\"] = np.nan\n",
        "  else: df.Skladba_diskografija = df.Skladba_diskografija.str.replace(\"'\", \"\")\n",
        "  if not \"Music By_discogs\" in df.columns: df[\"Music By_discogs\"] = np.nan\n",
        "  if (~df[\"Music By_discogs\"].isnull()).sum()>0: df[\"Music By_discogs\"] = \"[\" + df[\"Music By_discogs\"] + \"]\"\n",
        "  clean_df[\"Music_by\"] = df.Skladba_diskografija.fillna(df['Music By_discogs'])\n",
        "\n",
        "  if not \"Album_1_diskografija\" in df.columns:\n",
        "    clean_df[\"Year\"] = np.nan\n",
        "    clean_df[\"Album\"] = np.nan\n",
        "  else: \n",
        "    df[[\"year_diskografija\", \"album_diskografija\"]] = df.Album_1_diskografija.str.split(\" - \", expand=True, n=1)\n",
        "    clean_df[\"Year\"] = df.year_diskografija.fillna(df.Album_year_discogs)\n",
        "    clean_df[\"Album\"] = df.album_diskografija.fillna(df.Album_title_discogs).fillna(df.Album_lyricstranslate)\n",
        "  clean_df[\"Song_duration_discogs\"] = df[\"Song_duration_discogs\"]\n",
        "\n",
        "  return clean_df\n"
      ]
    },
    {
      "cell_type": "code",
      "execution_count": 4,
      "metadata": {
        "id": "gGFLPpmerrWP"
      },
      "outputs": [],
      "source": [
        "df_info = pd.read_csv(f\"/content/gdrive/My Drive/CroLyrics_data/info_for_scraping.csv\")"
      ]
    },
    {
      "cell_type": "code",
      "execution_count": null,
      "metadata": {
        "colab": {
          "base_uri": "https://localhost:8080/"
        },
        "id": "7FkTo2Wp4YJA",
        "outputId": "366a0381-d224-4cb6-8a91-c4956fb74f28"
      },
      "outputs": [
        {
          "data": {
            "text/plain": [
              "0"
            ]
          },
          "execution_count": 139,
          "metadata": {},
          "output_type": "execute_result"
        }
      ],
      "source": []
    },
    {
      "cell_type": "code",
      "execution_count": 5,
      "metadata": {
        "id": "rvQG_niesApV"
      },
      "outputs": [],
      "source": [
        "for artist_name in df_info.artist_name:\n",
        "  path_info = f'/content/gdrive/MyDrive/CroLyrics_data/{artist_name}_final.csv'\n",
        "  \n",
        "  if path.exists(path_info):\n",
        "    df = pd.read_csv(path_info)\n",
        "   \n",
        "    clean_df = clean_data(df)\n",
        "    clean_df.to_csv(f\"/content/gdrive/My Drive/CroLyrics_data/{artist_name}_clean_info.csv\", index=False)"
      ]
    },
    {
      "cell_type": "code",
      "execution_count": null,
      "metadata": {
        "colab": {
          "base_uri": "https://localhost:8080/"
        },
        "id": "zJRD73bkswR-",
        "outputId": "f2636754-d6a4-46cc-b5e2-71ed6f84ef0e"
      },
      "outputs": [
        {
          "data": {
            "text/plain": [
              "0.449438202247191"
            ]
          },
          "execution_count": 180,
          "metadata": {},
          "output_type": "execute_result"
        }
      ],
      "source": [
        "clean_df.Lyrics_by.isnull().sum()/len(clean_df)"
      ]
    },
    {
      "cell_type": "code",
      "execution_count": null,
      "metadata": {
        "id": "57XbRuxyyc1s"
      },
      "outputs": [],
      "source": []
    }
  ],
  "metadata": {
    "colab": {
      "authorship_tag": "ABX9TyPJuvGsj1fstZhqNbxDKlDN",
      "collapsed_sections": [],
      "include_colab_link": true,
      "name": "clean_info.ipynb",
      "provenance": []
    },
    "kernelspec": {
      "display_name": "Python 3",
      "name": "python3"
    },
    "language_info": {
      "name": "python"
    }
  },
  "nbformat": 4,
  "nbformat_minor": 0
}
