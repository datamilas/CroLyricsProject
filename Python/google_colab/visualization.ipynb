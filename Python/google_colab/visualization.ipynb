{
  "nbformat": 4,
  "nbformat_minor": 0,
  "metadata": {
    "colab": {
      "name": "visualization.ipynb",
      "provenance": [],
      "collapsed_sections": [],
      "authorship_tag": "ABX9TyOoNZ4Y5WtAnN2+IzaKPWqa",
      "include_colab_link": true
    },
    "kernelspec": {
      "name": "python3",
      "display_name": "Python 3"
    },
    "language_info": {
      "name": "python"
    }
  },
  "cells": [
    {
      "cell_type": "markdown",
      "metadata": {
        "id": "view-in-github",
        "colab_type": "text"
      },
      "source": [
        "<a href=\"https://colab.research.google.com/github/datamilas/CroLyricsProject/blob/master/Python/google_colab/visualization.ipynb\" target=\"_parent\"><img src=\"https://colab.research.google.com/assets/colab-badge.svg\" alt=\"Open In Colab\"/></a>"
      ]
    },
    {
      "cell_type": "code",
      "execution_count": 36,
      "metadata": {
        "id": "AsArz8UNr2J3"
      },
      "outputs": [],
      "source": [
        "import pandas as pd\n",
        "from os import path\n",
        "import numpy as np\n",
        "import matplotlib.pyplot as plt\n",
        "import sqlite3\n"
      ]
    },
    {
      "cell_type": "code",
      "source": [
        "def get_artist_code(artist_name):\n",
        "    conn = sqlite3.connect('/content/gdrive/My Drive/CroLyrics_data/info.db')\n",
        "    c = conn.cursor()\n",
        "    c.execute(\"SELECT code FROM artists WHERE name=:name\", {'name': artist_name})\n",
        "    return c.fetchone()\n",
        "\n",
        "\n",
        "def get_artist_name(artist_code):\n",
        "    conn = sqlite3.connect('/content/gdrive/My Drive/CroLyrics_data/info.db')\n",
        "    c = conn.cursor()\n",
        "    c.execute(\"SELECT name FROM artists WHERE code=:code\", {'code': artist_code})\n",
        "    return c.fetchone()"
      ],
      "metadata": {
        "id": "JgvU79oKwXL5"
      },
      "execution_count": 179,
      "outputs": []
    },
    {
      "cell_type": "code",
      "source": [
        "from google.colab import drive\n",
        "drive.mount('/content/gdrive')\n"
      ],
      "metadata": {
        "colab": {
          "base_uri": "https://localhost:8080/"
        },
        "id": "9x6IUP1Or-Vy",
        "outputId": "326cdda0-4bb0-4863-a5bb-709f7958e1a6"
      },
      "execution_count": 2,
      "outputs": [
        {
          "output_type": "stream",
          "name": "stdout",
          "text": [
            "Mounted at /content/gdrive\n"
          ]
        }
      ]
    },
    {
      "cell_type": "code",
      "source": [
        "nlp_file_path = f\"/content/gdrive/My Drive/CroLyrics_data/nlp_all.csv\""
      ],
      "metadata": {
        "id": "s214GsM-sCK5"
      },
      "execution_count": 184,
      "outputs": []
    },
    {
      "cell_type": "code",
      "source": [
        "df = pd.read_csv(nlp_file_path)"
      ],
      "metadata": {
        "id": "R0CCOB71sNCz"
      },
      "execution_count": 185,
      "outputs": []
    },
    {
      "cell_type": "code",
      "source": [
        "df_unique_lemmas = df.drop_duplicates(subset=[\"lemma\", \"Song_ID\"]).reset_index(drop=False)\n",
        "\n",
        "locations = df_unique_lemmas[(df_unique_lemmas[\"ner\"].isin([\"B-LOC\", \"I-LOC\"])) & (df_unique_lemmas[\"upos\"]==\"PROPN\")][\"lemma\"]#.value_counts()\n",
        "names = df_unique_lemmas[(df_unique_lemmas[\"ner\"].isin([\"B-PER\", \"I-PER\"])) & (df_unique_lemmas[\"upos\"]==\"PROPN\")][\"lemma\"]#.value_counts()\n",
        "organizations = df_unique_lemmas[(df_unique_lemmas[\"ner\"].isin([\"B-ORG\", \"I-ORG\"])) & (df_unique_lemmas[\"upos\"]==\"PROPN\")][\"lemma\"]#.value_counts()\n",
        "nouns = df_unique_lemmas[(df_unique_lemmas.upos==\"NOUN\")][\"lemma\"]#.value_counts()\n",
        "verbs = df_unique_lemmas[(df_unique_lemmas.upos==\"VERB\")][\"lemma\"]#.value_counts()\n",
        "adjectives = df_unique_lemmas[(df_unique_lemmas.upos==\"ADJ\")][\"lemma\"]#.value_counts()\n",
        "adverbs = df_unique_lemmas[(df_unique_lemmas.upos==\"ADV\")][\"lemma\"]#.value_counts()"
      ],
      "metadata": {
        "id": "3O5ut1xysmsZ"
      },
      "execution_count": 207,
      "outputs": []
    },
    {
      "cell_type": "code",
      "source": [
        "locations.value_counts()[0:10]"
      ],
      "metadata": {
        "colab": {
          "base_uri": "https://localhost:8080/"
        },
        "id": "L1B0WRq3stA5",
        "outputId": "ce068203-e8e3-4b60-a927-a8a4ebfa1955"
      },
      "execution_count": 208,
      "outputs": [
        {
          "output_type": "execute_result",
          "data": {
            "text/plain": [
              "Hrvatska     39\n",
              "Zagreb       29\n",
              "Sava         29\n",
              "Jadran       23\n",
              "Dunav        23\n",
              "Slavonija    21\n",
              "Split        19\n",
              "Dalmacija    19\n",
              "Bosna        18\n",
              "Sarajevo     17\n",
              "Name: lemma, dtype: int64"
            ]
          },
          "metadata": {},
          "execution_count": 208
        }
      ]
    },
    {
      "cell_type": "code",
      "source": [
        "\n",
        "variable = 'locations'\n",
        "x = list(locations.value_counts()[0:10].index)\n",
        "y = list(locations.value_counts()[0:10].values)\n",
        "x.reverse()\n",
        "y.reverse()\n",
        "fig = plt.figure()    \n",
        "ax = ax = fig.add_axes([0, 0, 1, 1])\n",
        "\n",
        "width = 0.8 # the width of the bars \n",
        "ax.barh(x, y, width, color = \"lightgrey\")\n",
        "ax.xaxis.set_visible(False)\n",
        "ax.yaxis.set_visible(False)\n",
        "\n",
        "plt.title(f\"Most commoly mentioned {variable}\")\n",
        "for i, v in enumerate(y):\n",
        "    ax.text(v-1.5 , i -0.1, str(v), color='black')\n",
        "\n",
        "for bar, v in zip(ax.patches, x):\n",
        "    ax.text(1, bar.get_y()+bar.get_height()/2, v, color = 'black', ha = 'left', va = 'center') "
      ],
      "metadata": {
        "colab": {
          "base_uri": "https://localhost:8080/",
          "height": 338
        },
        "id": "tt7gsUoM6Uzm",
        "outputId": "d89b2674-65c9-4870-bc2e-187aef8bd85c"
      },
      "execution_count": 210,
      "outputs": [
        {
          "output_type": "display_data",
          "data": {
            "image/png": "[encoded data removed]",
            "text/plain": [
              "<Figure size 432x288 with 1 Axes>"
            ]
          },
          "metadata": {
            "needs_background": "light"
          }
        }
      ]
    },
    {
      "cell_type": "code",
      "source": [
        "from wordcloud import WordCloud\n",
        "import plotly as py\n",
        "import cufflinks as cf\n",
        "import seaborn as sns\n",
        "import plotly.express as px\n",
        "import plotly.graph_objects as go\n",
        "from plotly.subplots import make_subplots\n",
        "\n",
        "%matplotlib inline\n",
        "\n",
        "# Make Plotly work in your Jupyter Notebook\n",
        "from plotly.offline import download_plotlyjs, init_notebook_mode, plot, iplot\n",
        "init_notebook_mode(connected=True)\n",
        "# Use Plotly locally\n",
        "cf.go_offline()"
      ],
      "metadata": {
        "colab": {
          "base_uri": "https://localhost:8080/",
          "height": 17
        },
        "id": "5t3me22pLDc4",
        "outputId": "a56a3abe-4a32-4090-c8fd-561222c16e90"
      },
      "execution_count": 259,
      "outputs": [
        {
          "output_type": "display_data",
          "data": {
            "text/html": [
              "        <script type=\"text/javascript\">\n",
              "        window.PlotlyConfig = {MathJaxConfig: 'local'};\n",
              "        if (window.MathJax) {MathJax.Hub.Config({SVG: {font: \"STIX-Web\"}});}\n",
              "        if (typeof require !== 'undefined') {\n",
              "        require.undef(\"plotly\");\n",
              "        requirejs.config({\n",
              "            paths: {\n",
              "                'plotly': ['https://cdn.plot.ly/plotly-2.8.3.min']\n",
              "            }\n",
              "        });\n",
              "        require(['plotly'], function(Plotly) {\n",
              "            window._Plotly = Plotly;\n",
              "        });\n",
              "        }\n",
              "        </script>\n",
              "        "
            ]
          },
          "metadata": {}
        },
        {
          "output_type": "display_data",
          "data": {
            "text/html": [
              "        <script type=\"text/javascript\">\n",
              "        window.PlotlyConfig = {MathJaxConfig: 'local'};\n",
              "        if (window.MathJax) {MathJax.Hub.Config({SVG: {font: \"STIX-Web\"}});}\n",
              "        if (typeof require !== 'undefined') {\n",
              "        require.undef(\"plotly\");\n",
              "        requirejs.config({\n",
              "            paths: {\n",
              "                'plotly': ['https://cdn.plot.ly/plotly-2.8.3.min']\n",
              "            }\n",
              "        });\n",
              "        require(['plotly'], function(Plotly) {\n",
              "            window._Plotly = Plotly;\n",
              "        });\n",
              "        }\n",
              "        </script>\n",
              "        "
            ]
          },
          "metadata": {}
        }
      ]
    },
    {
      "cell_type": "code",
      "source": [
        "# Creating two subplots\n",
        "fig = make_subplots(rows=1, cols=2, specs=[[{}, {}]], shared_xaxes=True,\n",
        "                    shared_yaxes=False, vertical_spacing=0.001)"
      ],
      "metadata": {
        "id": "sdEYRORTSEId"
      },
      "execution_count": 280,
      "outputs": []
    },
    {
      "cell_type": "code",
      "source": [
        "locations = df_unique_lemmas[(df_unique_lemmas[\"ner\"].isin([\"B-LOC\", \"I-LOC\"])) & (df_unique_lemmas[\"upos\"]==\"PROPN\")]\n"
      ],
      "metadata": {
        "id": "m091t5qwXxpL"
      },
      "execution_count": 298,
      "outputs": []
    },
    {
      "cell_type": "code",
      "source": [
        "locations"
      ],
      "metadata": {
        "colab": {
          "base_uri": "https://localhost:8080/",
          "height": 487
        },
        "id": "aUNObUOWX3Rq",
        "outputId": "f0913dc4-935a-4ec6-b08a-05cb18ff5556"
      },
      "execution_count": 299,
      "outputs": [
        {
          "output_type": "execute_result",
          "data": {
            "text/html": [
              "\n",
              "  <div id=\"df-1faac927-34ee-4265-96a3-9b2e6913b9a7\">\n",
              "    <div class=\"colab-df-container\">\n",
              "      <div>\n",
              "<style scoped>\n",
              "    .dataframe tbody tr th:only-of-type {\n",
              "        vertical-align: middle;\n",
              "    }\n",
              "\n",
              "    .dataframe tbody tr th {\n",
              "        vertical-align: top;\n",
              "    }\n",
              "\n",
              "    .dataframe thead th {\n",
              "        text-align: right;\n",
              "    }\n",
              "</style>\n",
              "<table border=\"1\" class=\"dataframe\">\n",
              "  <thead>\n",
              "    <tr style=\"text-align: right;\">\n",
              "      <th></th>\n",
              "      <th>index</th>\n",
              "      <th>id</th>\n",
              "      <th>text</th>\n",
              "      <th>lemma</th>\n",
              "      <th>upos</th>\n",
              "      <th>xpos</th>\n",
              "      <th>feats</th>\n",
              "      <th>head</th>\n",
              "      <th>deprel</th>\n",
              "      <th>misc</th>\n",
              "      <th>...</th>\n",
              "      <th>Number[psor]</th>\n",
              "      <th>Poss</th>\n",
              "      <th>Definite</th>\n",
              "      <th>Polarity</th>\n",
              "      <th>Reflex</th>\n",
              "      <th>Voice</th>\n",
              "      <th>Foreign</th>\n",
              "      <th>NumType</th>\n",
              "      <th>Animacy</th>\n",
              "      <th>Gender[psor]</th>\n",
              "    </tr>\n",
              "  </thead>\n",
              "  <tbody>\n",
              "    <tr>\n",
              "      <th>381</th>\n",
              "      <td>826</td>\n",
              "      <td>7</td>\n",
              "      <td>Palace</td>\n",
              "      <td>Palace</td>\n",
              "      <td>PROPN</td>\n",
              "      <td>Npmsan</td>\n",
              "      <td>Animacy=Inan|Case=Acc|Gender=Masc|Number=Sing</td>\n",
              "      <td>3</td>\n",
              "      <td>nmod</td>\n",
              "      <td>NaN</td>\n",
              "      <td>...</td>\n",
              "      <td>NaN</td>\n",
              "      <td>NaN</td>\n",
              "      <td>NaN</td>\n",
              "      <td>NaN</td>\n",
              "      <td>NaN</td>\n",
              "      <td>NaN</td>\n",
              "      <td>NaN</td>\n",
              "      <td>NaN</td>\n",
              "      <td>Inan</td>\n",
              "      <td>NaN</td>\n",
              "    </tr>\n",
              "    <tr>\n",
              "      <th>383</th>\n",
              "      <td>828</td>\n",
              "      <td>9</td>\n",
              "      <td>Marjan</td>\n",
              "      <td>Marjan</td>\n",
              "      <td>PROPN</td>\n",
              "      <td>Npmsn</td>\n",
              "      <td>Case=Nom|Gender=Masc|Number=Sing</td>\n",
              "      <td>7</td>\n",
              "      <td>conj</td>\n",
              "      <td>SpaceAfter=No</td>\n",
              "      <td>...</td>\n",
              "      <td>NaN</td>\n",
              "      <td>NaN</td>\n",
              "      <td>NaN</td>\n",
              "      <td>NaN</td>\n",
              "      <td>NaN</td>\n",
              "      <td>NaN</td>\n",
              "      <td>NaN</td>\n",
              "      <td>NaN</td>\n",
              "      <td>NaN</td>\n",
              "      <td>NaN</td>\n",
              "    </tr>\n",
              "    <tr>\n",
              "      <th>390</th>\n",
              "      <td>839</td>\n",
              "      <td>20</td>\n",
              "      <td>Split</td>\n",
              "      <td>Split</td>\n",
              "      <td>PROPN</td>\n",
              "      <td>Npmsan</td>\n",
              "      <td>Animacy=Inan|Case=Acc|Gender=Masc|Number=Sing</td>\n",
              "      <td>21</td>\n",
              "      <td>obl</td>\n",
              "      <td>NaN</td>\n",
              "      <td>...</td>\n",
              "      <td>NaN</td>\n",
              "      <td>NaN</td>\n",
              "      <td>NaN</td>\n",
              "      <td>NaN</td>\n",
              "      <td>NaN</td>\n",
              "      <td>NaN</td>\n",
              "      <td>NaN</td>\n",
              "      <td>NaN</td>\n",
              "      <td>Inan</td>\n",
              "      <td>NaN</td>\n",
              "    </tr>\n",
              "    <tr>\n",
              "      <th>883</th>\n",
              "      <td>1919</td>\n",
              "      <td>23</td>\n",
              "      <td>Dalmaciju</td>\n",
              "      <td>Dalmacija</td>\n",
              "      <td>PROPN</td>\n",
              "      <td>Npfsa</td>\n",
              "      <td>Case=Acc|Gender=Fem|Number=Sing</td>\n",
              "      <td>24</td>\n",
              "      <td>obj</td>\n",
              "      <td>NaN</td>\n",
              "      <td>...</td>\n",
              "      <td>NaN</td>\n",
              "      <td>NaN</td>\n",
              "      <td>NaN</td>\n",
              "      <td>NaN</td>\n",
              "      <td>NaN</td>\n",
              "      <td>NaN</td>\n",
              "      <td>NaN</td>\n",
              "      <td>NaN</td>\n",
              "      <td>NaN</td>\n",
              "      <td>NaN</td>\n",
              "    </tr>\n",
              "    <tr>\n",
              "      <th>1048</th>\n",
              "      <td>2231</td>\n",
              "      <td>2</td>\n",
              "      <td>Dalmacijom</td>\n",
              "      <td>Dalmacija</td>\n",
              "      <td>PROPN</td>\n",
              "      <td>Npfsi</td>\n",
              "      <td>Case=Ins|Gender=Fem|Number=Sing</td>\n",
              "      <td>0</td>\n",
              "      <td>root</td>\n",
              "      <td>NaN</td>\n",
              "      <td>...</td>\n",
              "      <td>NaN</td>\n",
              "      <td>NaN</td>\n",
              "      <td>NaN</td>\n",
              "      <td>NaN</td>\n",
              "      <td>NaN</td>\n",
              "      <td>NaN</td>\n",
              "      <td>NaN</td>\n",
              "      <td>NaN</td>\n",
              "      <td>NaN</td>\n",
              "      <td>NaN</td>\n",
              "    </tr>\n",
              "    <tr>\n",
              "      <th>...</th>\n",
              "      <td>...</td>\n",
              "      <td>...</td>\n",
              "      <td>...</td>\n",
              "      <td>...</td>\n",
              "      <td>...</td>\n",
              "      <td>...</td>\n",
              "      <td>...</td>\n",
              "      <td>...</td>\n",
              "      <td>...</td>\n",
              "      <td>...</td>\n",
              "      <td>...</td>\n",
              "      <td>...</td>\n",
              "      <td>...</td>\n",
              "      <td>...</td>\n",
              "      <td>...</td>\n",
              "      <td>...</td>\n",
              "      <td>...</td>\n",
              "      <td>...</td>\n",
              "      <td>...</td>\n",
              "      <td>...</td>\n",
              "      <td>...</td>\n",
              "    </tr>\n",
              "    <tr>\n",
              "      <th>294076</th>\n",
              "      <td>669274</td>\n",
              "      <td>8</td>\n",
              "      <td>Nasica</td>\n",
              "      <td>Našice</td>\n",
              "      <td>PROPN</td>\n",
              "      <td>Npmsg</td>\n",
              "      <td>Case=Gen|Gender=Fem|Number=Sing</td>\n",
              "      <td>6</td>\n",
              "      <td>nmod</td>\n",
              "      <td>SpaceAfter=No</td>\n",
              "      <td>...</td>\n",
              "      <td>NaN</td>\n",
              "      <td>NaN</td>\n",
              "      <td>NaN</td>\n",
              "      <td>NaN</td>\n",
              "      <td>NaN</td>\n",
              "      <td>NaN</td>\n",
              "      <td>NaN</td>\n",
              "      <td>NaN</td>\n",
              "      <td>NaN</td>\n",
              "      <td>NaN</td>\n",
              "    </tr>\n",
              "    <tr>\n",
              "      <th>294281</th>\n",
              "      <td>669727</td>\n",
              "      <td>8</td>\n",
              "      <td>Anuska</td>\n",
              "      <td>Anuska</td>\n",
              "      <td>PROPN</td>\n",
              "      <td>Npfsn</td>\n",
              "      <td>Case=Nom|Gender=Fem|Number=Sing</td>\n",
              "      <td>6</td>\n",
              "      <td>nsubj</td>\n",
              "      <td>SpaceAfter=No</td>\n",
              "      <td>...</td>\n",
              "      <td>NaN</td>\n",
              "      <td>NaN</td>\n",
              "      <td>NaN</td>\n",
              "      <td>NaN</td>\n",
              "      <td>NaN</td>\n",
              "      <td>NaN</td>\n",
              "      <td>NaN</td>\n",
              "      <td>NaN</td>\n",
              "      <td>NaN</td>\n",
              "      <td>NaN</td>\n",
              "    </tr>\n",
              "    <tr>\n",
              "      <th>294468</th>\n",
              "      <td>670229</td>\n",
              "      <td>8</td>\n",
              "      <td>Sokca</td>\n",
              "      <td>Sokac</td>\n",
              "      <td>PROPN</td>\n",
              "      <td>Npmsl</td>\n",
              "      <td>Case=Loc|Gender=Masc|Number=Sing</td>\n",
              "      <td>10</td>\n",
              "      <td>orphan</td>\n",
              "      <td>NaN</td>\n",
              "      <td>...</td>\n",
              "      <td>NaN</td>\n",
              "      <td>NaN</td>\n",
              "      <td>NaN</td>\n",
              "      <td>NaN</td>\n",
              "      <td>NaN</td>\n",
              "      <td>NaN</td>\n",
              "      <td>NaN</td>\n",
              "      <td>NaN</td>\n",
              "      <td>NaN</td>\n",
              "      <td>NaN</td>\n",
              "    </tr>\n",
              "    <tr>\n",
              "      <th>294602</th>\n",
              "      <td>670503</td>\n",
              "      <td>1</td>\n",
              "      <td>Vukovar</td>\n",
              "      <td>Vukovar</td>\n",
              "      <td>PROPN</td>\n",
              "      <td>Npmsn</td>\n",
              "      <td>Case=Nom|Gender=Masc|Number=Sing</td>\n",
              "      <td>0</td>\n",
              "      <td>root</td>\n",
              "      <td>SpaceAfter=No</td>\n",
              "      <td>...</td>\n",
              "      <td>NaN</td>\n",
              "      <td>NaN</td>\n",
              "      <td>NaN</td>\n",
              "      <td>NaN</td>\n",
              "      <td>NaN</td>\n",
              "      <td>NaN</td>\n",
              "      <td>NaN</td>\n",
              "      <td>NaN</td>\n",
              "      <td>NaN</td>\n",
              "      <td>NaN</td>\n",
              "    </tr>\n",
              "    <tr>\n",
              "      <th>294711</th>\n",
              "      <td>670719</td>\n",
              "      <td>1</td>\n",
              "      <td>Zagreb</td>\n",
              "      <td>Zagreb</td>\n",
              "      <td>PROPN</td>\n",
              "      <td>Npmsn</td>\n",
              "      <td>Case=Nom|Gender=Masc|Number=Sing</td>\n",
              "      <td>9</td>\n",
              "      <td>nsubj</td>\n",
              "      <td>SpaceAfter=No</td>\n",
              "      <td>...</td>\n",
              "      <td>NaN</td>\n",
              "      <td>NaN</td>\n",
              "      <td>NaN</td>\n",
              "      <td>NaN</td>\n",
              "      <td>NaN</td>\n",
              "      <td>NaN</td>\n",
              "      <td>NaN</td>\n",
              "      <td>NaN</td>\n",
              "      <td>NaN</td>\n",
              "      <td>NaN</td>\n",
              "    </tr>\n",
              "  </tbody>\n",
              "</table>\n",
              "<p>878 rows × 32 columns</p>\n",
              "</div>\n",
              "      <button class=\"colab-df-convert\" onclick=\"convertToInteractive('df-1faac927-34ee-4265-96a3-9b2e6913b9a7')\"\n",
              "              title=\"Convert this dataframe to an interactive table.\"\n",
              "              style=\"display:none;\">\n",
              "        \n",
              "  <svg xmlns=\"http://www.w3.org/2000/svg\" height=\"24px\"viewBox=\"0 0 24 24\"\n",
              "       width=\"24px\">\n",
              "    <path d=\"M0 0h24v24H0V0z\" fill=\"none\"/>\n",
              "    <path d=\"M18.56 5.44l.94 2.06.94-2.06 2.06-.94-2.06-.94-.94-2.06-.94 2.06-2.06.94zm-11 1L8.5 8.5l.94-2.06 2.06-.94-2.06-.94L8.5 2.5l-.94 2.06-2.06.94zm10 10l.94 2.06.94-2.06 2.06-.94-2.06-.94-.94-2.06-.94 2.06-2.06.94z\"/><path d=\"M17.41 7.96l-1.37-1.37c-.4-.4-.92-.59-1.43-.59-.52 0-1.04.2-1.43.59L10.3 9.45l-7.72 7.72c-.78.78-.78 2.05 0 2.83L4 21.41c.39.39.9.59 1.41.59.51 0 1.02-.2 1.41-.59l7.78-7.78 2.81-2.81c.8-.78.8-2.07 0-2.86zM5.41 20L4 18.59l7.72-7.72 1.47 1.35L5.41 20z\"/>\n",
              "  </svg>\n",
              "      </button>\n",
              "      \n",
              "  <style>\n",
              "    .colab-df-container {\n",
              "      display:flex;\n",
              "      flex-wrap:wrap;\n",
              "      gap: 12px;\n",
              "    }\n",
              "\n",
              "    .colab-df-convert {\n",
              "      background-color: #E8F0FE;\n",
              "      border: none;\n",
              "      border-radius: 50%;\n",
              "      cursor: pointer;\n",
              "      display: none;\n",
              "      fill: #1967D2;\n",
              "      height: 32px;\n",
              "      padding: 0 0 0 0;\n",
              "      width: 32px;\n",
              "    }\n",
              "\n",
              "    .colab-df-convert:hover {\n",
              "      background-color: #E2EBFA;\n",
              "      box-shadow: 0px 1px 2px rgba(60, 64, 67, 0.3), 0px 1px 3px 1px rgba(60, 64, 67, 0.15);\n",
              "      fill: #174EA6;\n",
              "    }\n",
              "\n",
              "    [theme=dark] .colab-df-convert {\n",
              "      background-color: #3B4455;\n",
              "      fill: #D2E3FC;\n",
              "    }\n",
              "\n",
              "    [theme=dark] .colab-df-convert:hover {\n",
              "      background-color: #434B5C;\n",
              "      box-shadow: 0px 1px 3px 1px rgba(0, 0, 0, 0.15);\n",
              "      filter: drop-shadow(0px 1px 2px rgba(0, 0, 0, 0.3));\n",
              "      fill: #FFFFFF;\n",
              "    }\n",
              "  </style>\n",
              "\n",
              "      <script>\n",
              "        const buttonEl =\n",
              "          document.querySelector('#df-1faac927-34ee-4265-96a3-9b2e6913b9a7 button.colab-df-convert');\n",
              "        buttonEl.style.display =\n",
              "          google.colab.kernel.accessAllowed ? 'block' : 'none';\n",
              "\n",
              "        async function convertToInteractive(key) {\n",
              "          const element = document.querySelector('#df-1faac927-34ee-4265-96a3-9b2e6913b9a7');\n",
              "          const dataTable =\n",
              "            await google.colab.kernel.invokeFunction('convertToInteractive',\n",
              "                                                     [key], {});\n",
              "          if (!dataTable) return;\n",
              "\n",
              "          const docLinkHtml = 'Like what you see? Visit the ' +\n",
              "            '<a target=\"_blank\" href=https://colab.research.google.com/notebooks/data_table.ipynb>data table notebook</a>'\n",
              "            + ' to learn more about interactive tables.';\n",
              "          element.innerHTML = '';\n",
              "          dataTable['output_type'] = 'display_data';\n",
              "          await google.colab.output.renderOutput(dataTable, element);\n",
              "          const docLink = document.createElement('div');\n",
              "          docLink.innerHTML = docLinkHtml;\n",
              "          element.appendChild(docLink);\n",
              "        }\n",
              "      </script>\n",
              "    </div>\n",
              "  </div>\n",
              "  "
            ],
            "text/plain": [
              "         index  id        text      lemma   upos    xpos  \\\n",
              "381        826   7      Palace     Palace  PROPN  Npmsan   \n",
              "383        828   9      Marjan     Marjan  PROPN   Npmsn   \n",
              "390        839  20       Split      Split  PROPN  Npmsan   \n",
              "883       1919  23   Dalmaciju  Dalmacija  PROPN   Npfsa   \n",
              "1048      2231   2  Dalmacijom  Dalmacija  PROPN   Npfsi   \n",
              "...        ...  ..         ...        ...    ...     ...   \n",
              "294076  669274   8      Nasica     Našice  PROPN   Npmsg   \n",
              "294281  669727   8      Anuska     Anuska  PROPN   Npfsn   \n",
              "294468  670229   8       Sokca      Sokac  PROPN   Npmsl   \n",
              "294602  670503   1     Vukovar    Vukovar  PROPN   Npmsn   \n",
              "294711  670719   1      Zagreb     Zagreb  PROPN   Npmsn   \n",
              "\n",
              "                                                feats  head  deprel  \\\n",
              "381     Animacy=Inan|Case=Acc|Gender=Masc|Number=Sing     3    nmod   \n",
              "383                  Case=Nom|Gender=Masc|Number=Sing     7    conj   \n",
              "390     Animacy=Inan|Case=Acc|Gender=Masc|Number=Sing    21     obl   \n",
              "883                   Case=Acc|Gender=Fem|Number=Sing    24     obj   \n",
              "1048                  Case=Ins|Gender=Fem|Number=Sing     0    root   \n",
              "...                                               ...   ...     ...   \n",
              "294076                Case=Gen|Gender=Fem|Number=Sing     6    nmod   \n",
              "294281                Case=Nom|Gender=Fem|Number=Sing     6   nsubj   \n",
              "294468               Case=Loc|Gender=Masc|Number=Sing    10  orphan   \n",
              "294602               Case=Nom|Gender=Masc|Number=Sing     0    root   \n",
              "294711               Case=Nom|Gender=Masc|Number=Sing     9   nsubj   \n",
              "\n",
              "                 misc  ... Number[psor] Poss Definite Polarity Reflex Voice  \\\n",
              "381               NaN  ...          NaN  NaN      NaN      NaN    NaN   NaN   \n",
              "383     SpaceAfter=No  ...          NaN  NaN      NaN      NaN    NaN   NaN   \n",
              "390               NaN  ...          NaN  NaN      NaN      NaN    NaN   NaN   \n",
              "883               NaN  ...          NaN  NaN      NaN      NaN    NaN   NaN   \n",
              "1048              NaN  ...          NaN  NaN      NaN      NaN    NaN   NaN   \n",
              "...               ...  ...          ...  ...      ...      ...    ...   ...   \n",
              "294076  SpaceAfter=No  ...          NaN  NaN      NaN      NaN    NaN   NaN   \n",
              "294281  SpaceAfter=No  ...          NaN  NaN      NaN      NaN    NaN   NaN   \n",
              "294468            NaN  ...          NaN  NaN      NaN      NaN    NaN   NaN   \n",
              "294602  SpaceAfter=No  ...          NaN  NaN      NaN      NaN    NaN   NaN   \n",
              "294711  SpaceAfter=No  ...          NaN  NaN      NaN      NaN    NaN   NaN   \n",
              "\n",
              "        Foreign NumType Animacy Gender[psor]  \n",
              "381         NaN     NaN    Inan          NaN  \n",
              "383         NaN     NaN     NaN          NaN  \n",
              "390         NaN     NaN    Inan          NaN  \n",
              "883         NaN     NaN     NaN          NaN  \n",
              "1048        NaN     NaN     NaN          NaN  \n",
              "...         ...     ...     ...          ...  \n",
              "294076      NaN     NaN     NaN          NaN  \n",
              "294281      NaN     NaN     NaN          NaN  \n",
              "294468      NaN     NaN     NaN          NaN  \n",
              "294602      NaN     NaN     NaN          NaN  \n",
              "294711      NaN     NaN     NaN          NaN  \n",
              "\n",
              "[878 rows x 32 columns]"
            ]
          },
          "metadata": {},
          "execution_count": 299
        }
      ]
    },
    {
      "cell_type": "code",
      "source": [
        "locations.value_counts()\n",
        "fig = px.bar(locations,\n",
        "            x=locations.value_counts().values,\n",
        "            y=locations.value_counts().index,\n",
        "            orientation='h')\n",
        "\n",
        "fig.show(renderer=\"colab\")"
      ],
      "metadata": {
        "colab": {
          "base_uri": "https://localhost:8080/",
          "height": 542
        },
        "id": "2OLic64PQhN9",
        "outputId": "ca869ecf-4ec1-4daa-c069-1dd62f17781f"
      },
      "execution_count": 296,
      "outputs": [
        {
          "output_type": "display_data",
          "data": {
            "text/html": [
              "<html>\n",
              "<head><meta charset=\"utf-8\" /></head>\n",
              "<body>\n",
              "    <div>            <script src=\"https://cdnjs.cloudflare.com/ajax/libs/mathjax/2.7.5/MathJax.js?config=TeX-AMS-MML_SVG\"></script><script type=\"text/javascript\">if (window.MathJax) {MathJax.Hub.Config({SVG: {font: \"STIX-Web\"}});}</script>                <script type=\"text/javascript\">window.PlotlyConfig = {MathJaxConfig: 'local'};</script>\n",
              "        <script src=\"https://cdn.plot.ly/plotly-2.8.3.min.js\"></script>                <div id=\"fce71d37-a34c-43cb-8369-228e979c1f62\" class=\"plotly-graph-div\" style=\"height:525px; width:100%;\"></div>            <script type=\"text/javascript\">                                    window.PLOTLYENV=window.PLOTLYENV || {};                                    if (document.getElementById(\"fce71d37-a34c-43cb-8369-228e979c1f62\")) {                    Plotly.newPlot(                        \"fce71d37-a34c-43cb-8369-228e979c1f62\",                        [{\"alignmentgroup\":\"True\",\"hovertemplate\":\"x=%{x}<br>y=%{y}<extra></extra>\",\"legendgroup\":\"\",\"marker\":{\"color\":\"#636efa\",\"pattern\":{\"shape\":\"\"}},\"name\":\"\",\"offsetgroup\":\"\",\"orientation\":\"h\",\"showlegend\":false,\"textposition\":\"auto\",\"x\":[39,29,29,23,23,21,19,19,18,17,13,11,10,10,10,10,10,9,8,7,6,6,5,5,5,5,5,5,4,4,4,4,4,4,4,4,4,4,4,4,4,4,3,3,3,3,3,3,3,3,3,3,3,3,3,3,3,3,3,3,3,3,3,3,3,3,2,2,2,2,2,2,2,2,2,2,2,2,2,2,2,2,2,2,2,2,2,2,2,2,2,2,2,2,2,2,2,2,2,2,2,2,2,2,2,2,2,2,2,2,1,1,1,1,1,1,1,1,1,1,1,1,1,1,1,1,1,1,1,1,1,1,1,1,1,1,1,1,1,1,1,1,1,1,1,1,1,1,1,1,1,1,1,1,1,1,1,1,1,1,1,1,1,1,1,1,1,1,1,1,1,1,1,1,1,1,1,1,1,1,1,1,1,1,1,1,1,1,1,1,1,1,1,1,1,1,1,1,1,1,1,1,1,1,1,1,1,1,1,1,1,1,1,1,1,1,1,1,1,1,1,1,1,1,1,1,1,1,1,1,1,1,1,1,1,1,1,1,1,1,1,1,1,1,1,1,1,1,1,1,1,1,1,1,1,1,1,1,1,1,1,1,1,1,1,1,1,1,1,1,1,1,1,1,1,1,1,1,1,1,1,1,1,1,1,1,1,1,1,1,1,1,1,1,1,1,1,1,1,1,1,1,1,1,1,1,1,1,1,1,1,1,1,1,1,1,1,1,1,1,1,1,1,1,1,1,1,1,1,1,1,1,1,1,1,1,1,1,1,1,1,1,1,1,1,1,1,1,1,1,1,1,1,1,1,1,1,1,1,1,1,1,1,1,1,1,1,1,1,1,1,1,1,1,1,1,1,1,1,1,1,1,1,1,1,1,1,1,1,1,1,1,1,1,1],\"xaxis\":\"x\",\"y\":[\"Hrvatska\",\"Zagreb\",\"Sava\",\"Jadran\",\"Dunav\",\"Slavonija\",\"Split\",\"Dalmacija\",\"Bosna\",\"Sarajevo\",\"Amerika\",\"Neretva\",\"Vukovar\",\"Marjan\",\"Osijek\",\"Drava\",\"Mostar\",\"Hvar\",\"Pariz\",\"Beograd\",\"Istra\",\"Balkan\",\"London\",\"Moskva\",\"Ljubljana\",\"New\",\"Velebit\",\"dubrava\",\"Triglav\",\"Hercegovina\",\"Irak\",\"Poljud\",\"Sibir\",\"Rijeka\",\"\\u017dupanja\",\"Trogir\",\"Kupres\",\"Brazil\",\"Amsterdam\",\"Vinkovci\",\"Europa\",\"Zagorje\",\"Be\\u010d\",\"Kanada\",\"Atena\",\"Luka\",\"Srbija\",\"Neum\",\"Ko\\u0161evo\",\"Kavkaz\",\"Indija\",\"Evropa\",\"Konavle\",\"Sombor\",\"Vratnik\",\"Rim\",\"Dubai\",\"York\",\"Jeruzalem\",\"Rio\",\"Drina\",\"Kina\",\"Stradun\",\"Vardar\",\"Dubrava\",\"\\u0160ibenik\",\"Pijade\",\"Havaje\",\"Posavina\",\"Imotski\",\"Panonija\",\"Frankopan\",\"Jugoslavija\",\"Madrid\",\"Brod\",\"Bra\\u010d\",\"\\u0160titar\",\"Papuk\",\"Bosut\",\"Srijem\",\"Podravina\",\"Backe\",\"Sljeme\",\"Sisak\",\"Petrinja\",\"Zagora\",\"Banja\",\"Afrika\",\"Fontana\",\"Stitar\",\"\\u010citluk\",\"Saloon\",\"\\u010davoglav\",\"Ilok\",\"Iran\",\"gruda\",\"Arilja\",\"Baranja\",\"Knin\",\"Azija\",\"Kairo\",\"Kraljevo\",\"Stolac\",\"Valpovo\",\"Katedrala\",\"Njema\\u010dka\",\"Berlin\",\"Pakrac\",\"Livno\",\"Gospi\\u0107\",\"Dunavska\",\"Himalaja\",\"Privlaka\",\"Casablance\",\"Gorjan\",\"Nimac\",\"Vrbica\",\"Ston\",\"Betlem\",\"Jela\\u010di\\u0107\",\"Dubrovnik\",\"Konavlo\",\"Venecija\",\"Zr\\u0107e\",\"dubo\\u0161evica\",\"Ila\\u010da\",\"Gibarac\",\"Vara\\u017edin\",\"Firenca\",\"Jersaleim\",\"Cavtat\",\"Jersale\",\"Orleans\",\"Bara\",\"Bosutska\",\"Ilova\",\"Orlando\",\"Vrpolj\",\"Kara\\u0161ica\",\"Slat'na\",\"Cres\",\"Anuska\",\"Na\\u0161ica\",\"Luko\",\"Na\\u0161ice\",\"osijek\",\"\\u010ca\\u0111avica\",\"Kara\\u0161i\\u0107\",\"habljanovac\",\"Me\\u0111imurje\",\"Antin\",\"Gar\\u010din\",\"Pula\",\"Buzet\",\"Lo\\u0161inj\",\"\\u0110akovo\",\"Ba\\u010dko\",\"Trnava\",\"Aljma\\u0161\",\"\\u010cepin\",\"Berek\",\"Subotica\",\"Betl\",\"Krnja\\u0161\",\"Vrbanja\",\"Hrvatske\",\"Bistrica\",\"Topolj\",\"Miami\",\"Betlehemska\",\"Sav\",\"Ibiza\",\"Sid\",\"Tijuana\",\"\\u010capljina\",\"Polnock\",\"Vele\\u017e\",\"Palagru\\u017ea\",\"Glina\",\"Prgomet\",\"Posu\\u0161je\",\"Kalifornija\",\"Slavonijo\",\"Australija\",\"Ljubu\\u0161ki\",\"Gori\",\"Ante\",\"Skandinavija\",\"Srem\",\"Pa\\u0161ik\",\"Rusija\",\"Lopinico\",\"Slovenija\",\"Japan\",\"Lepoglava\",\"Istanbul\",\"Zve\\u010dka\",\"Maslenica\",\"Gr\\u010dka\",\"Pentagon\",\"Himalaj\",\"Biokovo\",\"Peristil\",\"Milan\",\"Drvenik\",\"Mafija\",\"Kamerleng\",\"Crush\",\"Herceg\",\"Sokica\",\"Inn\",\"Costa\",\"\\u0160kotska\",\"Rovinjanin\",\"Glamocko\",\"BiH\",\"Ni\\u0161\",\"Holiday\",\"Jadransko\",\"Slavonije\",\"Express\",\"Nil\",\"Venera\",\"Daruvar\",\"Havana\",\"Rica\",\"\\u010ca\\u0161ablanka\",\"Bologna\",\"kusto\\u0161ija\",\"Q-pack\",\"Jug\",\"Ural\",\"SAD\",\"Bembasa\",\"Vrapce\",\"Gajni\\u0107\",\"Smokvica\",\"Vinkovac\",\"Cmrok\",\"Pantov\\u010dak\",\"Greda\",\"Babina\",\"Palace\",\"Manhattana\",\"Po\\u017eega\",\"Misec\",\"Mo\\u0161e\",\"Alkatraz\",\"Dinara\",\"Oluja\",\"Cikola\",\"Svilaj\",\"Velebita\",\"Liko\",\"Hercegova\",\"Tomislav\",\"Bosn\",\"\\u010cavoglav\",\"\\u010cikola\",\"Zvonimir\",\"Ivanjska\",\"Betlehem\",\"Mars\",\"Dalmatina\",\"\\u010cilej\",\"Primitives\",\"Vi\\u0161njik\",\"Cetinje\",\"Tibet\",\"Mo\\u0161o\",\"Atlantida\",\"\\u0160olta\",\"Zanavj\",\"Vela\",\"Omi\\u0161\",\"Zadar\",\"Janeiro\",\"de\",\"Alzir\",\"Espanja\",\"Sad\",\"vatren\",\"Doboj\",\"Pri\\u0161tina\",\"Kabul\",\"Armija\",\"Izrael\",\"Kaptol\",\"Kumrovec\",\"Bleiburg\",\"Karlovac\",\"Riva\",\"Pjaca\",\"Croatia\",\"Francisko\",\"San\",\"Capljina\",\"Ljubuski\",\"herceg-Bosna\",\"Palestina\",\"Saraj\",\"Prevlaka\",\"Bistrik\",\"Tonik\",\"Smojina\",\"Eden\",\"Lizo\",\"Miljacka\",\"Jarun\",\"Odivi\",\"Rijo\",\"Rovinj\",\"Gora\",\"Crna\",\"\\u010celj\",\"Ilidza\",\"Skenderia\",\"Parku\\u0161a\",\"Arizona\",\"Tuzla\",\"Meksiko\",\"Bjelave\",\"Podstrana\",\"D\\u017eehen\",\"Raj\",\"ekvador\",\"Stonos\",\"Stones\",\"Banovi\\u0107i\",\"Krek\",\"Banovi\\u0107\",\"Kreka\",\"Velenje\",\"Chicago\",\"Kongo\",\"Hong\",\"Bajram\",\"Prizren\",\"Hre\\u0161\",\"Me\\u0111ugorje\",\"\\u0160vica\",\"Pesta\",\"Remetinac\",\"Haag\",\"Prag\",\"M\\u00fcnchen\",\"Hag\",\"Aljaska\",\"Kalemegdan\",\"Podgorica\",\"Lika\",\"Zeni\\u0107\",\"Horgo\\u0161\",\"Futog\",\"Nijagara\",\"Sarajvo\",\"Elvis\",\"Italija\",\"Karakaj\",\"Citluk\",\"Zemun\",\"Vijetnam\",\"Ilid\\u017ea\",\"Masinsk\",\"Ko\\u0161eva\",\"Zenica\",\"Frankfurt\",\"Hra\\u0161nica\",\"Vrbanj\",\"Trebevi\\u0107\",\"Safari\",\"bre\\u0107a\",\"Zaostrog\",\"Malta\",\"Kosevo\",\"Merkator\",\"Stoj\\u010devac\",\"Bristol\",\"Trst\",\"Hollywood\",\"Nevesel\",\"City\",\"Sedrenik\",\"Gora\\u017e\\u0111\",\"Austrija\",\"Kiseljak\",\"Milano\",\"Teheran\",\"Romanija\",\"Brion\",\"Mufa\",\"Britanija\",\"Velika\",\"Ljubljanska\",\"Sokac\"],\"yaxis\":\"y\",\"type\":\"bar\"}],                        {\"template\":{\"data\":{\"bar\":[{\"error_x\":{\"color\":\"#2a3f5f\"},\"error_y\":{\"color\":\"#2a3f5f\"},\"marker\":{\"line\":{\"color\":\"#E5ECF6\",\"width\":0.5},\"pattern\":{\"fillmode\":\"overlay\",\"size\":10,\"solidity\":0.2}},\"type\":\"bar\"}],\"barpolar\":[{\"marker\":{\"line\":{\"color\":\"#E5ECF6\",\"width\":0.5},\"pattern\":{\"fillmode\":\"overlay\",\"size\":10,\"solidity\":0.2}},\"type\":\"barpolar\"}],\"carpet\":[{\"aaxis\":{\"endlinecolor\":\"#2a3f5f\",\"gridcolor\":\"white\",\"linecolor\":\"white\",\"minorgridcolor\":\"white\",\"startlinecolor\":\"#2a3f5f\"},\"baxis\":{\"endlinecolor\":\"#2a3f5f\",\"gridcolor\":\"white\",\"linecolor\":\"white\",\"minorgridcolor\":\"white\",\"startlinecolor\":\"#2a3f5f\"},\"type\":\"carpet\"}],\"choropleth\":[{\"colorbar\":{\"outlinewidth\":0,\"ticks\":\"\"},\"type\":\"choropleth\"}],\"contour\":[{\"colorbar\":{\"outlinewidth\":0,\"ticks\":\"\"},\"colorscale\":[[0.0,\"#0d0887\"],[0.1111111111111111,\"#46039f\"],[0.2222222222222222,\"#7201a8\"],[0.3333333333333333,\"#9c179e\"],[0.4444444444444444,\"#bd3786\"],[0.5555555555555556,\"#d8576b\"],[0.6666666666666666,\"#ed7953\"],[0.7777777777777778,\"#fb9f3a\"],[0.8888888888888888,\"#fdca26\"],[1.0,\"#f0f921\"]],\"type\":\"contour\"}],\"contourcarpet\":[{\"colorbar\":{\"outlinewidth\":0,\"ticks\":\"\"},\"type\":\"contourcarpet\"}],\"heatmap\":[{\"colorbar\":{\"outlinewidth\":0,\"ticks\":\"\"},\"colorscale\":[[0.0,\"#0d0887\"],[0.1111111111111111,\"#46039f\"],[0.2222222222222222,\"#7201a8\"],[0.3333333333333333,\"#9c179e\"],[0.4444444444444444,\"#bd3786\"],[0.5555555555555556,\"#d8576b\"],[0.6666666666666666,\"#ed7953\"],[0.7777777777777778,\"#fb9f3a\"],[0.8888888888888888,\"#fdca26\"],[1.0,\"#f0f921\"]],\"type\":\"heatmap\"}],\"heatmapgl\":[{\"colorbar\":{\"outlinewidth\":0,\"ticks\":\"\"},\"colorscale\":[[0.0,\"#0d0887\"],[0.1111111111111111,\"#46039f\"],[0.2222222222222222,\"#7201a8\"],[0.3333333333333333,\"#9c179e\"],[0.4444444444444444,\"#bd3786\"],[0.5555555555555556,\"#d8576b\"],[0.6666666666666666,\"#ed7953\"],[0.7777777777777778,\"#fb9f3a\"],[0.8888888888888888,\"#fdca26\"],[1.0,\"#f0f921\"]],\"type\":\"heatmapgl\"}],\"histogram\":[{\"marker\":{\"pattern\":{\"fillmode\":\"overlay\",\"size\":10,\"solidity\":0.2}},\"type\":\"histogram\"}],\"histogram2d\":[{\"colorbar\":{\"outlinewidth\":0,\"ticks\":\"\"},\"colorscale\":[[0.0,\"#0d0887\"],[0.1111111111111111,\"#46039f\"],[0.2222222222222222,\"#7201a8\"],[0.3333333333333333,\"#9c179e\"],[0.4444444444444444,\"#bd3786\"],[0.5555555555555556,\"#d8576b\"],[0.6666666666666666,\"#ed7953\"],[0.7777777777777778,\"#fb9f3a\"],[0.8888888888888888,\"#fdca26\"],[1.0,\"#f0f921\"]],\"type\":\"histogram2d\"}],\"histogram2dcontour\":[{\"colorbar\":{\"outlinewidth\":0,\"ticks\":\"\"},\"colorscale\":[[0.0,\"#0d0887\"],[0.1111111111111111,\"#46039f\"],[0.2222222222222222,\"#7201a8\"],[0.3333333333333333,\"#9c179e\"],[0.4444444444444444,\"#bd3786\"],[0.5555555555555556,\"#d8576b\"],[0.6666666666666666,\"#ed7953\"],[0.7777777777777778,\"#fb9f3a\"],[0.8888888888888888,\"#fdca26\"],[1.0,\"#f0f921\"]],\"type\":\"histogram2dcontour\"}],\"mesh3d\":[{\"colorbar\":{\"outlinewidth\":0,\"ticks\":\"\"},\"type\":\"mesh3d\"}],\"parcoords\":[{\"line\":{\"colorbar\":{\"outlinewidth\":0,\"ticks\":\"\"}},\"type\":\"parcoords\"}],\"pie\":[{\"automargin\":true,\"type\":\"pie\"}],\"scatter\":[{\"marker\":{\"colorbar\":{\"outlinewidth\":0,\"ticks\":\"\"}},\"type\":\"scatter\"}],\"scatter3d\":[{\"line\":{\"colorbar\":{\"outlinewidth\":0,\"ticks\":\"\"}},\"marker\":{\"colorbar\":{\"outlinewidth\":0,\"ticks\":\"\"}},\"type\":\"scatter3d\"}],\"scattercarpet\":[{\"marker\":{\"colorbar\":{\"outlinewidth\":0,\"ticks\":\"\"}},\"type\":\"scattercarpet\"}],\"scattergeo\":[{\"marker\":{\"colorbar\":{\"outlinewidth\":0,\"ticks\":\"\"}},\"type\":\"scattergeo\"}],\"scattergl\":[{\"marker\":{\"colorbar\":{\"outlinewidth\":0,\"ticks\":\"\"}},\"type\":\"scattergl\"}],\"scattermapbox\":[{\"marker\":{\"colorbar\":{\"outlinewidth\":0,\"ticks\":\"\"}},\"type\":\"scattermapbox\"}],\"scatterpolar\":[{\"marker\":{\"colorbar\":{\"outlinewidth\":0,\"ticks\":\"\"}},\"type\":\"scatterpolar\"}],\"scatterpolargl\":[{\"marker\":{\"colorbar\":{\"outlinewidth\":0,\"ticks\":\"\"}},\"type\":\"scatterpolargl\"}],\"scatterternary\":[{\"marker\":{\"colorbar\":{\"outlinewidth\":0,\"ticks\":\"\"}},\"type\":\"scatterternary\"}],\"surface\":[{\"colorbar\":{\"outlinewidth\":0,\"ticks\":\"\"},\"colorscale\":[[0.0,\"#0d0887\"],[0.1111111111111111,\"#46039f\"],[0.2222222222222222,\"#7201a8\"],[0.3333333333333333,\"#9c179e\"],[0.4444444444444444,\"#bd3786\"],[0.5555555555555556,\"#d8576b\"],[0.6666666666666666,\"#ed7953\"],[0.7777777777777778,\"#fb9f3a\"],[0.8888888888888888,\"#fdca26\"],[1.0,\"#f0f921\"]],\"type\":\"surface\"}],\"table\":[{\"cells\":{\"fill\":{\"color\":\"#EBF0F8\"},\"line\":{\"color\":\"white\"}},\"header\":{\"fill\":{\"color\":\"#C8D4E3\"},\"line\":{\"color\":\"white\"}},\"type\":\"table\"}]},\"layout\":{\"annotationdefaults\":{\"arrowcolor\":\"#2a3f5f\",\"arrowhead\":0,\"arrowwidth\":1},\"autotypenumbers\":\"strict\",\"coloraxis\":{\"colorbar\":{\"outlinewidth\":0,\"ticks\":\"\"}},\"colorscale\":{\"diverging\":[[0,\"#8e0152\"],[0.1,\"#c51b7d\"],[0.2,\"#de77ae\"],[0.3,\"#f1b6da\"],[0.4,\"#fde0ef\"],[0.5,\"#f7f7f7\"],[0.6,\"#e6f5d0\"],[0.7,\"#b8e186\"],[0.8,\"#7fbc41\"],[0.9,\"#4d9221\"],[1,\"#276419\"]],\"sequential\":[[0.0,\"#0d0887\"],[0.1111111111111111,\"#46039f\"],[0.2222222222222222,\"#7201a8\"],[0.3333333333333333,\"#9c179e\"],[0.4444444444444444,\"#bd3786\"],[0.5555555555555556,\"#d8576b\"],[0.6666666666666666,\"#ed7953\"],[0.7777777777777778,\"#fb9f3a\"],[0.8888888888888888,\"#fdca26\"],[1.0,\"#f0f921\"]],\"sequentialminus\":[[0.0,\"#0d0887\"],[0.1111111111111111,\"#46039f\"],[0.2222222222222222,\"#7201a8\"],[0.3333333333333333,\"#9c179e\"],[0.4444444444444444,\"#bd3786\"],[0.5555555555555556,\"#d8576b\"],[0.6666666666666666,\"#ed7953\"],[0.7777777777777778,\"#fb9f3a\"],[0.8888888888888888,\"#fdca26\"],[1.0,\"#f0f921\"]]},\"colorway\":[\"#636efa\",\"#EF553B\",\"#00cc96\",\"#ab63fa\",\"#FFA15A\",\"#19d3f3\",\"#FF6692\",\"#B6E880\",\"#FF97FF\",\"#FECB52\"],\"font\":{\"color\":\"#2a3f5f\"},\"geo\":{\"bgcolor\":\"white\",\"lakecolor\":\"white\",\"landcolor\":\"#E5ECF6\",\"showlakes\":true,\"showland\":true,\"subunitcolor\":\"white\"},\"hoverlabel\":{\"align\":\"left\"},\"hovermode\":\"closest\",\"mapbox\":{\"style\":\"light\"},\"paper_bgcolor\":\"white\",\"plot_bgcolor\":\"#E5ECF6\",\"polar\":{\"angularaxis\":{\"gridcolor\":\"white\",\"linecolor\":\"white\",\"ticks\":\"\"},\"bgcolor\":\"#E5ECF6\",\"radialaxis\":{\"gridcolor\":\"white\",\"linecolor\":\"white\",\"ticks\":\"\"}},\"scene\":{\"xaxis\":{\"backgroundcolor\":\"#E5ECF6\",\"gridcolor\":\"white\",\"gridwidth\":2,\"linecolor\":\"white\",\"showbackground\":true,\"ticks\":\"\",\"zerolinecolor\":\"white\"},\"yaxis\":{\"backgroundcolor\":\"#E5ECF6\",\"gridcolor\":\"white\",\"gridwidth\":2,\"linecolor\":\"white\",\"showbackground\":true,\"ticks\":\"\",\"zerolinecolor\":\"white\"},\"zaxis\":{\"backgroundcolor\":\"#E5ECF6\",\"gridcolor\":\"white\",\"gridwidth\":2,\"linecolor\":\"white\",\"showbackground\":true,\"ticks\":\"\",\"zerolinecolor\":\"white\"}},\"shapedefaults\":{\"line\":{\"color\":\"#2a3f5f\"}},\"ternary\":{\"aaxis\":{\"gridcolor\":\"white\",\"linecolor\":\"white\",\"ticks\":\"\"},\"baxis\":{\"gridcolor\":\"white\",\"linecolor\":\"white\",\"ticks\":\"\"},\"bgcolor\":\"#E5ECF6\",\"caxis\":{\"gridcolor\":\"white\",\"linecolor\":\"white\",\"ticks\":\"\"}},\"title\":{\"x\":0.05},\"xaxis\":{\"automargin\":true,\"gridcolor\":\"white\",\"linecolor\":\"white\",\"ticks\":\"\",\"title\":{\"standoff\":15},\"zerolinecolor\":\"white\",\"zerolinewidth\":2},\"yaxis\":{\"automargin\":true,\"gridcolor\":\"white\",\"linecolor\":\"white\",\"ticks\":\"\",\"title\":{\"standoff\":15},\"zerolinecolor\":\"white\",\"zerolinewidth\":2}}},\"xaxis\":{\"anchor\":\"y\",\"domain\":[0.0,1.0],\"title\":{\"text\":\"x\"}},\"yaxis\":{\"anchor\":\"x\",\"domain\":[0.0,1.0],\"title\":{\"text\":\"y\"}},\"legend\":{\"tracegroupgap\":0},\"margin\":{\"t\":60},\"barmode\":\"relative\"},                        {\"responsive\": true}                    ).then(function(){\n",
              "                            \n",
              "var gd = document.getElementById('fce71d37-a34c-43cb-8369-228e979c1f62');\n",
              "var x = new MutationObserver(function (mutations, observer) {{\n",
              "        var display = window.getComputedStyle(gd).display;\n",
              "        if (!display || display === 'none') {{\n",
              "            console.log([gd, 'removed!']);\n",
              "            Plotly.purge(gd);\n",
              "            observer.disconnect();\n",
              "        }}\n",
              "}});\n",
              "\n",
              "// Listen for the removal of the full notebook cells\n",
              "var notebookContainer = gd.closest('#notebook-container');\n",
              "if (notebookContainer) {{\n",
              "    x.observe(notebookContainer, {childList: true});\n",
              "}}\n",
              "\n",
              "// Listen for the clearing of the current output cell\n",
              "var outputEl = gd.closest('.output');\n",
              "if (outputEl) {{\n",
              "    x.observe(outputEl, {childList: true});\n",
              "}}\n",
              "\n",
              "                        })                };                            </script>        </div>\n",
              "</body>\n",
              "</html>"
            ]
          },
          "metadata": {}
        }
      ]
    },
    {
      "cell_type": "code",
      "source": [
        "import plotly.graph_objects as go\n",
        "\n",
        "top_labels = ['Strongly<br>agree', 'Agree', 'Neutral', 'Disagree',\n",
        "              'Strongly<br>disagree']\n",
        "\n",
        "colors = ['rgba(38, 24, 74, 0.8)', 'rgba(71, 58, 131, 0.8)',\n",
        "          'rgba(122, 120, 168, 0.8)', 'rgba(164, 163, 204, 0.85)',\n",
        "          'rgba(190, 192, 213, 1)']\n",
        "\n",
        "x_data = [[21, 30, 21, 16, 12],\n",
        "          [24, 31, 19, 15, 11],\n",
        "          [27, 26, 23, 11, 13],\n",
        "          [29, 24, 15, 18, 14]]\n",
        "\n",
        "y_data = ['The course was effectively<br>organized',\n",
        "          'The course developed my<br>abilities and skills ' +\n",
        "          'for<br>the subject', 'The course developed ' +\n",
        "          'my<br>ability to think critically about<br>the subject',\n",
        "          'I would recommend this<br>course to a friend']\n",
        "\n",
        "fig = go.Figure()\n",
        "\n",
        "for i in range(0, len(x_data[0])):\n",
        "    for xd, yd in zip(x_data, y_data):\n",
        "        fig.add_trace(go.Bar(\n",
        "            x=[xd[i]], y=[yd],\n",
        "            orientation='h',\n",
        "            marker=dict(\n",
        "                color=colors[i],\n",
        "                line=dict(color='rgb(248, 248, 249)', width=1)\n",
        "            )\n",
        "        ))\n",
        "\n",
        "fig.update_layout(\n",
        "    xaxis=dict(\n",
        "        showgrid=False,\n",
        "        showline=False,\n",
        "        showticklabels=False,\n",
        "        zeroline=False,\n",
        "        domain=[0.15, 1]\n",
        "    ),\n",
        "    yaxis=dict(\n",
        "        showgrid=False,\n",
        "        showline=False,\n",
        "        showticklabels=False,\n",
        "        zeroline=False,\n",
        "    ),\n",
        "    barmode='stack',\n",
        "    paper_bgcolor='rgb(248, 248, 255)',\n",
        "    plot_bgcolor='rgb(248, 248, 255)',\n",
        "    margin=dict(l=120, r=10, t=140, b=80),\n",
        "    showlegend=False,\n",
        ")\n",
        "\n",
        "annotations = []\n",
        "\n",
        "for yd, xd in zip(y_data, x_data):\n",
        "    # labeling the y-axis\n",
        "    annotations.append(dict(xref='paper', yref='y',\n",
        "                            x=0.14, y=yd,\n",
        "                            xanchor='right',\n",
        "                            text=str(yd),\n",
        "                            font=dict(family='Arial', size=14,\n",
        "                                      color='rgb(67, 67, 67)'),\n",
        "                            showarrow=False, align='right'))\n",
        "    # labeling the first percentage of each bar (x_axis)\n",
        "    annotations.append(dict(xref='x', yref='y',\n",
        "                            x=xd[0] / 2, y=yd,\n",
        "                            text=str(xd[0]) + '%',\n",
        "                            font=dict(family='Arial', size=14,\n",
        "                                      color='rgb(248, 248, 255)'),\n",
        "                            showarrow=False))\n",
        "    # labeling the first Likert scale (on the top)\n",
        "    if yd == y_data[-1]:\n",
        "        annotations.append(dict(xref='x', yref='paper',\n",
        "                                x=xd[0] / 2, y=1.1,\n",
        "                                text=top_labels[0],\n",
        "                                font=dict(family='Arial', size=14,\n",
        "                                          color='rgb(67, 67, 67)'),\n",
        "                                showarrow=False))\n",
        "    space = xd[0]\n",
        "    for i in range(1, len(xd)):\n",
        "            # labeling the rest of percentages for each bar (x_axis)\n",
        "            annotations.append(dict(xref='x', yref='y',\n",
        "                                    x=space + (xd[i]/2), y=yd,\n",
        "                                    text=str(xd[i]) + '%',\n",
        "                                    font=dict(family='Arial', size=14,\n",
        "                                              color='rgb(248, 248, 255)'),\n",
        "                                    showarrow=False))\n",
        "            # labeling the Likert scale\n",
        "            if yd == y_data[-1]:\n",
        "                annotations.append(dict(xref='x', yref='paper',\n",
        "                                        x=space + (xd[i]/2), y=1.1,\n",
        "                                        text=top_labels[i],\n",
        "                                        font=dict(family='Arial', size=14,\n",
        "                                                  color='rgb(67, 67, 67)'),\n",
        "                                        showarrow=False))\n",
        "            space += xd[i]\n",
        "\n",
        "fig.update_layout(annotations=annotations)\n",
        "\n",
        "fig.show(renderer=\"colab\")"
      ],
      "metadata": {
        "colab": {
          "base_uri": "https://localhost:8080/",
          "height": 542
        },
        "id": "yvpqWSi9YP5q",
        "outputId": "61985129-32f8-4cde-9a49-c9521d098332"
      },
      "execution_count": 300,
      "outputs": [
        {
          "output_type": "display_data",
          "data": {
            "text/html": [
              "<html>\n",
              "<head><meta charset=\"utf-8\" /></head>\n",
              "<body>\n",
              "    <div>            <script src=\"https://cdnjs.cloudflare.com/ajax/libs/mathjax/2.7.5/MathJax.js?config=TeX-AMS-MML_SVG\"></script><script type=\"text/javascript\">if (window.MathJax) {MathJax.Hub.Config({SVG: {font: \"STIX-Web\"}});}</script>                <script type=\"text/javascript\">window.PlotlyConfig = {MathJaxConfig: 'local'};</script>\n",
              "        <script src=\"https://cdn.plot.ly/plotly-2.8.3.min.js\"></script>                <div id=\"5a90b1cf-6f70-44c1-9482-1883a9652b37\" class=\"plotly-graph-div\" style=\"height:525px; width:100%;\"></div>            <script type=\"text/javascript\">                                    window.PLOTLYENV=window.PLOTLYENV || {};                                    if (document.getElementById(\"5a90b1cf-6f70-44c1-9482-1883a9652b37\")) {                    Plotly.newPlot(                        \"5a90b1cf-6f70-44c1-9482-1883a9652b37\",                        [{\"marker\":{\"color\":\"rgba(38, 24, 74, 0.8)\",\"line\":{\"color\":\"rgb(248, 248, 249)\",\"width\":1}},\"orientation\":\"h\",\"x\":[21],\"y\":[\"The course was effectively<br>organized\"],\"type\":\"bar\"},{\"marker\":{\"color\":\"rgba(38, 24, 74, 0.8)\",\"line\":{\"color\":\"rgb(248, 248, 249)\",\"width\":1}},\"orientation\":\"h\",\"x\":[24],\"y\":[\"The course developed my<br>abilities and skills for<br>the subject\"],\"type\":\"bar\"},{\"marker\":{\"color\":\"rgba(38, 24, 74, 0.8)\",\"line\":{\"color\":\"rgb(248, 248, 249)\",\"width\":1}},\"orientation\":\"h\",\"x\":[27],\"y\":[\"The course developed my<br>ability to think critically about<br>the subject\"],\"type\":\"bar\"},{\"marker\":{\"color\":\"rgba(38, 24, 74, 0.8)\",\"line\":{\"color\":\"rgb(248, 248, 249)\",\"width\":1}},\"orientation\":\"h\",\"x\":[29],\"y\":[\"I would recommend this<br>course to a friend\"],\"type\":\"bar\"},{\"marker\":{\"color\":\"rgba(71, 58, 131, 0.8)\",\"line\":{\"color\":\"rgb(248, 248, 249)\",\"width\":1}},\"orientation\":\"h\",\"x\":[30],\"y\":[\"The course was effectively<br>organized\"],\"type\":\"bar\"},{\"marker\":{\"color\":\"rgba(71, 58, 131, 0.8)\",\"line\":{\"color\":\"rgb(248, 248, 249)\",\"width\":1}},\"orientation\":\"h\",\"x\":[31],\"y\":[\"The course developed my<br>abilities and skills for<br>the subject\"],\"type\":\"bar\"},{\"marker\":{\"color\":\"rgba(71, 58, 131, 0.8)\",\"line\":{\"color\":\"rgb(248, 248, 249)\",\"width\":1}},\"orientation\":\"h\",\"x\":[26],\"y\":[\"The course developed my<br>ability to think critically about<br>the subject\"],\"type\":\"bar\"},{\"marker\":{\"color\":\"rgba(71, 58, 131, 0.8)\",\"line\":{\"color\":\"rgb(248, 248, 249)\",\"width\":1}},\"orientation\":\"h\",\"x\":[24],\"y\":[\"I would recommend this<br>course to a friend\"],\"type\":\"bar\"},{\"marker\":{\"color\":\"rgba(122, 120, 168, 0.8)\",\"line\":{\"color\":\"rgb(248, 248, 249)\",\"width\":1}},\"orientation\":\"h\",\"x\":[21],\"y\":[\"The course was effectively<br>organized\"],\"type\":\"bar\"},{\"marker\":{\"color\":\"rgba(122, 120, 168, 0.8)\",\"line\":{\"color\":\"rgb(248, 248, 249)\",\"width\":1}},\"orientation\":\"h\",\"x\":[19],\"y\":[\"The course developed my<br>abilities and skills for<br>the subject\"],\"type\":\"bar\"},{\"marker\":{\"color\":\"rgba(122, 120, 168, 0.8)\",\"line\":{\"color\":\"rgb(248, 248, 249)\",\"width\":1}},\"orientation\":\"h\",\"x\":[23],\"y\":[\"The course developed my<br>ability to think critically about<br>the subject\"],\"type\":\"bar\"},{\"marker\":{\"color\":\"rgba(122, 120, 168, 0.8)\",\"line\":{\"color\":\"rgb(248, 248, 249)\",\"width\":1}},\"orientation\":\"h\",\"x\":[15],\"y\":[\"I would recommend this<br>course to a friend\"],\"type\":\"bar\"},{\"marker\":{\"color\":\"rgba(164, 163, 204, 0.85)\",\"line\":{\"color\":\"rgb(248, 248, 249)\",\"width\":1}},\"orientation\":\"h\",\"x\":[16],\"y\":[\"The course was effectively<br>organized\"],\"type\":\"bar\"},{\"marker\":{\"color\":\"rgba(164, 163, 204, 0.85)\",\"line\":{\"color\":\"rgb(248, 248, 249)\",\"width\":1}},\"orientation\":\"h\",\"x\":[15],\"y\":[\"The course developed my<br>abilities and skills for<br>the subject\"],\"type\":\"bar\"},{\"marker\":{\"color\":\"rgba(164, 163, 204, 0.85)\",\"line\":{\"color\":\"rgb(248, 248, 249)\",\"width\":1}},\"orientation\":\"h\",\"x\":[11],\"y\":[\"The course developed my<br>ability to think critically about<br>the subject\"],\"type\":\"bar\"},{\"marker\":{\"color\":\"rgba(164, 163, 204, 0.85)\",\"line\":{\"color\":\"rgb(248, 248, 249)\",\"width\":1}},\"orientation\":\"h\",\"x\":[18],\"y\":[\"I would recommend this<br>course to a friend\"],\"type\":\"bar\"},{\"marker\":{\"color\":\"rgba(190, 192, 213, 1)\",\"line\":{\"color\":\"rgb(248, 248, 249)\",\"width\":1}},\"orientation\":\"h\",\"x\":[12],\"y\":[\"The course was effectively<br>organized\"],\"type\":\"bar\"},{\"marker\":{\"color\":\"rgba(190, 192, 213, 1)\",\"line\":{\"color\":\"rgb(248, 248, 249)\",\"width\":1}},\"orientation\":\"h\",\"x\":[11],\"y\":[\"The course developed my<br>abilities and skills for<br>the subject\"],\"type\":\"bar\"},{\"marker\":{\"color\":\"rgba(190, 192, 213, 1)\",\"line\":{\"color\":\"rgb(248, 248, 249)\",\"width\":1}},\"orientation\":\"h\",\"x\":[13],\"y\":[\"The course developed my<br>ability to think critically about<br>the subject\"],\"type\":\"bar\"},{\"marker\":{\"color\":\"rgba(190, 192, 213, 1)\",\"line\":{\"color\":\"rgb(248, 248, 249)\",\"width\":1}},\"orientation\":\"h\",\"x\":[14],\"y\":[\"I would recommend this<br>course to a friend\"],\"type\":\"bar\"}],                        {\"template\":{\"data\":{\"bar\":[{\"error_x\":{\"color\":\"#2a3f5f\"},\"error_y\":{\"color\":\"#2a3f5f\"},\"marker\":{\"line\":{\"color\":\"#E5ECF6\",\"width\":0.5},\"pattern\":{\"fillmode\":\"overlay\",\"size\":10,\"solidity\":0.2}},\"type\":\"bar\"}],\"barpolar\":[{\"marker\":{\"line\":{\"color\":\"#E5ECF6\",\"width\":0.5},\"pattern\":{\"fillmode\":\"overlay\",\"size\":10,\"solidity\":0.2}},\"type\":\"barpolar\"}],\"carpet\":[{\"aaxis\":{\"endlinecolor\":\"#2a3f5f\",\"gridcolor\":\"white\",\"linecolor\":\"white\",\"minorgridcolor\":\"white\",\"startlinecolor\":\"#2a3f5f\"},\"baxis\":{\"endlinecolor\":\"#2a3f5f\",\"gridcolor\":\"white\",\"linecolor\":\"white\",\"minorgridcolor\":\"white\",\"startlinecolor\":\"#2a3f5f\"},\"type\":\"carpet\"}],\"choropleth\":[{\"colorbar\":{\"outlinewidth\":0,\"ticks\":\"\"},\"type\":\"choropleth\"}],\"contour\":[{\"colorbar\":{\"outlinewidth\":0,\"ticks\":\"\"},\"colorscale\":[[0.0,\"#0d0887\"],[0.1111111111111111,\"#46039f\"],[0.2222222222222222,\"#7201a8\"],[0.3333333333333333,\"#9c179e\"],[0.4444444444444444,\"#bd3786\"],[0.5555555555555556,\"#d8576b\"],[0.6666666666666666,\"#ed7953\"],[0.7777777777777778,\"#fb9f3a\"],[0.8888888888888888,\"#fdca26\"],[1.0,\"#f0f921\"]],\"type\":\"contour\"}],\"contourcarpet\":[{\"colorbar\":{\"outlinewidth\":0,\"ticks\":\"\"},\"type\":\"contourcarpet\"}],\"heatmap\":[{\"colorbar\":{\"outlinewidth\":0,\"ticks\":\"\"},\"colorscale\":[[0.0,\"#0d0887\"],[0.1111111111111111,\"#46039f\"],[0.2222222222222222,\"#7201a8\"],[0.3333333333333333,\"#9c179e\"],[0.4444444444444444,\"#bd3786\"],[0.5555555555555556,\"#d8576b\"],[0.6666666666666666,\"#ed7953\"],[0.7777777777777778,\"#fb9f3a\"],[0.8888888888888888,\"#fdca26\"],[1.0,\"#f0f921\"]],\"type\":\"heatmap\"}],\"heatmapgl\":[{\"colorbar\":{\"outlinewidth\":0,\"ticks\":\"\"},\"colorscale\":[[0.0,\"#0d0887\"],[0.1111111111111111,\"#46039f\"],[0.2222222222222222,\"#7201a8\"],[0.3333333333333333,\"#9c179e\"],[0.4444444444444444,\"#bd3786\"],[0.5555555555555556,\"#d8576b\"],[0.6666666666666666,\"#ed7953\"],[0.7777777777777778,\"#fb9f3a\"],[0.8888888888888888,\"#fdca26\"],[1.0,\"#f0f921\"]],\"type\":\"heatmapgl\"}],\"histogram\":[{\"marker\":{\"pattern\":{\"fillmode\":\"overlay\",\"size\":10,\"solidity\":0.2}},\"type\":\"histogram\"}],\"histogram2d\":[{\"colorbar\":{\"outlinewidth\":0,\"ticks\":\"\"},\"colorscale\":[[0.0,\"#0d0887\"],[0.1111111111111111,\"#46039f\"],[0.2222222222222222,\"#7201a8\"],[0.3333333333333333,\"#9c179e\"],[0.4444444444444444,\"#bd3786\"],[0.5555555555555556,\"#d8576b\"],[0.6666666666666666,\"#ed7953\"],[0.7777777777777778,\"#fb9f3a\"],[0.8888888888888888,\"#fdca26\"],[1.0,\"#f0f921\"]],\"type\":\"histogram2d\"}],\"histogram2dcontour\":[{\"colorbar\":{\"outlinewidth\":0,\"ticks\":\"\"},\"colorscale\":[[0.0,\"#0d0887\"],[0.1111111111111111,\"#46039f\"],[0.2222222222222222,\"#7201a8\"],[0.3333333333333333,\"#9c179e\"],[0.4444444444444444,\"#bd3786\"],[0.5555555555555556,\"#d8576b\"],[0.6666666666666666,\"#ed7953\"],[0.7777777777777778,\"#fb9f3a\"],[0.8888888888888888,\"#fdca26\"],[1.0,\"#f0f921\"]],\"type\":\"histogram2dcontour\"}],\"mesh3d\":[{\"colorbar\":{\"outlinewidth\":0,\"ticks\":\"\"},\"type\":\"mesh3d\"}],\"parcoords\":[{\"line\":{\"colorbar\":{\"outlinewidth\":0,\"ticks\":\"\"}},\"type\":\"parcoords\"}],\"pie\":[{\"automargin\":true,\"type\":\"pie\"}],\"scatter\":[{\"marker\":{\"colorbar\":{\"outlinewidth\":0,\"ticks\":\"\"}},\"type\":\"scatter\"}],\"scatter3d\":[{\"line\":{\"colorbar\":{\"outlinewidth\":0,\"ticks\":\"\"}},\"marker\":{\"colorbar\":{\"outlinewidth\":0,\"ticks\":\"\"}},\"type\":\"scatter3d\"}],\"scattercarpet\":[{\"marker\":{\"colorbar\":{\"outlinewidth\":0,\"ticks\":\"\"}},\"type\":\"scattercarpet\"}],\"scattergeo\":[{\"marker\":{\"colorbar\":{\"outlinewidth\":0,\"ticks\":\"\"}},\"type\":\"scattergeo\"}],\"scattergl\":[{\"marker\":{\"colorbar\":{\"outlinewidth\":0,\"ticks\":\"\"}},\"type\":\"scattergl\"}],\"scattermapbox\":[{\"marker\":{\"colorbar\":{\"outlinewidth\":0,\"ticks\":\"\"}},\"type\":\"scattermapbox\"}],\"scatterpolar\":[{\"marker\":{\"colorbar\":{\"outlinewidth\":0,\"ticks\":\"\"}},\"type\":\"scatterpolar\"}],\"scatterpolargl\":[{\"marker\":{\"colorbar\":{\"outlinewidth\":0,\"ticks\":\"\"}},\"type\":\"scatterpolargl\"}],\"scatterternary\":[{\"marker\":{\"colorbar\":{\"outlinewidth\":0,\"ticks\":\"\"}},\"type\":\"scatterternary\"}],\"surface\":[{\"colorbar\":{\"outlinewidth\":0,\"ticks\":\"\"},\"colorscale\":[[0.0,\"#0d0887\"],[0.1111111111111111,\"#46039f\"],[0.2222222222222222,\"#7201a8\"],[0.3333333333333333,\"#9c179e\"],[0.4444444444444444,\"#bd3786\"],[0.5555555555555556,\"#d8576b\"],[0.6666666666666666,\"#ed7953\"],[0.7777777777777778,\"#fb9f3a\"],[0.8888888888888888,\"#fdca26\"],[1.0,\"#f0f921\"]],\"type\":\"surface\"}],\"table\":[{\"cells\":{\"fill\":{\"color\":\"#EBF0F8\"},\"line\":{\"color\":\"white\"}},\"header\":{\"fill\":{\"color\":\"#C8D4E3\"},\"line\":{\"color\":\"white\"}},\"type\":\"table\"}]},\"layout\":{\"annotationdefaults\":{\"arrowcolor\":\"#2a3f5f\",\"arrowhead\":0,\"arrowwidth\":1},\"autotypenumbers\":\"strict\",\"coloraxis\":{\"colorbar\":{\"outlinewidth\":0,\"ticks\":\"\"}},\"colorscale\":{\"diverging\":[[0,\"#8e0152\"],[0.1,\"#c51b7d\"],[0.2,\"#de77ae\"],[0.3,\"#f1b6da\"],[0.4,\"#fde0ef\"],[0.5,\"#f7f7f7\"],[0.6,\"#e6f5d0\"],[0.7,\"#b8e186\"],[0.8,\"#7fbc41\"],[0.9,\"#4d9221\"],[1,\"#276419\"]],\"sequential\":[[0.0,\"#0d0887\"],[0.1111111111111111,\"#46039f\"],[0.2222222222222222,\"#7201a8\"],[0.3333333333333333,\"#9c179e\"],[0.4444444444444444,\"#bd3786\"],[0.5555555555555556,\"#d8576b\"],[0.6666666666666666,\"#ed7953\"],[0.7777777777777778,\"#fb9f3a\"],[0.8888888888888888,\"#fdca26\"],[1.0,\"#f0f921\"]],\"sequentialminus\":[[0.0,\"#0d0887\"],[0.1111111111111111,\"#46039f\"],[0.2222222222222222,\"#7201a8\"],[0.3333333333333333,\"#9c179e\"],[0.4444444444444444,\"#bd3786\"],[0.5555555555555556,\"#d8576b\"],[0.6666666666666666,\"#ed7953\"],[0.7777777777777778,\"#fb9f3a\"],[0.8888888888888888,\"#fdca26\"],[1.0,\"#f0f921\"]]},\"colorway\":[\"#636efa\",\"#EF553B\",\"#00cc96\",\"#ab63fa\",\"#FFA15A\",\"#19d3f3\",\"#FF6692\",\"#B6E880\",\"#FF97FF\",\"#FECB52\"],\"font\":{\"color\":\"#2a3f5f\"},\"geo\":{\"bgcolor\":\"white\",\"lakecolor\":\"white\",\"landcolor\":\"#E5ECF6\",\"showlakes\":true,\"showland\":true,\"subunitcolor\":\"white\"},\"hoverlabel\":{\"align\":\"left\"},\"hovermode\":\"closest\",\"mapbox\":{\"style\":\"light\"},\"paper_bgcolor\":\"white\",\"plot_bgcolor\":\"#E5ECF6\",\"polar\":{\"angularaxis\":{\"gridcolor\":\"white\",\"linecolor\":\"white\",\"ticks\":\"\"},\"bgcolor\":\"#E5ECF6\",\"radialaxis\":{\"gridcolor\":\"white\",\"linecolor\":\"white\",\"ticks\":\"\"}},\"scene\":{\"xaxis\":{\"backgroundcolor\":\"#E5ECF6\",\"gridcolor\":\"white\",\"gridwidth\":2,\"linecolor\":\"white\",\"showbackground\":true,\"ticks\":\"\",\"zerolinecolor\":\"white\"},\"yaxis\":{\"backgroundcolor\":\"#E5ECF6\",\"gridcolor\":\"white\",\"gridwidth\":2,\"linecolor\":\"white\",\"showbackground\":true,\"ticks\":\"\",\"zerolinecolor\":\"white\"},\"zaxis\":{\"backgroundcolor\":\"#E5ECF6\",\"gridcolor\":\"white\",\"gridwidth\":2,\"linecolor\":\"white\",\"showbackground\":true,\"ticks\":\"\",\"zerolinecolor\":\"white\"}},\"shapedefaults\":{\"line\":{\"color\":\"#2a3f5f\"}},\"ternary\":{\"aaxis\":{\"gridcolor\":\"white\",\"linecolor\":\"white\",\"ticks\":\"\"},\"baxis\":{\"gridcolor\":\"white\",\"linecolor\":\"white\",\"ticks\":\"\"},\"bgcolor\":\"#E5ECF6\",\"caxis\":{\"gridcolor\":\"white\",\"linecolor\":\"white\",\"ticks\":\"\"}},\"title\":{\"x\":0.05},\"xaxis\":{\"automargin\":true,\"gridcolor\":\"white\",\"linecolor\":\"white\",\"ticks\":\"\",\"title\":{\"standoff\":15},\"zerolinecolor\":\"white\",\"zerolinewidth\":2},\"yaxis\":{\"automargin\":true,\"gridcolor\":\"white\",\"linecolor\":\"white\",\"ticks\":\"\",\"title\":{\"standoff\":15},\"zerolinecolor\":\"white\",\"zerolinewidth\":2}}},\"xaxis\":{\"showgrid\":false,\"showline\":false,\"showticklabels\":false,\"zeroline\":false,\"domain\":[0.15,1]},\"yaxis\":{\"showgrid\":false,\"showline\":false,\"showticklabels\":false,\"zeroline\":false},\"margin\":{\"l\":120,\"r\":10,\"t\":140,\"b\":80},\"barmode\":\"stack\",\"paper_bgcolor\":\"rgb(248, 248, 255)\",\"plot_bgcolor\":\"rgb(248, 248, 255)\",\"showlegend\":false,\"annotations\":[{\"align\":\"right\",\"font\":{\"color\":\"rgb(67, 67, 67)\",\"family\":\"Arial\",\"size\":14},\"showarrow\":false,\"text\":\"The course was effectively<br>organized\",\"x\":0.14,\"xanchor\":\"right\",\"xref\":\"paper\",\"y\":\"The course was effectively<br>organized\",\"yref\":\"y\"},{\"font\":{\"color\":\"rgb(248, 248, 255)\",\"family\":\"Arial\",\"size\":14},\"showarrow\":false,\"text\":\"21%\",\"x\":10.5,\"xref\":\"x\",\"y\":\"The course was effectively<br>organized\",\"yref\":\"y\"},{\"font\":{\"color\":\"rgb(248, 248, 255)\",\"family\":\"Arial\",\"size\":14},\"showarrow\":false,\"text\":\"30%\",\"x\":36.0,\"xref\":\"x\",\"y\":\"The course was effectively<br>organized\",\"yref\":\"y\"},{\"font\":{\"color\":\"rgb(248, 248, 255)\",\"family\":\"Arial\",\"size\":14},\"showarrow\":false,\"text\":\"21%\",\"x\":61.5,\"xref\":\"x\",\"y\":\"The course was effectively<br>organized\",\"yref\":\"y\"},{\"font\":{\"color\":\"rgb(248, 248, 255)\",\"family\":\"Arial\",\"size\":14},\"showarrow\":false,\"text\":\"16%\",\"x\":80.0,\"xref\":\"x\",\"y\":\"The course was effectively<br>organized\",\"yref\":\"y\"},{\"font\":{\"color\":\"rgb(248, 248, 255)\",\"family\":\"Arial\",\"size\":14},\"showarrow\":false,\"text\":\"12%\",\"x\":94.0,\"xref\":\"x\",\"y\":\"The course was effectively<br>organized\",\"yref\":\"y\"},{\"align\":\"right\",\"font\":{\"color\":\"rgb(67, 67, 67)\",\"family\":\"Arial\",\"size\":14},\"showarrow\":false,\"text\":\"The course developed my<br>abilities and skills for<br>the subject\",\"x\":0.14,\"xanchor\":\"right\",\"xref\":\"paper\",\"y\":\"The course developed my<br>abilities and skills for<br>the subject\",\"yref\":\"y\"},{\"font\":{\"color\":\"rgb(248, 248, 255)\",\"family\":\"Arial\",\"size\":14},\"showarrow\":false,\"text\":\"24%\",\"x\":12.0,\"xref\":\"x\",\"y\":\"The course developed my<br>abilities and skills for<br>the subject\",\"yref\":\"y\"},{\"font\":{\"color\":\"rgb(248, 248, 255)\",\"family\":\"Arial\",\"size\":14},\"showarrow\":false,\"text\":\"31%\",\"x\":39.5,\"xref\":\"x\",\"y\":\"The course developed my<br>abilities and skills for<br>the subject\",\"yref\":\"y\"},{\"font\":{\"color\":\"rgb(248, 248, 255)\",\"family\":\"Arial\",\"size\":14},\"showarrow\":false,\"text\":\"19%\",\"x\":64.5,\"xref\":\"x\",\"y\":\"The course developed my<br>abilities and skills for<br>the subject\",\"yref\":\"y\"},{\"font\":{\"color\":\"rgb(248, 248, 255)\",\"family\":\"Arial\",\"size\":14},\"showarrow\":false,\"text\":\"15%\",\"x\":81.5,\"xref\":\"x\",\"y\":\"The course developed my<br>abilities and skills for<br>the subject\",\"yref\":\"y\"},{\"font\":{\"color\":\"rgb(248, 248, 255)\",\"family\":\"Arial\",\"size\":14},\"showarrow\":false,\"text\":\"11%\",\"x\":94.5,\"xref\":\"x\",\"y\":\"The course developed my<br>abilities and skills for<br>the subject\",\"yref\":\"y\"},{\"align\":\"right\",\"font\":{\"color\":\"rgb(67, 67, 67)\",\"family\":\"Arial\",\"size\":14},\"showarrow\":false,\"text\":\"The course developed my<br>ability to think critically about<br>the subject\",\"x\":0.14,\"xanchor\":\"right\",\"xref\":\"paper\",\"y\":\"The course developed my<br>ability to think critically about<br>the subject\",\"yref\":\"y\"},{\"font\":{\"color\":\"rgb(248, 248, 255)\",\"family\":\"Arial\",\"size\":14},\"showarrow\":false,\"text\":\"27%\",\"x\":13.5,\"xref\":\"x\",\"y\":\"The course developed my<br>ability to think critically about<br>the subject\",\"yref\":\"y\"},{\"font\":{\"color\":\"rgb(248, 248, 255)\",\"family\":\"Arial\",\"size\":14},\"showarrow\":false,\"text\":\"26%\",\"x\":40.0,\"xref\":\"x\",\"y\":\"The course developed my<br>ability to think critically about<br>the subject\",\"yref\":\"y\"},{\"font\":{\"color\":\"rgb(248, 248, 255)\",\"family\":\"Arial\",\"size\":14},\"showarrow\":false,\"text\":\"23%\",\"x\":64.5,\"xref\":\"x\",\"y\":\"The course developed my<br>ability to think critically about<br>the subject\",\"yref\":\"y\"},{\"font\":{\"color\":\"rgb(248, 248, 255)\",\"family\":\"Arial\",\"size\":14},\"showarrow\":false,\"text\":\"11%\",\"x\":81.5,\"xref\":\"x\",\"y\":\"The course developed my<br>ability to think critically about<br>the subject\",\"yref\":\"y\"},{\"font\":{\"color\":\"rgb(248, 248, 255)\",\"family\":\"Arial\",\"size\":14},\"showarrow\":false,\"text\":\"13%\",\"x\":93.5,\"xref\":\"x\",\"y\":\"The course developed my<br>ability to think critically about<br>the subject\",\"yref\":\"y\"},{\"align\":\"right\",\"font\":{\"color\":\"rgb(67, 67, 67)\",\"family\":\"Arial\",\"size\":14},\"showarrow\":false,\"text\":\"I would recommend this<br>course to a friend\",\"x\":0.14,\"xanchor\":\"right\",\"xref\":\"paper\",\"y\":\"I would recommend this<br>course to a friend\",\"yref\":\"y\"},{\"font\":{\"color\":\"rgb(248, 248, 255)\",\"family\":\"Arial\",\"size\":14},\"showarrow\":false,\"text\":\"29%\",\"x\":14.5,\"xref\":\"x\",\"y\":\"I would recommend this<br>course to a friend\",\"yref\":\"y\"},{\"font\":{\"color\":\"rgb(67, 67, 67)\",\"family\":\"Arial\",\"size\":14},\"showarrow\":false,\"text\":\"Strongly<br>agree\",\"x\":14.5,\"xref\":\"x\",\"y\":1.1,\"yref\":\"paper\"},{\"font\":{\"color\":\"rgb(248, 248, 255)\",\"family\":\"Arial\",\"size\":14},\"showarrow\":false,\"text\":\"24%\",\"x\":41.0,\"xref\":\"x\",\"y\":\"I would recommend this<br>course to a friend\",\"yref\":\"y\"},{\"font\":{\"color\":\"rgb(67, 67, 67)\",\"family\":\"Arial\",\"size\":14},\"showarrow\":false,\"text\":\"Agree\",\"x\":41.0,\"xref\":\"x\",\"y\":1.1,\"yref\":\"paper\"},{\"font\":{\"color\":\"rgb(248, 248, 255)\",\"family\":\"Arial\",\"size\":14},\"showarrow\":false,\"text\":\"15%\",\"x\":60.5,\"xref\":\"x\",\"y\":\"I would recommend this<br>course to a friend\",\"yref\":\"y\"},{\"font\":{\"color\":\"rgb(67, 67, 67)\",\"family\":\"Arial\",\"size\":14},\"showarrow\":false,\"text\":\"Neutral\",\"x\":60.5,\"xref\":\"x\",\"y\":1.1,\"yref\":\"paper\"},{\"font\":{\"color\":\"rgb(248, 248, 255)\",\"family\":\"Arial\",\"size\":14},\"showarrow\":false,\"text\":\"18%\",\"x\":77.0,\"xref\":\"x\",\"y\":\"I would recommend this<br>course to a friend\",\"yref\":\"y\"},{\"font\":{\"color\":\"rgb(67, 67, 67)\",\"family\":\"Arial\",\"size\":14},\"showarrow\":false,\"text\":\"Disagree\",\"x\":77.0,\"xref\":\"x\",\"y\":1.1,\"yref\":\"paper\"},{\"font\":{\"color\":\"rgb(248, 248, 255)\",\"family\":\"Arial\",\"size\":14},\"showarrow\":false,\"text\":\"14%\",\"x\":93.0,\"xref\":\"x\",\"y\":\"I would recommend this<br>course to a friend\",\"yref\":\"y\"},{\"font\":{\"color\":\"rgb(67, 67, 67)\",\"family\":\"Arial\",\"size\":14},\"showarrow\":false,\"text\":\"Strongly<br>disagree\",\"x\":93.0,\"xref\":\"x\",\"y\":1.1,\"yref\":\"paper\"}]},                        {\"responsive\": true}                    ).then(function(){\n",
              "                            \n",
              "var gd = document.getElementById('5a90b1cf-6f70-44c1-9482-1883a9652b37');\n",
              "var x = new MutationObserver(function (mutations, observer) {{\n",
              "        var display = window.getComputedStyle(gd).display;\n",
              "        if (!display || display === 'none') {{\n",
              "            console.log([gd, 'removed!']);\n",
              "            Plotly.purge(gd);\n",
              "            observer.disconnect();\n",
              "        }}\n",
              "}});\n",
              "\n",
              "// Listen for the removal of the full notebook cells\n",
              "var notebookContainer = gd.closest('#notebook-container');\n",
              "if (notebookContainer) {{\n",
              "    x.observe(notebookContainer, {childList: true});\n",
              "}}\n",
              "\n",
              "// Listen for the clearing of the current output cell\n",
              "var outputEl = gd.closest('.output');\n",
              "if (outputEl) {{\n",
              "    x.observe(outputEl, {childList: true});\n",
              "}}\n",
              "\n",
              "                        })                };                            </script>        </div>\n",
              "</body>\n",
              "</html>"
            ]
          },
          "metadata": {}
        }
      ]
    },
    {
      "cell_type": "code",
      "source": [
        "!pip install dash"
      ],
      "metadata": {
        "colab": {
          "base_uri": "https://localhost:8080/"
        },
        "id": "pcjV5gC9a-S2",
        "outputId": "72318488-2f91-4abd-aa20-6ad8e3385917"
      },
      "execution_count": 303,
      "outputs": [
        {
          "output_type": "stream",
          "name": "stdout",
          "text": [
            "Collecting dash\n",
            "  Downloading dash-2.2.0-py3-none-any.whl (8.5 MB)\n",
            "\u001b[K     |████████████████████████████████| 8.5 MB 5.6 MB/s \n",
            "\u001b[?25hCollecting dash-html-components==2.0.0\n",
            "  Downloading dash_html_components-2.0.0-py3-none-any.whl (4.1 kB)\n",
            "Collecting dash-core-components==2.0.0\n",
            "  Downloading dash_core_components-2.0.0-py3-none-any.whl (3.8 kB)\n",
            "Requirement already satisfied: Flask>=1.0.4 in /usr/local/lib/python3.7/dist-packages (from dash) (1.1.4)\n",
            "Collecting dash-table==5.0.0\n",
            "  Downloading dash_table-5.0.0-py3-none-any.whl (3.9 kB)\n",
            "Collecting flask-compress\n",
            "  Downloading Flask_Compress-1.11-py3-none-any.whl (7.9 kB)\n",
            "Requirement already satisfied: plotly>=5.0.0 in /usr/local/lib/python3.7/dist-packages (from dash) (5.6.0)\n",
            "Requirement already satisfied: click<8.0,>=5.1 in /usr/local/lib/python3.7/dist-packages (from Flask>=1.0.4->dash) (7.1.2)\n",
            "Requirement already satisfied: Jinja2<3.0,>=2.10.1 in /usr/local/lib/python3.7/dist-packages (from Flask>=1.0.4->dash) (2.11.3)\n",
            "Requirement already satisfied: Werkzeug<2.0,>=0.15 in /usr/local/lib/python3.7/dist-packages (from Flask>=1.0.4->dash) (1.0.1)\n",
            "Requirement already satisfied: itsdangerous<2.0,>=0.24 in /usr/local/lib/python3.7/dist-packages (from Flask>=1.0.4->dash) (1.1.0)\n",
            "Requirement already satisfied: MarkupSafe>=0.23 in /usr/local/lib/python3.7/dist-packages (from Jinja2<3.0,>=2.10.1->Flask>=1.0.4->dash) (2.0.1)\n",
            "Requirement already satisfied: tenacity>=6.2.0 in /usr/local/lib/python3.7/dist-packages (from plotly>=5.0.0->dash) (8.0.1)\n",
            "Requirement already satisfied: six in /usr/local/lib/python3.7/dist-packages (from plotly>=5.0.0->dash) (1.15.0)\n",
            "Collecting brotli\n",
            "  Downloading Brotli-1.0.9-cp37-cp37m-manylinux1_x86_64.whl (357 kB)\n",
            "\u001b[K     |████████████████████████████████| 357 kB 58.5 MB/s \n",
            "\u001b[?25hInstalling collected packages: brotli, flask-compress, dash-table, dash-html-components, dash-core-components, dash\n",
            "Successfully installed brotli-1.0.9 dash-2.2.0 dash-core-components-2.0.0 dash-html-components-2.0.0 dash-table-5.0.0 flask-compress-1.11\n"
          ]
        }
      ]
    },
    {
      "cell_type": "code",
      "source": [
        "# How to run a Dash app in Google Colab (https://stackoverflow.com/questions/53622518/launch-a-dash-app-in-a-google-colab-notebooky)\n",
        "## Requirements\n",
        "\n",
        "### Install ngrok\n",
        "!wget https://bin.equinox.io/c/4VmDzA7iaHb/ngrok-stable-linux-amd64.zip\n",
        "!unzip ngrok-stable-linux-amd64.zip\n",
        "\n",
        "### Run ngrok to tunnel Dash app port 8050 to the outside world. \n",
        "### This command runs in the background.\n",
        "get_ipython().system_raw('./ngrok http 8050 &')\n",
        "\n",
        "### Get the public URL where you can access the Dash app. Copy this URL.\n",
        "! curl -s http://localhost:4040/api/tunnels | python3 -c \\\n",
        "    \"import sys, json; print(json.load(sys.stdin)['tunnels'][0]['public_url'])\"\n",
        "\n",
        "### Install Dash\n",
        "!pip install dash==0.31.1  # The core dash backend\n",
        "!pip install dash-html-components==0.13.2  # HTML components\n",
        "!pip install dash-core-components==0.39.0  # Supercharged components\n",
        "!pip install dash-table==3.1.7  # Interactive DataTable component (new!)"
      ],
      "metadata": {
        "colab": {
          "base_uri": "https://localhost:8080/"
        },
        "id": "kDxmqu9Wbbre",
        "outputId": "50177d95-d1a9-466c-a1f1-088cca2d118f"
      },
      "execution_count": 1,
      "outputs": [
        {
          "output_type": "stream",
          "name": "stdout",
          "text": [
            "--2022-03-11 19:22:45--  https://bin.equinox.io/c/4VmDzA7iaHb/ngrok-stable-linux-amd64.zip\n",
            "Resolving bin.equinox.io (bin.equinox.io)... 54.237.133.81, 52.202.168.65, 18.205.222.128, ...\n",
            "Connecting to bin.equinox.io (bin.equinox.io)|54.237.133.81|:443... connected.\n",
            "HTTP request sent, awaiting response... 200 OK\n",
            "Length: 13832437 (13M) [application/octet-stream]\n",
            "Saving to: ‘ngrok-stable-linux-amd64.zip.1’\n",
            "\n",
            "ngrok-stable-linux- 100%[===================>]  13.19M  3.38MB/s    in 4.9s    \n",
            "\n",
            "2022-03-11 19:22:50 (2.69 MB/s) - ‘ngrok-stable-linux-amd64.zip.1’ saved [13832437/13832437]\n",
            "\n",
            "Archive:  ngrok-stable-linux-amd64.zip\n",
            "replace ngrok? [y]es, [n]o, [A]ll, [N]one, [r]ename: y\n",
            "  inflating: ngrok                   \n",
            "https://016a-35-233-212-138.ngrok.io\n",
            "Requirement already satisfied: dash==0.31.1 in /usr/local/lib/python3.7/dist-packages (0.31.1)\n",
            "Requirement already satisfied: Flask>=0.12 in /usr/local/lib/python3.7/dist-packages (from dash==0.31.1) (1.1.4)\n",
            "Requirement already satisfied: dash-renderer in /usr/local/lib/python3.7/dist-packages (from dash==0.31.1) (1.9.1)\n",
            "Requirement already satisfied: plotly in /usr/local/lib/python3.7/dist-packages (from dash==0.31.1) (5.6.0)\n",
            "Requirement already satisfied: flask-compress in /usr/local/lib/python3.7/dist-packages (from dash==0.31.1) (1.11)\n",
            "Requirement already satisfied: click<8.0,>=5.1 in /usr/local/lib/python3.7/dist-packages (from Flask>=0.12->dash==0.31.1) (7.1.2)\n",
            "Requirement already satisfied: Jinja2<3.0,>=2.10.1 in /usr/local/lib/python3.7/dist-packages (from Flask>=0.12->dash==0.31.1) (2.11.3)\n",
            "Requirement already satisfied: Werkzeug<2.0,>=0.15 in /usr/local/lib/python3.7/dist-packages (from Flask>=0.12->dash==0.31.1) (1.0.1)\n",
            "Requirement already satisfied: itsdangerous<2.0,>=0.24 in /usr/local/lib/python3.7/dist-packages (from Flask>=0.12->dash==0.31.1) (1.1.0)\n",
            "Requirement already satisfied: MarkupSafe>=0.23 in /usr/local/lib/python3.7/dist-packages (from Jinja2<3.0,>=2.10.1->Flask>=0.12->dash==0.31.1) (2.0.1)\n",
            "Requirement already satisfied: brotli in /usr/local/lib/python3.7/dist-packages (from flask-compress->dash==0.31.1) (1.0.9)\n",
            "Requirement already satisfied: tenacity>=6.2.0 in /usr/local/lib/python3.7/dist-packages (from plotly->dash==0.31.1) (8.0.1)\n",
            "Requirement already satisfied: six in /usr/local/lib/python3.7/dist-packages (from plotly->dash==0.31.1) (1.15.0)\n",
            "Requirement already satisfied: dash-html-components==0.13.2 in /usr/local/lib/python3.7/dist-packages (0.13.2)\n",
            "Requirement already satisfied: dash in /usr/local/lib/python3.7/dist-packages (from dash-html-components==0.13.2) (0.31.1)\n",
            "Requirement already satisfied: plotly in /usr/local/lib/python3.7/dist-packages (from dash->dash-html-components==0.13.2) (5.6.0)\n",
            "Requirement already satisfied: dash-renderer in /usr/local/lib/python3.7/dist-packages (from dash->dash-html-components==0.13.2) (1.9.1)\n",
            "Requirement already satisfied: flask-compress in /usr/local/lib/python3.7/dist-packages (from dash->dash-html-components==0.13.2) (1.11)\n",
            "Requirement already satisfied: Flask>=0.12 in /usr/local/lib/python3.7/dist-packages (from dash->dash-html-components==0.13.2) (1.1.4)\n",
            "Requirement already satisfied: itsdangerous<2.0,>=0.24 in /usr/local/lib/python3.7/dist-packages (from Flask>=0.12->dash->dash-html-components==0.13.2) (1.1.0)\n",
            "Requirement already satisfied: click<8.0,>=5.1 in /usr/local/lib/python3.7/dist-packages (from Flask>=0.12->dash->dash-html-components==0.13.2) (7.1.2)\n",
            "Requirement already satisfied: Jinja2<3.0,>=2.10.1 in /usr/local/lib/python3.7/dist-packages (from Flask>=0.12->dash->dash-html-components==0.13.2) (2.11.3)\n",
            "Requirement already satisfied: Werkzeug<2.0,>=0.15 in /usr/local/lib/python3.7/dist-packages (from Flask>=0.12->dash->dash-html-components==0.13.2) (1.0.1)\n",
            "Requirement already satisfied: MarkupSafe>=0.23 in /usr/local/lib/python3.7/dist-packages (from Jinja2<3.0,>=2.10.1->Flask>=0.12->dash->dash-html-components==0.13.2) (2.0.1)\n",
            "Requirement already satisfied: brotli in /usr/local/lib/python3.7/dist-packages (from flask-compress->dash->dash-html-components==0.13.2) (1.0.9)\n",
            "Requirement already satisfied: six in /usr/local/lib/python3.7/dist-packages (from plotly->dash->dash-html-components==0.13.2) (1.15.0)\n",
            "Requirement already satisfied: tenacity>=6.2.0 in /usr/local/lib/python3.7/dist-packages (from plotly->dash->dash-html-components==0.13.2) (8.0.1)\n",
            "Requirement already satisfied: dash-core-components==0.39.0 in /usr/local/lib/python3.7/dist-packages (0.39.0)\n",
            "Requirement already satisfied: dash in /usr/local/lib/python3.7/dist-packages (from dash-core-components==0.39.0) (0.31.1)\n",
            "Requirement already satisfied: plotly in /usr/local/lib/python3.7/dist-packages (from dash->dash-core-components==0.39.0) (5.6.0)\n",
            "Requirement already satisfied: dash-renderer in /usr/local/lib/python3.7/dist-packages (from dash->dash-core-components==0.39.0) (1.9.1)\n",
            "Requirement already satisfied: flask-compress in /usr/local/lib/python3.7/dist-packages (from dash->dash-core-components==0.39.0) (1.11)\n",
            "Requirement already satisfied: Flask>=0.12 in /usr/local/lib/python3.7/dist-packages (from dash->dash-core-components==0.39.0) (1.1.4)\n",
            "Requirement already satisfied: itsdangerous<2.0,>=0.24 in /usr/local/lib/python3.7/dist-packages (from Flask>=0.12->dash->dash-core-components==0.39.0) (1.1.0)\n",
            "Requirement already satisfied: Jinja2<3.0,>=2.10.1 in /usr/local/lib/python3.7/dist-packages (from Flask>=0.12->dash->dash-core-components==0.39.0) (2.11.3)\n",
            "Requirement already satisfied: click<8.0,>=5.1 in /usr/local/lib/python3.7/dist-packages (from Flask>=0.12->dash->dash-core-components==0.39.0) (7.1.2)\n",
            "Requirement already satisfied: Werkzeug<2.0,>=0.15 in /usr/local/lib/python3.7/dist-packages (from Flask>=0.12->dash->dash-core-components==0.39.0) (1.0.1)\n",
            "Requirement already satisfied: MarkupSafe>=0.23 in /usr/local/lib/python3.7/dist-packages (from Jinja2<3.0,>=2.10.1->Flask>=0.12->dash->dash-core-components==0.39.0) (2.0.1)\n",
            "Requirement already satisfied: brotli in /usr/local/lib/python3.7/dist-packages (from flask-compress->dash->dash-core-components==0.39.0) (1.0.9)\n",
            "Requirement already satisfied: six in /usr/local/lib/python3.7/dist-packages (from plotly->dash->dash-core-components==0.39.0) (1.15.0)\n",
            "Requirement already satisfied: tenacity>=6.2.0 in /usr/local/lib/python3.7/dist-packages (from plotly->dash->dash-core-components==0.39.0) (8.0.1)\n",
            "Requirement already satisfied: dash-table==3.1.7 in /usr/local/lib/python3.7/dist-packages (3.1.7)\n",
            "Requirement already satisfied: dash in /usr/local/lib/python3.7/dist-packages (from dash-table==3.1.7) (0.31.1)\n",
            "Requirement already satisfied: flask-compress in /usr/local/lib/python3.7/dist-packages (from dash->dash-table==3.1.7) (1.11)\n",
            "Requirement already satisfied: Flask>=0.12 in /usr/local/lib/python3.7/dist-packages (from dash->dash-table==3.1.7) (1.1.4)\n",
            "Requirement already satisfied: dash-renderer in /usr/local/lib/python3.7/dist-packages (from dash->dash-table==3.1.7) (1.9.1)\n",
            "Requirement already satisfied: plotly in /usr/local/lib/python3.7/dist-packages (from dash->dash-table==3.1.7) (5.6.0)\n",
            "Requirement already satisfied: Jinja2<3.0,>=2.10.1 in /usr/local/lib/python3.7/dist-packages (from Flask>=0.12->dash->dash-table==3.1.7) (2.11.3)\n",
            "Requirement already satisfied: itsdangerous<2.0,>=0.24 in /usr/local/lib/python3.7/dist-packages (from Flask>=0.12->dash->dash-table==3.1.7) (1.1.0)\n",
            "Requirement already satisfied: Werkzeug<2.0,>=0.15 in /usr/local/lib/python3.7/dist-packages (from Flask>=0.12->dash->dash-table==3.1.7) (1.0.1)\n",
            "Requirement already satisfied: click<8.0,>=5.1 in /usr/local/lib/python3.7/dist-packages (from Flask>=0.12->dash->dash-table==3.1.7) (7.1.2)\n",
            "Requirement already satisfied: MarkupSafe>=0.23 in /usr/local/lib/python3.7/dist-packages (from Jinja2<3.0,>=2.10.1->Flask>=0.12->dash->dash-table==3.1.7) (2.0.1)\n",
            "Requirement already satisfied: brotli in /usr/local/lib/python3.7/dist-packages (from flask-compress->dash->dash-table==3.1.7) (1.0.9)\n",
            "Requirement already satisfied: six in /usr/local/lib/python3.7/dist-packages (from plotly->dash->dash-table==3.1.7) (1.15.0)\n",
            "Requirement already satisfied: tenacity>=6.2.0 in /usr/local/lib/python3.7/dist-packages (from plotly->dash->dash-table==3.1.7) (8.0.1)\n"
          ]
        }
      ]
    },
    {
      "cell_type": "code",
      "source": [
        "## Dash app (https://dash.plot.ly/getting-started)\n",
        "\n",
        "### Save file with Dash app on the Google Colab machine\n",
        "%%writefile my_app1.py\n",
        "import dash\n",
        "import dash_core_components as dcc\n",
        "import dash_html_components as html\n",
        "\n",
        "external_stylesheets = ['https://codepen.io/chriddyp/pen/bWLwgP.css']\n",
        "\n",
        "app = dash.Dash(__name__, external_stylesheets=external_stylesheets)\n",
        "\n",
        "app.layout = html.Div(children=[\n",
        "    html.H1(children='Hello Dash'),\n",
        "\n",
        "    html.Div(children='''\n",
        "        Dash: A web application framework for Python.\n",
        "    '''),\n",
        "\n",
        "    dcc.Graph(\n",
        "        id='example-graph',\n",
        "        figure={\n",
        "            'data': [\n",
        "                {'x': [1, 2, 3], 'y': [4, 1, 2], 'type': 'bar', 'name': 'SF'},\n",
        "                {'x': [1, 2, 3], 'y': [2, 4, 5], 'type': 'bar', 'name': u'Montréal'},\n",
        "            ],\n",
        "            'layout': {\n",
        "                'title': 'Dash Data Visualization'\n",
        "            }\n",
        "        }\n",
        "    )\n",
        "])\n",
        "\n",
        "if __name__ == '__main__':\n",
        "    app.run_server(debug=True)"
      ],
      "metadata": {
        "colab": {
          "base_uri": "https://localhost:8080/"
        },
        "id": "E7k8lMVra73G",
        "outputId": "72e65617-9ea6-48f3-8dcf-333918747f52"
      },
      "execution_count": 2,
      "outputs": [
        {
          "output_type": "stream",
          "name": "stdout",
          "text": [
            "Overwriting my_app1.py\n"
          ]
        }
      ]
    },
    {
      "cell_type": "code",
      "source": [
        "### Run Dash app\n",
        "!python my_app1.py"
      ],
      "metadata": {
        "colab": {
          "base_uri": "https://localhost:8080/"
        },
        "id": "Jri4CqftblBn",
        "outputId": "437be89a-8a9e-466e-a10e-079061f3001d"
      },
      "execution_count": 3,
      "outputs": [
        {
          "output_type": "stream",
          "name": "stdout",
          "text": [
            "Running on http://127.0.0.1:8050/\n",
            "Debugger PIN: 722-452-480\n",
            " * Serving Flask app \"my_app1\" (lazy loading)\n",
            " * Environment: production\n",
            "\u001b[31m   WARNING: This is a development server. Do not use it in a production deployment.\u001b[0m\n",
            "\u001b[2m   Use a production WSGI server instead.\u001b[0m\n",
            " * Debug mode: on\n",
            "Running on http://127.0.0.1:8050/\n",
            "Debugger PIN: 339-687-840\n"
          ]
        }
      ]
    },
    {
      "cell_type": "code",
      "source": [
        "!pip install jupyter-dash -q\n"
      ],
      "metadata": {
        "id": "MvNkAAFycX0D"
      },
      "execution_count": 4,
      "outputs": []
    },
    {
      "cell_type": "code",
      "source": [
        "import plotly.express as px\n",
        "from jupyter_dash import JupyterDash\n",
        "import dash_core_components as dcc\n",
        "import dash_html_components as html\n",
        "from dash.dependencies import Input, Output\n",
        "\n",
        "# Load Data\n",
        "df = px.data.tips()\n",
        "# Build App\n",
        "app = JupyterDash(__name__)\n",
        "app.layout = html.Div([\n",
        "    html.H1(\"JupyterDash Demo\"),\n",
        "    dcc.Graph(id='graph'),\n",
        "    html.Label([\n",
        "        \"colorscale\",\n",
        "        dcc.Dropdown(\n",
        "            id='colorscale-dropdown', clearable=False,\n",
        "            value='plasma', options=[\n",
        "                {'label': c, 'value': c}\n",
        "                for c in px.colors.named_colorscales()\n",
        "            ])\n",
        "    ]),\n",
        "])\n",
        "# Define callback to update graph\n",
        "@app.callback(\n",
        "    Output('graph', 'figure'),\n",
        "    [Input(\"colorscale-dropdown\", \"value\")]\n",
        ")\n",
        "def update_figure(colorscale):\n",
        "    return px.scatter(\n",
        "        df, x=\"total_bill\", y=\"tip\", color=\"size\",\n",
        "        color_continuous_scale=colorscale,\n",
        "        render_mode=\"webgl\", title=\"Tips\"\n",
        "    )\n",
        "# Run app and display result inline in the notebook\n",
        "app.run_server(mode='inline')"
      ],
      "metadata": {
        "colab": {
          "base_uri": "https://localhost:8080/",
          "height": 640
        },
        "id": "OkMRzPI3cvLq",
        "outputId": "80d19283-e615-4454-b96a-b38f603c4d68"
      },
      "execution_count": 5,
      "outputs": [
        {
          "output_type": "error",
          "ename": "ConnectionError",
          "evalue": "ignored",
          "traceback": [
            "\u001b[0;31m---------------------------------------------------------------------------\u001b[0m",
            "\u001b[0;31mConnectionRefusedError\u001b[0m                    Traceback (most recent call last)",
            "\u001b[0;32m/usr/local/lib/python3.7/dist-packages/urllib3/connection.py\u001b[0m in \u001b[0;36m_new_conn\u001b[0;34m(self)\u001b[0m\n\u001b[1;32m    158\u001b[0m             conn = connection.create_connection(\n\u001b[0;32m--> 159\u001b[0;31m                 (self._dns_host, self.port), self.timeout, **extra_kw)\n\u001b[0m\u001b[1;32m    160\u001b[0m \u001b[0;34m\u001b[0m\u001b[0m\n",
            "\u001b[0;32m/usr/local/lib/python3.7/dist-packages/urllib3/util/connection.py\u001b[0m in \u001b[0;36mcreate_connection\u001b[0;34m(address, timeout, source_address, socket_options)\u001b[0m\n\u001b[1;32m     79\u001b[0m     \u001b[0;32mif\u001b[0m \u001b[0merr\u001b[0m \u001b[0;32mis\u001b[0m \u001b[0;32mnot\u001b[0m \u001b[0;32mNone\u001b[0m\u001b[0;34m:\u001b[0m\u001b[0;34m\u001b[0m\u001b[0;34m\u001b[0m\u001b[0m\n\u001b[0;32m---> 80\u001b[0;31m         \u001b[0;32mraise\u001b[0m \u001b[0merr\u001b[0m\u001b[0;34m\u001b[0m\u001b[0;34m\u001b[0m\u001b[0m\n\u001b[0m\u001b[1;32m     81\u001b[0m \u001b[0;34m\u001b[0m\u001b[0m\n",
            "\u001b[0;32m/usr/local/lib/python3.7/dist-packages/urllib3/util/connection.py\u001b[0m in \u001b[0;36mcreate_connection\u001b[0;34m(address, timeout, source_address, socket_options)\u001b[0m\n\u001b[1;32m     69\u001b[0m                 \u001b[0msock\u001b[0m\u001b[0;34m.\u001b[0m\u001b[0mbind\u001b[0m\u001b[0;34m(\u001b[0m\u001b[0msource_address\u001b[0m\u001b[0;34m)\u001b[0m\u001b[0;34m\u001b[0m\u001b[0;34m\u001b[0m\u001b[0m\n\u001b[0;32m---> 70\u001b[0;31m             \u001b[0msock\u001b[0m\u001b[0;34m.\u001b[0m\u001b[0mconnect\u001b[0m\u001b[0;34m(\u001b[0m\u001b[0msa\u001b[0m\u001b[0;34m)\u001b[0m\u001b[0;34m\u001b[0m\u001b[0;34m\u001b[0m\u001b[0m\n\u001b[0m\u001b[1;32m     71\u001b[0m             \u001b[0;32mreturn\u001b[0m \u001b[0msock\u001b[0m\u001b[0;34m\u001b[0m\u001b[0;34m\u001b[0m\u001b[0m\n",
            "\u001b[0;31mConnectionRefusedError\u001b[0m: [Errno 111] Connection refused",
            "\nDuring handling of the above exception, another exception occurred:\n",
            "\u001b[0;31mNewConnectionError\u001b[0m                        Traceback (most recent call last)",
            "\u001b[0;32m/usr/local/lib/python3.7/dist-packages/urllib3/connectionpool.py\u001b[0m in \u001b[0;36murlopen\u001b[0;34m(self, method, url, body, headers, retries, redirect, assert_same_host, timeout, pool_timeout, release_conn, chunked, body_pos, **response_kw)\u001b[0m\n\u001b[1;32m    599\u001b[0m                                                   \u001b[0mbody\u001b[0m\u001b[0;34m=\u001b[0m\u001b[0mbody\u001b[0m\u001b[0;34m,\u001b[0m \u001b[0mheaders\u001b[0m\u001b[0;34m=\u001b[0m\u001b[0mheaders\u001b[0m\u001b[0;34m,\u001b[0m\u001b[0;34m\u001b[0m\u001b[0;34m\u001b[0m\u001b[0m\n\u001b[0;32m--> 600\u001b[0;31m                                                   chunked=chunked)\n\u001b[0m\u001b[1;32m    601\u001b[0m \u001b[0;34m\u001b[0m\u001b[0m\n",
            "\u001b[0;32m/usr/local/lib/python3.7/dist-packages/urllib3/connectionpool.py\u001b[0m in \u001b[0;36m_make_request\u001b[0;34m(self, conn, method, url, timeout, chunked, **httplib_request_kw)\u001b[0m\n\u001b[1;32m    353\u001b[0m         \u001b[0;32melse\u001b[0m\u001b[0;34m:\u001b[0m\u001b[0;34m\u001b[0m\u001b[0;34m\u001b[0m\u001b[0m\n\u001b[0;32m--> 354\u001b[0;31m             \u001b[0mconn\u001b[0m\u001b[0;34m.\u001b[0m\u001b[0mrequest\u001b[0m\u001b[0;34m(\u001b[0m\u001b[0mmethod\u001b[0m\u001b[0;34m,\u001b[0m \u001b[0murl\u001b[0m\u001b[0;34m,\u001b[0m \u001b[0;34m**\u001b[0m\u001b[0mhttplib_request_kw\u001b[0m\u001b[0;34m)\u001b[0m\u001b[0;34m\u001b[0m\u001b[0;34m\u001b[0m\u001b[0m\n\u001b[0m\u001b[1;32m    355\u001b[0m \u001b[0;34m\u001b[0m\u001b[0m\n",
            "\u001b[0;32m/usr/lib/python3.7/http/client.py\u001b[0m in \u001b[0;36mrequest\u001b[0;34m(self, method, url, body, headers, encode_chunked)\u001b[0m\n\u001b[1;32m   1280\u001b[0m         \u001b[0;34m\"\"\"Send a complete request to the server.\"\"\"\u001b[0m\u001b[0;34m\u001b[0m\u001b[0;34m\u001b[0m\u001b[0m\n\u001b[0;32m-> 1281\u001b[0;31m         \u001b[0mself\u001b[0m\u001b[0;34m.\u001b[0m\u001b[0m_send_request\u001b[0m\u001b[0;34m(\u001b[0m\u001b[0mmethod\u001b[0m\u001b[0;34m,\u001b[0m \u001b[0murl\u001b[0m\u001b[0;34m,\u001b[0m \u001b[0mbody\u001b[0m\u001b[0;34m,\u001b[0m \u001b[0mheaders\u001b[0m\u001b[0;34m,\u001b[0m \u001b[0mencode_chunked\u001b[0m\u001b[0;34m)\u001b[0m\u001b[0;34m\u001b[0m\u001b[0;34m\u001b[0m\u001b[0m\n\u001b[0m\u001b[1;32m   1282\u001b[0m \u001b[0;34m\u001b[0m\u001b[0m\n",
            "\u001b[0;32m/usr/lib/python3.7/http/client.py\u001b[0m in \u001b[0;36m_send_request\u001b[0;34m(self, method, url, body, headers, encode_chunked)\u001b[0m\n\u001b[1;32m   1326\u001b[0m             \u001b[0mbody\u001b[0m \u001b[0;34m=\u001b[0m \u001b[0m_encode\u001b[0m\u001b[0;34m(\u001b[0m\u001b[0mbody\u001b[0m\u001b[0;34m,\u001b[0m \u001b[0;34m'body'\u001b[0m\u001b[0;34m)\u001b[0m\u001b[0;34m\u001b[0m\u001b[0;34m\u001b[0m\u001b[0m\n\u001b[0;32m-> 1327\u001b[0;31m         \u001b[0mself\u001b[0m\u001b[0;34m.\u001b[0m\u001b[0mendheaders\u001b[0m\u001b[0;34m(\u001b[0m\u001b[0mbody\u001b[0m\u001b[0;34m,\u001b[0m \u001b[0mencode_chunked\u001b[0m\u001b[0;34m=\u001b[0m\u001b[0mencode_chunked\u001b[0m\u001b[0;34m)\u001b[0m\u001b[0;34m\u001b[0m\u001b[0;34m\u001b[0m\u001b[0m\n\u001b[0m\u001b[1;32m   1328\u001b[0m \u001b[0;34m\u001b[0m\u001b[0m\n",
            "\u001b[0;32m/usr/lib/python3.7/http/client.py\u001b[0m in \u001b[0;36mendheaders\u001b[0;34m(self, message_body, encode_chunked)\u001b[0m\n\u001b[1;32m   1275\u001b[0m             \u001b[0;32mraise\u001b[0m \u001b[0mCannotSendHeader\u001b[0m\u001b[0;34m(\u001b[0m\u001b[0;34m)\u001b[0m\u001b[0;34m\u001b[0m\u001b[0;34m\u001b[0m\u001b[0m\n\u001b[0;32m-> 1276\u001b[0;31m         \u001b[0mself\u001b[0m\u001b[0;34m.\u001b[0m\u001b[0m_send_output\u001b[0m\u001b[0;34m(\u001b[0m\u001b[0mmessage_body\u001b[0m\u001b[0;34m,\u001b[0m \u001b[0mencode_chunked\u001b[0m\u001b[0;34m=\u001b[0m\u001b[0mencode_chunked\u001b[0m\u001b[0;34m)\u001b[0m\u001b[0;34m\u001b[0m\u001b[0;34m\u001b[0m\u001b[0m\n\u001b[0m\u001b[1;32m   1277\u001b[0m \u001b[0;34m\u001b[0m\u001b[0m\n",
            "\u001b[0;32m/usr/lib/python3.7/http/client.py\u001b[0m in \u001b[0;36m_send_output\u001b[0;34m(self, message_body, encode_chunked)\u001b[0m\n\u001b[1;32m   1035\u001b[0m         \u001b[0;32mdel\u001b[0m \u001b[0mself\u001b[0m\u001b[0;34m.\u001b[0m\u001b[0m_buffer\u001b[0m\u001b[0;34m[\u001b[0m\u001b[0;34m:\u001b[0m\u001b[0;34m]\u001b[0m\u001b[0;34m\u001b[0m\u001b[0;34m\u001b[0m\u001b[0m\n\u001b[0;32m-> 1036\u001b[0;31m         \u001b[0mself\u001b[0m\u001b[0;34m.\u001b[0m\u001b[0msend\u001b[0m\u001b[0;34m(\u001b[0m\u001b[0mmsg\u001b[0m\u001b[0;34m)\u001b[0m\u001b[0;34m\u001b[0m\u001b[0;34m\u001b[0m\u001b[0m\n\u001b[0m\u001b[1;32m   1037\u001b[0m \u001b[0;34m\u001b[0m\u001b[0m\n",
            "\u001b[0;32m/usr/lib/python3.7/http/client.py\u001b[0m in \u001b[0;36msend\u001b[0;34m(self, data)\u001b[0m\n\u001b[1;32m    975\u001b[0m             \u001b[0;32mif\u001b[0m \u001b[0mself\u001b[0m\u001b[0;34m.\u001b[0m\u001b[0mauto_open\u001b[0m\u001b[0;34m:\u001b[0m\u001b[0;34m\u001b[0m\u001b[0;34m\u001b[0m\u001b[0m\n\u001b[0;32m--> 976\u001b[0;31m                 \u001b[0mself\u001b[0m\u001b[0;34m.\u001b[0m\u001b[0mconnect\u001b[0m\u001b[0;34m(\u001b[0m\u001b[0;34m)\u001b[0m\u001b[0;34m\u001b[0m\u001b[0;34m\u001b[0m\u001b[0m\n\u001b[0m\u001b[1;32m    977\u001b[0m             \u001b[0;32melse\u001b[0m\u001b[0;34m:\u001b[0m\u001b[0;34m\u001b[0m\u001b[0;34m\u001b[0m\u001b[0m\n",
            "\u001b[0;32m/usr/local/lib/python3.7/dist-packages/urllib3/connection.py\u001b[0m in \u001b[0;36mconnect\u001b[0;34m(self)\u001b[0m\n\u001b[1;32m    180\u001b[0m     \u001b[0;32mdef\u001b[0m \u001b[0mconnect\u001b[0m\u001b[0;34m(\u001b[0m\u001b[0mself\u001b[0m\u001b[0;34m)\u001b[0m\u001b[0;34m:\u001b[0m\u001b[0;34m\u001b[0m\u001b[0;34m\u001b[0m\u001b[0m\n\u001b[0;32m--> 181\u001b[0;31m         \u001b[0mconn\u001b[0m \u001b[0;34m=\u001b[0m \u001b[0mself\u001b[0m\u001b[0;34m.\u001b[0m\u001b[0m_new_conn\u001b[0m\u001b[0;34m(\u001b[0m\u001b[0;34m)\u001b[0m\u001b[0;34m\u001b[0m\u001b[0;34m\u001b[0m\u001b[0m\n\u001b[0m\u001b[1;32m    182\u001b[0m         \u001b[0mself\u001b[0m\u001b[0;34m.\u001b[0m\u001b[0m_prepare_conn\u001b[0m\u001b[0;34m(\u001b[0m\u001b[0mconn\u001b[0m\u001b[0;34m)\u001b[0m\u001b[0;34m\u001b[0m\u001b[0;34m\u001b[0m\u001b[0m\n",
            "\u001b[0;32m/usr/local/lib/python3.7/dist-packages/urllib3/connection.py\u001b[0m in \u001b[0;36m_new_conn\u001b[0;34m(self)\u001b[0m\n\u001b[1;32m    167\u001b[0m             raise NewConnectionError(\n\u001b[0;32m--> 168\u001b[0;31m                 self, \"Failed to establish a new connection: %s\" % e)\n\u001b[0m\u001b[1;32m    169\u001b[0m \u001b[0;34m\u001b[0m\u001b[0m\n",
            "\u001b[0;31mNewConnectionError\u001b[0m: <urllib3.connection.HTTPConnection object at 0x7fdea18e6f50>: Failed to establish a new connection: [Errno 111] Connection refused",
            "\nDuring handling of the above exception, another exception occurred:\n",
            "\u001b[0;31mMaxRetryError\u001b[0m                             Traceback (most recent call last)",
            "\u001b[0;32m/usr/local/lib/python3.7/dist-packages/requests/adapters.py\u001b[0m in \u001b[0;36msend\u001b[0;34m(self, request, stream, timeout, verify, cert, proxies)\u001b[0m\n\u001b[1;32m    448\u001b[0m                     \u001b[0mretries\u001b[0m\u001b[0;34m=\u001b[0m\u001b[0mself\u001b[0m\u001b[0;34m.\u001b[0m\u001b[0mmax_retries\u001b[0m\u001b[0;34m,\u001b[0m\u001b[0;34m\u001b[0m\u001b[0;34m\u001b[0m\u001b[0m\n\u001b[0;32m--> 449\u001b[0;31m                     \u001b[0mtimeout\u001b[0m\u001b[0;34m=\u001b[0m\u001b[0mtimeout\u001b[0m\u001b[0;34m\u001b[0m\u001b[0;34m\u001b[0m\u001b[0m\n\u001b[0m\u001b[1;32m    450\u001b[0m                 )\n",
            "\u001b[0;32m/usr/local/lib/python3.7/dist-packages/urllib3/connectionpool.py\u001b[0m in \u001b[0;36murlopen\u001b[0;34m(self, method, url, body, headers, retries, redirect, assert_same_host, timeout, pool_timeout, release_conn, chunked, body_pos, **response_kw)\u001b[0m\n\u001b[1;32m    637\u001b[0m             retries = retries.increment(method, url, error=e, _pool=self,\n\u001b[0;32m--> 638\u001b[0;31m                                         _stacktrace=sys.exc_info()[2])\n\u001b[0m\u001b[1;32m    639\u001b[0m             \u001b[0mretries\u001b[0m\u001b[0;34m.\u001b[0m\u001b[0msleep\u001b[0m\u001b[0;34m(\u001b[0m\u001b[0;34m)\u001b[0m\u001b[0;34m\u001b[0m\u001b[0;34m\u001b[0m\u001b[0m\n",
            "\u001b[0;32m/usr/local/lib/python3.7/dist-packages/urllib3/util/retry.py\u001b[0m in \u001b[0;36mincrement\u001b[0;34m(self, method, url, response, error, _pool, _stacktrace)\u001b[0m\n\u001b[1;32m    398\u001b[0m         \u001b[0;32mif\u001b[0m \u001b[0mnew_retry\u001b[0m\u001b[0;34m.\u001b[0m\u001b[0mis_exhausted\u001b[0m\u001b[0;34m(\u001b[0m\u001b[0;34m)\u001b[0m\u001b[0;34m:\u001b[0m\u001b[0;34m\u001b[0m\u001b[0;34m\u001b[0m\u001b[0m\n\u001b[0;32m--> 399\u001b[0;31m             \u001b[0;32mraise\u001b[0m \u001b[0mMaxRetryError\u001b[0m\u001b[0;34m(\u001b[0m\u001b[0m_pool\u001b[0m\u001b[0;34m,\u001b[0m \u001b[0murl\u001b[0m\u001b[0;34m,\u001b[0m \u001b[0merror\u001b[0m \u001b[0;32mor\u001b[0m \u001b[0mResponseError\u001b[0m\u001b[0;34m(\u001b[0m\u001b[0mcause\u001b[0m\u001b[0;34m)\u001b[0m\u001b[0;34m)\u001b[0m\u001b[0;34m\u001b[0m\u001b[0;34m\u001b[0m\u001b[0m\n\u001b[0m\u001b[1;32m    400\u001b[0m \u001b[0;34m\u001b[0m\u001b[0m\n",
            "\u001b[0;31mMaxRetryError\u001b[0m: HTTPConnectionPool(host='127.0.0.1', port=8050): Max retries exceeded with url: /_alive_e5e26926-fd0d-47eb-a88d-941ae0576436 (Caused by NewConnectionError('<urllib3.connection.HTTPConnection object at 0x7fdea18e6f50>: Failed to establish a new connection: [Errno 111] Connection refused'))",
            "\nDuring handling of the above exception, another exception occurred:\n",
            "\u001b[0;31mConnectionError\u001b[0m                           Traceback (most recent call last)",
            "\u001b[0;32m<ipython-input-5-86cbab2120d9>\u001b[0m in \u001b[0;36m<module>\u001b[0;34m()\u001b[0m\n\u001b[1;32m     34\u001b[0m     )\n\u001b[1;32m     35\u001b[0m \u001b[0;31m# Run app and display result inline in the notebook\u001b[0m\u001b[0;34m\u001b[0m\u001b[0;34m\u001b[0m\u001b[0;34m\u001b[0m\u001b[0m\n\u001b[0;32m---> 36\u001b[0;31m \u001b[0mapp\u001b[0m\u001b[0;34m.\u001b[0m\u001b[0mrun_server\u001b[0m\u001b[0;34m(\u001b[0m\u001b[0mmode\u001b[0m\u001b[0;34m=\u001b[0m\u001b[0;34m'inline'\u001b[0m\u001b[0;34m)\u001b[0m\u001b[0;34m\u001b[0m\u001b[0;34m\u001b[0m\u001b[0m\n\u001b[0m",
            "\u001b[0;32m/usr/local/lib/python3.7/dist-packages/jupyter_dash/jupyter_app.py\u001b[0m in \u001b[0;36mrun_server\u001b[0;34m(self, mode, width, height, inline_exceptions, **kwargs)\u001b[0m\n\u001b[1;32m    320\u001b[0m                 )\n\u001b[1;32m    321\u001b[0m \u001b[0;34m\u001b[0m\u001b[0m\n\u001b[0;32m--> 322\u001b[0;31m         \u001b[0mwait_for_app\u001b[0m\u001b[0;34m(\u001b[0m\u001b[0;34m)\u001b[0m\u001b[0;34m\u001b[0m\u001b[0;34m\u001b[0m\u001b[0m\n\u001b[0m\u001b[1;32m    323\u001b[0m \u001b[0;34m\u001b[0m\u001b[0m\n\u001b[1;32m    324\u001b[0m         \u001b[0;32mif\u001b[0m \u001b[0mJupyterDash\u001b[0m\u001b[0;34m.\u001b[0m\u001b[0m_in_colab\u001b[0m\u001b[0;34m:\u001b[0m\u001b[0;34m\u001b[0m\u001b[0;34m\u001b[0m\u001b[0m\n",
            "\u001b[0;32m/usr/local/lib/python3.7/dist-packages/retrying.py\u001b[0m in \u001b[0;36mwrapped_f\u001b[0;34m(*args, **kw)\u001b[0m\n\u001b[1;32m     47\u001b[0m             \u001b[0;34m@\u001b[0m\u001b[0msix\u001b[0m\u001b[0;34m.\u001b[0m\u001b[0mwraps\u001b[0m\u001b[0;34m(\u001b[0m\u001b[0mf\u001b[0m\u001b[0;34m)\u001b[0m\u001b[0;34m\u001b[0m\u001b[0;34m\u001b[0m\u001b[0m\n\u001b[1;32m     48\u001b[0m             \u001b[0;32mdef\u001b[0m \u001b[0mwrapped_f\u001b[0m\u001b[0;34m(\u001b[0m\u001b[0;34m*\u001b[0m\u001b[0margs\u001b[0m\u001b[0;34m,\u001b[0m \u001b[0;34m**\u001b[0m\u001b[0mkw\u001b[0m\u001b[0;34m)\u001b[0m\u001b[0;34m:\u001b[0m\u001b[0;34m\u001b[0m\u001b[0;34m\u001b[0m\u001b[0m\n\u001b[0;32m---> 49\u001b[0;31m                 \u001b[0;32mreturn\u001b[0m \u001b[0mRetrying\u001b[0m\u001b[0;34m(\u001b[0m\u001b[0;34m*\u001b[0m\u001b[0mdargs\u001b[0m\u001b[0;34m,\u001b[0m \u001b[0;34m**\u001b[0m\u001b[0mdkw\u001b[0m\u001b[0;34m)\u001b[0m\u001b[0;34m.\u001b[0m\u001b[0mcall\u001b[0m\u001b[0;34m(\u001b[0m\u001b[0mf\u001b[0m\u001b[0;34m,\u001b[0m \u001b[0;34m*\u001b[0m\u001b[0margs\u001b[0m\u001b[0;34m,\u001b[0m \u001b[0;34m**\u001b[0m\u001b[0mkw\u001b[0m\u001b[0;34m)\u001b[0m\u001b[0;34m\u001b[0m\u001b[0;34m\u001b[0m\u001b[0m\n\u001b[0m\u001b[1;32m     50\u001b[0m \u001b[0;34m\u001b[0m\u001b[0m\n\u001b[1;32m     51\u001b[0m             \u001b[0;32mreturn\u001b[0m \u001b[0mwrapped_f\u001b[0m\u001b[0;34m\u001b[0m\u001b[0;34m\u001b[0m\u001b[0m\n",
            "\u001b[0;32m/usr/local/lib/python3.7/dist-packages/retrying.py\u001b[0m in \u001b[0;36mcall\u001b[0;34m(self, fn, *args, **kwargs)\u001b[0m\n\u001b[1;32m    210\u001b[0m                 \u001b[0;32mif\u001b[0m \u001b[0;32mnot\u001b[0m \u001b[0mself\u001b[0m\u001b[0;34m.\u001b[0m\u001b[0m_wrap_exception\u001b[0m \u001b[0;32mand\u001b[0m \u001b[0mattempt\u001b[0m\u001b[0;34m.\u001b[0m\u001b[0mhas_exception\u001b[0m\u001b[0;34m:\u001b[0m\u001b[0;34m\u001b[0m\u001b[0;34m\u001b[0m\u001b[0m\n\u001b[1;32m    211\u001b[0m                     \u001b[0;31m# get() on an attempt with an exception should cause it to be raised, but raise just in case\u001b[0m\u001b[0;34m\u001b[0m\u001b[0;34m\u001b[0m\u001b[0;34m\u001b[0m\u001b[0m\n\u001b[0;32m--> 212\u001b[0;31m                     \u001b[0;32mraise\u001b[0m \u001b[0mattempt\u001b[0m\u001b[0;34m.\u001b[0m\u001b[0mget\u001b[0m\u001b[0;34m(\u001b[0m\u001b[0;34m)\u001b[0m\u001b[0;34m\u001b[0m\u001b[0;34m\u001b[0m\u001b[0m\n\u001b[0m\u001b[1;32m    213\u001b[0m                 \u001b[0;32melse\u001b[0m\u001b[0;34m:\u001b[0m\u001b[0;34m\u001b[0m\u001b[0;34m\u001b[0m\u001b[0m\n\u001b[1;32m    214\u001b[0m                     \u001b[0;32mraise\u001b[0m \u001b[0mRetryError\u001b[0m\u001b[0;34m(\u001b[0m\u001b[0mattempt\u001b[0m\u001b[0;34m)\u001b[0m\u001b[0;34m\u001b[0m\u001b[0;34m\u001b[0m\u001b[0m\n",
            "\u001b[0;32m/usr/local/lib/python3.7/dist-packages/retrying.py\u001b[0m in \u001b[0;36mget\u001b[0;34m(self, wrap_exception)\u001b[0m\n\u001b[1;32m    245\u001b[0m                 \u001b[0;32mraise\u001b[0m \u001b[0mRetryError\u001b[0m\u001b[0;34m(\u001b[0m\u001b[0mself\u001b[0m\u001b[0;34m)\u001b[0m\u001b[0;34m\u001b[0m\u001b[0;34m\u001b[0m\u001b[0m\n\u001b[1;32m    246\u001b[0m             \u001b[0;32melse\u001b[0m\u001b[0;34m:\u001b[0m\u001b[0;34m\u001b[0m\u001b[0;34m\u001b[0m\u001b[0m\n\u001b[0;32m--> 247\u001b[0;31m                 \u001b[0msix\u001b[0m\u001b[0;34m.\u001b[0m\u001b[0mreraise\u001b[0m\u001b[0;34m(\u001b[0m\u001b[0mself\u001b[0m\u001b[0;34m.\u001b[0m\u001b[0mvalue\u001b[0m\u001b[0;34m[\u001b[0m\u001b[0;36m0\u001b[0m\u001b[0;34m]\u001b[0m\u001b[0;34m,\u001b[0m \u001b[0mself\u001b[0m\u001b[0;34m.\u001b[0m\u001b[0mvalue\u001b[0m\u001b[0;34m[\u001b[0m\u001b[0;36m1\u001b[0m\u001b[0;34m]\u001b[0m\u001b[0;34m,\u001b[0m \u001b[0mself\u001b[0m\u001b[0;34m.\u001b[0m\u001b[0mvalue\u001b[0m\u001b[0;34m[\u001b[0m\u001b[0;36m2\u001b[0m\u001b[0;34m]\u001b[0m\u001b[0;34m)\u001b[0m\u001b[0;34m\u001b[0m\u001b[0;34m\u001b[0m\u001b[0m\n\u001b[0m\u001b[1;32m    248\u001b[0m         \u001b[0;32melse\u001b[0m\u001b[0;34m:\u001b[0m\u001b[0;34m\u001b[0m\u001b[0;34m\u001b[0m\u001b[0m\n\u001b[1;32m    249\u001b[0m             \u001b[0;32mreturn\u001b[0m \u001b[0mself\u001b[0m\u001b[0;34m.\u001b[0m\u001b[0mvalue\u001b[0m\u001b[0;34m\u001b[0m\u001b[0;34m\u001b[0m\u001b[0m\n",
            "\u001b[0;32m/usr/local/lib/python3.7/dist-packages/six.py\u001b[0m in \u001b[0;36mreraise\u001b[0;34m(tp, value, tb)\u001b[0m\n\u001b[1;32m    701\u001b[0m             \u001b[0;32mif\u001b[0m \u001b[0mvalue\u001b[0m\u001b[0;34m.\u001b[0m\u001b[0m__traceback__\u001b[0m \u001b[0;32mis\u001b[0m \u001b[0;32mnot\u001b[0m \u001b[0mtb\u001b[0m\u001b[0;34m:\u001b[0m\u001b[0;34m\u001b[0m\u001b[0;34m\u001b[0m\u001b[0m\n\u001b[1;32m    702\u001b[0m                 \u001b[0;32mraise\u001b[0m \u001b[0mvalue\u001b[0m\u001b[0;34m.\u001b[0m\u001b[0mwith_traceback\u001b[0m\u001b[0;34m(\u001b[0m\u001b[0mtb\u001b[0m\u001b[0;34m)\u001b[0m\u001b[0;34m\u001b[0m\u001b[0;34m\u001b[0m\u001b[0m\n\u001b[0;32m--> 703\u001b[0;31m             \u001b[0;32mraise\u001b[0m \u001b[0mvalue\u001b[0m\u001b[0;34m\u001b[0m\u001b[0;34m\u001b[0m\u001b[0m\n\u001b[0m\u001b[1;32m    704\u001b[0m         \u001b[0;32mfinally\u001b[0m\u001b[0;34m:\u001b[0m\u001b[0;34m\u001b[0m\u001b[0;34m\u001b[0m\u001b[0m\n\u001b[1;32m    705\u001b[0m             \u001b[0mvalue\u001b[0m \u001b[0;34m=\u001b[0m \u001b[0;32mNone\u001b[0m\u001b[0;34m\u001b[0m\u001b[0;34m\u001b[0m\u001b[0m\n",
            "\u001b[0;32m/usr/local/lib/python3.7/dist-packages/retrying.py\u001b[0m in \u001b[0;36mcall\u001b[0;34m(self, fn, *args, **kwargs)\u001b[0m\n\u001b[1;32m    198\u001b[0m         \u001b[0;32mwhile\u001b[0m \u001b[0;32mTrue\u001b[0m\u001b[0;34m:\u001b[0m\u001b[0;34m\u001b[0m\u001b[0;34m\u001b[0m\u001b[0m\n\u001b[1;32m    199\u001b[0m             \u001b[0;32mtry\u001b[0m\u001b[0;34m:\u001b[0m\u001b[0;34m\u001b[0m\u001b[0;34m\u001b[0m\u001b[0m\n\u001b[0;32m--> 200\u001b[0;31m                 \u001b[0mattempt\u001b[0m \u001b[0;34m=\u001b[0m \u001b[0mAttempt\u001b[0m\u001b[0;34m(\u001b[0m\u001b[0mfn\u001b[0m\u001b[0;34m(\u001b[0m\u001b[0;34m*\u001b[0m\u001b[0margs\u001b[0m\u001b[0;34m,\u001b[0m \u001b[0;34m**\u001b[0m\u001b[0mkwargs\u001b[0m\u001b[0;34m)\u001b[0m\u001b[0;34m,\u001b[0m \u001b[0mattempt_number\u001b[0m\u001b[0;34m,\u001b[0m \u001b[0;32mFalse\u001b[0m\u001b[0;34m)\u001b[0m\u001b[0;34m\u001b[0m\u001b[0;34m\u001b[0m\u001b[0m\n\u001b[0m\u001b[1;32m    201\u001b[0m             \u001b[0;32mexcept\u001b[0m\u001b[0;34m:\u001b[0m\u001b[0;34m\u001b[0m\u001b[0;34m\u001b[0m\u001b[0m\n\u001b[1;32m    202\u001b[0m                 \u001b[0mtb\u001b[0m \u001b[0;34m=\u001b[0m \u001b[0msys\u001b[0m\u001b[0;34m.\u001b[0m\u001b[0mexc_info\u001b[0m\u001b[0;34m(\u001b[0m\u001b[0;34m)\u001b[0m\u001b[0;34m\u001b[0m\u001b[0;34m\u001b[0m\u001b[0m\n",
            "\u001b[0;32m/usr/local/lib/python3.7/dist-packages/jupyter_dash/jupyter_app.py\u001b[0m in \u001b[0;36mwait_for_app\u001b[0;34m()\u001b[0m\n\u001b[1;32m    308\u001b[0m         )\n\u001b[1;32m    309\u001b[0m         \u001b[0;32mdef\u001b[0m \u001b[0mwait_for_app\u001b[0m\u001b[0;34m(\u001b[0m\u001b[0;34m)\u001b[0m\u001b[0;34m:\u001b[0m\u001b[0;34m\u001b[0m\u001b[0;34m\u001b[0m\u001b[0m\n\u001b[0;32m--> 310\u001b[0;31m             \u001b[0mres\u001b[0m \u001b[0;34m=\u001b[0m \u001b[0mrequests\u001b[0m\u001b[0;34m.\u001b[0m\u001b[0mget\u001b[0m\u001b[0;34m(\u001b[0m\u001b[0malive_url\u001b[0m\u001b[0;34m)\u001b[0m\u001b[0;34m.\u001b[0m\u001b[0mcontent\u001b[0m\u001b[0;34m.\u001b[0m\u001b[0mdecode\u001b[0m\u001b[0;34m(\u001b[0m\u001b[0;34m)\u001b[0m\u001b[0;34m\u001b[0m\u001b[0;34m\u001b[0m\u001b[0m\n\u001b[0m\u001b[1;32m    311\u001b[0m             \u001b[0;32mif\u001b[0m \u001b[0mres\u001b[0m \u001b[0;34m!=\u001b[0m \u001b[0;34m\"Alive\"\u001b[0m\u001b[0;34m:\u001b[0m\u001b[0;34m\u001b[0m\u001b[0;34m\u001b[0m\u001b[0m\n\u001b[1;32m    312\u001b[0m                 url = \"http://{host}:{port}\".format(\n",
            "\u001b[0;32m/usr/local/lib/python3.7/dist-packages/requests/api.py\u001b[0m in \u001b[0;36mget\u001b[0;34m(url, params, **kwargs)\u001b[0m\n\u001b[1;32m     74\u001b[0m \u001b[0;34m\u001b[0m\u001b[0m\n\u001b[1;32m     75\u001b[0m     \u001b[0mkwargs\u001b[0m\u001b[0;34m.\u001b[0m\u001b[0msetdefault\u001b[0m\u001b[0;34m(\u001b[0m\u001b[0;34m'allow_redirects'\u001b[0m\u001b[0;34m,\u001b[0m \u001b[0;32mTrue\u001b[0m\u001b[0;34m)\u001b[0m\u001b[0;34m\u001b[0m\u001b[0;34m\u001b[0m\u001b[0m\n\u001b[0;32m---> 76\u001b[0;31m     \u001b[0;32mreturn\u001b[0m \u001b[0mrequest\u001b[0m\u001b[0;34m(\u001b[0m\u001b[0;34m'get'\u001b[0m\u001b[0;34m,\u001b[0m \u001b[0murl\u001b[0m\u001b[0;34m,\u001b[0m \u001b[0mparams\u001b[0m\u001b[0;34m=\u001b[0m\u001b[0mparams\u001b[0m\u001b[0;34m,\u001b[0m \u001b[0;34m**\u001b[0m\u001b[0mkwargs\u001b[0m\u001b[0;34m)\u001b[0m\u001b[0;34m\u001b[0m\u001b[0;34m\u001b[0m\u001b[0m\n\u001b[0m\u001b[1;32m     77\u001b[0m \u001b[0;34m\u001b[0m\u001b[0m\n\u001b[1;32m     78\u001b[0m \u001b[0;34m\u001b[0m\u001b[0m\n",
            "\u001b[0;32m/usr/local/lib/python3.7/dist-packages/requests/api.py\u001b[0m in \u001b[0;36mrequest\u001b[0;34m(method, url, **kwargs)\u001b[0m\n\u001b[1;32m     59\u001b[0m     \u001b[0;31m# cases, and look like a memory leak in others.\u001b[0m\u001b[0;34m\u001b[0m\u001b[0;34m\u001b[0m\u001b[0;34m\u001b[0m\u001b[0m\n\u001b[1;32m     60\u001b[0m     \u001b[0;32mwith\u001b[0m \u001b[0msessions\u001b[0m\u001b[0;34m.\u001b[0m\u001b[0mSession\u001b[0m\u001b[0;34m(\u001b[0m\u001b[0;34m)\u001b[0m \u001b[0;32mas\u001b[0m \u001b[0msession\u001b[0m\u001b[0;34m:\u001b[0m\u001b[0;34m\u001b[0m\u001b[0;34m\u001b[0m\u001b[0m\n\u001b[0;32m---> 61\u001b[0;31m         \u001b[0;32mreturn\u001b[0m \u001b[0msession\u001b[0m\u001b[0;34m.\u001b[0m\u001b[0mrequest\u001b[0m\u001b[0;34m(\u001b[0m\u001b[0mmethod\u001b[0m\u001b[0;34m=\u001b[0m\u001b[0mmethod\u001b[0m\u001b[0;34m,\u001b[0m \u001b[0murl\u001b[0m\u001b[0;34m=\u001b[0m\u001b[0murl\u001b[0m\u001b[0;34m,\u001b[0m \u001b[0;34m**\u001b[0m\u001b[0mkwargs\u001b[0m\u001b[0;34m)\u001b[0m\u001b[0;34m\u001b[0m\u001b[0;34m\u001b[0m\u001b[0m\n\u001b[0m\u001b[1;32m     62\u001b[0m \u001b[0;34m\u001b[0m\u001b[0m\n\u001b[1;32m     63\u001b[0m \u001b[0;34m\u001b[0m\u001b[0m\n",
            "\u001b[0;32m/usr/local/lib/python3.7/dist-packages/requests/sessions.py\u001b[0m in \u001b[0;36mrequest\u001b[0;34m(self, method, url, params, data, headers, cookies, files, auth, timeout, allow_redirects, proxies, hooks, stream, verify, cert, json)\u001b[0m\n\u001b[1;32m    528\u001b[0m         }\n\u001b[1;32m    529\u001b[0m         \u001b[0msend_kwargs\u001b[0m\u001b[0;34m.\u001b[0m\u001b[0mupdate\u001b[0m\u001b[0;34m(\u001b[0m\u001b[0msettings\u001b[0m\u001b[0;34m)\u001b[0m\u001b[0;34m\u001b[0m\u001b[0;34m\u001b[0m\u001b[0m\n\u001b[0;32m--> 530\u001b[0;31m         \u001b[0mresp\u001b[0m \u001b[0;34m=\u001b[0m \u001b[0mself\u001b[0m\u001b[0;34m.\u001b[0m\u001b[0msend\u001b[0m\u001b[0;34m(\u001b[0m\u001b[0mprep\u001b[0m\u001b[0;34m,\u001b[0m \u001b[0;34m**\u001b[0m\u001b[0msend_kwargs\u001b[0m\u001b[0;34m)\u001b[0m\u001b[0;34m\u001b[0m\u001b[0;34m\u001b[0m\u001b[0m\n\u001b[0m\u001b[1;32m    531\u001b[0m \u001b[0;34m\u001b[0m\u001b[0m\n\u001b[1;32m    532\u001b[0m         \u001b[0;32mreturn\u001b[0m \u001b[0mresp\u001b[0m\u001b[0;34m\u001b[0m\u001b[0;34m\u001b[0m\u001b[0m\n",
            "\u001b[0;32m/usr/local/lib/python3.7/dist-packages/requests/sessions.py\u001b[0m in \u001b[0;36msend\u001b[0;34m(self, request, **kwargs)\u001b[0m\n\u001b[1;32m    641\u001b[0m \u001b[0;34m\u001b[0m\u001b[0m\n\u001b[1;32m    642\u001b[0m         \u001b[0;31m# Send the request\u001b[0m\u001b[0;34m\u001b[0m\u001b[0;34m\u001b[0m\u001b[0;34m\u001b[0m\u001b[0m\n\u001b[0;32m--> 643\u001b[0;31m         \u001b[0mr\u001b[0m \u001b[0;34m=\u001b[0m \u001b[0madapter\u001b[0m\u001b[0;34m.\u001b[0m\u001b[0msend\u001b[0m\u001b[0;34m(\u001b[0m\u001b[0mrequest\u001b[0m\u001b[0;34m,\u001b[0m \u001b[0;34m**\u001b[0m\u001b[0mkwargs\u001b[0m\u001b[0;34m)\u001b[0m\u001b[0;34m\u001b[0m\u001b[0;34m\u001b[0m\u001b[0m\n\u001b[0m\u001b[1;32m    644\u001b[0m \u001b[0;34m\u001b[0m\u001b[0m\n\u001b[1;32m    645\u001b[0m         \u001b[0;31m# Total elapsed time of the request (approximately)\u001b[0m\u001b[0;34m\u001b[0m\u001b[0;34m\u001b[0m\u001b[0;34m\u001b[0m\u001b[0m\n",
            "\u001b[0;32m/usr/local/lib/python3.7/dist-packages/requests/adapters.py\u001b[0m in \u001b[0;36msend\u001b[0;34m(self, request, stream, timeout, verify, cert, proxies)\u001b[0m\n\u001b[1;32m    514\u001b[0m                 \u001b[0;32mraise\u001b[0m \u001b[0mSSLError\u001b[0m\u001b[0;34m(\u001b[0m\u001b[0me\u001b[0m\u001b[0;34m,\u001b[0m \u001b[0mrequest\u001b[0m\u001b[0;34m=\u001b[0m\u001b[0mrequest\u001b[0m\u001b[0;34m)\u001b[0m\u001b[0;34m\u001b[0m\u001b[0;34m\u001b[0m\u001b[0m\n\u001b[1;32m    515\u001b[0m \u001b[0;34m\u001b[0m\u001b[0m\n\u001b[0;32m--> 516\u001b[0;31m             \u001b[0;32mraise\u001b[0m \u001b[0mConnectionError\u001b[0m\u001b[0;34m(\u001b[0m\u001b[0me\u001b[0m\u001b[0;34m,\u001b[0m \u001b[0mrequest\u001b[0m\u001b[0;34m=\u001b[0m\u001b[0mrequest\u001b[0m\u001b[0;34m)\u001b[0m\u001b[0;34m\u001b[0m\u001b[0;34m\u001b[0m\u001b[0m\n\u001b[0m\u001b[1;32m    517\u001b[0m \u001b[0;34m\u001b[0m\u001b[0m\n\u001b[1;32m    518\u001b[0m         \u001b[0;32mexcept\u001b[0m \u001b[0mClosedPoolError\u001b[0m \u001b[0;32mas\u001b[0m \u001b[0me\u001b[0m\u001b[0;34m:\u001b[0m\u001b[0;34m\u001b[0m\u001b[0;34m\u001b[0m\u001b[0m\n",
            "\u001b[0;31mConnectionError\u001b[0m: HTTPConnectionPool(host='127.0.0.1', port=8050): Max retries exceeded with url: /_alive_e5e26926-fd0d-47eb-a88d-941ae0576436 (Caused by NewConnectionError('<urllib3.connection.HTTPConnection object at 0x7fdea18e6f50>: Failed to establish a new connection: [Errno 111] Connection refused'))"
          ]
        }
      ]
    },
    {
      "cell_type": "code",
      "source": [
        "text = \" \".join(verbs.dropna().values)"
      ],
      "metadata": {
        "id": "O7o3n5BjLU2G"
      },
      "execution_count": 223,
      "outputs": []
    },
    {
      "cell_type": "code",
      "source": [
        "word_cloud = WordCloud(max_words = 20, background_color = 'white').generate(text)\n",
        "\n",
        "# Display the generated Word Cloud\n",
        "\n",
        "plt.imshow(word_cloud)#, interpolation='bilinear')\n",
        "\n",
        "plt.axis(\"off\")\n",
        "\n",
        "plt.show()\n"
      ],
      "metadata": {
        "colab": {
          "base_uri": "https://localhost:8080/",
          "height": 198
        },
        "id": "o79V0rXlLIjP",
        "outputId": "c8da23b0-7a15-457d-83ed-267b9fe71f38"
      },
      "execution_count": 301,
      "outputs": [
        {
          "output_type": "display_data",
          "data": {
            "image/png": "[encoded data removed]",
            "text/plain": [
              "<Figure size 432x288 with 1 Axes>"
            ]
          },
          "metadata": {
            "needs_background": "light"
          }
        }
      ]
    },
    {
      "cell_type": "code",
      "source": [
        "df_unique_lemmas[\"Artist_ID\"] = df_unique_lemmas.Song_ID.str.split(\"_\").map(lambda x: x[0])"
      ],
      "metadata": {
        "id": "oDa8I_pLueTZ"
      },
      "execution_count": 190,
      "outputs": []
    },
    {
      "cell_type": "code",
      "source": [
        "df_unique_lemmas[\"Artist\"] = df_unique_lemmas[\"Artist_ID\"].map(lambda x: get_artist_name(x)[0])"
      ],
      "metadata": {
        "colab": {
          "base_uri": "https://localhost:8080/",
          "height": 294
        },
        "id": "Nbsqt3r7wio_",
        "outputId": "d15c58e5-52ea-4bc0-f22b-3ed7a0a4b1db"
      },
      "execution_count": 46,
      "outputs": [
        {
          "output_type": "error",
          "ename": "KeyboardInterrupt",
          "evalue": "ignored",
          "traceback": [
            "\u001b[0;31m---------------------------------------------------------------------------\u001b[0m",
            "\u001b[0;31mKeyboardInterrupt\u001b[0m                         Traceback (most recent call last)",
            "\u001b[0;32m<ipython-input-46-5ef76715ebab>\u001b[0m in \u001b[0;36m<module>\u001b[0;34m()\u001b[0m\n\u001b[0;32m----> 1\u001b[0;31m \u001b[0mdf_unique_lemmas\u001b[0m\u001b[0;34m[\u001b[0m\u001b[0;34m\"Artist\"\u001b[0m\u001b[0;34m]\u001b[0m \u001b[0;34m=\u001b[0m \u001b[0mdf_unique_lemmas\u001b[0m\u001b[0;34m[\u001b[0m\u001b[0;34m\"Artist_ID\"\u001b[0m\u001b[0;34m]\u001b[0m\u001b[0;34m.\u001b[0m\u001b[0mmap\u001b[0m\u001b[0;34m(\u001b[0m\u001b[0;32mlambda\u001b[0m \u001b[0mx\u001b[0m\u001b[0;34m:\u001b[0m \u001b[0mget_artist_name\u001b[0m\u001b[0;34m(\u001b[0m\u001b[0mx\u001b[0m\u001b[0;34m)\u001b[0m\u001b[0;34m[\u001b[0m\u001b[0;36m0\u001b[0m\u001b[0;34m]\u001b[0m\u001b[0;34m)\u001b[0m\u001b[0;34m\u001b[0m\u001b[0;34m\u001b[0m\u001b[0m\n\u001b[0m",
            "\u001b[0;32m/usr/local/lib/python3.7/dist-packages/pandas/core/series.py\u001b[0m in \u001b[0;36mmap\u001b[0;34m(self, arg, na_action)\u001b[0m\n\u001b[1;32m   4159\u001b[0m         \u001b[0mdtype\u001b[0m\u001b[0;34m:\u001b[0m \u001b[0mobject\u001b[0m\u001b[0;34m\u001b[0m\u001b[0;34m\u001b[0m\u001b[0m\n\u001b[1;32m   4160\u001b[0m         \"\"\"\n\u001b[0;32m-> 4161\u001b[0;31m         \u001b[0mnew_values\u001b[0m \u001b[0;34m=\u001b[0m \u001b[0msuper\u001b[0m\u001b[0;34m(\u001b[0m\u001b[0;34m)\u001b[0m\u001b[0;34m.\u001b[0m\u001b[0m_map_values\u001b[0m\u001b[0;34m(\u001b[0m\u001b[0marg\u001b[0m\u001b[0;34m,\u001b[0m \u001b[0mna_action\u001b[0m\u001b[0;34m=\u001b[0m\u001b[0mna_action\u001b[0m\u001b[0;34m)\u001b[0m\u001b[0;34m\u001b[0m\u001b[0;34m\u001b[0m\u001b[0m\n\u001b[0m\u001b[1;32m   4162\u001b[0m         return self._constructor(new_values, index=self.index).__finalize__(\n\u001b[1;32m   4163\u001b[0m             \u001b[0mself\u001b[0m\u001b[0;34m,\u001b[0m \u001b[0mmethod\u001b[0m\u001b[0;34m=\u001b[0m\u001b[0;34m\"map\"\u001b[0m\u001b[0;34m\u001b[0m\u001b[0;34m\u001b[0m\u001b[0m\n",
            "\u001b[0;32m/usr/local/lib/python3.7/dist-packages/pandas/core/base.py\u001b[0m in \u001b[0;36m_map_values\u001b[0;34m(self, mapper, na_action)\u001b[0m\n\u001b[1;32m    868\u001b[0m \u001b[0;34m\u001b[0m\u001b[0m\n\u001b[1;32m    869\u001b[0m         \u001b[0;31m# mapper is a function\u001b[0m\u001b[0;34m\u001b[0m\u001b[0;34m\u001b[0m\u001b[0;34m\u001b[0m\u001b[0m\n\u001b[0;32m--> 870\u001b[0;31m         \u001b[0mnew_values\u001b[0m \u001b[0;34m=\u001b[0m \u001b[0mmap_f\u001b[0m\u001b[0;34m(\u001b[0m\u001b[0mvalues\u001b[0m\u001b[0;34m,\u001b[0m \u001b[0mmapper\u001b[0m\u001b[0;34m)\u001b[0m\u001b[0;34m\u001b[0m\u001b[0;34m\u001b[0m\u001b[0m\n\u001b[0m\u001b[1;32m    871\u001b[0m \u001b[0;34m\u001b[0m\u001b[0m\n\u001b[1;32m    872\u001b[0m         \u001b[0;32mreturn\u001b[0m \u001b[0mnew_values\u001b[0m\u001b[0;34m\u001b[0m\u001b[0;34m\u001b[0m\u001b[0m\n",
            "\u001b[0;32m/usr/local/lib/python3.7/dist-packages/pandas/_libs/lib.pyx\u001b[0m in \u001b[0;36mpandas._libs.lib.map_infer\u001b[0;34m()\u001b[0m\n",
            "\u001b[0;32m<ipython-input-46-5ef76715ebab>\u001b[0m in \u001b[0;36m<lambda>\u001b[0;34m(x)\u001b[0m\n\u001b[0;32m----> 1\u001b[0;31m \u001b[0mdf_unique_lemmas\u001b[0m\u001b[0;34m[\u001b[0m\u001b[0;34m\"Artist\"\u001b[0m\u001b[0;34m]\u001b[0m \u001b[0;34m=\u001b[0m \u001b[0mdf_unique_lemmas\u001b[0m\u001b[0;34m[\u001b[0m\u001b[0;34m\"Artist_ID\"\u001b[0m\u001b[0;34m]\u001b[0m\u001b[0;34m.\u001b[0m\u001b[0mmap\u001b[0m\u001b[0;34m(\u001b[0m\u001b[0;32mlambda\u001b[0m \u001b[0mx\u001b[0m\u001b[0;34m:\u001b[0m \u001b[0mget_artist_name\u001b[0m\u001b[0;34m(\u001b[0m\u001b[0mx\u001b[0m\u001b[0;34m)\u001b[0m\u001b[0;34m[\u001b[0m\u001b[0;36m0\u001b[0m\u001b[0;34m]\u001b[0m\u001b[0;34m)\u001b[0m\u001b[0;34m\u001b[0m\u001b[0;34m\u001b[0m\u001b[0m\n\u001b[0m",
            "\u001b[0;32m<ipython-input-42-bf2a9ed1de86>\u001b[0m in \u001b[0;36mget_artist_name\u001b[0;34m(artist_code)\u001b[0m\n\u001b[1;32m      9\u001b[0m     \u001b[0mconn\u001b[0m \u001b[0;34m=\u001b[0m \u001b[0msqlite3\u001b[0m\u001b[0;34m.\u001b[0m\u001b[0mconnect\u001b[0m\u001b[0;34m(\u001b[0m\u001b[0;34m'/content/gdrive/My Drive/CroLyrics_data/info.db'\u001b[0m\u001b[0;34m)\u001b[0m\u001b[0;34m\u001b[0m\u001b[0;34m\u001b[0m\u001b[0m\n\u001b[1;32m     10\u001b[0m     \u001b[0mc\u001b[0m \u001b[0;34m=\u001b[0m \u001b[0mconn\u001b[0m\u001b[0;34m.\u001b[0m\u001b[0mcursor\u001b[0m\u001b[0;34m(\u001b[0m\u001b[0;34m)\u001b[0m\u001b[0;34m\u001b[0m\u001b[0;34m\u001b[0m\u001b[0m\n\u001b[0;32m---> 11\u001b[0;31m     \u001b[0mc\u001b[0m\u001b[0;34m.\u001b[0m\u001b[0mexecute\u001b[0m\u001b[0;34m(\u001b[0m\u001b[0;34m\"SELECT name FROM artists WHERE code=:code\"\u001b[0m\u001b[0;34m,\u001b[0m \u001b[0;34m{\u001b[0m\u001b[0;34m'code'\u001b[0m\u001b[0;34m:\u001b[0m \u001b[0martist_code\u001b[0m\u001b[0;34m}\u001b[0m\u001b[0;34m)\u001b[0m\u001b[0;34m\u001b[0m\u001b[0;34m\u001b[0m\u001b[0m\n\u001b[0m\u001b[1;32m     12\u001b[0m     \u001b[0;32mreturn\u001b[0m \u001b[0mc\u001b[0m\u001b[0;34m.\u001b[0m\u001b[0mfetchone\u001b[0m\u001b[0;34m(\u001b[0m\u001b[0;34m)\u001b[0m\u001b[0;34m\u001b[0m\u001b[0;34m\u001b[0m\u001b[0m\n",
            "\u001b[0;31mKeyboardInterrupt\u001b[0m: "
          ]
        }
      ]
    },
    {
      "cell_type": "code",
      "source": [
        "lemma = \"Hrvatska\"\n",
        "df_unique_lemmas[df_unique_lemmas.lemma == lemma].Artist_ID.value_counts().index.map(lambda x: get_artist_name(x)[0])"
      ],
      "metadata": {
        "colab": {
          "base_uri": "https://localhost:8080/"
        },
        "id": "jubvAdP9u8MI",
        "outputId": "caa496d9-d33a-4968-9faf-95b60e9ba06d"
      },
      "execution_count": 191,
      "outputs": [
        {
          "output_type": "execute_result",
          "data": {
            "text/plain": [
              "Index(['Najbolji Hrvatski Tamburaši', 'Thompson', 'Prljavo Kazalište',\n",
              "       'Mišo Kovač', 'Doris Dragović', 'Krunoslav Kićo Slabinac', 'Severina',\n",
              "       'Colonia', 'Zabranjeno Pušenje', 'Baruni', 'Josipa Lisac',\n",
              "       'Psihomodo Pop', 'Darko Rundek', 'Jasmin Stavros', 'Ivan Zak'],\n",
              "      dtype='object')"
            ]
          },
          "metadata": {},
          "execution_count": 191
        }
      ]
    },
    {
      "cell_type": "code",
      "source": [
        "df_unique_lemmas[df_unique_lemmas.lemma == lemma].Artist_ID.value_counts().index"
      ],
      "metadata": {
        "colab": {
          "base_uri": "https://localhost:8080/"
        },
        "id": "OCf2X8Ej2uo-",
        "outputId": "d635b055-5520-496a-f933-ad558c16b216"
      },
      "execution_count": 192,
      "outputs": [
        {
          "output_type": "execute_result",
          "data": {
            "text/plain": [
              "Index(['CDOhygHn', 'Wm5tG4b5', 'Xp4QBL1e', 'zT3Xu5sD', 'RH/jD1hv', '4XHKfXTU',\n",
              "       '538Exp8s', 'QUgrhjBj', 'TkHYG/uZ', 'MZPizswt', 'D7roOOt+', 'zdPtejCw',\n",
              "       '0iPNl+uu', 'FJdcVEAU', '3xr7k3c7'],\n",
              "      dtype='object')"
            ]
          },
          "metadata": {},
          "execution_count": 192
        }
      ]
    },
    {
      "cell_type": "code",
      "source": [
        "df_unique_lemmas[df_unique_lemmas.lemma == lemma].Artist_ID.value_counts().values"
      ],
      "metadata": {
        "colab": {
          "base_uri": "https://localhost:8080/"
        },
        "id": "jMW6JeHa0_wC",
        "outputId": "91354287-ca92-424f-f66c-01da309f2a92"
      },
      "execution_count": 193,
      "outputs": [
        {
          "output_type": "execute_result",
          "data": {
            "text/plain": [
              "array([11,  8,  4,  3,  2,  2,  1,  1,  1,  1,  1,  1,  1,  1,  1])"
            ]
          },
          "metadata": {},
          "execution_count": 193
        }
      ]
    },
    {
      "cell_type": "code",
      "source": [
        "df_unique_lemmas[df_unique_lemmas.lemma == lemma][[\"Song\", \"Artist_ID\"]]"
      ],
      "metadata": {
        "colab": {
          "base_uri": "https://localhost:8080/",
          "height": 1000
        },
        "id": "_P671MZO1NpA",
        "outputId": "30e526ef-49c1-4589-d409-ed1c2afd2498"
      },
      "execution_count": 183,
      "outputs": [
        {
          "output_type": "execute_result",
          "data": {
            "text/html": [
              "\n",
              "  <div id=\"df-5fb32e03-ee05-43e1-be4d-847d334e4ced\">\n",
              "    <div class=\"colab-df-container\">\n",
              "      <div>\n",
              "<style scoped>\n",
              "    .dataframe tbody tr th:only-of-type {\n",
              "        vertical-align: middle;\n",
              "    }\n",
              "\n",
              "    .dataframe tbody tr th {\n",
              "        vertical-align: top;\n",
              "    }\n",
              "\n",
              "    .dataframe thead th {\n",
              "        text-align: right;\n",
              "    }\n",
              "</style>\n",
              "<table border=\"1\" class=\"dataframe\">\n",
              "  <thead>\n",
              "    <tr style=\"text-align: right;\">\n",
              "      <th></th>\n",
              "      <th>Song</th>\n",
              "      <th>Artist_ID</th>\n",
              "    </tr>\n",
              "  </thead>\n",
              "  <tbody>\n",
              "    <tr>\n",
              "      <th>1504</th>\n",
              "      <td>Grobovi im nikad oprostiti neće</td>\n",
              "      <td>zT3Xu5sD</td>\n",
              "    </tr>\n",
              "    <tr>\n",
              "      <th>1563</th>\n",
              "      <td>Hej, vi borci</td>\n",
              "      <td>zT3Xu5sD</td>\n",
              "    </tr>\n",
              "    <tr>\n",
              "      <th>1667</th>\n",
              "      <td>Herceg-Bosna (To je zemlja gdje zive Hrvati)</td>\n",
              "      <td>zT3Xu5sD</td>\n",
              "    </tr>\n",
              "    <tr>\n",
              "      <th>9987</th>\n",
              "      <td>Lupi petama</td>\n",
              "      <td>Xp4QBL1e</td>\n",
              "    </tr>\n",
              "    <tr>\n",
              "      <th>10293</th>\n",
              "      <td>Moj dom je Hrvatska</td>\n",
              "      <td>Xp4QBL1e</td>\n",
              "    </tr>\n",
              "    <tr>\n",
              "      <th>10400</th>\n",
              "      <td>Ruža Hrvatska</td>\n",
              "      <td>Xp4QBL1e</td>\n",
              "    </tr>\n",
              "    <tr>\n",
              "      <th>12063</th>\n",
              "      <td>Radio Dubrava</td>\n",
              "      <td>Xp4QBL1e</td>\n",
              "    </tr>\n",
              "    <tr>\n",
              "      <th>42363</th>\n",
              "      <td>Brazil</td>\n",
              "      <td>538Exp8s</td>\n",
              "    </tr>\n",
              "    <tr>\n",
              "      <th>52387</th>\n",
              "      <td>Dajem ti srce</td>\n",
              "      <td>ADDMrKZd</td>\n",
              "    </tr>\n",
              "    <tr>\n",
              "      <th>55811</th>\n",
              "      <td>Sedam mora, sedam gora</td>\n",
              "      <td>ADDMrKZd</td>\n",
              "    </tr>\n",
              "    <tr>\n",
              "      <th>58108</th>\n",
              "      <td>Bojna Čavoglave</td>\n",
              "      <td>Wm5tG4b5</td>\n",
              "    </tr>\n",
              "    <tr>\n",
              "      <th>58837</th>\n",
              "      <td>Duh ratnika</td>\n",
              "      <td>Wm5tG4b5</td>\n",
              "    </tr>\n",
              "    <tr>\n",
              "      <th>59641</th>\n",
              "      <td>Jer Hrvati smo</td>\n",
              "      <td>Wm5tG4b5</td>\n",
              "    </tr>\n",
              "    <tr>\n",
              "      <th>60337</th>\n",
              "      <td>Ljutu travu na ljutu ranu</td>\n",
              "      <td>Wm5tG4b5</td>\n",
              "    </tr>\n",
              "    <tr>\n",
              "      <th>60434</th>\n",
              "      <td>Maranatha</td>\n",
              "      <td>Wm5tG4b5</td>\n",
              "    </tr>\n",
              "    <tr>\n",
              "      <th>60718</th>\n",
              "      <td>Moli mala</td>\n",
              "      <td>Wm5tG4b5</td>\n",
              "    </tr>\n",
              "    <tr>\n",
              "      <th>61216</th>\n",
              "      <td>Necete u Imotski</td>\n",
              "      <td>Wm5tG4b5</td>\n",
              "    </tr>\n",
              "    <tr>\n",
              "      <th>61416</th>\n",
              "      <td>Nema predaje</td>\n",
              "      <td>Wm5tG4b5</td>\n",
              "    </tr>\n",
              "    <tr>\n",
              "      <th>88561</th>\n",
              "      <td>Ale Ale</td>\n",
              "      <td>QUgrhjBj</td>\n",
              "    </tr>\n",
              "    <tr>\n",
              "      <th>118357</th>\n",
              "      <td>Balkan (feat. Zoran Paunovic Pauna)</td>\n",
              "      <td>TkHYG/uZ</td>\n",
              "    </tr>\n",
              "    <tr>\n",
              "      <th>142848</th>\n",
              "      <td>Hrvati, Hrvatska vas zove</td>\n",
              "      <td>CDOhygHn</td>\n",
              "    </tr>\n",
              "    <tr>\n",
              "      <th>143571</th>\n",
              "      <td>Jos Hrvatska ni propala</td>\n",
              "      <td>CDOhygHn</td>\n",
              "    </tr>\n",
              "    <tr>\n",
              "      <th>143694</th>\n",
              "      <td>Kad je Stjepan Radic umirao</td>\n",
              "      <td>CDOhygHn</td>\n",
              "    </tr>\n",
              "    <tr>\n",
              "      <th>144808</th>\n",
              "      <td>Mlada vojska hrvatska</td>\n",
              "      <td>CDOhygHn</td>\n",
              "    </tr>\n",
              "    <tr>\n",
              "      <th>146070</th>\n",
              "      <td>O Hrvatskoj pjevam pjesmu</td>\n",
              "      <td>CDOhygHn</td>\n",
              "    </tr>\n",
              "    <tr>\n",
              "      <th>146331</th>\n",
              "      <td>Oj Hrvatske, dicne goricice</td>\n",
              "      <td>CDOhygHn</td>\n",
              "    </tr>\n",
              "    <tr>\n",
              "      <th>148118</th>\n",
              "      <td>Slavonijo, biseru Hrvatske</td>\n",
              "      <td>CDOhygHn</td>\n",
              "    </tr>\n",
              "    <tr>\n",
              "      <th>149995</th>\n",
              "      <td>U meni Hrvatska</td>\n",
              "      <td>CDOhygHn</td>\n",
              "    </tr>\n",
              "    <tr>\n",
              "      <th>150311</th>\n",
              "      <td>Ustani bane</td>\n",
              "      <td>CDOhygHn</td>\n",
              "    </tr>\n",
              "    <tr>\n",
              "      <th>150816</th>\n",
              "      <td>Vukovar, Vukovar</td>\n",
              "      <td>CDOhygHn</td>\n",
              "    </tr>\n",
              "    <tr>\n",
              "      <th>151233</th>\n",
              "      <td>Živila Hrvatska</td>\n",
              "      <td>CDOhygHn</td>\n",
              "    </tr>\n",
              "    <tr>\n",
              "      <th>152356</th>\n",
              "      <td>Neka pati koga smeta</td>\n",
              "      <td>MZPizswt</td>\n",
              "    </tr>\n",
              "    <tr>\n",
              "      <th>180136</th>\n",
              "      <td>Sloboda i mir</td>\n",
              "      <td>D7roOOt+</td>\n",
              "    </tr>\n",
              "    <tr>\n",
              "      <th>217952</th>\n",
              "      <td>Hrvatska mora pobijediti</td>\n",
              "      <td>zdPtejCw</td>\n",
              "    </tr>\n",
              "    <tr>\n",
              "      <th>219408</th>\n",
              "      <td>Afrika</td>\n",
              "      <td>0iPNl+uu</td>\n",
              "    </tr>\n",
              "    <tr>\n",
              "      <th>250534</th>\n",
              "      <td>Za djecu djece nase djece</td>\n",
              "      <td>FJdcVEAU</td>\n",
              "    </tr>\n",
              "    <tr>\n",
              "      <th>277039</th>\n",
              "      <td>Svi smo uz vas (feat. Tiho Orlic i TS Begini)</td>\n",
              "      <td>3xr7k3c7</td>\n",
              "    </tr>\n",
              "    <tr>\n",
              "      <th>290039</th>\n",
              "      <td>Budi sretna Slavonijo</td>\n",
              "      <td>4XHKfXTU</td>\n",
              "    </tr>\n",
              "    <tr>\n",
              "      <th>293078</th>\n",
              "      <td>Slavonac sam</td>\n",
              "      <td>4XHKfXTU</td>\n",
              "    </tr>\n",
              "  </tbody>\n",
              "</table>\n",
              "</div>\n",
              "      <button class=\"colab-df-convert\" onclick=\"convertToInteractive('df-5fb32e03-ee05-43e1-be4d-847d334e4ced')\"\n",
              "              title=\"Convert this dataframe to an interactive table.\"\n",
              "              style=\"display:none;\">\n",
              "        \n",
              "  <svg xmlns=\"http://www.w3.org/2000/svg\" height=\"24px\"viewBox=\"0 0 24 24\"\n",
              "       width=\"24px\">\n",
              "    <path d=\"M0 0h24v24H0V0z\" fill=\"none\"/>\n",
              "    <path d=\"M18.56 5.44l.94 2.06.94-2.06 2.06-.94-2.06-.94-.94-2.06-.94 2.06-2.06.94zm-11 1L8.5 8.5l.94-2.06 2.06-.94-2.06-.94L8.5 2.5l-.94 2.06-2.06.94zm10 10l.94 2.06.94-2.06 2.06-.94-2.06-.94-.94-2.06-.94 2.06-2.06.94z\"/><path d=\"M17.41 7.96l-1.37-1.37c-.4-.4-.92-.59-1.43-.59-.52 0-1.04.2-1.43.59L10.3 9.45l-7.72 7.72c-.78.78-.78 2.05 0 2.83L4 21.41c.39.39.9.59 1.41.59.51 0 1.02-.2 1.41-.59l7.78-7.78 2.81-2.81c.8-.78.8-2.07 0-2.86zM5.41 20L4 18.59l7.72-7.72 1.47 1.35L5.41 20z\"/>\n",
              "  </svg>\n",
              "      </button>\n",
              "      \n",
              "  <style>\n",
              "    .colab-df-container {\n",
              "      display:flex;\n",
              "      flex-wrap:wrap;\n",
              "      gap: 12px;\n",
              "    }\n",
              "\n",
              "    .colab-df-convert {\n",
              "      background-color: #E8F0FE;\n",
              "      border: none;\n",
              "      border-radius: 50%;\n",
              "      cursor: pointer;\n",
              "      display: none;\n",
              "      fill: #1967D2;\n",
              "      height: 32px;\n",
              "      padding: 0 0 0 0;\n",
              "      width: 32px;\n",
              "    }\n",
              "\n",
              "    .colab-df-convert:hover {\n",
              "      background-color: #E2EBFA;\n",
              "      box-shadow: 0px 1px 2px rgba(60, 64, 67, 0.3), 0px 1px 3px 1px rgba(60, 64, 67, 0.15);\n",
              "      fill: #174EA6;\n",
              "    }\n",
              "\n",
              "    [theme=dark] .colab-df-convert {\n",
              "      background-color: #3B4455;\n",
              "      fill: #D2E3FC;\n",
              "    }\n",
              "\n",
              "    [theme=dark] .colab-df-convert:hover {\n",
              "      background-color: #434B5C;\n",
              "      box-shadow: 0px 1px 3px 1px rgba(0, 0, 0, 0.15);\n",
              "      filter: drop-shadow(0px 1px 2px rgba(0, 0, 0, 0.3));\n",
              "      fill: #FFFFFF;\n",
              "    }\n",
              "  </style>\n",
              "\n",
              "      <script>\n",
              "        const buttonEl =\n",
              "          document.querySelector('#df-5fb32e03-ee05-43e1-be4d-847d334e4ced button.colab-df-convert');\n",
              "        buttonEl.style.display =\n",
              "          google.colab.kernel.accessAllowed ? 'block' : 'none';\n",
              "\n",
              "        async function convertToInteractive(key) {\n",
              "          const element = document.querySelector('#df-5fb32e03-ee05-43e1-be4d-847d334e4ced');\n",
              "          const dataTable =\n",
              "            await google.colab.kernel.invokeFunction('convertToInteractive',\n",
              "                                                     [key], {});\n",
              "          if (!dataTable) return;\n",
              "\n",
              "          const docLinkHtml = 'Like what you see? Visit the ' +\n",
              "            '<a target=\"_blank\" href=https://colab.research.google.com/notebooks/data_table.ipynb>data table notebook</a>'\n",
              "            + ' to learn more about interactive tables.';\n",
              "          element.innerHTML = '';\n",
              "          dataTable['output_type'] = 'display_data';\n",
              "          await google.colab.output.renderOutput(dataTable, element);\n",
              "          const docLink = document.createElement('div');\n",
              "          docLink.innerHTML = docLinkHtml;\n",
              "          element.appendChild(docLink);\n",
              "        }\n",
              "      </script>\n",
              "    </div>\n",
              "  </div>\n",
              "  "
            ],
            "text/plain": [
              "                                                 Song Artist_ID\n",
              "1504                  Grobovi im nikad oprostiti neće  zT3Xu5sD\n",
              "1563                                    Hej, vi borci  zT3Xu5sD\n",
              "1667     Herceg-Bosna (To je zemlja gdje zive Hrvati)  zT3Xu5sD\n",
              "9987                                      Lupi petama  Xp4QBL1e\n",
              "10293                             Moj dom je Hrvatska  Xp4QBL1e\n",
              "10400                                   Ruža Hrvatska  Xp4QBL1e\n",
              "12063                                   Radio Dubrava  Xp4QBL1e\n",
              "42363                                          Brazil  538Exp8s\n",
              "52387                                   Dajem ti srce  ADDMrKZd\n",
              "55811                          Sedam mora, sedam gora  ADDMrKZd\n",
              "58108                                 Bojna Čavoglave  Wm5tG4b5\n",
              "58837                                     Duh ratnika  Wm5tG4b5\n",
              "59641                                  Jer Hrvati smo  Wm5tG4b5\n",
              "60337                       Ljutu travu na ljutu ranu  Wm5tG4b5\n",
              "60434                                       Maranatha  Wm5tG4b5\n",
              "60718                                       Moli mala  Wm5tG4b5\n",
              "61216                                Necete u Imotski  Wm5tG4b5\n",
              "61416                                    Nema predaje  Wm5tG4b5\n",
              "88561                                         Ale Ale  QUgrhjBj\n",
              "118357            Balkan (feat. Zoran Paunovic Pauna)  TkHYG/uZ\n",
              "142848                      Hrvati, Hrvatska vas zove  CDOhygHn\n",
              "143571                        Jos Hrvatska ni propala  CDOhygHn\n",
              "143694                    Kad je Stjepan Radic umirao  CDOhygHn\n",
              "144808                          Mlada vojska hrvatska  CDOhygHn\n",
              "146070                      O Hrvatskoj pjevam pjesmu  CDOhygHn\n",
              "146331                    Oj Hrvatske, dicne goricice  CDOhygHn\n",
              "148118                     Slavonijo, biseru Hrvatske  CDOhygHn\n",
              "149995                                U meni Hrvatska  CDOhygHn\n",
              "150311                                    Ustani bane  CDOhygHn\n",
              "150816                               Vukovar, Vukovar  CDOhygHn\n",
              "151233                                Živila Hrvatska  CDOhygHn\n",
              "152356                           Neka pati koga smeta  MZPizswt\n",
              "180136                                  Sloboda i mir  D7roOOt+\n",
              "217952                       Hrvatska mora pobijediti  zdPtejCw\n",
              "219408                                         Afrika  0iPNl+uu\n",
              "250534                      Za djecu djece nase djece  FJdcVEAU\n",
              "277039  Svi smo uz vas (feat. Tiho Orlic i TS Begini)  3xr7k3c7\n",
              "290039                          Budi sretna Slavonijo  4XHKfXTU\n",
              "293078                                   Slavonac sam  4XHKfXTU"
            ]
          },
          "metadata": {},
          "execution_count": 183
        }
      ]
    },
    {
      "cell_type": "code",
      "source": [
        "df_unique_lemmas[df_unique_lemmas.lemma == \"Hrvatska\"].Artist_ID.value_counts()"
      ],
      "metadata": {
        "colab": {
          "base_uri": "https://localhost:8080/"
        },
        "id": "PElUXRkTyZT8",
        "outputId": "ac6f7ec6-ded8-4bdb-e0b7-170fe472a595"
      },
      "execution_count": 63,
      "outputs": [
        {
          "output_type": "execute_result",
          "data": {
            "text/plain": [
              "CDOhygHn    11\n",
              "Wm5tG4b5     8\n",
              "Xp4QBL1e     4\n",
              "zT3Xu5sD     3\n",
              "ADDMrKZd     2\n",
              "4XHKfXTU     2\n",
              "538Exp8s     1\n",
              "QUgrhjBj     1\n",
              "TkHYG/uZ     1\n",
              "MZPizswt     1\n",
              "D7roOOt+     1\n",
              "zdPtejCw     1\n",
              "0iPNl+uu     1\n",
              "FJdcVEAU     1\n",
              "3xr7k3c7     1\n",
              "Name: Artist_ID, dtype: int64"
            ]
          },
          "metadata": {},
          "execution_count": 63
        }
      ]
    },
    {
      "cell_type": "code",
      "source": [
        "df_unique_lemmas[(df_unique_lemmas.Artist_ID == \"slj31+FY\")].Song.unique()"
      ],
      "metadata": {
        "colab": {
          "base_uri": "https://localhost:8080/"
        },
        "id": "BgnrhTNDyzTr",
        "outputId": "11efe9bc-011e-4819-dae9-6f2c617f8f8d"
      },
      "execution_count": 79,
      "outputs": [
        {
          "output_type": "execute_result",
          "data": {
            "text/plain": [
              "array(['Andjele moj, moj andjele', 'Avantura (+Miro Ungar)',\n",
              "       'Balada o zelenom kralju', 'Bilo je lijepo', 'Bit će bolje, znam.',\n",
              "       'Bože, kako te volim', 'Ćakule o siromajima', 'Con sordino',\n",
              "       'Da li su me voljeli ?', 'Da sam te prije srela',\n",
              "       'Dalmacijo, sreco moja (feat. Ivo Pattiera)', 'Dalmatinko',\n",
              "       'Divlja strast', 'Dok istina postoji', 'Dubrovačka zvona',\n",
              "       'Forca, Maestro', 'Gdje ima srca, tu sam i ja', 'Gitara romana',\n",
              "       'Izlazi sunce', 'Gledam moje Konavle', 'Govori tiše',\n",
              "       \"I ni me stra'\", 'Ima te', 'Ja ću uvijek biti tvoja,',\n",
              "       'Ja jubin te zauvik', 'Ja ne žalim dane', 'Ja sam pjesma',\n",
              "       'Ja sam tvoja muzika', 'Ja ti samo pjevat mogu',\n",
              "       'Jedna klupa, jedan kut', 'Jer, to je ljubav',\n",
              "       'Još se srce umorilo nije', 'Jos u meni ima vatre',\n",
              "       'Kad bi vratio se ti', 'Kad jednog dana prisjetim se svega',\n",
              "       'Kad porasteš, sine', 'Kad sam s tobom', 'Kad se jednom vratiš ti',\n",
              "       'Kada odeš', 'Katedrala (Notre Dame de Paris)', 'Konavle lijepo',\n",
              "       'Kristinka', 'Larina pjesma', 'Ljubav je moj grijeh',\n",
              "       'Ljubav je najljepsi poklon tvoj', 'Ljubavi mi samo daj',\n",
              "       'Ljubavni tango', 'Ljudi', 'Ludi dani naše mladosti', 'Marinero',\n",
              "       'Mladosti, moja lijepa radosti', 'Moja dalmacija',\n",
              "       'Moja ljubav, moj je dom', 'Moja ljubavi', 'Moja mala pjesmo',\n",
              "       'Moja posljednja i prva ljubavi', 'Moje suze', 'Molim te, ostani',\n",
              "       'Muzika i ti', 'Na kušinu', 'Na Stradunu', 'Nauči me',\n",
              "       'Ne sanjaj ljubavi stare (Evita)', 'Ne traži me', 'Nek idu lađe',\n",
              "       \"Nek' zapjeva stara klapa\", 'Nije mi, nije lako',\n",
              "       'Nikad ne reci nikad', 'Nikad te nisan prokljela',\n",
              "       'Nima Splita do Splita', 'Nisam žena bez tebe', 'Nisam znala',\n",
              "       'Nježne Strune Mandoline', 'Nono, dobri moj nono',\n",
              "       'O, sveti Vlaho', 'Ogrni me salom', 'Oprostit ću, zaboraviti neću',\n",
              "       'Ostavi me tu', 'Otvori prozore sna', 'Parkovi',\n",
              "       'Pjesma nad pjesmama', 'Pjesma Suncu', 'Plavi Nokturno',\n",
              "       'Pojubi me s obje bande', 'Pomozi mi da zaboravim', 'Pored mene',\n",
              "       'Potraži me', 'Pozdravi ga, vjetre', 'Pred tvojim vratima',\n",
              "       'Prijatelji stari gdje ste ?', 'Pronađi put', 'Put u Raj',\n",
              "       'Rastanimo se', 'Rusticana', 'Samo malo intime', 'San julske noći',\n",
              "       'Sinoć kad sklopih oči', 'Sjaj', 'Školjka', 'Srećo moja',\n",
              "       'Sreću čine stvari male', 'Stani', 'Stani, stani', 'Stare ljubavi',\n",
              "       'Što je ostalo od ljubavi', 'Strepnja', 'Sunčane fontane',\n",
              "       'Sutra je novi dan', 'Sva su moja proljeća u meni',\n",
              "       'Sve je ljepše kad si tu', 'Sve se vraća, sve se plaća',\n",
              "       'Sviraj mi, sviraj', 'Tamo san rodjena', 'Tebe volim ja',\n",
              "       'Ti si meni sve', 'Ti si moj grijeh', 'Ti, Anđele zla',\n",
              "       'Tko gubi, gubi sve', 'Tko me je majko budio,', 'Tko mi je kriv',\n",
              "       'To sam ja', 'Tvoj glas', 'Tvoje lice',\n",
              "       'Tvoje su ruke u mojoj kosi.', 'U srcu mom', \"Uzmi il' ostavi\",\n",
              "       'Vjeruj mi dušo moja', 'Za jedan tren (È tutto un attimo)',\n",
              "       'Za jubav san dala sve',\n",
              "       'Za sva srca ovog svijeta (himna Eurovizije)',\n",
              "       'Za sva vremena, Dubrovnik', 'Zaboravi ako možeš',\n",
              "       'Zapjevajmo prijatelji', 'Zar ima nešto ljepše na tom svijetu',\n",
              "       'Zar ljubav ti ne znači ništa', 'Zaustavi vrijeme',\n",
              "       'Život je lijep'], dtype=object)"
            ]
          },
          "metadata": {},
          "execution_count": 79
        }
      ]
    },
    {
      "cell_type": "code",
      "source": [
        "[id for id in df_unique_lemmas.Artist_ID.unique() if id not in([a[0] for a in artist_ids])]"
      ],
      "metadata": {
        "colab": {
          "base_uri": "https://localhost:8080/"
        },
        "id": "TIw1RaveykHQ",
        "outputId": "bb36f50d-b224-4286-c559-5b004a276e14"
      },
      "execution_count": 75,
      "outputs": [
        {
          "output_type": "execute_result",
          "data": {
            "text/plain": [
              "['ADDMrKZd', '8OmGRJSa', 'slj31+FY']"
            ]
          },
          "metadata": {},
          "execution_count": 75
        }
      ]
    },
    {
      "cell_type": "code",
      "source": [
        "conn = sqlite3.connect('/content/gdrive/My Drive/CroLyrics_data/info.db')\n",
        "c = conn.cursor()\n",
        "c.execute(\"SELECT * FROM artists\")\n",
        "artist_ids = c.fetchall()"
      ],
      "metadata": {
        "id": "Ef_OH1X_xdNX"
      },
      "execution_count": 71,
      "outputs": []
    },
    {
      "cell_type": "code",
      "source": [
        "len([a[0] for a in artist_ids])"
      ],
      "metadata": {
        "colab": {
          "base_uri": "https://localhost:8080/"
        },
        "id": "8ZFbF1PDzUgB",
        "outputId": "0a78ffc1-6008-4d7b-95bb-dbeae6374ac6"
      },
      "execution_count": 80,
      "outputs": [
        {
          "output_type": "execute_result",
          "data": {
            "text/plain": [
              "52"
            ]
          },
          "metadata": {},
          "execution_count": 80
        }
      ]
    },
    {
      "cell_type": "code",
      "source": [
        "religion_names = [\"Bog\", \"Isus\", \"Krist\", \"Bogo\"]\n",
        "location_names = [\"Hrvat\", \"Slavonac\"]"
      ],
      "metadata": {
        "id": "1imGSVTN3hoJ"
      },
      "execution_count": 109,
      "outputs": []
    },
    {
      "cell_type": "code",
      "source": [
        "names[~names.index.isin(religion_names) & ~names.index.isin(location_names)][0:20]"
      ],
      "metadata": {
        "colab": {
          "base_uri": "https://localhost:8080/"
        },
        "id": "hzaM3ml3t_0O",
        "outputId": "510650bc-d358-4afd-a0d6-4ac1074af30b"
      },
      "execution_count": 111,
      "outputs": [
        {
          "output_type": "execute_result",
          "data": {
            "text/plain": [
              "Marija      28\n",
              "Ana         13\n",
              "Duje        10\n",
              "Ivana        8\n",
              "Nina         8\n",
              "Ivan         8\n",
              "Danica       8\n",
              "Tito         7\n",
              "Ivo          7\n",
              "Ante         6\n",
              "Severina     5\n",
              "Josip        5\n",
              "Mate         5\n",
              "Luka         5\n",
              "Mare         5\n",
              "Petar        5\n",
              "Sanja        4\n",
              "Tomislav     4\n",
              "Eva          4\n",
              "Miki         4\n",
              "Name: lemma, dtype: int64"
            ]
          },
          "metadata": {},
          "execution_count": 111
        }
      ]
    },
    {
      "cell_type": "code",
      "source": [
        "organizations"
      ],
      "metadata": {
        "colab": {
          "base_uri": "https://localhost:8080/"
        },
        "id": "AyZx-AUduUOe",
        "outputId": "3ce0b023-56d5-4912-9383-03255d386530"
      },
      "execution_count": 21,
      "outputs": [
        {
          "output_type": "execute_result",
          "data": {
            "text/plain": [
              "Hajduk      12\n",
              "Dinamo       4\n",
              "Croatia      3\n",
              "CIA          3\n",
              "Colonia      3\n",
              "            ..\n",
              "Alhos        1\n",
              "Koševo       1\n",
              "KK           1\n",
              "Sai-Baba     1\n",
              "Fender       1\n",
              "Name: lemma, Length: 100, dtype: int64"
            ]
          },
          "metadata": {},
          "execution_count": 21
        }
      ]
    },
    {
      "cell_type": "code",
      "source": [
        "grams_text=[]\n",
        "grams_lemma = []\n",
        "\n",
        "for i in df_unique_lemmas[df_unique_lemmas.upos==\"ADJ\"][\"index\"]:\n",
        "    if df.loc[i+1].upos == \"NOUN\":\n",
        "      grams_text.append([df_unique_lemmas[df_unique_lemmas[\"index\"] == i].text.values[0], df.loc[i+1].text])\n",
        "      grams_lemma.append([df_unique_lemmas[df_unique_lemmas[\"index\"] == i].lemma.values[0], df.loc[i+1].lemma])"
      ],
      "metadata": {
        "id": "s2HIEOr7s5Gx"
      },
      "execution_count": 12,
      "outputs": []
    },
    {
      "cell_type": "code",
      "source": [
        "pd.Series(grams_lemma).astype(str).value_counts()[0:50]"
      ],
      "metadata": {
        "colab": {
          "base_uri": "https://localhost:8080/"
        },
        "id": "GmQh69qWtPCk",
        "outputId": "6587ed5c-495d-4685-fdb1-a63874bc502a"
      },
      "execution_count": 13,
      "outputs": [
        {
          "output_type": "execute_result",
          "data": {
            "text/plain": [
              "['cijel', 'život']     55\n",
              "['nov', 'dan']         48\n",
              "['cijel', 'svijet']    48\n",
              "['cijel', 'noć']       47\n",
              "['drugi', 'strana']    33\n",
              "['dobar', 'dan']       28\n",
              "['prav', 'ljubav']     25\n",
              "['crn', 'oko']         25\n",
              "['cijel', 'dan']       25\n",
              "['prvi', 'ljubav']     24\n",
              "['lak', 'noć']         24\n",
              "['plav', 'more']       22\n",
              "['drugi', 'žena']      21\n",
              "['dobar', 'jutro']     20\n",
              "['sav', 'strana']      20\n",
              "['star', 'ljubav']     18\n",
              "['dug', 'noć']         17\n",
              "['nov', 'jutro']       17\n",
              "['čitav', 'život']     17\n",
              "['rodan', 'kraj']      17\n",
              "['lijep', 'žena']      16\n",
              "['dobar', 'čovjek']    16\n",
              "['drugi', 'čovjek']    16\n",
              "['star', 'rana']       15\n",
              "['hladan', 'noć']      14\n",
              "['sav', 'noć']         13\n",
              "['crn', 'vino']        13\n",
              "['star', 'slika']      13\n",
              "['čitav', 'svijet']    13\n",
              "['prvi', 'dan']        13\n",
              "['nov', 'ljubav']      13\n",
              "['zadnji', 'dan']      13\n",
              "['sav', 'vrijeme']     12\n",
              "['lijep', 'dan']       12\n",
              "['sunčan', 'dan']      12\n",
              "['isti', 'tren']       12\n",
              "['grub', 'rič']        12\n",
              "['mali', 'stvar']      12\n",
              "['loš', 'dan']         12\n",
              "['nov', 'godina']      12\n",
              "['isti', 'stvar']      12\n",
              "['ružan', 'san']       11\n",
              "['isti', 'san']        11\n",
              "['dug', 'godina']      11\n",
              "['plav', 'nebo']       11\n",
              "['sav', 'čovjek']      11\n",
              "['lud', 'srce']        11\n",
              "['sav', 'glas']        10\n",
              "['dobar', 'večer']     10\n",
              "['zlatan', 'sunce']    10\n",
              "dtype: int64"
            ]
          },
          "metadata": {},
          "execution_count": 13
        }
      ]
    },
    {
      "cell_type": "code",
      "source": [
        "grams_text=[]\n",
        "grams_lemma = []\n",
        "\n",
        "for i in df_unique_lemmas[df_unique_lemmas.upos==\"NOUN\"][\"index\"]:\n",
        "    if df.loc[i+1].upos == \"ADJ\":\n",
        "      grams_text.append([df_unique_lemmas[df_unique_lemmas[\"index\"] == i].text.values[0], df.loc[i+1].text])\n",
        "      grams_lemma.append([df_unique_lemmas[df_unique_lemmas[\"index\"] == i].lemma.values[0], df.loc[i+1].lemma])"
      ],
      "metadata": {
        "id": "HFzJuvVqtiAK"
      },
      "execution_count": 14,
      "outputs": []
    },
    {
      "cell_type": "code",
      "source": [
        "pd.Series(grams_lemma).astype(str).value_counts()[0:50]"
      ],
      "metadata": {
        "colab": {
          "base_uri": "https://localhost:8080/"
        },
        "id": "XunKjtCMtovg",
        "outputId": "91c3f487-5e16-4286-b39a-152595b95805"
      },
      "execution_count": 15,
      "outputs": [
        {
          "output_type": "execute_result",
          "data": {
            "text/plain": [
              "['pjesma', 'star']        18\n",
              "['srce', 'sav']           17\n",
              "['dan', 'sav']            16\n",
              "['ljubav', 'sav']         11\n",
              "['sreća', 'sav']          11\n",
              "['život', 'cijel']        11\n",
              "['ljubav', 'star']        10\n",
              "['život', 'sav']          10\n",
              "['ljubav', 'jedini']      10\n",
              "['zvijezda', 'sjajan']    10\n",
              "['čovjek', 'sav']          9\n",
              "['prijatelj', 'sav']       9\n",
              "['vrijeme', 'sav']         9\n",
              "['srce', 'drag']           9\n",
              "['stvar', 'sav']           8\n",
              "['ljubav', 'velik']        7\n",
              "['nebo', 'plav']           7\n",
              "['pjesma', 'ljubavni']     7\n",
              "['riječ', 'sav']           7\n",
              "['oko', 'crn']             7\n",
              "['kosa', 'plav']           7\n",
              "['srce', 'slomiti']        7\n",
              "['oko', 'plav']            7\n",
              "['godina', 'dug']          7\n",
              "['prijatelj', 'star']      7\n",
              "['noć', 'pun']             7\n",
              "['slika', 'star']          7\n",
              "['duša', 'pun']            7\n",
              "['svijet', 'sav']          6\n",
              "['ljubav', 'prav']         6\n",
              "['noć', 'dug']             6\n",
              "['oko', 'pun']             6\n",
              "['glava', 'lud']           6\n",
              "['ljubav', 'nov']          6\n",
              "['društvo', 'star']        6\n",
              "['san', 'sav']             6\n",
              "['duša', 'sav']            5\n",
              "['trešnja', 'zreo']        5\n",
              "['tuga', 'velik']          5\n",
              "['zvijezda', 'sav']        5\n",
              "['briga', 'sav']           5\n",
              "['zemlja', 'dalek']        5\n",
              "['mjesec', 'mlad']         5\n",
              "['noć', 'lud']             5\n",
              "['suza', 'sav']            5\n",
              "['kuca', 'star']           5\n",
              "['pjesma', 'sav']          5\n",
              "['noć', 'hladan']          5\n",
              "['srce', 'star']           5\n",
              "['ptica', 'malen']         4\n",
              "dtype: int64"
            ]
          },
          "metadata": {},
          "execution_count": 15
        }
      ]
    }
  ]
}