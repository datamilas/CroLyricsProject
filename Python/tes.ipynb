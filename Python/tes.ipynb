{
 "cells": [
  {
   "cell_type": "code",
   "execution_count": 2,
   "metadata": {},
   "outputs": [],
   "source": [
    "import classla\n",
    "import pandas as pd\n",
    "import numpy as np\n",
    "#classla.download('hr')\n",
    "#classla.download('hr', type='nonstandard')"
   ]
  },
  {
   "cell_type": "code",
   "execution_count": 75,
   "metadata": {},
   "outputs": [],
   "source": [
    "lyrics_df = pd.read_csv('data.csv')\n",
    "lyrics_df = lyrics_df[lyrics_df.Artist==\"Severina\"]\n",
    "lyrics_df = lyrics_df.dropna().Lyrics\n"
   ]
  },
  {
   "cell_type": "code",
   "execution_count": 76,
   "metadata": {},
   "outputs": [],
   "source": [
    "lyrics = [l.splitlines() for l in lyrics_df[0:50]]"
   ]
  },
  {
   "cell_type": "code",
   "execution_count": 78,
   "metadata": {},
   "outputs": [],
   "source": [
    "all_lyrics = [\" \".join(l) for l in lyrics]"
   ]
  },
  {
   "cell_type": "code",
   "execution_count": 79,
   "metadata": {},
   "outputs": [
    {
     "name": "stderr",
     "output_type": "stream",
     "text": [
      "2022-02-16 18:03:29 INFO: Loading these models for language: hr (Croatian):\n",
      "===========================\n",
      "| Processor | Package     |\n",
      "---------------------------\n",
      "| tokenize  | nonstandard |\n",
      "| pos       | nonstandard |\n",
      "| lemma     | nonstandard |\n",
      "| depparse  | standard    |\n",
      "| ner       | nonstandard |\n",
      "===========================\n",
      "\n",
      "2022-02-16 18:03:29 INFO: Use device: cpu\n",
      "2022-02-16 18:03:29 INFO: Loading: tokenize\n",
      "2022-02-16 18:03:29 INFO: Loading: pos\n",
      "2022-02-16 18:03:30 INFO: Loading: lemma\n",
      "2022-02-16 18:03:36 INFO: Loading: depparse\n",
      "2022-02-16 18:03:37 INFO: Loading: ner\n",
      "2022-02-16 18:03:37 INFO: Done loading processors!\n"
     ]
    }
   ],
   "source": [
    "#classla.download('hr', type='nonstandard')\n",
    "nlp = classla.Pipeline('hr', type='nonstandard') # run classla.download('hr', type='nonstandard') beforehand if necessary\n",
    "doc = nlp(\".\".join(all_lyrics))\n",
    "\n"
   ]
  },
  {
   "cell_type": "code",
   "execution_count": 89,
   "metadata": {},
   "outputs": [],
   "source": [
    "doc_dict = doc.to_dict()"
   ]
  },
  {
   "cell_type": "code",
   "execution_count": 78,
   "metadata": {},
   "outputs": [],
   "source": []
  },
  {
   "cell_type": "code",
   "execution_count": 90,
   "metadata": {},
   "outputs": [],
   "source": [
    "df = pd.DataFrame([doc_dict[i][0] for i, _ in enumerate(doc_dict)]).transpose()"
   ]
  },
  {
   "cell_type": "code",
   "execution_count": 91,
   "metadata": {},
   "outputs": [],
   "source": [
    "sentences = [doc_dict[i][0] for i, _ in enumerate(doc_dict)]\n",
    "df = pd.DataFrame(sentences[0])\n",
    "for sentence in sentences[1:]:\n",
    "    df = pd.concat([df, pd.DataFrame(sentence)])"
   ]
  },
  {
   "cell_type": "code",
   "execution_count": 92,
   "metadata": {},
   "outputs": [],
   "source": [
    "df.reset_index(drop=False, inplace=True)"
   ]
  },
  {
   "cell_type": "code",
   "execution_count": 35,
   "metadata": {},
   "outputs": [],
   "source": [
    "pos_tags = \"ADJ – ADP – ADV – AUX – CCONJ – DET – INTJ – NOUN – NUM – PART – PRON – PROPN – PUNCT – SCONJ – SYM – VERB – X\".split(\" – \")\n",
    "relations = \"acl – advcl – advmod – advmod:emph – amod – appos – aux – case – cc – ccomp – compound – conj – cop – csubj – dep – det – det:numgov – discourse – dislocated – expl – fixed – flat – flat:foreign – iobj – list – mark – nmod – nsubj – nummod – obj – obl – orphan – parataxis – punct – root – vocative – xcomp\".split(\" – \")\n",
    "word_features = \"Animacy – Case – Definite – Degree – Foreign – Gender – Gender[psor] – Mood – Number – Number[psor] – NumType – Person – Polarity – Poss – PronType – Reflex – Tense – VerbForm – Voice\".split(\" – \")"
   ]
  },
  {
   "cell_type": "code",
   "execution_count": 93,
   "metadata": {},
   "outputs": [],
   "source": [
    "features_df = pd.DataFrame()\n",
    "rows = df.feats.str.split(\"|\").to_list()\n",
    "\n",
    "for i, row in enumerate(rows):\n",
    "    if not type(row) == float:\n",
    "        for f in row:\n",
    "            features_df.loc[i, f[0:f.index(\"=\")]] = f[f.index(\"=\")+1:]\n"
   ]
  },
  {
   "cell_type": "code",
   "execution_count": 94,
   "metadata": {},
   "outputs": [],
   "source": [
    "df = df.join(features_df)"
   ]
  },
  {
   "cell_type": "code",
   "execution_count": 95,
   "metadata": {},
   "outputs": [
    {
     "data": {
      "text/plain": [
       "array([nan, 'Nom', 'Ins', 'Loc', 'Gen', 'Acc', 'Dat', 'Voc'], dtype=object)"
      ]
     },
     "execution_count": 95,
     "metadata": {},
     "output_type": "execute_result"
    }
   ],
   "source": [
    "df.Case.unique()"
   ]
  },
  {
   "cell_type": "code",
   "execution_count": 97,
   "metadata": {},
   "outputs": [
    {
     "data": {
      "text/plain": [
       "dati       47\n",
       "ljubiti    37\n",
       "voljeti    37\n",
       "znati      36\n",
       "imati      27\n",
       "otići      19\n",
       "krenuti    16\n",
       "gledati    15\n",
       "moći       14\n",
       "spavati    13\n",
       "Name: lemma, dtype: int64"
      ]
     },
     "execution_count": 97,
     "metadata": {},
     "output_type": "execute_result"
    }
   ],
   "source": [
    "df[(df.upos==\"VERB\")][\"lemma\"].value_counts()[0:10]"
   ]
  }
 ],
 "metadata": {
  "interpreter": {
   "hash": "e2508fbeaf0035d4c531c3d527c39fb188abce83002e3c53cf0e64c03f8f5210"
  },
  "kernelspec": {
   "display_name": "Python 3.8.3 ('base')",
   "language": "python",
   "name": "python3"
  },
  "language_info": {
   "codemirror_mode": {
    "name": "ipython",
    "version": 3
   },
   "file_extension": ".py",
   "mimetype": "text/x-python",
   "name": "python",
   "nbconvert_exporter": "python",
   "pygments_lexer": "ipython3",
   "version": "3.8.3"
  },
  "orig_nbformat": 4
 },
 "nbformat": 4,
 "nbformat_minor": 2
}
