{
 "cells": [
  {
   "cell_type": "code",
   "execution_count": 393,
   "metadata": {},
   "outputs": [],
   "source": [
    "import classla\n",
    "import pandas as pd\n",
    "import numpy as np\n",
    "import re\n",
    "import string\n",
    "#classla.download('hr')\n",
    "#classla.download('hr', type='nonstandard')"
   ]
  },
  {
   "cell_type": "code",
   "execution_count": 394,
   "metadata": {},
   "outputs": [],
   "source": [
    "pos_tags = \"ADJ – ADP – ADV – AUX – CCONJ – DET – INTJ – NOUN – NUM – PART – PRON – PROPN – PUNCT – SCONJ – SYM – VERB – X\".split(\" – \")\n",
    "relations = \"acl – advcl – advmod – advmod:emph – amod – appos – aux – case – cc – ccomp – compound – conj – cop – csubj – dep – det – det:numgov – discourse – dislocated – expl – fixed – flat – flat:foreign – iobj – list – mark – nmod – nsubj – nummod – obj – obl – orphan – parataxis – punct – root – vocative – xcomp\".split(\" – \")\n",
    "word_features = \"Animacy – Case – Definite – Degree – Foreign – Gender – Gender[psor] – Mood – Number – Number[psor] – NumType – Person – Polarity – Poss – PronType – Reflex – Tense – VerbForm – Voice\".split(\" – \")"
   ]
  },
  {
   "cell_type": "code",
   "execution_count": 395,
   "metadata": {},
   "outputs": [],
   "source": [
    "def is_float(element):\n",
    "    try:\n",
    "        float(element)\n",
    "        return True\n",
    "    except ValueError:\n",
    "        return False"
   ]
  },
  {
   "cell_type": "code",
   "execution_count": 396,
   "metadata": {},
   "outputs": [],
   "source": [
    "artist_name = \"Severina\"\n",
    "df = pd.read_csv(f'data/{artist_name}_final.csv')\n",
    "\n"
   ]
  },
  {
   "cell_type": "code",
   "execution_count": 397,
   "metadata": {},
   "outputs": [
    {
     "data": {
      "text/plain": [
       "7"
      ]
     },
     "execution_count": 397,
     "metadata": {},
     "output_type": "execute_result"
    }
   ],
   "source": [
    "df.Lyrics_lyricstranslate.isnull().sum()"
   ]
  },
  {
   "cell_type": "code",
   "execution_count": 398,
   "metadata": {},
   "outputs": [
    {
     "data": {
      "text/plain": [
       "3"
      ]
     },
     "execution_count": 398,
     "metadata": {},
     "output_type": "execute_result"
    }
   ],
   "source": [
    "df.Lyrics_lyricstranslate.fillna(df.Lyrics_cuspajz).isnull().sum()\n"
   ]
  },
  {
   "cell_type": "code",
   "execution_count": 399,
   "metadata": {},
   "outputs": [
    {
     "data": {
      "text/plain": [
       "0"
      ]
     },
     "execution_count": 399,
     "metadata": {},
     "output_type": "execute_result"
    }
   ],
   "source": [
    "df.Lyrics_lyricstranslate.fillna(df.Lyrics_cuspajz).fillna(df.Lyrics_tekstovinet).isnull().sum()"
   ]
  },
  {
   "cell_type": "code",
   "execution_count": 400,
   "metadata": {},
   "outputs": [],
   "source": [
    "lyrics_df = df.Lyrics_lyricstranslate.fillna(df.Lyrics_cuspajz).fillna(df.Lyrics_tekstovinet)"
   ]
  },
  {
   "cell_type": "code",
   "execution_count": 401,
   "metadata": {},
   "outputs": [],
   "source": [
    "song_df = df.Song_lyricstranslate.fillna(df.Song_cuspajz).fillna(df.Song_tekstovinet)"
   ]
  },
  {
   "cell_type": "code",
   "execution_count": 402,
   "metadata": {},
   "outputs": [],
   "source": [
    "refren = re.compile(('refren[:\\)\\]\\.]'), re.IGNORECASE)\n",
    "refrain = re.compile(('refrain[:\\)\\]\\.]'), re.IGNORECASE)\n",
    "pripjev = re.compile(('pripjev[:\\)\\]\\.]'), re.IGNORECASE)\n",
    "\n",
    "ref = re.compile('ref[\\.,:\\ )\\]]', re.IGNORECASE)  #ref followed by any of chars in braacket\n",
    "ref_last = re.compile('ref$', re.IGNORECASE)  #ref followed by any of chars in braacket\n"
   ]
  },
  {
   "cell_type": "code",
   "execution_count": 403,
   "metadata": {},
   "outputs": [],
   "source": [
    "lyrics = []\n",
    "for song_lyrics in lyrics_df:\n",
    "    song_lyrics_corrected = []\n",
    "    for l in song_lyrics.splitlines():\n",
    "        l = refren.sub(\"\", l)\n",
    "        l = refrain.sub(\"\", l)\n",
    "        l = ref.sub(\"\", l)\n",
    "        l = ref_last.sub(\"\", l)\n",
    "        l = pripjev.sub(\"\", l)\n",
    "        l = re.sub(\"Refren\", \"\", l)  #remove word Refren (if its uppercase) \n",
    "        l = re.sub(\"Refrain\", \"\", l)  #remove word Refrain (if its uppercase)         \n",
    "        l = re.sub(\"Pripjev\", \"\", l)  #remove word Pripjev (if its uppercase)     \n",
    "\n",
    "        l = re.sub(\"\\dx\", \"\", l)    #remove \\digit x (usually left after ref)\n",
    "        l = re.sub(\"x\\d\", \"\", l)    #remove x \\digit\n",
    "        \n",
    "        l = re.sub(\"()\", \"\", l)  #remove brackets without content\n",
    "        l = re.sub(\"\\[\\]\", \"\", l)  \n",
    "\n",
    "        l = l.strip()\n",
    "        song_lyrics_corrected.append(l)\n",
    "        \n",
    "    lyrics.append([l for l in song_lyrics_corrected if not is_float(l) and \"http\" not in l and len(l)>0])"
   ]
  },
  {
   "cell_type": "code",
   "execution_count": 404,
   "metadata": {},
   "outputs": [],
   "source": [
    "all_lyrics = [\"\".join([(\". \" if c[0].isupper() else \", \")+c for c in l]).strip() for l in lyrics]"
   ]
  },
  {
   "cell_type": "code",
   "execution_count": null,
   "metadata": {},
   "outputs": [],
   "source": []
  },
  {
   "cell_type": "code",
   "execution_count": 405,
   "metadata": {},
   "outputs": [],
   "source": [
    "corrected_lyrics=[]\n",
    "for l in all_lyrics:\n",
    "\n",
    "    l.strip()\n",
    "    l = re.sub(f\" [{string.punctuation}] \", \" \", l)      #remove special characters that are flanked by empty spaces on both sides\n",
    "    l = re.sub(f\" [{string.punctuation}]\", \" \", l)      #remove special characters that are flanked by empty spaces on left\n",
    "\n",
    "    l = re.sub(\",,\", \",\", l)    #replace two commas with one\n",
    "    l = re.sub(\"\\.,\", \".\", l)    #replace dot comma with dot\n",
    "    l = re.sub(\",\\.\", \",\", l)    #replace comma dot with comma\n",
    "    l = re.sub(\"(?<!\\.)\\.\\.(?!\\.)\", \".\", l)    #replace two dots (that are neither preceded nor followed by third dot), with single dot\n",
    "    l = re.sub(\"\\.\\.\\.\\.[\\.]*\", \"...\", l)    #replace anything with more than three dots with three dots\n",
    "    l.strip()\n",
    "\n",
    "    l=l[2:] #remove the dot that was left from the concetination\n",
    "    corrected_lyrics.append(l)\n"
   ]
  },
  {
   "cell_type": "code",
   "execution_count": 406,
   "metadata": {},
   "outputs": [
    {
     "name": "stdout",
     "output_type": "stream",
     "text": [
      "Falit ćeš mi, faliti, ali neću žaliti, sanjala sam, sanjala, da ću sresti pravog tigra, lava. Boljeti će, boljeti, teško ću preboljeti, radije ću patiti, nego ti se vratiti. Nerviraš me k'o komarac, velik' bumbar, mali žalac, ne dam pusu, na ti bonu, da te lupi po hormonu. Ringe raja, eci, pec, nisi tigar, ti si zec. Ko to pita, ko to pita, s' kim to moje srce skita, ajde lave izađi, pa mi srce pronađi, da mi suknja poludi, da mi pjesma puni grudi. Ko to pita, ko to pita, s' kim to moje srce skita, ajde lave izađi, pa mi srce pronađi, da mi suknja poludi, da mi pjesma, da mi pjesma puni grudi. Falit ćeš mi, faliti, neću, neću zaliti, sanjala sam, sanjala, da ću sresti pravog tigra, lava. Nerviraš me k'o komarac, velik' bumbar, mali žalac, nije meni do slatkiša, hoću lava, neću miša. Ringe raja, ćevap šiš, nisi lav, ti si miš. Eci, pec, zvrc, zvrc. Op, op, op. Ajde, ajde, ajde, ajde. Ćevap šiš. Ringe raja, ćevap šiš, ja sam lav, ti si miš\n",
      "#####\n",
      "#####\n",
      "Verse 1]. Stvorio te Bog samo mog da te volim. A nebo kaže da bez tebe ne postojim. Odnia mi svit sa ko god je htia. A ti si to, a ti si to prominia. Chorus], Oću s tobon živit', oću s tobom bit'. Bez tebe sam suva grana. Srce ti je moje davno dalo rič. Da je tvoje sve do zadnjeg dana, Oću s tobon živit', oću s tobom bit'. Gledat' našu dicu lipu. Srce ti je moje davno dalo rič. Mi smo skupa najači na svitu. Verse 2]. Obećano. Pa da u nju stanu svi , bila cila. A ti si to, a ti si to prominia. Chorus], Oću s tobon živit', oću s tobom bit'. Bez tebe sam suva grana. Srce ti je moje davno dalo rič. Da je tvoje sve do zadnjeg dana, Oću s tobon živit', oću s tobom bit'. Gledat' našu dicu lipu. Srce ti je moje davno dalo rič. Mi smo skupa najači na svitu. Chorus], Oću s tobon živit', oću s tobom bit'. Bez tebe sam suva grana. Srce ti je moje davno dalo rič. Da je tvoje sve do zadnjeg dana, Oću s tobon živit', oću s tobom bit'. Gledat' našu dicu lipu. Srce ti je moje davno dalo rič. Mi smo skupa najači na svitu\n",
      "#####\n",
      "#####\n",
      "Večeras ja ulazim u klub, prva mačka, plesna kraljica, o bjež'te, epizodne nule, ja sam glavna uloga svih predstava. Ne vidim dobro jesi li to ti, i to ne s jednom, više manje nego s tri, o sve su iste plave kose peglane, poništene marke taksene. Gledaj tijelo, gledaj vrat, ne gledaj na Rolex sat, slušaj usne što ti šapuću, ljubi ruke što te miluju u prolazu. A pile moje, a gotovo je, šta mi radiš, šta mi radiš, pile moje, šta mi radiš. Ti pitaš kol'ko sam ih imala do sad, ma kad sve zbrojim ništa, tuga, čemer, jad, ako si prvi čovjek, ti na svijetu, prvi uopće, što ne kažeš, moj Adame.\n",
      "#####\n",
      "#####\n",
      "Ja sam tebi sve na svijetu vjerovala, ja sam tebi sve na svijetu poklanjala, i dušu i tijelo jer sam tvoja bila, ali me je luda želja prevarila... Adio, ljube, moja ljubavi, srećo, život nas rastavi. Zbog tebe sam sve na svijetu ostavljala, zbog tebe sam crne noći proplakala, prijatelje stare sve sam ostavila, ali me je luda želja prevarila.  Ja bih opet tebe, dušo, izabrala, i nikad se ne bih zato pokajala, i dušu i tijelo, sve bih tebi dala, samo da još jednom budem tvoja mala.  Adio, ljube, život nas rastavi...\n",
      "#####\n",
      "#####\n",
      "U mojoj ulici jutro donose ptice, i osmijehe na svako lice, djeca za loptom trče i svi se smiju, i nešto mi dovikuju. Dok šetam počinje kiša, ugledam tebe, sami ja i ti, gdje se sakriti, puni su izlozi kišobrana i parfema, i nešto se dobro sprema. Aj, aj, aj, aj, sve je cool i sve je fino, aj, aj, aj, aj, baš se dobro osjećam, s neba ljubav, sami ti i ja, aj, aj, aj, aj, sve je cool i sve je fino. U mojoj ulici kafići su puni ljudi, novine i kava, svi su pomalo ludi, na petom je katu netko pustio latino, i to je u redu i baš nam je fino. U svakoj kapi kiše, ljubav čeka na nas, i kad je san il' java, ja ti čujem glas.\n",
      "#####\n",
      "#####\n",
      "Ti si moj život, moj bol, znam jer bez dodira tvog, samo se pravim da živim, al' zato te ne krivim. Ja sam k'o srna gonjena, jer sam ti zabranjena, pusti što govore ljudi, nek' srce mi tvoje sudi. O hasta el cielo, yo te quiero, yo te quiero. Ajde, ajde, zlato moje, što je moje to je tvoje, nije kasno za nas dvoje. Volim kad te zadovoljim, volim kad ti udovoljiim, volim kad te usrećim, i kad ti pamet pomutim.\n",
      "#####\n",
      "#####\n",
      "Čudan nemir osjećam u sebi, dok me noćas grli ruka tvoja, ako odeš, prežalila ne bih, dušo moja, dušo moja. Ne daj tuga da nam sruši sreću, da nas vrijeme zaboravom zbriše, ako odeš, ja voljeti neću, nikad više, nikad više. Ako odeš, ljubavi, nemoj ništa reći, kada suze krenu, suvišne su riječi. Ako odeš, ljubavi, samo me poljubi, prije što te srce, zauvijek izgubi. Još jedan nemir osjećam u sebi, dok me noćas grli ruka tvoja, ako odeš, prežalila ne bih, dušo moja, dušo moja. Ne daj tuga da nam sruši sreću, da nas vrijeme zaboravom zbriše, ako odeš, ja voljeti neću, nikad više, nikad više\n",
      "#####\n",
      "#####\n",
      "Otkrit ću ti nešto, ako dozvoliš, nije bitno koga, bitno je koliko nekog voliš. Okrećeš mi leđa, kao i obično, a ja te ne puštam i ne dam, srce ne zna šta je logično. Stani malo, još nije kraj, u moje ime ljubav ti ne ubijaj, ajde ostani i budi jak, vremenom se naviknu i oći na mrak. Briga me gdje plovimo to, na našem brodu pukotina ima bar sto, al' preživjet ćemo ovo mi, ako posudiš od mene malo ljubavi. Ova soba noćas, moj je Alcatraz, i zidovi su ovi, moji izgubljeni snovi. Za mene kazaljke se, nikad ne poklope, noćas ne misliš na mene, u svemu ovom sama ostajem.\n",
      "#####\n",
      "#####\n",
      "Misto radnje disco klub, svira narodnjake, priđe meni neki lik, drago mi je Ante. Plešete li? ne bi hvala, rađe bi se udala, može odmah, curo draga, Ante šala, šala. Ante, okani me, se svega ti, puno si lip, al' nisi moj tip. I dok sam u ritmu, techna izvijala bok. Ante mi se rastužija, reda štok na štok. Odvaži se priđe uhu kaže, slušaj molim te, bit ćeš moja, samo moja, draga, volim te.  \n",
      "#####\n",
      "#####\n",
      "Gledas me danima osjecam te, zbog tebe oblacim lude haljine, sad je nase vrijeme, sad su prave godine. Ne, necu ti prva prici nije to red, hajde sve je jednostavno, ne budi blijed, sad je nase vrijeme, sad su prave godine. Fali mi cvijet, zavodi me malo, i meni je do tebe stalo, neka muzika svakog, radia bude ljubavna. O baby, baby saberi se, bit ce nam dobro, opusti se, nije ti prvi put i nema razloga, da te sve nervira, o baby, baby saberi se, bit ce nam dobro, opusti se, i disi normalno i nema razloga, da te sve nervira.\n",
      "#####\n",
      "#####\n",
      "U tvojim očima ima nečega što bih probala, u mojim mislima vlada panika i svira muzika, a gdje si ti moja ljubavi, vrijeme prolazi, a gdje si ti moja ljubavi, sunce zalazi. U tvojim rukama ja bih spavala pa se budila, na mojim usnama ima otrova i struja udara, a gdje si ti moja ljubavi, vrijeme prolazi, a gdje si ti moja ljubavi, sunce zalazi. Bambola, la bambola, malo bi se ljubila, bambola, la bambola, jer ova noć je luda noć, za nas stvorena, bambola, la bambola, tvoja jedina. U tvojim očima ima nečega što bih probala, na mojim usnama ima otrova i struja udara, a gdje si ti moja ljubavi, vrijeme prolazi, a gdje si ti moja ljubavi, sunce zalazi.\n",
      "#####\n",
      "#####\n",
      "Verse 1]. Takvi k'o ti se ne traže srećom. Dese se pukom nesrećom il’ srećom. Zahvali društvu, uvijek sam bila. Samo tebi ispadnem nešto kriva. Pre-Chorus]. A ja stoput bih otišla, al' ne mogu. Kakve si čini bacio na mene. Istok i zapad ne pomaknu se. Chorus]. Gdje to ima da se smijem k'o luda, živim uplakana. I da dišem i hodam živa sazidana. Da te kunem jer te volim takvoga od prvog dana. U tvom crnom svijetu ja sam bijela vrana. Gdje to ima da zbog tebe duša mi je pokidana. Da zbog tebe sam iz raja protjerana puna rana. U tvom crnom svijetu ja sam bijela vrana. Verse 2]. Ko bijesna hoću da te se riješim. Ti nađeš način i uvjeriš me da griješim. Ti si okidač suza, problema. Doktor si za tješenje kakvog nema. Pre-Chorus]. A ja stoput bih otišla, al’ ne mogu. Kad si čini bacio na mene. Istok i zapad ne pomaknu. Chorus]. Gdje to ima da se smijem k'o luda, živim uplakana. I da dišem i hodam živa sazidana. Da te kunem jer te volim takvoga od prvog dana. U tvom crnom svijetu ja sam bijela vrana. Gdje to ima da zbog tebe duša mi je pokidana. Da zbog tebe sam iz raja protjerana puna rana. U tvom crnom svijetu ja sam bijela vrana\n",
      "#####\n",
      "#####\n",
      "Otkad sam te srela, mojoj duši mira nema, nijednog trena, strasno me ljubiš, kao violina jecam. Da je meni, da je, da ova ljubav traje dovjeka, da se samo smijem, da ti bijele ruke, grijem i milujem. Bojate bane buški, bojate bane buški, bojate bane, bojate bane, bojate bane buški. Ja ću tebi biti, nježna kao svile niti, o dušo moja, ti si moje srebro, ti si moje zlato, ti si rijedak dijamant. Da je meni, da je, da ova ljubav traje dovjeka, da se samo smijem, da ti bijele ruke, grijem i milujem.\n",
      "#####\n",
      "#####\n",
      "Što da radim sada, otišla mi ljubav, umrijeti ću mlada. Bože prstom put pokaži, on je tijelo oslabio, ti osnaži. Bolna ti bolujem, sreću ja kupujem, svi se ljube k'o i lani, samo ti i ja smo sami, bolna ti bolujem, tugom ja trgujem, svi se ljube k'o i lani, samo ti i ja smo sami.  Samo ti i ja smo sami\n",
      "#####\n",
      "#####\n",
      "Sad me ljubiš kao stranac, oči zatvaraš... Pukao je zlatni lanac, ti me ostavljaš. Kao ja s tobom nitko nije nebom letio, Kao ti meni nitko nije srce slomio. Ispred nas je magla gusta, jutro olovno, K'o oluja divlja, pusta, dan je počeo... Bože moj, sve što volim izgubim... Bože moj, da je snage da izdržim?. Još nas veže tanka nit, Još sve može dobro bit', Bože moj, Bože moj!. Kao ja s tobom nitko nije nebom letio... Kao ti meni nitko nije srce slomio. A slomio se svijet od stakla tu, pred očima... ljubav me je opet takla samo prstima.\n",
      "#####\n",
      "#####\n",
      "Ovo će biti dobra noć predosjećam. Tvoje su oči boje ranog proljeća. Noćni klub i svi smo tu. Na noge svi sad. Nek trese se grad. Ti gledaš me ja topim se. Hajde priđi mi ja brojim do tri. Jedan, Dva, Tri. Ispred mene DJ. Iza ruši se sve. Oko mene su svi. Ludi, samo ne ti. Novi vrti se hit. A ti kao Brad Pitt. Od stopedeset njih sto. S tobom bi radile to. A vidim ja kroz tebe sve. Ti želiš me, a druge ne. Na tebi je baš sve naj, naj. Sto posto znam da ti si taj. Jedan, Dva, Tri. Zrak između nas. Nezapaljivi gas. Goriš ti, gorim ja. To je kemija, znam. Pameti, laku noć. Zvat ću te upomoć, ako zatrebaš mi. Sad spavaj, prošlo je tri. Jer vidim ja kroz tebe sve. Ti želiš me, a druge ner. Na tebi je baš sve naj, naj. Sto posto znam da ti si taj. Je'n, dva, tri...).\n",
      "#####\n",
      "#####\n",
      "Mi tjeramo oblake sive, osmijeh nam je srednje ime, i sreću svu širimo k'o zarazu. Ostavi sve, sve teške teme, brige i stres, i sve dileme, idemo sve, do Južne Amerike... O,o,o,o, hej, osjeti ritam taj, pleši i uživaj, Brazil i samba, Copacabana, Rio i karneval. Pijesak pod nogama, ludi smo do vraga, pije se, zna se, u ritmu salse, kad igra Hrvatska. Zaboravi na pesimizam, prebaci se na optimizam, prevari zlo, ma hajde možeš ti to. Čuje se huk, svi u napad, sjever i jug, istok i zapad, pjevaju svi, kad igraju Vatreni.\n",
      "#####\n",
      "#####\n",
      "Za mene koban, grub i nemoguć, Za druge ljude sve, dobar, neobičan, Pokupi kofere i vrati ključ, Bar si u odlascima odličan, Izbriši svaki božji trag, I nemoj nogom nikada na moj prag. Od tebe imam broš, sa putovanja dar, I tuge dosta još za 2 zivota bar, To moraš priznati nije mala stvar. Od tebe imam broš i ništa više ne, Ti nisi tako loš, al loš si za mene, Za takve kao ti ima zamjene... Postoji zaborava linija, mi smo je povukli. Ti tako htio si. I sto sam bila bolja, finija. To gori prema meni bio si. Dobro zameti svaki trag, Ko da mi nisi nikada bio drag... Od tebe imam broš...\n",
      "#####\n",
      "#####\n",
      "Ako želiš biti mlad, bilo gdje i bilo kad, nemoj biti underground, nemoj biti down. Nek' te ludi ritam fura, nek' te puhne jaka bura, tete, strine, konkubine, vrtite svoje obline. Na tulume zovi, kume, milu rodbinu, baci smile i jednom, skini facu ozbiljnu. Plavo nebo prosulo, je dugu iznad nas, hajde gukni ljube moja, da ti čujem glas. Budi happy, budi in the mood, budi happy, totalno je good, nek' se zemlja trese, vrti se u krug, budi happy, sa mnom budi lud.  Nek se zemlja trese, vrti se u krug. Budi happy, sa mnom budi lud, ). Budi happy, sa mnom budi, sa mnom budi, sa mnom budi lud\n",
      "#####\n",
      "#####\n",
      "Evo sklapam oči, brojim do tri, što mi to nosiš na dar, riječi što do srca poznaju put, ma ti sve prečice znaš. Opet se smiješ i slutiš, da gubim tlo pod nogama, a tvoja ljubav dolazi, pod naša dva topla jastuka. Budim se s imenom tvojim, s poljupcem započinjem dan, nitima ljubav snove nam kroji, nebo zna da tvoja sam sva. Evo sklapam oči, brojim do tri, što mi to nosiš na dar, riječi što do srca poznaju put, ma ti sve prečice znaš. Opet se smiješ i slutiš, da gubim tlo pod nogama, a tvoja ljubav dolazi, pod naša dva topla jastuka.  Budim se s imenom tvojim, nebo zna da tvoja sam sva\n",
      "#####\n",
      "#####\n",
      "Doviđenja dragi rekla sam. Koji put po redu Bože ko to zna. Još jedna muška farsa dvolična. Iz malog mozga evo noćas brišem ga. Da ga volim laž je notorna. Moj je status opet tako slobodna. A šta nam sada treba, šta, šta, šta?. Samo malo dobrog provoda. Gore, dolje, naprijed, natrag. Lijevo, desno, svuda meni dragi ljudi, to je pravo mjesto. Dajte pjesmu, dajte trube, dosta mi je ove tuge. Nek mi rumba tijelo lomi, godinu i jače bila sam u komi. Bit ću opet kao nova, prva želja muških snova. Duge noge, vitko tijelo, oko sebe vatru pali Calimero. Gledam oko sebe, zumiram. Osim vode noćas sve konzumiram. Evo moju pjesmu sviraju. Ajmo cure, dame prve biraju. Sijaju u mraku zvjezdice. Ma to su samo moje vjerne frendice. A šta nam sada treba, šta, šta, šta?. Samo malo dobrog provoda. Gore, dolje, naprijed, natrag. Lijevo, desno, svuda meni dragi ljudi, to je pravo mjesto. Dajte pjesmu, dajte trube, dosta mi je ove tuge. Nek mi rumba tijelo lomi, godinu i jače bila sam u komi. Bit ću opet kao nova, prva želja muških snova. Duge noge, vitko tijelo, oko sebe vatru pali Calimero\n",
      "#####\n",
      "#####\n",
      "Ja pjevam za tebe, Za naša sjećanja. Jer srce piše stihove. Pjesma je ljubavna. Što znače tvoji pogledi. Kad sve je gotovo?. Jer srušeni su mostovi. Do tebe odavno. Sve je tužno jer čovjek kojeg volim nije tu. A kažu da je s nekom koja liči na mene. Al' on je sa mnom i kad je u snu. Jer svatko ima svoje razloge\n",
      "#####\n",
      "#####\n",
      "Ja još čuvam stare slike, pa navratim kad zaboli, ne plače se iz navike, drukčije je kad se voli. Odavno već pjesme nema, ne čuje se riječ dobrote, otišli smo predaleko, od ljubavi od ljepote. Cvate šafran bijeli, evo opet proljeća, a ti nisi sa mnom, tugo najveća. Ja još sanjam iste snove, iznad mene rajsko voće, ne beru ga ove ruke, umorne su od samoće. Odavno već pjesme nema, ne čuje se riječ dobrote, otišli smo predaleko, od ljubavi od ljepote.\n",
      "#####\n",
      "#####\n",
      "Temperatura i vibra, u zraku, a mi isti i u znaku, i u podznaku. Kod tebe, kod mene, znam te uru, što da ne, šta ti nije tu okej, da nisi možda gej. Kap konjaka, tango u dva koraka, pogledaj, noć je za ljubav, ne kvari mi slavlje. Kad je bura, reci ura, ajde u zdravlje. Kod tebe, kod mene, u autu, što da ne, šta ti nije tu okej, da nisi možda gej. Ej, kako ćemo, lako ćemo, lakše, nego išta, ej, kako ćemo, lako ćemo, ne brini se ništa. Kap konjaka, tango u dva koraka, usne, bombone, signali u mraku, tebe veže sila teža, ja na oblaku. Kod tebe, kod mene, idemo, svejedno je, šta ti nije tu okej, da nisi možda gej.  Kako ćemo, lako ćemo, kako ćemo, lako ćemo, kako ćemo, ne brini se ništa\n",
      "#####\n",
      "#####\n",
      "Haljina svilena, veo od kašmira, duša mi pustinja, željna tvog dodira. Mjesec k'o dukat žut, srce na mukama, moj život sada je, u tvojim rukama. Da si moj, da si moj, dala bih ti život svoj, da mi je, da mi je, leći kraj tebe. Zlatna je prašina, na našim usnama, tisuću i jedna noć, još živi u nama.\n",
      "#####\n",
      "#####\n",
      "Daj, daj, daj da biram. Gdje da padnem. Ako kažeš ne. Daj, daj, daj da umrem. Što će meni život bez tebe. Daj, daj, daj da biram. Gdje da ljubim. Ako kažeš da. Daj, daj, daj mi ime. Da ga nosim iza svojega. Zlatni rudnik oko vrata. Stavit ću ti ja. I na dlanu nosit ću te. Preko mjeseca\n",
      "#####\n",
      "#####\n",
      "Gore zvijezde kao baklje, gore na nebu, noćas mi se vraćaš, a opet mirišeš na nju. Gotovo je među nama, srca lome se, ne spavamo kao prije, ne volimo se. Zaplakat ću, zapjevat ću, neka čuju svi, otići ću ja daleko, hoću najdraži... Daj mi, daj, vina daj na stol, nazdravite sa mnom, da zaboravim na bol. Daj mi, daj, Bože hrabrosti, zapjevajte sa mnom, kada on me ne voli.\n",
      "#####\n",
      "#####\n",
      "Usne moje te lažu. Ne želim da ti dam nadu. Jer sam bila prva tu od svih. A ti me tretiraš kao zadnju. Ove noći neka boli me. Kao gorko vino suze prolićeš. Ti za mnom. Samoća ostaće ti samo. I šta ti misliš sada. Poslije nas ti si isti, znam da. Nema pomoći mojoj ranjenoj duši. Srce slomljeno uzima tama. Daleko ti kuća bila od moje. Da ti ne znam adresu ni broj. I nisam od juče milo moje. I nisam ti bila baš bilo tko. Daleko ti kuća bila od moje. Da ti ne znam adresu ni broj. To nije ljubav, nevjera to je. Ti i ja smo nesretan broj. Nesretan broj\n",
      "#####\n",
      "#####\n",
      "Ja sam bila tvoja mala, samo sam za te cvala, i sad kad sam procvitala, zbog tebe sam zaplakala. Ti si sad ruža moja, al' ja nisam ljubav tvoja, previše sam virovala, lipoj riči od mornara. Dalmatinka, Dalmatinka, tri ljubavi svoje ima, prva mi je Gospe moja, druga mi je ljubav tvoja, a treća je bila boja. Ti si moja zvizda sjajna, ti si moja prva tajna, sićaš li se našeg žala, di sam tebi zakantala\n",
      "#####\n",
      "#####\n",
      "Ja sam djevojka sa sela. Noga mi je bosa. Rumeno mi lice. Umila ga rosa. Jednog jutra krenula sam u veliki svijet. Skupila sa svoje snove i u duši cvijet. Na stanici čekali su prvi rođaci. Sivo nebo, tuđi koraci. Vidjela sam svjetla grada, dobro i zlo. Svi su kao prijatelji, al' hvala im za to. Ja sam neka druga vrsta, ja bi iskreno. U meni je srce ostalo. Ja sam djevojka sa sela. Noga mi je bosa. Rumeno mi lice, umila ga rosa. Ne, ne, ne trebam ja zlato. Niti dukat žuti. Samo trebam rijeku da izvor pomuti. Ljubim tvoje oko plavo. Sve bi tebi dala sunce moje malo. Ti si sve to što mi treba. Ja sam tvoja mala. Djevojka sa sela. Svako krene svojim putem, pa ja krenula, sa mnom pošla samo sreća, tuga zastala, ali nisam našla ono što sam tražila, moja ljubav, moja sudbina\n",
      "#####\n",
      "#####\n",
      "Vjerovala sam. U tvoju priču da si pravi, Da jedina sam ja. U tvome srcu, u tvojoj glavi, A ti bio si dno, Varao me sa sto. Sada gledaj me i pati, S drugim sve ću ti vratiti... Dobrodošao u klub, Sjedi udobno se smjesti, Prevarenih ima svud. Zar to nisu dobre vijesti?. Mene ti, a tebe ja, Ama svima to se desi, Dobrodošao u klub. Oko za oko, zub za zub. Baš takve kao ti. Ni pred tobom se ne stide, A ovaj život moj. Nek na tvoju dušu ide, Jer ti bio si dno. Varao me sa sto, Sada gledaj me i pati, S drugim sve ću ti vratiti. Samo smo se smijali, I pričali o genima, Maštali o djeci, I o njihovim imenima, Mislili da skupa ćemo. Zlo i dobro dijeliti, Za bolji život štedjeti, U bolji kraj preseliti, Ali tebi očigledno. Sve to bilo malo. Jer zbog tvoje glupe slabosti. Sve u vodu palo je, Jedna ružna riječ. Dobro te opisuje, Ali boljet će te kao mene, A to ti potpisujem...\n",
      "#####\n",
      "#####\n",
      "Te quiero mucho, pa voli i ti mene, ne slušaj nikog, pa nam možda krene, kad hombre ljubi, on nikom se ne pravda, što je od mene bolja Esmeralda. Kažu da ljubav uvijek prestaje, kada se tome nadaš najmanje, sve što je bilo sada se briše, jer netko uvijek voli više. A samo na filmu sreća caruje, i onda kad se suzom kupuje, na telenovi i muškarac plače, segnorita voli ga još jače.   Kad hombre ženu zavoli, on moli dok ne zaboli, on za njom svijetom putuje, i ako treba zbog nje ratuje.  Kad hombre ljubi, on nikom se ne pravda, što je od mene bolja Esmeralda, Esmeralda\n",
      "#####\n",
      "#####\n",
      "Verse 1]. Hladna kava s puno cimeta. Totalna blokada prometa. Mobitel mi izvan dometa. To uopće me ne ometa. Da zovem sve do ponoći. Da volim te neću poreći. Još malo pričaj mi o sreći. Hook]. I, i tako svakog dana. Ja ne znam da li sanjam. Da nije ljubav, nije ljubav ne. To je fatamorgana. Sinoć spavali smo. A spavali nismo. A je, je, je, je, je. A je, je, je, je, je. Verse 2]. Od devet do pet se mazimo. Vani rijetko mi izlazimo. Neka padne cijela nacija. I dovraga demokracija. Da ljubim te sve do ponoći. Da volim te neću poreći. Još malo pričaj mi o sreći. Hook]. I, i tako svakog dana. Ja ne znam da li sanjam. Da nije ljubav, nije ljubav ne. To je fatamorgana. Sinoć spavali smo. A spavali nismo. A je, je, je, je, je. A je, je, je, je, je. To fatamorgana. I, i tako svakog dana. Ja ne znam da li sanjam. Da nije ljubav, nije ljubav ne. To je fatamorgana. Sinoć spavali smo. A spavali nismo. A je, je, je, je, je. A je, je, je, je, je\n",
      "#####\n",
      "#####\n",
      "Jastuci na prozoru, jedan nula za ljubomoru, malko mi već popusta, izolacija na živcima, udaraš čežnju, dušo. Kao mali nervni slom, suza je sa posvetom, u mojoj glavi si na sigurnom, gade, ko te dade. Vidi ispod haljine, nema tajne, znaš, uvijek si sa moje lijeve strane, u kući ljubomore. Ljubomora, ljubomora, to je ljubav, to se tako mora, neće me prvi san, nije strašno, nije svaki dan, krevet ko samostan, nije strašno, nije svaki dan, gade. Jastuci na prozoru, jedan nula za ljubomoru, ej, malko mi već popusta, izolacija na živcima, udaraš čežnju, dušo. Pijan mi je dekolte, ajde, brže ostari, da te više niko ne voli, ni žene, osim mene.\n",
      "#####\n",
      "#####\n",
      "Zašto su ti oči umorne i tužne. Ne vidim u njima modrog mora sjaj. Daj zaboravi na sve dane ružne. Svoju ruku mi daj... Voljela bi noćas dok je mjesec mlad. Da još jednom čujem riječi te. Volim te... Hoću da te ljubim, da te usrećim. Pivat ću ti, bit ću samo tvoj gardelin. Kada brodovi prestanu da plove. Kad se more smiri, ja ću doći u tvoj san. Pa ćeš saznati da još uvik živi. Naše ljubavi plam.  Pivat ću ti, bit ću samo tvoj mali gardelin.\n",
      "#####\n",
      "#####\n",
      "Ej, što volim miris kamiona!, 1. Šoferskih gostiona, Hormona do plafona. Muškaraca tona. Turbo je sezona!. Ej, što volim miris od benzina. Ej, magistrala Dalmatina. Hop, hop, malo, malo pa krivina. Ljulja se kabina, Turbo je mašina!. Mali, mali, meni toga fali. Latinice, atmosferice. Mali, mali, meni toga fali. Gas do daske, bebice!. Gas, gas... Gas, gas... Laj, la, la, la... Kelneri ko šečeri, A pjevaju šoferi:. Nek se živi, Pa ko preživi!. Šoferi, šoferi. Ej, da vas je više!. Volim, volim, volim... Volim kad na muško miriše!. Gas, gas... Gas, gas... Ajde, ajde, nije to od vina. Ej, nije ni od serpentina. Uhvatila me milina. Šest mjeseci mi vrućina. Turbo je godina!. Ej, što volim miris kamiona!. Šoferskih gostiona, Hormona do plafona. Muškaraca tona. Turbo je sezona!. Mali, mali, meni toga fali. Latinice, atmosferice. Mali, mali, meni toga fali. Gas do daske, bebice!. Gas, gas... Gas, gas...\n",
      "#####\n",
      "#####\n",
      "Koliko dugo mi glumiš poštenje, a spavaš pored nje, i nosiš ruže i bombonjere, i laži skrivene. Koliko puta sam rekla da nisam, ja jučer rođena, il' idi drugoj il' voli ko muško, treće mi ne treba. To je ljeto kad sam ostavljena bila, pamtit ću te suze 200 godina, platila za sve a nisam bila kriva, ovo mi je kazna jer sam voljela, . To je ljeto kad sam ostavljena bila, pamtit ću te suze 200 godina, generale moj ti pucaš u civila, gledaj me u oči kad me ostavljaš, ostavljaš. Toliko puta sam čekala sama, sa svojim suzama, jer znam da diraš i nju a i mene, tim istim rukama. Koliko puta sam rekla da nisam, ja jučer rođena, il' idi drugoj il' voli ko muško, treće mi ne treba.\n",
      "#####\n",
      "#####\n",
      "Gledaš u mene, očima hladnog sjevera, osjećam mraz u grudima, jer sam te izgubila. Znam, umire ljubav, tišina sve mi govori, u pobjedi i porazu, ti samo si u prolazu. Vidjela sam grad bez ljudi, pobjednika kako gubi, anđele na stupu srama, djecu koja plaču sama. Vidjela sam snijeg u maju, đavla u bijelom raju, ali ne i muško koje, zna trajati u dvoje, takvi valjda više ne postoje. Komad po komad, moje srce kruni se, a ja sam tu da čekam te, i da za slamku držim se. Znam, umire ljubav, tišina sve mi govori, u pobjedi i porazu, ti samo si u prolazu. Vidjela sam grad bez ljudi.\n",
      "#####\n",
      "#####\n",
      "Od tebe sam, dragi, Dugo krila. Da sam nekog drugog. Poljubila. A ti nisi ništa znao, Ništa znao, Al si nešto, dušo, Osjećao. Haljinicu boje lila, Ja sam dušo. Oblačila. Kad san išla. Da ga ljubin, Da ga ljubin, A tvoja sam ljubav bila. Od tebe sam dragi. Dugo krila. Da sam tebe, dušo, Prevarila. Poljubila, prevarila. Zažalila, Haljinicu što sam. Oblačila.\n",
      "#####\n",
      "#####\n",
      "Zvat ću ti taxi pijan si da voziš. Idi jer voliš da bila bi bilo čija. I ne znam da l' si shvatio. Tvoj poziv je upravo onaj koji se ne odbija. Laži manje važe. Iako se trudim da vjerujem. Njegove tetovaže s mojim imenom su dokaz da pretjeruje. I kada djelujem ti jaka, tada najviše sam ranjiva. A ti si horor usred mraka. Moja dolina sanjiva. I mijenjam broj, a čekam da nazove. Gasim ton, a čekam da nazove. Bacam telefon, a čekam da nazove. I samo čekam da nazove. Halo. Džaba sve kad je srce nedostupno…džaba sve. Neće, mene ljubav neće. I džaba cvijeće i večere uz svijeće. A gdje će, srce ne zna gdje će. U labirintu, u krugu se kreće. I kada djelujem ti jaka, tada najviše sam ranjiva. A ti si horor usred mraka. Moja dolina sanjiva. I mijenjam broj, a čekam da nazove. Gasim ton, a čekam da nazove. Bacam telefon, a čekam da nazove. I samo čekam da nazove. Halo. Džaba sve kad je srce nedostupno…džaba sve\n",
      "#####\n",
      "#####\n",
      "Ja vozim ulicom suprotnog smjera. I hodam ivicom krova nebodera. Ti se kockaš i u ono što i nemaš. U tebi odavno hazarder pravi drema. Kažu da si kao Bog. Streptomicin za muški rod. Oko malog prsta vrtim gomilu mladića. Malo miješam datume, malo miješam pića. Pijem, pušim, ne spavam, nezdravo se hranim, Ono što me ubija, to me živom pravi. Pijem, pušim, ne spavam. Pijem, pušim, ne spavam, malo miješam pića, to me živom pravi. Da, ja sam kraljica ruskoga ruleta. Da, ja sam mnogima Ahilova peta. Ti se kockaš i u ono što i nemaš. U tebi odavno hazarder pravi drema. Kažu da si kao Bog. Streptomicin za muški rod. Oko malog prsta vrtim gomilu mladića. Malo miješam datume, malo miješam pića. Pijem, pušim, ne spavam, nezdravo se hranim, Ono što me ubija, to me živom pravi. U jednoj ruci čaša whiskeya sa ledom. I pališ stotu cigaretu ti za redom. Ti bi samo malo da se igraš. Sve što ljudi vide je da mrkli mrak si. U ovom gradu tebe zna baš svaki taxi. Takav život znala si da biraš. Oko malog prsta vrtim gomilu mladića. Malo miješam datume, malo miješam pića. Pijem, pušim, ne spavam, nezdravo se hranim, Ono što me ubija, to me živom pravi. Pijem, pušim, ne spavam, ono što me ubija, to me živom pravi\n",
      "#####\n",
      "#####\n",
      "Moj život nije lak, al' barem imam stila, jer kako god okrenem, sve sam živo napravila. Dobro, udala se nisam još, al' imam želju jaku, samo da je muško, ja ne tražim u jaju dlaku. Transparentna sam kao vladini prvaci, suvereno vladam teritorijom, samostalna, drzim sve u šaci, ne padam pred kolektivnom euforijom. Ja tebi sam vjerna ko opatica, ko svaka druga Hrvatica, slatka kao med, za tebe spremna sve. Da samo tebe ljubim ja, tebi sam vjerna ko opatica, ko svaka druga Hrvatica, slatka kao med, za tebe stvorena, da samo tebe ljubim ja. Hrvatski reperi, dignite malo hajku, onaj kuhar vam uzeo posao, djeca slušaju krivu majku\n",
      "#####\n",
      "#####\n",
      "Kao Hurem, robinja ne ljubi k'o dama, na koljena ti padam bez srama. Za dvoje krevet, al' spavam sama, kao da postim sred ramazana. Dobro znaš, da se za te čuvam oduvijek, susret naš, prvi, pamtiti ću zauvijek. Od tad mi ni'ko drugi ne postoji, dodiri na koži tvoji, zauvijek vežu me... .kao žig, na papiru, u futroli, i kad mazi, i kad boli, kao lanci ljubavi te... ). Kao Hurem, ne dam nikom moje da dira, iz ljubavi, niti iz hira;. Jer ljubav svoje žrtve ne bira, sve dok je duša bez mira. K'o Hurem, robinja ne ljubi k'o dama, na koljena ti padam bez srama. Za dvoje krevet, al' spavam sama, kao da postim sred ramazana. Dobro znaš, da se za te čuvam oduvijek, susret naš, prvi, pamtiti ću zauvijek. Sanjam te; dođi, dođi, zlato moje, sve što vidiš, sve je tvoje, sve tvoje godinama. Zovem te, dođi jer te one, koje, svaku moju suzu broje, nikad neće voljet k'o ja... \n",
      "#####\n",
      "#####\n",
      "Govoriš mi riječi bajne sve, a nije vrijeme za govore, na krilima noći mi se vozimo, i to mi je dovoljno. Šašava je noć tako čarobna, a ja bi htjela malo provoda, zagrli me sad baš smo zgodan par, sviđa mi se cijela stvar. U jedom trenu, sve će proći, jer ljubav nestaje, tako si dobar ove noći. Idemo se ljubiti, nemamo što izgubiti, vjetar nosi riječi te, sto posto želim te. Govoriš mi riječi bajne sve, a nije vrijeme za govore, na krilima noći mi se vozimo, i to mi je dovoljno. Šašava je noć tako čarobna, a ja bi htjela malo provoda, zagrli me sad baš smo zgodan par, sviđa mi se cijela stvar. U jedom trenu, sve će proći, jer ljubav nestaje, tako si dobar ove noći. Sto posto želim te\n",
      "#####\n",
      "#####\n",
      "Dobra večer, ja sam, bit ću kratka ovaj put, i onako sve na tebi piše, znam, ti imaš drugu, mene voliš tek usput, imaj sve, al' mene nikad više. Znam da će niz tvoje obraze, krenut' suze jednom zbog mene. Idi i sreća nek' prati te svud', jednom pokazat' će vrijeme, neka ti mjesec obasja put, i ne pitaj nikad za mene. Idi i sreća nek' prati te svud', jednom pokazat' će vrijeme, neka ti mjesec obasja put, i ne pitaj nikad, ne, ne pitaj nikad, ma ne pitaj nikad za mene\n",
      "#####\n",
      "#####\n",
      "Mogla sam, mogla te čekat noćima. Dok mi se svijest ne okrene pred očima. U mišju rupu znala sam pobić od tebe. Kad čujem kako s vrata vičeš goni se. Kada si se milovati nekad dao. Kao da sam ježa tad ja gladila. Tek sad vidim da sam sebi, a i tebi. Uvijek htjela dobro, a loše radila. Imaš pravo, možda problem je u meni. Što i ove noći ideš drugoj ženi. Što me lažeš, varaš, a ludo si voljen. Imaš pravo dragi, u meni je problem. Što si navuk'o me na svoje demone. Sludio mi život i hormone. Ja sam kriva, zašto više da se lažem. Problem je u meni, ali sad je kasno. Da ti zube pokažem. Sto sam se puta za svoj život borila. Na udarce ti nikad nisam odgovorila. Hvalila svakom tko te je poznavao. A ti si mene javno ponižavao. Kada si se milovati nekad dao. Kao ježa tad ja da sam gladila. Tek sad vidim da sam tebi, a i sebi. Uvijek htjela dobro, a loše radila. Imaš pravo, možda problem je u meni. Što i ove noći ideš drugoj ženi. Što me lažeš, varaš, a ludo si voljen. Imaš pravo dragi, u meni je problem. Što si navuk'o me na svoje demone. Sludio mi i život i hormone. Ja sam kriva, zašto više da se lažem. Problem je u meni, ali sad je kasno. Da ti zube pokažem\n",
      "#####\n",
      "#####\n",
      "Zdravo Marijo, milosti puna. Gospodin s tobom. Blagoslovljena ti među ženama. I blagoslovljen plod utrobe tvoje, Isus. Sveta Marijo, moli za nas grešnike, Sada i na času smrti naše, Amen. Marijo, milosti puna, znaš da ga volin. Prid tvoje dite san došla, klečim i molin. Svitlo na licu je tvom, suza na mom. Grišna san došla u tvoj dom. Marijo, milosti puna, znaš da ga jubin. Srce san svoje mu dala. A sad ga gubim. Milost u oku je tvom, suza u mom. Tužna san došla u tvoj dom. Bez cvića proliće, a mladost pobi' će. Bez njega san more koje nema obale. Bez tica nebo je. Ni glas se ne čuje. Samo ovu jubav imam. Gospe, spasi je. Marijo, usliši molitve moje. Marijo, srcu mi vrati vid. Ol je ovo zadnja ispovid. Marijo, milosti puna, znaš da ga jubin. Srce san svoje mu dala. A sad ga gubim. Milost u oku je tvom, suza u mom. Tužna san došla u tvoj dom. Bez cvića proliće, a mladost pobi' će. Bez njega san more koje nema obale. Bez tica nebo je. Ni glas se ne čuje. Samo ovu jubav imam. Gospe, spasi je. Marijo, usliši molitve moje. Marijo, srcu mi vrati vid. Ol je ovo zadnja ispovid. Marijo, milosti puna, Gospodin s tobom. Blagoslovljena ti među ženama. I blagoslovljen plod utrobe tvoje, Isus\n",
      "#####\n",
      "#####\n",
      "Ma hajde, grad te zove, lumpuj do jutra i noci ove, pozovi taxi, sebi pomozi, jer k'o ce pijan kuci vozit'. Ma popij dovoljno, tugu zaboravi, s nama i bolestan sto posto ozdravi, ludilo sa znakom uzvika, svi smo na nogama kad krene muzika. Andiamo. Andiamo tutti quanti, andiamo tutti quanti. Avanti, Andiamo e segui questo ritmo per muovere il corpo]. Pusti glas i glasno zapjevaj, Andiamo e segui questo ritmo per muovere il corpo], zar to nije dobar osjecaj, Ale, ale, ale, ale...], nadji nekog za sebe i ljubi se satima, Ale, ale, ale, ale...], nova ljubav te ceka pred vratima. I pusti, kaos u glavi, i samo plesi uz dobre stvari, opusti tijelo, uhvati ritam, doci ce netko i tebi bitan. Ma popij dovoljno, tugu zaboravi, s nama i bolestan sto posto ozdravi, ludilo sa znakom uzvika, svi smo na nogama kad krene muzika. Andiamo. Andiamo tutti quanti, andiamo tutti quanti. Avanti. Restiamo immersi cosi, nel ritmo della notte, insieme nella festa balliamo. Balliamo. Italiana. Ajmo, ekipa\n",
      "#####\n",
      "#####\n",
      "Rastopi me na usnama, otkopčaj dugme zubima, tijela u mraku sad su žar, već goriš mi u grudima. Na koži ostavljaš mi trag, vlažan od tvojih dodira, upali svjetlo, gledaj me-, kako te ljubim najbolje... I svaki tren s tobom me uzbuđuje, nježan ko cvjet tvoj je dodir za mene... Ti imaš moć nada mnom kao noć, kad spusti svojih zvjezdica roj... Iz glave meni ti više ne izlaziš, ko slatki nemir trncima me prolaziš, i baš te briga što ću sad ja, u ovoj noći bez sna, kad me opet u sebe zaljubiš... S tobom sam tu na jastuku, osjećam samo kemiju, ti šutiš,ja ne govorim, čitaš mi misli-želim te... Moje te ruke diraju, kosu ti nježno miluju, a tjela traže samo još, još sočnih poljubaca sto... I svaki tren s tobom me uzbuđuje, nježan ko cvjet tvoj je dodir za mene... Ti imaš moć nada mnom kao noć, kad spusti svojih zvjezdica roj...\n",
      "#####\n",
      "#####\n",
      "Ti si najljepši od svih, svi drugi stanu u stih. Tebi ni pjesma nije dovoljna. Eh što te ludo,ludo volim ja. Ti si moja mala ikona, pred kojom molim se ja, nek loše krene i ne ide, razvucem osmijeh i briga me. Ja samo pjevam,ja samo sviram, ja nemam razlog da se živciram. Jer imam tebe,koji me ljubi, koji me voli kada život zaboli X 2. Ti si najljepši od svih, svi drugi stanu u stih. Tebi ni pjesma nije dovoljna. Eh što te ludo,ludo volim ja. Ja samo pjevam,ja samo sviram, ja nemam razlog da se živciram. Jer imam tebe,koji me ljubi, koji me voli kada život zaboli X 3\n",
      "#####\n",
      "#####\n",
      "Već danima ne znam što ću od sebe, oko mene neke čudne osobe, više ne znam što da radim, tako mi se putuje. Dečko, svaka tvoja riječ me nervira, dosta mi je dosta ova četiri zida, osjećam se k'o da imam, tristodeset godina. kad si sam, treba ti ić na more, kad si sam, treba ti prijatelj, kad si sam, treba ti boca vina, treba ti cura fina. kad si sam, treba ti ić' na more, kad si sam, treba ti prijatelj, kad si sam, treba ti boca vina, treba ti Severina. kad si sam, treba ti ić' na more, kad si sam, treba ti prijatelj, kad si sam, treba ti boca vina, treba ti Severina\n",
      "#####\n",
      "#####\n",
      "Verse 1]. Našli ga opet u kafani. I nije znao ništa sem moga broja. Došla bih da mu držim glavu. Da muka prođe, al' on je prošlost moja. Pre-Chorus]. Šta bi noćas njemu značila. Ja ga nisam ubedačila. Chorus]. Nije zbog mene sa sto problema teži. Znao da često negdje od kuće bježi. Nije zbog mene po sedam dana pio. Sa mnom je sretan bio, sa mnom je sretan bio. Nije zbog mene viđen da juri mlađu. Morao dugo da trpi bijes i svađu. Nije zbog mene po sedam dana pio. Sa mnom je sretan bio, sa mnom je sretan bio. Post-Chorus]. Našli ga opet u kafani. Moju adresu jedva on izgovori. Slažite kako tu odavno. Niko ne živi, iako svjetlo gori. Pre-Chorus]. Šta bi noćas njemu značila. Ja ga nisam ubedačila. Chorus]. Nije zbog mene sa sto problema teži. Znao da često negdje od kuće bježi. Nije zbog mene po sedam dana pio. Sa mnom je sretan bio, sa mnom je sretan bio. Nije zbog mene viđen da juri mlađu. Morao dugo da trpi bijes i svađu. Nije zbog mene po sedam dana pio. Sa mnom je sretan bio, sa mnom je sretan bio. Pre-Chorus]. Šta bi noćas njemu značila. Ja ga nisam ubedačila. Chorus]. Nije zbog mene sa sto problema teži. Znao da često negdje od kuće bježi. Nije zbog mene po sedam dana pio. Sa mnom je sretan bio, sa mnom je sretan bio. Nije zbog mene viđen da juri mlađu. Morao dugo da trpi bijes i svađu. Nije zbog mene po sedam dana pio. Sa mnom je sretan bio, sa mnom je sretan bio\n",
      "#####\n",
      "#####\n",
      "Nedjelja je jutro, bude me svirači. Svadbeno veselje pored moje kuće, Djevojka u bijelom, zanosna i lijepa. Krije suze od jučer, ulazi u novi život. Puna nade, sretna na početku. Kao ja sa tobom, Ali poslije toga. Takvu ljubav može nazvati epizodom. Suza nemamo. Čak ni kada nam se plače, Što je duži nam staž, Rečenice su kraće. Jedno drugom iz inata smo. Kamen oko vrata. Hrabri umiru. I kad mogu da prežive. A ti znam čak i moje. Plašiš se blizine. Reci da li ljubav. Sada ima išta s time... Glumimo ekstazu svaku petu večer, Ti misliš o drugoj, ja mislim o drugom. Dosta mi je laži, reci mi u lice. Ono što krijemo dugo možeš lako reći. Bit ću tvoj zauvijek. Sto puta se možeš zakleti pred Bogom. Ali posle svega. Svaku ljubav možeš nazvati epizodom... REFREN 2X\n",
      "#####\n",
      "#####\n",
      "Priznajem, Sad pred porotom ovom, čak i pred Bogom. Kriva sam, rekla sam ljubavi zbogom. A još sam sa tobom. Tu, gdje da idem, gdje da nađem spas. Hej, da li vidiš sve je protiv nas. Kao, još ti slijepo vjerujem. I kao, s nama sve u redu je. A znamo da nam tuga ostaje. Sreća ima preča posla. Kao, mi se ludo volimo. I kao, mi još uvijek gorimo. A znamo da ustvari hladni smo. K'o figure dvije od voska. Moja si, ti bilo životna škola, lekcija bola. Odlazi, ne želim takvog heroja, ja nisam tvoja. Sad, gdje da idem, gdje da nađem spas. Hej, da li vidiš sve je protiv nas. Kao, još ti slijepo vjerujem. I kao, s nama sve u redu je. A znamo da nam tuga ostaje. Sreća ima preča posla. Kao mi se ludo volimo. I kao, mi još uvijek gorimo. A znamo da ustvari hladni smo. K'o figure dvije od voska. Ja, još sam tu, u porazu. I tražim nešto dobro u ovom našem zlu. Ooo prošlosti, ja živim još, a znam da si k'o bolest loš. Kao, još ti slijepo vjerujem. I kao, s nama sve u redu je. A znamo da nam tuga ostaje. Sreća ima preča posla. Kao mi se ludo volimo. I kao, mi još uvijek gorimo. A znamo da ustvari hladni smo. K'o figure dvije od voska.\n",
      "#####\n",
      "#####\n",
      "Na nikad nisam bila nečija mala, ma mama ti me bar znaš, i svoji sam put čuvati znala, uvijek je bilo po mom. Al' odjednom, kao u bajkama, on je sve o čemu, sanjam ja. O mama, mama on vuče, moje konce nježno i sigurno, i tako bi mogla bez straha do kraja, sve dok smo zajedno. I protrnem kada, ga dotaknem, a on odlazi kada, god poželi. Kaži da l' je ljubav, kad malo ti da pa malo uzima, ma da l' je ljubav, kad malo ti da još više uzima, a kada uzima tebe ne smeta. O mama, mama ajde kaži mi nešto, dal' se plače kad se ljubi, i kako često i kako to da, kada plačem suze ne krijem, ipak sam sretna, ipak se smijem. I protrnem kada, ga dotaknem, i poludim kada, me poljubi. Kaži da l' je ljubav, kad malo ti da pa malo uzima, ma da l' je ljubav, kad malo ti da još više uzima. Pretežno sunčano, ponekad oblačno. Kaži da l' je ljubav, kad malo ti da pa malo uzima, ma da l' je ljubav, kad malo ti da još više uzima\n",
      "#####\n",
      "#####\n",
      "Kad prebacim kaput preko ramena, istrčim na ulicu, a snijeg do koljena, krenem polako do prve kavane, i pijem s neznancem, sve dok ne svane, ko je kriv, ko je kriv. I dok trčim, s jednog prozora na drugi, kako minuti mogu biti dugi, baš svaki šum, ko tvoj korak zvuči, postajem sve manja, u toj praznoj kući, ko je kriv, ko je kriv. Zar je važno ko je kriv, dok me pitaš gdje si, zar je važno ko je kriv, kad se već sve to desi. Kad zapalim dvije cigare k'o jednu, a nepoznate cure pitaju da sjednu, a ja tražim tvoju ruku, u džepu mog kaputa, i tramvaj se vuče za mnom, k'o da luta, ko je kriv, ko je kriv. Kad pozvonim u zoru, s vrućim kruhom ispod ruke, i poljubim te sočno, onako s puno buke, i zagrlim te čvrsto, osjetim u duši, a vrući kruh na stolu, i dalje se puši, ko je kriv, ko je kriv.  Zar je važno ko je kriv, kad se već sve to desi. Ko je kriv, )\n",
      "#####\n",
      "#####\n",
      "Prošla je i godina, otkako ne osjećam, na kruhu i na vodi sam, samo za te, za te znam. Nije ovo život ni životarenje, samo mlada čekam brzo starenje. I kunem tebe, nek mi sveci oproste... Ko me, ko me tjero, da te volim slijepo, da mi, da mi sve, tvoje bude sveto, kada mene s njom varao si lako, znam ja gdje, a znam i kako. Ko me, ko me tjero, da te volim slijepo, moja rano, moja šteto, još od Boga tražim spas, a znam da je prekasno za nas. Nema više suza, nema više žaljenja, samo imam želju, za gubitkom pamćenja. Jer nije ovo život, ni životarenje, samo mlada, čekam brzo starenje.\n",
      "#####\n",
      "#####\n",
      "Od prvog trena. Kad sam oči ti vidjela, U maloj ulici. Gdje nekad sam živjela ja. Tada još sam znala. Da sam te izabrala. A ja sam i tad bila, znaj, cura tražena. Htjela sam tebe. I bila sam kažnjena. Zavoljela te slijepo. A ti si radio. Što si htio. Sve mi uzeo. Kradeš sve lopove. Suze, poljupce. Kradeš ih od mene. Kradeš sve blesane. Znaci provale. U srcu posle tebe. I kradeš noć, i kradeš dan. Svaki džep mi otkopčan. Al' još zadrhtim. Kad te u oči pogledam... Vjera u lijepo. Me ka tebi vodila. Jedno sam htjela, A drugo sam dobila. Hej, tugu si mi dao, A sreću obećao... A ja sam i tad bila, Znaj, cura tražena. Htjela sam tebe. I bila sam kažnjena. Zavoljela te slijepo. A ti si radio što si htio, Sve mi uzeo...\n",
      "#####\n",
      "#####\n",
      "Ti mi više nisi ljubavnik, ni gost. Ti si meni zadnji pregaženi most. Jedini... bio si mi sve. A razočarao si me. Ako te poželim, ja te neću zvat'. Nama nitko neće biti kum, Ni svat o jedini, bio si mi sve. A razočarao si me. Kakav je to krivi spoj. Da si njen, a da si moj. Ne ne ne... ne zovi. Ne ne ne... ne zovi me. Ti razočarao si me.\n",
      "#####\n",
      "#####\n",
      "U glavi mi puko film. Hitno pozvala sam taksi. Teoretski živa sam. Ali ne i u praksi. Premoreni taksista pita me gdje da vozi. Ja mu kažem budi drug. Pa mi brate ti pomozi. Vozi me tamo gdje je rusvaj, rusvaj, rusvaj. Vozi me tamo gdje je rusvaj, rusvaj, rusvaj. Vozi me tamo, ajde ustaj, ustaj, ustaj. Gdje je lom, alkohol, gdje se vrti gramofon. Smaram se dugo, daj hladan Tuborg. Pa da vidiš kako lajem i skačem, kao Buldog. Kuda za vikend, a kuda za vikend, a kuda za vikend, vikend, vikend, vikend, vikend, vikend, vikend. Kuda za vikend, a kuda za vikend, a kuda za vikend, vikend, vikend, vikend, vikend, vikend, vikend. Želim neki novi trip. Jer dosada me ova guta. Uzet ću ja drugi lik. Skrenut ću sa pravog puta. Ove noći zato ja, biram svoju lošu stranu. Čekat ću ponedjeljak, da se vratim u normalu. Vozi me tamo gdje je rusvaj, rusvaj, rusvaj. Vozi me tamo gdje je rusvaj, rusvaj, rusvaj. Vozi me tamo, ajde ustaj, ustaj, ustaj. Gdje je lom, alkohol, gdje se vrti gramofon. Smaram se dugo, daj hladan Tuborg. Pa da vidiš kako lajem i skačem, kao Buldog. Kuda za vikend, a kuda za vikend, a kuda za vikend, vikend, vikend, vikend, vikend, vikend, vikend. Kuda za vikend, a kuda za vikend, a kuda za vikend, vikend, vikend, vikend, vikend, vikend, vikend\n",
      "#####\n",
      "#####\n",
      "Verse 1]. Kakva šteta što sam zauzeta. Pa će s drugom da ti cvjeta cvijeće u proljeće. A ja ću i kad puše, i kada sija sunce. Pamtit' naše zimske suze i ljetne poljupce. Chorus]. I zato ne mislim da ostarim, da ne oženim te s drugom. Da kolo ti ne zaigram i pozdravim se s tugom. Novci, zlato, muzika, sve to vam je od kume. Rado me se sjećate dok listate albume. Post-Chorus]. Sve od kume, sve od kume. Kad pred Bogom vas zakunem. Verse 2]. O, kakva šteta što dva smo svijeta. Pa ćeš ti po ovom jednom s drugom hodati. A ja prežaliti neću do kraja tužnu sreću. Što u ovom je životu nismo imali. Chorus]. I zato ne mislim da ostarim, da ne oženim te s drugom. Da kolo ti ne zaigram i pozdravim se s tugom. Novci, zlato, muzika, sve to vam je od kume. Rado me se sjećate dok listate albume. Post-Chorus]. Sve od kume, sve od kume. Kad pred Bogom vas zakunem. Chorus]. I zato ne mislim da ostarim, da ne oženim te s drugom. Da kolo ti ne zaigram i pozdravim se s tugom. Novci, zlato, muzika, sve to vam je od kume. Rado me se sjećate dok listate albume. Post-Chorus]. Sve od kume, sve od kume. Kad pred Bogom vas zakunem\n",
      "#####\n",
      "#####\n",
      "Ne vjeruj noćas mojim usnama, sve će biti ljepo k'o u pričama, ja sam ti zadnja pjesma s radija, poslje mene ide samo odjava. Ne vjerujem noćas tvojim prstima, previše je žica puklo pod njima, a i ona zadnja fina ta na na, ostala mi pjesma lagana. Ljubi me noćas najbolje što znaš, vratit ću ti stoput koliko mi daš, ljubi me noćas da zaboravim, i da na njega ne mislim. Ne vjeruj noćas mojim usnama, sve će biti ljepo k'o u pričama, ja sam ti zadnja pjesma s radija, poslje mene ide samo odjava.\n",
      "#####\n",
      "#####\n",
      "Ljube se male zlatne zvijezdice na nebu, ribe u moru kradom ljube se, crnci i žuti, ljudi Azije i Kine, ljeto i zima kad ih ne vide. Svi se ljube, zašto ne bi, ljubili se mi, sklopi oči ove noći, sat zaustavi... Ljubimo se, ljubimo se, ljubimo se mi, nije važno što će zora, brzo svanuti. . Ljubimo se, ljubimo se, ljubimo se mi, sve do jutra pa nek sutra, zavide nam svi. Ljube se kapi kiše s oblakom u tami, negdje u šumi srne pjegave, crnci i žuti, ljudi Azije i Kine, sunce i hladne noći polarne. Svi se ljube, zašto ne bi, ljubili se mi, sklopi oči ove noći, sat zaustavi.\n",
      "#####\n",
      "#####\n",
      "Lako ti je, lako ti je, prevariti mene mladu, prevariti mene mladu, mirišeš mi na pomadu. E da ne bi, e da ne bi, poljubio mene bijelu, poljubio mene bijelu, mirišem na karamelu. Ja i ti, k'o ljute cigare, bolje, bolje, bolje da se ne pale, ja i ti, i onda bi šta bi. Dva para cipela, da se izuju, dva meka jastuka, al' nas žuljaju. Dva meka dušeka, al' ne ljuljaju, pade šamar, pade šamar, ej . da sam još dva bar. Lako ti je, lako ti je, ljubiti me jer sam sama, ljubiti me jer sam sama, uvijek prva padne dama. E da ne bi, e da ne bi, gledao me kad je tama, gledao me kad je tama, providi me se pidžama\n",
      "#####\n",
      "#####\n",
      "Rekla sam mu da ga volim. Da mi srce krvari, A on meni Kako molim, Kada srca nemaš ti\". A ja, a ja. Još sve puštam. Vjerujem u sve. A ja, a ja. Još sve gutam. Ljubav gadna navika je... Neće više Lola, Voljeti do bola, Lola više nema srca. Cijeli grad to zna. Neće više Lola. Plesat polugola. Momci za mnom ne plaču. Ne plačem za njima ja. Rekla sam mu da ga volim. Da ću za njim umrijeti. A on meni Kako molim, To bih htio vidjeti\". A ja, a ja. Još sve puštam. Vjerujem u sve. A ja, a ja. Još sve gutam. Ljubav gadna navika je. Mili: Kreneš malo lijevo. Kreneš malo desno. Iz auta svakog. Za tobom svira. Banu ti iz mraka. Pa hoće na finjaka. To uopće te ne dira. Izmislila mala, Ma drogu protiv droge. To si, maco ti. Još si mi u krvi. Zato ništa drugo. Meni ne radi.\n",
      "#####\n",
      "#####\n",
      "Ja sam tila da se ubije zbog mene, ja sam tila da glumim lice uplakane zene, ja sam losa, ja sam losa. Ja sam tila da zbog mene sjece vene, ja sam tila da glumim lice zabrinute zene, ja sam losa, ja sam losa. Ja sam tila da ga vidim kako tone, ja sam tila da se osvetim za sve morone, prije njega, ja sam losa, ja sam losa. Ja sam tila da ga vidim kako broji, zbog mene case na sanku, dok ne moze da stoji na nogama, ja sam losa, ja sam losa. Ma nisi ti los, decko, nisi ti los, nisi ti los, decko, nisi ti los, ja sam losa, ja sam losa. Tako bi i tebe kao stvar samo imala, k'o s lutkom se igrala, igrala, ja sam losa, ja sam losa. A ti bi pristao, ti bi na sve pristao, i majku rodjenu zbog mene bi izdao, ja sam losa, ja sam losa. Nisam tila to, nisam tila to, nikad nisam tila da ga volim, nisam tila to, ja sam losa, ja sam losa. Ja sam tila to, ja sam tila to, da preda mnom kleci i moli, ja sam losa, ja sam losa\n",
      "#####\n",
      "#####\n",
      "Noc je duga, najduza, nema Mjeseca, u glavi mi nasa pjesma svira, ja ne spavam jer ne mogu biti bez tebe, a gdje je tvoja ruka da me dira. Jer, dan kad svane ja te ne volim, ne, ne, a noc, noc kad padne ja ti sve oprostim, da,da, zlatni kriz na mojim grudima, i moja molitva, to si ti. Godine, lude godine, sve mi prolaze bez tebe, godine moje najbolje, sve mi odlaze bez tebe, naj, naj, naj, naj, naj, naj, naj, naj, sve mi prolaze bez tebe. A ti si moja jubav, moja losa navika, pamet ne zna zasto srce dira, sve su zvijezde zaspale na tvome ramenu, samo jedna ostala pa svira.\n",
      "#####\n",
      "#####\n",
      "Ne gledaj me tako, svojim suzama, haljina je moja nepobjediva. Došla sam ti samo da se oprostim, za kraj loše karte da ti podijelim. Željela bih da se igra završi, pravim se da mogu ponovo početi. Svijet će biti ružan bez naših navika, i loše zvuči sutra bez tvog osmijeha. Ludo moja, ti ćeš uvijek mi biti, sve što tebi nisam bila ja. Nije lako naći put da objasnim, nek' ti ona bude tvoja najbolja. Željela bih da se ta igra završi, pravim se da mogu ponovo početi. Znaš, svijet će biti ružan bez naših navika, i loše zvuči sutra bez tvog osmijeha. Ludo moja, ti ćeš uvijek mi biti, sve što tebi nisam bila ja. Nije lako naći riječ da objasnim, nek' ti ona bude tvoja najbolja. Ludo moja, ti ćeš uvijek mi biti, i kad s drugim odem od tebe. Željela sam biti tvoja jedina, hoćeš li joj ikad reći za mene\n",
      "#####\n",
      "#####\n",
      "Ma daj me ljubi, kako zapovijeda Bog, ma daj me ljubi, kao nekog stvarno svog. Ma ne me ne daj, da budem sama noćima, o zar ne vidiš, požudu u očima. Hajde malo dođi u moj stan, imam nešto važno da ti dam. Ma daj me ljubi, tako si mi zgodan, hej, ma daj me ljubi, tako si mi super, hu.\n",
      "#####\n",
      "#####\n",
      "Gledam, k'o da sam sama. Do znanja mu dajem. Da smo jedno k'o mrak i tama. I da sam na sve spremna. A ja bi' da se napijem, ajde samo sipaj mali. Na vratu mu Cartier. Iza leđa vandali. On, ne nije naivan, naime sve je gluma. Vrelina Kaira, skrenut ću s uma. Tijelo bi savila kao ni jedna druga. Tebi za ljubav i kraljica i sluga. I nije da se boji ali nema kontrole. Da odoli kad obline sakrijem pod tole pantalone). Ma koga to folira, on je komiran. I sve emocije donira samo da ne bole. A to mora da je magija bebo. A to mora da je magija bebo. Magija bebo. Otvori prozor na kant(e). Na tebi se sve topi kao na lavi santa. Koga ne bi opilo, ubilo kao blunt. Tvoja pozadina malo reci interesantna. A ti nikad skulirana naa naa. Pun gas kao da si tjunirana naa naa. A ti nikad skulirana naa naa. Pun gas kao da si tjunirana naa naa. I hajde reci gdje’š stim očima zelenim k'o lovor. U noći blještim i dalje nisam dobar sa zorom. Radi me prestiž radim joj ono što ne bi mor'o. K'o da je fetiš ti skinem novi model Diorov. Leti visoko a njen novi moto je YOLO, pete visoke svaki novi model Manolov. Ouu baby it's okay we ballin' like Tony Manolo. We be ballin'. I nije da se boji al nema kontrola. Da odoli kad obline sakrijem pod tole. Ma koga folira, on je komiran. I sve emocije donira samo da ne bole. A to mora da je magija bebo. A to mora da je magija bebo. Magija bebo. A ja bi' da se napijem, ajde samo sipaj mali. Na vratu mu Cartier. Iza leđa vandali. Ja bi' da se napijem, napijem, napijem. Ja bi' da se napijem, napijem, napijem\n",
      "#####\n",
      "#####\n",
      "Ej, znaš šta se dogodilo danas?. Sunce peče, Mare i ja pijemo kavu u jednom poznatom kafiću, fokusiramo tetovaže na brdovitom mladiću. Svi ga znaju, imam zlatan lančić oko vrata, dva mobitel aparata, kola bisna, al' mu narav malko tisna, al' nije loš. mislim nije nešto ni dobar. al dobro sad. čak i oni slični njemu kažu da je stalno u problemu, da mu ruže jadnom cvijetaju samo na goblenu, prepozna me, ajem meni, kaže: ja sam suđen ovoj ženi, želiš li sa mnom na kavu ili čaj, treba li ti topli muški zagrljaj?\". ma ajde svojim putem idi dalje, ne trebam ja tvoje zagrljalje, pa da poslije pričaš mala je dala, nije to šala, nije to šala. Joj!! . Mare otišla kad je reka' da je pun ko brod, i da ima strica u Njemačkoj. nije mogla izdržati, a on nastavi:, Znaš da sam i ja u firmi export-import-svašta, al' se privremeno zatvorila jer vlada više ne prašta\", ja kažem: Baš me čudi to što pričaš jer se vidi da si nekako fin\", a on uporan: Jel da bi mogli na kavu ili čaj, da ti pokažem što je muški zagrljaj?\", je! pa da mi modrice ostanu). ma ajde svojim putem idi dalje, ne trebam ja tvoje zagrljalje, pa da poslije pričaš mala je dala, nije to šala, nije to šala. mmmm... e da nu otić odavde, al ne mogu, on me gleda pravo u oči i ne pušta, ko pitbull zagrizo gotovo... ma ajde svojim putem idi dalje, ne trebam ja tvoje zagrljalje, pa da poslije pričaš mala je dala, nije to šala, nije to šala. ma ajde svojim putem idi dalje, ne trebam ja tvoje zagrljalje, pa da poslije pričaš mala je dala, nije to šala, nije to šala. nerviraš me ka' Ante\n",
      "#####\n",
      "#####\n",
      "Cilo misto je na rivi, gori, doli, đir po đir, glancadu ti kamen bili, šjole taki vik po vik. Tu od Dioklecijana, strilon svojon šempja svit. Amor, amor, amor, amor!. Pa kažu lud je Split!. Manta me jubav, ka prvo vino, miriše cviće, kad te pogledan. Pojubit ću te, prid cilon rivon. Amor je tija, srce da ti dam. Šotobraco priko rive, gori, doli, đir po đir, šesni momci, cure fine, svugdi šušur, pisma, smij. Tu od Dioklecijana, strilon svojon šempja svit. Amor, amor, amor, amor!. Pa kažu lud je Split!. Manta me jubav, ka prvo vino, miriše cviće, kad te pogledan. Pojubit ću te, prid cilon rivon. Amor je tija, srce da ti dam. Bele, bjonde, rice, nere. Duje, Frane, Šime, Jere. Balun, cure, škuribanda, misec, zvizde, serenada, klapa, pisma, kumpanjija, vešta, vera, familija, svakon svoje providi je Bog\n",
      "#####\n",
      "#####\n",
      "Tamo sam rasla i tamo narasla, neka me ptica u svijet odnijela, ja ću ti doći, ti ne brini, nježno ko otac me zagli, samo nježno ko otac me zagli. Marjane moj, tvoje dite sam ja, dobro mi stoj između jave i sna. Dajem ti pismu, sve za tebe, jer ti si mi dao sve od sebe, ja ću ti doći, ti ne brini, nježno kao otac me zagli, samo nježno ko otac me zagli. Marjane moj, tvoje dite sam ja, dobro mi stoj između jave i sna. Dobro mi stoj jer volim te ja\n",
      "#####\n",
      "#####\n",
      "Otkad nemam sna, čitam novine pa svašta znam, ko, kome, kako i u čemu je stvar, već duže vremena, ko nakon lošeg poluvremena, sve me smeta, sve me nervira. Jer meni fali on ko dijetetu bombon, crven, bijel ili zut, crn ko crnac kad je ljut, jer meni fali on ko dijetetu bombon, jer kad je kraj mene, ja tuđe brige ne brinem. Ja ne čistim stan, imam mrave što mi svaki dan, brinu da okoliš je uredan, a s mojih prozora, uzivam pogled koji odmara, idila čista jedna betonska. Jer meni fali on ko dijetetu bombon, crven, bijel ili zut, crn ko crnac kad je ljut, a meni fali on ko dijetetu bombon, jer kad je kraj mene, ja tuđe brige ne brinem. Život je dosadan, svaki minut, sekund, sat ili dan, traje ko neka duga godina, ispod kapaka, nazočno slutim novih papaka, htjeli bi biti moja sudbina. A meni fali on ko dijetetu bombon, crven, bijel ili zut, crn ko crnac kad je ljut, a meni fali on ko dijetetu bombon, jer kad je kraj mene, ja tuđe brige ne brinem.\n",
      "#####\n",
      "#####\n",
      "Mili moj, kako, nisam prije shvatila, tko mi je one tajne šifre, na mom putu pisao. Ne, ja ko glupača, sam za drugim vidno patila, a ti si bio onaj rubac, što mi je suze brisao. O mili moj, onda, si reko da me voliš, ja sam te gledala, pogledom ne oštrim. Kao, tko je ovaj ovdje, al' to te nije spriječilo, da me jako strasno poljubiš, i meni dođe, fala Bogu, da i ja tebe poljubim. Jer ti si bio moj princ, kad sam bila mala, tebe lako voljet', tebi sebe sam dala. Da me čuvaš, da me maziš, da me paziš, da me ljubiš, da me ljubomorno gledaš, da me nikad nikom ne daš, mili moj, sad bi se, s tobom malo ljubila, i ispod tvog ramena ućulila. Mili moj, dok, svira lagano muzika, tu u krevet kraj mene, se polako ušuljaj. Pa mi šapći razne stvari, pa radi što je logika, jer samo ti me činiš ženom, ženom lijepom, nasmiješenom. Mili moj, da se nismo, sreli, stvarno bila bi grjehota, jer sada znam da te volim, znam da te volim. On je bio njen princ, kad je bila mala, njega je lako voljet', njemu sebe je dala. Da je čuva, da je mazi, da je pazi, da je ljubi, da je ljubomorno gleda, da je nikad nikom ne da. Mili moj, sad bi se, s tobom malo ljubila, tu ispod tvog ramena ućulila, mili moj, ma da se nismo, sreli stvarno bila bi grjehota. Jer sada znam da te volim, znam da te volim, znam da te volim, znaš kako, više od života\n",
      "#####\n",
      "#####\n",
      "Milost koja sve vodi nas, daje snagu i mir, oživjela je život moj, bijah slijep, a sada vidim. Vrijeme teče, prolazi sve, milost nam Bože daj, da živeći ne umremo, da svjetlo budeš nama. Sve pjesme naše za te su, i molitve naše, spasi oče narod svoj, nek' milost vodi nas, nek' milost vodi nas\n",
      "#####\n",
      "#####\n",
      "Uhvatila me panika, jer postala sam ti navika. Al' noćas dragi ja sviram kraj malo prije kraja. Tu nebitno je, al’ nek' se zna. Da ja sam ona što ostavlja. Nije lako, al' moraš priznati ova žena ima... Ti misliš da sam mirna, mirna, mirna, mirna, mirna. Dok ti spavaš pored nje. Ti nemaš tih manira, nema vitamina. Da ti krvnu sliku poprave. Neće ti pomoći andoli, aspirini, kokaini, vatrogasci, doktori. Nažalost, morat će da boli. Al’ za mene šanse ima da se bar oporavim. Ti misliš da sam mirna, mirna, mirna, mirna, mirna. Dok ti spavaš pored nje. Ti nemaš tih manira, nema vitamina. Da ti krvnu sliku poprave. Neće ti pomoći andoli, aspirini, kokaini, vatrogasci, doktori. Nažalost, morat će da boli. Al' za mene šanse ima da se bar oporavim. Za doručak ćeš me lagati. Za večeru ću ja plakati. I reći ću ti za laku noć. Da došli smo do kraja. Tu nebitno je, al' nek' se zna. Da ja sam ona što ostavlja. Nije lako, al' moraš priznati ova žena ima... Ti misliš da sam mirna, mirna, mirna, mirna, mirna. Dok ti spavaš pored nje. Ti nemaš tih manira, nema vitamina. Da ti krvnu sliku poprave. Neće ti pomoći andoli, aspirini, kokaini, vatrogasci, doktori. Nažalost, morat će da boli. Al’ za mene šanse ima da se bar oporavim. Ti misliš da sam mirna, mirna, mirna, mirna, mirna. Dok ti spavaš pored nje. Ti nemaš tih manira, nema vitamina. Da ti krvnu sliku poprave. Neće ti pomoći andoli, aspirini, kokaini, vatrogasci, doktori. Nažalost, morat će da boli. Al’ za mene šanse ima da se bar oporavim. Ti misliš da sam mirna, mirna, mirna, mirna, mirna. Dok ti spavaš pored nje. Ti nemaš tih manira, nema vitamina. Da ti krvnu sliku poprave. Neće ti pomoći andoli, aspirini, kokaini, vatrogasci, doktori. Nažalost, morat će da boli. Al’ za mene šanse ima da se bar oporavim\n",
      "#####\n",
      "#####\n",
      "Tamo iza planina, preko žita, maslina, zlatno sunce meni sja, tu mi je domovina. Tu je zemlja ponosna, rođena iz kamena, u tebi je sva moja sudbina i snaga, ti si moj heroj, ja sam tvoja draga. Hej, sokole, zagrli me, hej, sokole, ne brini se, hej, sokole, čekam te ja, moj sokole. Tu je zemlja ponosna, rođena iz kamena, u tebi je sva moja sudbina i snaga, ti si moj heroj, ja sam tvoja draga. \n",
      "#####\n",
      "#####\n",
      "Jer još trava nije nikla. Tamo gdje je stala moja štikla, govor; dođi, dođi, dođi dođi op op op op, ajde pile moje). Tika taka oko pola tri. Štipnut ćeš me da se ne vidi. Znam ja dobro takve kao ti. Đavoli su tvoji kumovi. Zvrc, zvrc, tražit ćeš moj broj. Kuc, kuc, kucaj nekoj drugoj. Sojčice, divojčice, daj obuci čarapice. Jer još trava nije nikla. Tamo gdje je stala moja štikla. Oj da da oj da da oj da da. Oj da da oj da da. Moja štikla, govor; šije šete, šije oto, šije nove, šije moja i opet mala, s s s sex, Op, op, zvrc, zvrc.). Tika taka oko pola tri. Gricnut ćeš me da se ne vidi. Zlatan prsten, tanki brčići. Znam ja dobro takve kao ti. Zvrc, zvrc, tražit ćeš moj broj. Šic šic, bježi ajde drugoj. Sojčice, divojčice, daj obuci čarapice. Jer još trava nije nikla. Tamo gdje je stala moja štikla. Oj da da oj da da. Oj da da oj da da. Moja štikla, govor; zumba, zumba, sijeno, slama, sir, salama, riži, biži, teča, veća, cikla, bikla, afrika, paprika), govor; šije šete, šije oto, šije nove, šije moja, ajde, ajde)\n",
      "#####\n",
      "#####\n",
      "Sve mi je glupo, sve mi je tlaka, otvorit ću prozor, treba mi malo zraka. Izbrisat ću utorak, zaboravit' srijedu, baš me briga što je, i što nije u redu. Popit ću pivo, osvojiti svijet, poludi baby, radi što, ti padne na pamet. Neću da mi život, ispadne iz ruku, želim hodati, a ne da me vuku. Hej, to je moja stvar, hej, to je moja stvar, i ne govori što je, za mene dobro, svatko svoje zna, mene ništa promijeniti neće, ja ću biti ja, hej, to je moja stvar. Hej, to je moja stvar, ). To je moja stvar\n",
      "#####\n",
      "#####\n",
      "Ja sam ostavljena ptica. Koja nema svoje jato. Moje zbili su širine. Snove prosuli u blato. Tko će grijehe mi oprostit. Boga igraju se ljudi. Kome svoje ja ću reći. Kad je krivac taj što sudi. . Moji jadi, to su vali. Morski vali što se nižu. Netom jedni jadi odu. Drugi jadi, eto, stižu. Kao da je život stao. Na tom križanju u noći. Niti vidim, niti slutim. Kojim putem trebam poći. Tko će grijehe mi oprostit. Boga igraju se ljudi. Kome svoje ja ću reći. Kad je krivac taj što sudi. \n",
      "#####\n",
      "#####\n",
      "E drage moje. Garancija nisu ni pamet ni depilirane noge. Ni frizura, ni slava, ni zanosno gibanje, jer oni odu kad se tome najmanje nadaš. Ti si mi bio zakon, bio si k'o brat, S tobom bi na kraj svijeta, s tobom bi u rat. A ti mi iza leđa, sastaješ se s njom. Sa mojom prijateljicom... svašta). Vjerovala sam da o tebi znam ja sve. Vezanih očiju bi stigle do tebe. Zašto bar nisi naš'o bolju od mene. Pa da mi žao ne bude. I nek se more okrene na leđa. Ja ne dam nikom da me tako vrijeđa. I nek' u mome srcu još je plima. Sve si mi manji, sve si mi manji. Sve si mi manji u mojim očima. O, baš je život čudan, baš me nervira. Ružne ti stvari, hoćeš, nećeš servira... izvolite). I taman kad misliš da naučio si sve. On te k'o maher zafrkne... da ne kažem nešto gore). . e, jel tekst ide sve si mi manji... ili... svejedno, jel da)... i nek se more okrene na leđa... ja ne dam nikom da me tako vrijeđa, i nek' u mome srcu još je plima. Sve si mi manji u mojim očima. I nek se more okrene na leđa. Ja ne dam nikom da me tako vrijeđa. I nek' u mome srcu još je plima, sve si mi manji... dušo, sve si mi... znaš ti šta), sve si mi hm... u mojim očima\n",
      "#####\n",
      "#####\n",
      "K'o maslačak dahom vetra srce puklo je. A za tobom ludo tuklo je. Bol duboka kao bezdan sada mrvi me, mesto tebe noćas grli me. Tako mi nedostaješ, da mi usne dotakneš. Da odagnaš ovu bol u grudima. Ne mogu ja dalje bez tebe. Živeti u moru tuge, disati kraj neke druge. Nek, da mi je samo da ti čujem glas. Da u njemu nađem nadu i da nađem spas. Mislila sam da ću moći novim putem ja. Da za ljubav ima vremena. Koliko ti ne'ko znači kao meni ti. Srce shvati kad ga izgubiš. O kako mi nedostaješ, da mi usne dotakneš. Da odagnaš ovu bol u grudima. Ne mogu ja dalje bez tebe, živjeti na ovom svijetu sama kao list na vjetru. Nek' da mi je samo da ti čujem glas. Da u njemu nađem nadu i da nađem spas. Ne mogu ja dalje bez tebe živjeti u moru tuge, dok ti spavaš pored druge. Nek' da mi je samo da ti čujem glas. Da u njemu nađem nadu i da nađem spas\n",
      "#####\n",
      "#####\n",
      "Morem plovi lađa ja puna žena, na vidiku nigdje muška nema, trista žena, trista teških muka. Bože mili, gdje je prva luka. Plovi lađa valovi je njišu, duga pisma tužne žene pišu, iza njih je sedam oceana, a na srcu sedam rana. Gdje je sada mornarica mlada, kada tone lađa najslađa, da je spasi i da pozar gasi, ajme, lađa se zapalila\n",
      "#####\n",
      "#####\n",
      "Beo, izadeo. Ja sam tvoja bejbi, a ti si moj. Beo, izade, izade, izade, izade izadeo. Ja sam tvoja bejbi, a ti si moj. Svake noći, svakog dana. Ja sam tvoja bejbi, a ti si moj. More plavo, kosa slana. Ja sam tvoja bejbi, a ti si moj. . Hej, mister Taliman. Tali mi banana. Ja sam tvoja bejbi. A ti si moj. Desno-lijevo, dole-gore. Ja sam tvoja bejbi, a ti si moj. Ajmo sada svi u more. Ja sam tvoja bejbi, a ti si moj. Beo, izadeo. Ja sam tvoja bejbi, a ti si moj. Beo, izade, izade, izade, izade izadeo. Ja sam tvoja bejbi, a ti si moj. Leže ribe na dnu mora. Ja sam tvoja bejbi, a ti si moj. Ležim i ja ispod bora. Ja sam tvoja bejbi, a ti si moj. . Zora sviće, cvrčak cvrči. Ja sam tvoja bejbi, a ti si moj. Tko je lud da ide kući?. Ja sam tvoja bejbi, a ti si moj. Beo, izadeo. Ja sam tvoja bejbi, a ti si moj, beo, izade, izade, izade, izade izadeo. Ja sam tvoja bejbi, a ti si moj. Hej, mister Taliman. Tali mi banana, ). Hej, mister Taliman\n",
      "#####\n",
      "#####\n",
      "Ti, ti što leđima okrenut. Noću spavaš kraj mene. Ti, zar se nimalo ne plašiš. Prevarene žene. Jer ja, ja redovito sanjarim. Da te zubima davim. Da srce vadim ti rukama. Pa ga na led stavim. Al' ne bi ja sa tobom ruke još uprljala. Sve ćeš ti to i bez mene sam. Da li znaš da si mrtav bez mene. Živjet ćeš bez svoje sjene. Rezat ćeš se po tijelu svuda. Gdje te ljubih kao luda. Da li znaš da si mrtav bez mene. Imat ćeš sve druge žene. Samo ja ću na tvoju bol. Uvijek imat monopol. Mrak neka bude mi saveznik. Da samo zamislim tvoj lik. Tvoje usne na njenima. I ruke na grudima. Da te je jastukom svilenim. Jednim potezom ugušim. Oči izvadim noktima. Da te više nema. I nož bi umro u mom scru, a kamoli ti. Za dušu sad se vragu pomoli. Da li znaš da si mrtav bez mene. Živjet ćeš bez svoje sjene. Rezat ćeš se po tijelu svuda. Gdje te ljubih kao luda. Da li znaš da si mrtav bez mene. Imat ćeš sve druge žene. Samo ja ću na tvoju bol. Uvijek imat monopol. Ne zanosi se ove suze su zle. I nisu dokaz boli. To te moja mržnja voli. Da li znaš da si mrtav bez mene. Živjet ćeš bez svoje sjene. Rezat ćeš se po tijelu svuda. Gdje te ljubih kao luda. Da li znaš da si mrtav bez mene. Imat ćeš sve druge žene. Samo ja ću na tvoju bol. Uvijek imat monopol\n",
      "#####\n",
      "#####\n",
      "Ljubiš dva bisera. Ispod mog brushaltera. Sanjala sam opet noćas, Dragi. Ljubiš me istina. Kao da sam jedina. Nek sve štima. Makar dok smo, Nagi. Onda u panici. Letim na vjenčanici. U mom snu se ovo. Često viđa. Pitam te kad ćemo. Kažeš: Srce, sad ćemo. Lažeš, lažeš, A meni se sviđa. Laku noć, sestrice. Dobre i lude. Bog neka nas čuva. Sanjajte, svetice. Muškarcu samo, samo. Treba kurva. Laku noć, sestrice. Dobre i lude. Bog neka nas čuva. Ništa mu ne treba, Muškarcu samo, samo. Treba kurva. Telefon zvoni i. Ćao, ćao pameti. Plove laži. Dugo k'o mornari. Riječi od pamuka, Prsten ispod jastuka, Da ti srce stane, a ustvari\n",
      "#####\n",
      "#####\n",
      "Ljuljala se naša barka mala, na punti Marjana, poljubac ti velik ja sam dala, dala ti. Otišli smo tako sve do neba, do zvijezde Danice, ponio je vjetar naša jedra, da zaplove. I ljuljaj me, ljuljaj, lagano do zore, da osjetim tvoje, tople valove. U tvome bi oku, rado mornar bila, u svakoj bi luci, tebe tražila. Ljuljala se naša barka mala, na punti Marjana, poljubac ti velik ja sam dala, dala ti. Sveti Duje neće ni da čuje, da se mi ljubimo, ali šta je tu je sveti Duje, mi se volimo.  Ljuljala se naša barka mala, na punti Marjana, la la la la la la la, mi se volimo.  Ljuljala se naša barka mala, na punti Marjana\n",
      "#####\n",
      "#####\n",
      "Zbog tebe ću noćas dragog prevariti. Ne govori ništa, pusti neka bude. Sve što imam, ja ću izgubiti. Sve zbog jedne želje lude. Zbog tebe ću sutra požaliti. Neću biti prva, tako ljudi kažu, Ali ću se Bogu pomoliti. Nek' mi noćas čuva stražu. . Ma ne bih ti oprostila. Makar na nebu gorjela. Ljubimo se do zore. Pa nek' bude što bude\n",
      "#####\n",
      "#####\n",
      "Dobro je, al' što mi vrijedi. Hladni osmjeh i lažni sjaj. Još me tvoja sjena slijedi. Ti si moj početak i kraj. Probala sam i nije lako, nekog drugog zavoljeti. Tuđe usne, znaš li kako, jako znaju zaboljeti, zaboljeti, zaboljeti. Nedostaješ mi do bola. Nema me sad ni pola. Od kad nisi moj. I odkad svaki svoj dan ti poklanjaš njoj. Nedostaješ mi do Boga. I više još od toga. Nedostaješ mi u krvi. Nosim te znaj, al više se ne vraćaj\n",
      "#####\n",
      "#####\n",
      "Kad vratim film unatrag, kad se svega sitin ja, i bura i oluja, i zlatnih svitanja. Od ciloga bi svita, opet tebe birala, tebe ili nikoga. A nevira me tvoja, na križ raspela, nevista u bilo nisan bila ja. Kad me drugi grli, zaplačen, jer znam, da samo tebi pripadam. Kad viknen na svoj život, prozovem Boga ja, pa di ta ljubav vodi, zar nema granica. I šta je srce krivo, i ko će spasit ga, tebi san se nadala. Jer ti si moja ljubav.  Da samo tebi pripadam\n",
      "#####\n",
      "#####\n",
      "Taj, tko je taj, za kog ti kažeš da sam ja, svejedno je, je li laž ili istina. Nije to kraj, ljubljena, tek pada snijeg po nama. Idi bilo gdje, idi, pusti me, sve daleko je i sve preblizu je, idi bilo gdje, idi, pusti me, sve, sve vrti se, nigdje negdje je. Znam, tajna je, samo još na tvojim usnama, svijet ostaje, izgubljen u tišinama. Ne, nije to kraj, ljubljeni, to pada snijeg u meni.\n",
      "#####\n",
      "#####\n",
      "Bijedne mene, jadne mene, uzdahe po vjetru šaljem. Nitko neće da ih primi, vjetar ih nosi dalje. Moj je uzdah otišao, otići će i tvoj s tugom. Kada se na putu sretnu, što će reći jedan drugom?. Niti s tobom nit' bez tebe, nema mojoj boli lijeka. Kad sam s tobom ubijaš me, a bez tebe smrt me čeka. Moj je uzdah otišao...\n",
      "#####\n",
      "#####\n",
      "Godinama znam što radiš, govore mi ljudi, al' svijeću zapali i zahvalan budi, što ja i dalje trpim tvoje laži, noću budna te čekam, k'o vojnik na straži, a ti... Noću, danju, u svako doba, dođeš odeš, ni dobar dan, to nije život, za ime Boga, samo ružan san. Godinama ti me gledaš, kao da me nema, učini bar nešto da živim ko zena, jer ja i dalje trpim tvoje laži, noću budna te čekam, k'o vojnik na straži, a ti...\n",
      "#####\n",
      "#####\n",
      "Konačno sam slobodna, oprezna i ranjiva, ponekad se budim noću, al' sada mogu sve što hoću, sve se može srediti, ali tebe ništa ne može zamijeniti. ja od rođendana pa do rođendana, čekam samo poziv tvoj, makar prazne riječi bit će dovoljne da znam, da si nekad bio moj. zabavljam se danima po finim restoranima, ponekad sam slabe volje, prazno mi je, ali bolje, sve se može srediti, ali tebe ništa ne može zamijeniti. svaka Nova godina slatka, nepredvidiva, danima budućnosti, tisuću mogućnosti, sve će se promjeniti, ali tebe ništa ne može zamijeniti...\n",
      "#####\n",
      "#####\n",
      "Kako živiš ovih dana, misliš li sad o nama, da l' te steze bol u grudima, kada shvatiš da me nema, i kad miris mog parfema, osjetiš na drugim ženama. Odavde do vječnosti, sve mi mogu uzeti, suzu neću pustiti, ja sam s tobom, ljubavi, željela da ostarim, poslije tebe ništa neće boljeti. Kako živiš, kako spavaš, da li me još uvijek sanjaš, da l' te steze bol u grudima, idu proljeća i ljeta, u mom srcu samo sjeta, svaki dan bez tebe kao pustinja.\n",
      "#####\n",
      "#####\n",
      "Zbog tebe sam bila budna noćima, sa puno suza u očima, ti si sebe tako vješto branio, moje sumnje hranio. Možda sam suviše praštala, o tebi i o sreći maštala, prošli su dani kada sam se vraćala, bol me je ojačala. Odlazim iz ovog grada, odlazim jer ti ne vjerujem, a ti mi kao uvijek, reci da pretjerujem. Zbog tebe sam bila budna noćima, sa puno suza u očima, prošli su dani kada sam se vraćala, bol me je ojačala.\n",
      "#####\n",
      "#####\n",
      "Pušim, pijem, mnogo jedem. Kocka mi je glavna zabava. Sklon sam često avanturi. Dobra laž me često spašava. Preko sveg se može prijeći. Dođi, dođi, dođi k meni ženo. Ljubav čeka samo na nas. Šifra: „Ljubim povremeno\". Plavuša sam, rastavljena. Jasno, nisam za to kriva. Kuhinja mi strani pojam. Moje lice šminka skriva. I tražim dečka crnokosog. Koji voli provod ludi. Još da ima stan i kola. Šifra: „Cicija ne budi\". Naši oglasi srca daruju i ljubav traže strasno. Hajde, javite se hitno da ne bude kasno. Imam divnu bujnu kosu. Sistem: prazno-prazno-dlaka. A imam čak i dva-tri klinca. Uspomene prvog braka. Trebam jednu mirnu ženu. Koja ima dobre živce. Malen jezik, puno love. Šifra: „Napravimo klince\". Naši oglasi srca daruju i ljubav traže strasno. Hajde, javite se hitno da ne bude kasno\n",
      "#####\n",
      "#####\n",
      "Dajte mi viski, Noćas nisam za vino, Ubio me kao nijedan prije, malo teturam, Al' baš mi je fino. I ništa, ništa mi nije... Idem kući tako sretna i sama. Leći ću opet u naš krevet straha. Kraj čovjeka kog zvala sam svojim. A sad ga se bojim... Kraj mene godinama. Miran spavao. Ja oka nisam sklopila ni trena. Jer sam se straha nauživala. Da ću biti zamjenjena... Al' srećo moja, ja ću tebe ostaviti prva. Ne zbog toga što sam jaka žena. Ja sam se straha nauživala. Da ću biti ostavljena... Ne, dušo, meni ne treba. Maneken za ljubav. Ko se sebi sviđa. Dok mene grli. Meni treba neko da voli kad voli. Da me zagrli prvi... Ljepoti mojoj prvi si se klanjao. Pa si je prvi u blato bacio. Ti što si prvi na ljubav se kleo. Prvi si me izdao...\n",
      "#####\n",
      "#####\n",
      "I kad bi oči sklopila u noći tmurnoj i besanoj. K'o na žaru led bi se topila. Opijena ljubiš me nestvarno. Kročila sam putem zločina. U samoći pola me je nestalo. Na peronu tame sam iskočila. Iz voza koji vodio te samo njoj. I još te tražim u magli laži. U hladnoj špilji naših pustih snova. I k'o klinka vjerovala bih u laži. Bez tebe moja duša je k'o prazna soba. Otrove, moj otrove. Otrove, otrove…. Vidim pored nje sve vrijeme si. A breme bola bacio si na mene. Tablete za smirenje idu mi uz Hennessy. Jer duge noći sjećaju me na tebe. Ovo boli k'o nož u pleća. Moja koljena su rane. Više ne mogu klečat. Kome se molim, moj smijeh je jecaj. Višak sam k'o kraljica u špilu s četiri keca. Kročila sam putem zločina. U samoći pola me je nestalo. Na peronu tame sam iskočila. Iz voza koji vodio te samo njoj. I još te tražim u magli laži. U hladnoj špilji naših pustih snova. I k'o klinka vjerovala bih u laži. Bez tebe moja duša je k'o prazna soba. Otrove, moj otrove. Otrove, otrove…. Mokar jastuk, a duša k'o barut. Dala sam ti sve i sjela na zadnji taxi. Trudim se, ali tebe ne mogu svarit. Da si prokockao nas kao kelner bakšiš. Rep. Dok k'o okovi lome suze i utjehe. K'o oko vrata uže, k'o pištolj u glavu uperen. Emocije k'o ruže uvenu čim ih ubereš. Hrđu sa srca stružem, samo čekam da uvenem. ko te poslao kad ne znam da volim te. Molim te, šta je ostalo – to srce da slomim. Au, au, a uostalom umirem jer boli te. I sav otrov u tebi zove se imenom mojim. I kad bi oči sklopila u noći tmurnoj i besanoj. K'o na žaru led bi se topila. Opijena ljubiš me nestvarno. Kročila sam putem zločina. U samoći pola me je nestalo. Na peronu tame sam iskočila. Iz voza koji vodio te samo njoj. I još te tražim u magli laži. U hladnoj špilji naših pustih snova. I k'o klinka vjerovala bih u laž. Bez tebe moja duša je k'o prazna soba. Otrove, moj otrove. Otrove, otrove…\n",
      "#####\n",
      "#####\n",
      "Paloma blanca putuje, na daleke obale, paloma nera ostaje, nema tebi do mene, paloma nera. Da je meni nebom letjeti, ulala, ulala, nebom letjeti, i na tvoje rame sletjeti, ulala, ulala, rame sletjeti. Šaptala bih nježne riječi ljubavne, nigdje nećeš naći bolju od mene, i sve ptice kada jugu polete, tvoja mala s tobom ostaje. Paloma blanca putuje, na daleke obale, paloma nera ostaje, nema tebi do mene. Ma šta će meni blaga sva, kada tebe imam ja, jer ti si moje najdraže, i srcu mom najmilije, ja sam tvoja ljubav sva, i sreća najveća. Da je meni oči sklopiti, ulala, ulala, oči sklopiti, iznad mora tebe ljubiti, ulala, ulala, tebe ljubiti\n",
      "#####\n",
      "#####\n",
      "Probali smo, nije išlo, što želiš više. Pusti me, ma baš si dijete, daj mi da dišem. Meni treba muška ruka, bolje je tako. Molim te idi, ostavi sve ovako. Nikada me dragi, nije bilo više sram. Ti daješ meni svu ljubav svijeta, ja nemam što da dam. Ljubomorni prsti tvoji, takli me lako. Molim te idi, ostavi sve ovako. Na pola ispijen čaj. Istrošen parfem, k'o naša ljubav. Poklon zar ne, al' istrošen do pola. Taman previše za mene\n",
      "#####\n",
      "#####\n",
      "Bila je noć i strašna gužva oko mene. I kroz dim cigareta. Imala sam osjećaj da me netko gleda. Da sam nečija meta. On je sjedio u sebe siguran. I u svoje mjesto. Takav pogled ispod obrva ne vidim često. Iz znatiželje sam zastala. Pamet se odmah s glavom rastala. Kao da je nikad nisam ni imala. Kao brak što ne valja. I više ne znam šta je bilo. Ni tko je svirao. Bez naloga za pretres već me je dirao. Otada luda sam za njim. Pogledom vučijim. Otada više nikoga ne vidim, pa ni sebe. Al' odbolovat ću te ja, s čašom tuge u rukama. I sa društvom koje i ne poznajem. Odbolovat ću te ja. Znaš kako čvrsto na nogama. Ali nikad pogled ispod obrva. Više ga nisam nikad vidjela. A kamoli često. Al' kao aureol, u onom bircu. Svijetli ono mjesto. S kog me je on nišanio. Pogledom, lako, sigurno. Nišanio, još lakše ranio\n",
      "#####\n",
      "#####\n",
      "Imao si srce priliku, da mi predjes i u naviku, imao si srce blagoslov od svih, za ekipu bas simpatican, a meni zbunjen i romantican, hej bio si drugaciji od svih. Imao i sve si pustio, kad me nisi zlato uspio, ljubav tebi nista ne znaci, ti ludo vozis pa se razbijes, i brzo pijes pa se napijes, hej ja tebi nista ne znacim. Pomalo, lagano, na brzinu ti bi sve, a ja bi pomalo. Sad mi masi srce sa planina, sad mi pisi lutko iz daljina, da smo skupa mogli biti mi, a da si samo malo kocio, i ljubavi da si natocio, hej ja tebi nista ne znacim. Ja bi pomalo, ma ja bi pomalo.\n",
      "#####\n",
      "#####\n",
      "Verse 1]. Oko mene svake noći drama. Što si ljepša veće su ti šanse da si sama. Šta ću, dobra sam od nazad, dobra naprijed, dobra sa svih strana. Dobro mi je srce, al' nažalost, to je mana. Chorus]. Popila, popila sasvim dovoljno promila. Pa su mi pravila mekša nego što su bila. Popila, svijet je lud što ću pući u to doba. Kad već ti spavaš s drugom, možda ja mogla bih da probam. Da, popila sasvim dovoljno promila. Pa su mi pravila mekša nego što su bila. Popila, popila, a ti uzmi što je njeno. Sada smo jedan-jedan ti i ja, samo opušteno. Verse 2]. Zašto noćas opet spavam sama?. Jastuk mjesto dečka dok moj dečko s drugom spava. Šta ću, dobra sam od nazad, dobra naprijed, dobra sa svih strana. Dobro mi je srce, al' nažalost, to je mana. Chorus]. Popila, popila sasvim dovoljno promila. Pa su mi pravila mekša nego što su bila. Popila, svijet je lud što ću pući u to doba. Kad već ti spavaš s drugom, možda ja mogla bih da probam. Da, popila sasvim dovoljno promila. Pa su mi pravila mekša nego što su bila. Popila, popila, a ti uzmi što je njeno. Sada smo jedan-jedan ti i ja, samo opušteno. Chorus]. Popila, popila sasvim dovoljno promila. Pa su mi pravila mekša nego što su bila. Popila, svijet je lud što ću pući u to doba. Kad već ti spavaš s drugom, možda ja mogla bih da probam. Da, popila sasvim dovoljno promila. Pa su mi pravila mekša nego što su bila. Popila, popila, a ti uzmi što je njeno. Sada smo jedan-jedan ti i ja, samo opušteno\n",
      "#####\n",
      "#####\n",
      "Sto puta sam osjetila bol. Stoput sam se popela na stol. Ali nikad nisam, ljubavi. Osjetila da me voliš ti. 2X). Postelja od vina. Bila sam ti fina. Cijelu noć te ljubim. Pa te drugoj spremam... Usne ti od meda. Al' se duša ne da. Imam tvoje tijelo. Ali srce nemam... Možeš mi svijet obećati. Sutra se nećeš sećati. Jer jutrom opet ideš njoj... Što još mogu da ti dam. Kad svaki puta znam. Da ti služim samo noću. Dođeš, odeš, uzmeš sve. Za mene briga te. A ja od tebe više hoću... Sto puta sam osjetila bol. Stoput sam se popela na stol. Ali nikad nisam, ljubavi. Osjetila da me voliš ti...\n",
      "#####\n",
      "#####\n",
      "Vjerujem u ljubav prvog pogleda, ili ljude, ljude lijepog osmijeha, ti me činiš sretnom čak i kada znam, da mi nisi blizu i da nisi sam. Kad odrastem htjela bih biti kao ti, malo ljubiti pa otići, vjerujem da sutra mogu živjet' ja, s vremena na vrijeme od tvog pogleda. Poželi me, s tvojim očima, s tvojim mislima, gdje si sad ti, povedi me u novi svijet, poželi me\n",
      "#####\n",
      "#####\n",
      "Prosta noc, vjetar njise zavjese, tijela dva, na zidu sijenke prave se, jedan hotel izvan pameti, klimav krevet, cemu kreveti. I moja bijela haljina, jedna boca crnog vina, dovoljno da odletim do svemira. Prilika, kazu cini lopova, srca zvuk, kao pucanj topova, spustas grijeh na usne spokojno, atmosfera ljulja opojno. Vremena je malo, meni je do tebe tako stalo, neka stane zemlja sto se okrece, ma ko je pokrece. Reci je li prevara, ako ljubav prevaris, jer sutra s njim cu biti, isto kao sa njom i ti, boli, boli, samo njega srce voli, bol manja je ako, se s nekim podijeli. Ime mi nemoj ni govoriti, samo ce kajanja jos stvoriti, slucajno je s nekom sigurno, a ja sam s tobom nocas namjerno. Jutros cu sresti sama, na cesti kada tebi kazem zbogom, ali zahvalna sam za tu vecer sa tobom, A.\n",
      "#####\n",
      "#####\n",
      "Azurno nebo, čekamo zoru, pet- šest mladih golubica, nasmiješena su im lica, i poslije mnogo godina, u mome srcu draga sličica. Zajedno smo momke gledale, zajedno po rivi šetale, pravile se da smo važne, ma da smo pametne i snažne, sanjale smo zemlje daleke. . Hej, ljepotice, moje prijateljice, gdje su naši snovi ostali?. Hej, sve smo mi kao ptice selice, svaka svome jugu odleti. Djevojčice žene postale, a neke su se već i udale, ja još čekam azurne zore, ma ja još želim preplivati more, ja još sanjam zemlje daleke. \n",
      "#####\n",
      "#####\n",
      "Htio ti to ili ne, na ovom svijetu ti si meni sve. Idu dani, idu godine... a nitko nije mi bio, tako drag i mio. Mjesec sija, ledena je noć, ja se pitam kada ćeš mi doć'?. U mom srcu naša ljubav stanuje, jer nitko nije mi bio, tako drag i mio... Priznajem tu pred svima, da te svud po meni ima, da te vidim na svakom koraku, kada dišem svuda si u zraku. Stavio si svoje poljupce, kao pečat na moje usnice. Ti si sunce, ti si moje sve... jer nitko nije mi bio, tako drag i mio.\n",
      "#####\n",
      "#####\n",
      "Pogledaj u dugu iznad nas, to su boje ljubavi, nikad ne zaboravi, da tvoje usne donose mi sreću, neću više voljeti, ako jednom odeš ti. Kad se naše sjene sastave, ljubav diže zastave... I zato svoje ruke pruži mi, i nikad ne zaboravi, nosimo u očima boje ljubavi. Svoje ruke pruži mi, i samo želju zamisli, od zlatne kiše ljubavi, mi smo pokisli. Pogledaj u dugu iznad nas, s oblacima krenimo, i osmijehe podijelimo. Tvoje usne donose mi sreću, sklopi oči rukama, jer je mladost u nama\n",
      "#####\n",
      "#####\n",
      "Pucajte u tamburaše, Drugovi, To su moji. A ne njeni. Svatovi. Pucaj pa da putujemo. Ja i ti. I za nama, i za nama. Koferi. Pogledaj me, nevjerniče. Ja sam tvoja ljubav bila. Do jučer. Ti me gledaš, ne gledaš me u oči. Moja muška strana kaže. Ne plači. . instrumental). Progovori, Lako je. Jer što ne želi. Moje srce. Ne čuje. Žena bi ti. Možda i oprostila. Moja muška strana kaže. Nikada.\n",
      "#####\n",
      "#####\n",
      "Reci što je falilo, u našem malom gnijezdu, zar ti nisam skinula, zadnju s neba zvijezdu. Reci što je falilo, da pronađem i to, a onda idi kud god znaš, jer je gotovo. I to što sam dala, i ljubav i dom, nije pomoglo, ti radiš po svom, meni ne treba, sa tvog stola mrva, ja sam rođena da budem prva, . I to što sam dala, za tebe baš sve, ti si bacio, na putu do nje, meni ne treba, sa tvog stola mrva, ja sam rođena da budem prva. Što mi nisi rekao, kad je pošlo krivo, znaš da bi učinila, za tebe sve živo. Što mi nisi pružio, jednu pravu šansu, prije nego krenuo si s njom, u malu romansu.\n",
      "#####\n",
      "#####\n",
      "Ti ne poznaješ svijet, tako dobro kao ja. Kad si mlad vjeruješ svima. A ne znaš kakvih ljudi ima. Iz ovog gnijezda pile gdje bi sad. Gledaju me oči tvoje, Kao preslikane moje. U mome tijelu ti si bio. Iz mojih ruku vodu pio. Iza mojih nogu krio. Moj si dovijeka. Bez tebe šta je bila sreća. Prozor bez zavjese i cvijeća. A sad je i od Boga veća kad te pogledam. Život je borbeno polje. Ali ja ne dam na svoje. Dok ima zla u ljudima. Bit ću tvoj pancir na grudima. Rodjeno moje, ljubav radja heroje. Jer što me nije ubilo. Snagu mi je ulilo. Najteže borbe, najjači vode. Budi mi dobro, na meni kola nek se slome. Ti ne poznaješ svijet tako dobro kao ja. Šire laži protiv mene. Prevaranti i hijene. Ali tvoje malo srce dobro zna. Da je moja duša čista u tvome oku ona blista. Ti na mene imaš pravo. Ko se to s time igra tamo. Taj ne zna da je nama samo. Ljubav dovoljna. U mome tijelu ti si bio. Iz mojih ruku vodu pio. Iza mojih nogu krio. Moj si dovijeka\n",
      "#####\n",
      "#####\n",
      "Ispred mene je samo tama, toliko ljubavi i mržnje, ali ja sam na sceni sama, i kad me ruše laž i galama, ja moram opet ostati ista, ja moram opet biti dama, eh da. Ni moje srce ne zna što hoće, i ja se vraćam mjestu samoće, ni tvoja ljubav ne znači meni, meni je mjesto samoj na sceni. Život je cirkus, život je drama, nikad mi otme, nekad mi daje, ali ja sam na sceni sama, ni moja pjesma me ne brani, ni kada vaša srca slama, i ja sam opet na sceni sama, da, ja sam opet sceni sama.\n",
      "#####\n",
      "#####\n",
      "Čudno ti ponekad izgledam, znam, kada na način kriv ljubav ti dam, pogrešno učini srce za čas, al ja sam ta koja živi samo za nas. A ti si prije mene prošao baš sve, sve gradove i sve žene, sve ispite, ne moraš meni biti ni dobar ni lijep, jer, dragi moj, svejedno je, ja volim te. Ja sam za tebe savršena, najbolja, ja bih za tebe istog trena umrla, ima most od srca mog do srca tvog, ja te volim najviše, više voli samo Bog. Nježno me zagrli u šetnji kroz grad, ljubav je sve što imamo sad, ti si sve radio i bio si svoj, al najdraži, jednostavno, sada si moj\n",
      "#####\n",
      "#####\n",
      "Ti ljubiš neku znam, a ja depresivna. Budna cijelu noć, lijekovi ne vrijede. Zvat ću doktora, da mi injekciju da, možda postanem imuna na tebe. I opet svi oko mene se ljube, i nitko ne diše, a ja u sebi još brojim, sekunde, od kada nema te. Hajde, mira mi daj, još uvijek prati me taj, sladak okus tvojih usana. Pijem za osobe dvje, noćas mi ne gine, koktel pomješan sa suzama. Ti ljubiš neku znam, a ja depresivna. Lutam noćima ulicama grada. Idem s bilo kim, da pronađem mir. Tko dugo leti sam, s drugim brzo pada. I opet svi oko mene se ljube, i nitko ne diše, a ja u sebi još brojim, sekunde, od kada nema te. Hajde, mira mi daj, još uvijek prati me taj, sladak okus tvojih usana. Pijem za osobe dvje, noćas mi ne gine, koktel pomješan sa suzama. Ovaj klub je moj dom, ovaj šanker je moj, baš sam dobro, lažem sebe ja. Pijem za osobe dvje, noćas mi ne gine, koktel pomješan sa suzama. )\n",
      "#####\n",
      "#####\n",
      "U mom kraju sad je proljeće, moja mama kuha najbolje, okus trešnje na tvojim usnama, slatki nemir svud u grudima. Mjesec gori iznad prozora, moja ljubav rijeka duboka, u daljini svjetla pale se, vjetar nosi moje pozdrave. Kad te vidim tuga nestaje, sija sunce, trava miriše, srce moje kuca za tebe, najbolje je kad si kod kuće, ma kad si kod kuće. U mom kraju svira muzika, ptice lete iznad oblaka, u daljini svjetla pale se, vjetar nosi moje pozdrave.\n",
      "#####\n",
      "#####\n",
      "Avioni, kamioni, silikoni, tu me udri, ja to volim). Sve i da sam ravna kao daska, tebi svidjam se, al' ja volim da je meni lipo, kada gledam se. Znamo se tek minut il' dva, zasto bi se ljutio, uostalom, briga me bas, ti ih nisi ni kupio. Malo silikoni, i drugi fazoni, imam sta da pokazem. Doktor iz Brazila, da bi ljepsa bila, ja u sebe ulazem. Zatezem misice, zavodim mladice, nemam losu namjeru. Past ces kad mi vidis slike, da, da, na tvom Viberu. Volis kad je sve na curi pravo, kada gledas je, a ja volim fejk), a ja volim da je meni lipo, gdje god pipnem se, hajde, pipaj me). Najveci si, kazu, moj fan, aha), u mene si zatreskan, neka boli), a ja ista kao i sve, samo pratim trendove, avioni, kamioni, silikoni). Pametna i lijepa, za svoje mane slijepa, ne moze mi pomoci ni cela apoteka, ni roza tableta nije dovoljno jaka, ja sam ti dragi, opasni motherfucker. Zivim, bejbi, zivim samo nocu, necu da radim, milostinju ja hocu. Kao zaraza, ja se sada sirim, mini suknja postala je, mikro, mikro mini. Puno prostora moj silikon zauzima, zaustavite me, ja ne znam kad je dosta, balavis na mene dok pricas da sam prosta, znam da bi skakao zbog mene sa mosta, zbog mene sa mosta, zbog mene sa mosta), Hajde sad, dodirni me, kao lutku skini me, hajde sad bez panike, daj malo plastike. Oduvijek si to htio, savrseni svaki dio, tvoja ikona na slikama, kada sam u stiklama)\n",
      "#####\n",
      "#####\n",
      "Kako lupa srce u grudima, valjalo bi nekuda gradom poći, uzmi me za ruku jer dosadno, spavati u kući je ove noći, svuda plave zvijezde će sjati, mogli bi do zore mi ostati. Sklopi oči muzika dok svira, mojoj duši noćas nema mira, sklopi oči, dobro bi bilo, zauvijek sa tobom biti, . Sklopi oči muzika dok svira, mojoj duši noćas nema mira, sklopi oči, dobro bi bilo, zauvijek sa tobom ostati. Kako lupa srce u grudima, valjalo bi nekuda gradom poći, uzmi me za ruku jer dosadno, spavati u kući je ove noći, svuda plave zvijezde će sjati, mogli bi do zore mi ostati. . Sklopi oči dobro bi bilo, zauvijek sa tobom ostati\n",
      "#####\n",
      "#####\n",
      "Nudili mi pola Novog Sada. Zagreb noću kada kiša pada. Nudi mi bosanske doline. Pored Save želja da me mine... A ja, slaba na slabića. Što šuplja mu je priča. Pa me laže, evo, noć i dan... Slaba na slabića. Što nema ni za Fića. Ali šta ću kad je lijep k'o san... Nudili mi rasne konje vrane. I bogatstvo, da ti pamet stane. Nudili mi trideset salaša. Da me prate dvjesta tamburaša. Nudili mi otoke kraj Splita. I da Hajduk bude prvak svita. Nudili mi brda i doline. A reci Seve, šta ti srce zine.\n",
      "#####\n",
      "#####\n",
      "Na čelu ti crno piše ti bi rado da, u grijeh slatki sa mnom pođeš pravo do stana, ali s tobom ni tri posto nije sigurno, da kauč tvoj tebi hladan ostao. Tamo plavim oceanom plovi jedan brod, svakog dana sve mi bliže nosi ljubljenog, velik korak se odmakni ne na deseti, a kauč tvoj bar će hladan ostati. Jer ja imam svoga dragog, morem plovi on, slike sve mu ljubim, u srcu je mom, . Zato malo se ohladi, grijeh je sa tobom, jer ja imam svoga dragog, a mene ljubi on. Tamo plavim oceanom plovit ću i ja, vodit će me dragi oko južnih otoka, velik korak se odmakni ne na deseti, a kauč tvoj bar će hladan ostati.\n",
      "#####\n",
      "#####\n",
      "Ja ne želim biti ukras, pred tvojim znancima, i neću biti ptica ni u zlatnim lancima, još mislim svojom glavom. I neću biti dobra, kad ti to poželiš, neću biti orden da me dodijeliš, još mislim svojom glavom. Slobodna lakše dišem, život svoj sama pišem, ljubav nije igračka, nema je u knjigama, dolazi sama. Slobodna i bez tebe, čuvam još dio sebe, i kada tijelu dopustim, srca lako ne dajem, ja tako trajem. I sve te tvoje priče, o vezi svemirskoj, ma ne pušim te fore, i zbogom, mali moj, još mislim svojom glavom.\n",
      "#####\n",
      "#####\n",
      "Ja sam nekad dobro, nekad nisam nikako, jesi li spreman ti za to. Jer u meni živi zbrka, sa mnom nema pomalo, baby, baby, jesi spreman ti za to. Spreman za to, spreman za to, jesi li spreman za to, sa mnom neće biti lako, ja se brzo preselim, nemoj da ti kapnem s krova, pa te cijelog potopim, jesi li spreman za to. Ja sam ti prvak svijeta, samo vozim uzbrdo, jesi li spreman ti za to. Meni se pokvari slika, i nestane mi ton, baby, baby, jesi spreman ti za to. Meni se pokvari slika, nestane ton, u meni živi zbrka, sa mnom nema pomalo, kad svi idu dole, ja idem uzbrdo, baby, baby jesi spreman ti za to. Dušo dao si gas do daske, a ja sam slijepa ulica, na svakom novom, skretanju nova modrica. što želiš od mene ti, hajde reci mi, jesi li spreman za to.  Jesi li spreman za to\n",
      "#####\n",
      "#####\n",
      "Kako treba ovog svijeta, da je srce u djeteta. Kao ljiljan nek je čisto, kao rosa nek je bistro. Ko ružica nek je smijerno, ko zrcalo nek je vijerno. Nek se sveze ovo vrelo, nek je cilo i veselo. Kao ptica na grani, kao da se nekud kani. Svakog dana u raj dici, družiti se sa anđelicim\n",
      "#####\n",
      "#####\n",
      "Kad upali se mjesec, palim se i ja, puno mi je dobro, ajme što me sram, ti si moje sorte, ti si baraba, tvoja cura ne zna što znam dobro ja. Cmokni me u oko, daj mi jedan kiss, slatke su ti usne, ajmo poljubac na bis. Jer srce je moje veliko k'o kuća, ljubavi imam za života sto, svega sam gladna, postelja vruća, a tebe nemam, ne radi mi to. Sa mnom su sve moje prijateljice, ni jednoj nisi drag, ma ljubomorne sve, ti ne trebaš mi nosit' zlato oko vrata, jer ti si moje zlato, kad baneš mi na vrata\n",
      "#####\n",
      "#####\n",
      "Nisan tija ranit tebe, nisan tija slomit cvit, kad san tvoje suze vidi, sta je svit. Srce zna da smrtni grij je, pa bi tila sad umrit, ne jubiš me više, sta je svit. Jer samo ti, srca mog si drugi dil, sve šta do sad znan o jubavi, jer samo ti, tila mog si prvi grij. One noći kad si rekla, one noći kad si reka, da će jubav ova trajat zauvik. Tila san ti sriću donit, tvojoj dici mater bit, tu ću tajnu u grob ponit, sta je svit. Nisan tija ranit tebe, nisan tija slomit cvit, kad san tvoje suze vidi, sta je svit. Sve pisme lažu sad to znan, kad prazan kušin pogledan. Jer samo ti, srca mog si drugi dil, sve šta do sad znan o jubavi, jer samo ti, tila mog si prvi grij. One noći kad si rekla, one noći kad si reka, da će jubav ova trajat zauvik!\n",
      "#####\n",
      "#####\n",
      "Ne, nisi ti kriv što si u blizini bio tako daleko. Mada čisto sumnjam da ćeš ikom biti bliži. Ti stvarno nemaš nikakve veze sa tim. Što više nikom ne dam da mi se tako približi…. Da, donosio si stvari koje me vesele. Valjda svak' dobije ono što zasluži. Dobro si znao što me raduje. Ali nikad ono što me rastuži…. Šta me sad pitaš šta mi je. Šta nisi pitao ranije. Šta nisi gledao znakove kraj puta. Sad više nisam ni tužna ni ljuta. Svejedno je... Šta me sad pitaš kako si?', lopove moje mladosti. Puno sam bolje otkad te nema. Al sam i dalje nesretna žena. Sretno ti. Moja bivša radosti…. Mili moj, svaka povijest se ponavlja. Pitam se što nisam starije slušala. Nego sam krenula u krivom smjeru. Opet sam bila nekom samo orden na reveru…. Al to je tako, sve prave ljubavi su tužne. Kako je tek onima koji nisu prave bile. Neću te kleti i ništa ružno željeti. Al' ništa lijepo na tebe neće me sjećati…. Šta me sad pitaš šta mi je. Šta nisi pitao ranije. Šta nisi gledao znakove kraj puta. Sad više nisam ni tužna ni ljuta. Svejedno je... Šta me sad pitaš kako si?', lopove moje mladosti. Puno sam bolje otkad te nema. Al sam i dalje nesretna žena. Sretno ti. Moja bivša radosti. Sretno ti, moja bivša ljubavi. Sretno ti. I živio…\n",
      "#####\n",
      "#####\n",
      "Nije moj križ da budem samo druga, ja imam devet prstiju koji na sve pristaju, i ovaj srednji, a on kaže ne, ne, ne, šta će to meni, budimo iskreni. Ipak me zanima šta to ona ima, mislim dok vas gledam, šta to ona ima, šta to ona ima, što ja nemam. Koliko ljubav ima života, tristo godina da ti budem odana, moji se snovi nikad ne važe, šta će to meni, budimo iskreni.\n",
      "#####\n",
      "#####\n",
      "Noćas lakše bi bilo, da srce ne boli, kako ću sama bez tebe, bez tvoje ljubavi. Mnogo će dana još proći, dok tebe prebolim, neću nikada moći, da te zaboravim. Ljubi me još ovu noć, jer zora brzo će doć', jer zora brzo će doć', ti sutra odlaziš. Noćas lakše bi bilo, da srce ne boli, kako ću sama bez tebe, bez tvoje ljubavi.\n",
      "#####\n",
      "#####\n",
      "Baci sidro mornaru, da je bolno lađi, tisuću i jednu noć, večeras izađi. Pruži ruke rukama, vruć se ritam pleše, nebo će oprostiti, ako naša tijela zgriješe. Sve do zore bit ću tvoje more, sve dok zvijezde ne pregore, sve do zore branit će ti ruke, da ne isploviš iz luke. Baci mape mornaru, nek se same pišu, na tisuću i jednu noć, poljupci mirišu. Pruži ruke rukama, vruć se ritam pleše, nebo će oprostiti, ako naša tijela zgriješe. Sve do zore bit ću tvoje more, sve dok zvijezde ne pregore\n",
      "#####\n",
      "#####\n",
      "Svaki moj dan ti obojiš osmijehom, zbog toga znam da u drvo pokucam, kad pričam o tom ja govorim glasnije, i priznajem, volim kad nam zavide. Sve što imam, to si ti, ja zbog tebe postojim, ti si nježan poput šapata, i ulaziš na prstima u svaki moj san. Reći ćeš da ponekad pretjerujem, kad govorim da nebi znala bez tebe, kad pričam o tom ja govorim glasnije, i priznajem, volim kad nam zavide. Sve što imam, to si ti, ja zbog tebe postojim, želim da znaš, zbog tebe ja postojim, sve što imam, to si ti\n",
      "#####\n",
      "#####\n",
      "Ništa više nemam s tobom, uvijek si me lagao, dok sam sanjala o tebi, s njom si negdje skitao. Pričao si da me voliš, pogazio svaku riječ, ljubav je za tebe bila samo igra, ja sam u njoj gubila... Svirajte mi rokeri, da ga pjesmom zaboravim, pomozite mi drugovi, da ga lakše prebolim. Ništa više nemam s tobom, uvijek si me lagao, dok sam sanjala o tebi, s njom si negdje skitao. Pričao si da me voliš, pogazio svaku riječ, ljubav je za tebe bila samo igra, ja sam u njoj gubila.\n",
      "#####\n",
      "#####\n",
      "Samo idi gdje hoćeš, ako te tako veseli, i radi bez mene, sve što ti srce poželi. Ti si sretan, sretna i ja, bit ću jednom ko zna čija, al' čini mi se više neću biti živa, bojim se ali tako je to. Baci čašu visoko past će na tlo, kamen u vodu taknut će dno, granu u vatru izgorijet će sva, baci mene od sebe i umrijet ću ti ja. Da mi je, da zaboravim sve, i da mi ne fališ, kada se oči zatvore. Ti si sretan, sretna i ja, bit ću jednom ko zna čija, al' čini mi se više neću biti živa, bojim se ali tako je to.  Baci čašu visoko, kamen u vodu, granu u vatru, baci mene od sebe i umrijet ću ti ja.\n",
      "#####\n",
      "#####\n",
      "Šta me puštaš noću samu. Pa si nemiran u snu, Suknja, štikla, oko tamno. Cijeli grad me gledao, I tvoja a i slobodna. Ja plešem. I ja uživam, Al' ti si mi u grudima... Oko mene hiljadu luđaka, Što misle da sam laka. Da kupe me za piće il' dva. Oko mene hiljadu kretena, Što pored svojih žena. Još nešto bi sa strane za čas, A ja ne dam milo moje. Ni blizu da mi priđu, Ma budi mi bez brige, Samo plešem sasvim sama. Dok muzika mi svira. I svud je tarapana hej... Hajde mili, pođi sa mnom, Što ćeš sam u krevetu, Zgodna mala, pola grada, Svi u mene gledaju, I tvoja a i slobodna. Ja plešem i ja uživam, Al' ti si mi u mislima...  Ovih dana. Kad je cura sama, Kad se zabavlja i pleše, Svi bi htili je u šaci, Uvijek sama, Malo poigraj se s nama, Ala što ste smisni. Ma bižite luđaci... Oko tebe hiljadu luđaka, Što misle da si laka, Da kupe te za piće il' dva, Oko tebe hiljadu kretena. Što pored svojih žena. Još nešto bi sa strane za čas... REFREN 2X\n",
      "#####\n",
      "#####\n",
      "U bravu ključ je stavio. I vani mi zabranio, Moj tata stvarno ne shvaća. Osamnaest mi je godina. Na meni nova suknjica, Tek malo iznad koljena, A tata kaže Ne i ne, To jako pali mangupe. . O tata, tata čuješ li muziku?. Svi se raduju. O tata, tata, molim te, molim te, Ritam je strašan pusti, pusti me, O tata, tata čuješ li muziku, muziku?. U sobi baš je dosadno, On kaže Slušaj radio. Moj tata stvarno ne shvaća, Osamnaest mi je godina. Na meni tijesna majica, Na prvi pogled ubija, A tata kaže Ne i ne, To jako pali mangupe. \n",
      "#####\n",
      "#####\n",
      "Mjesečina čista blista, kao da je dan, šetamo se al' za kratko, imam drugi plan. Ja bih da nas obasjava, mjesečine trag, ti bi nešto sasvim drugo, vodiš me u mrak. Ti bi u škuribandu, a govore mi svi, kad su u škuribandi, momci su opasni, . Ti bi u škuribandu, a meni govore, kad su u škuribandi, momci te s nogu obore. Pričao si da te šetnja, oduševljava, al' bi odmah negdje sjeo, jer si umoran. Ja bih da nas obasijava, mjesečine trag, ti bi nešto sasvim drugo, vodiš me u mrak.  Kad su u škuribandi, momci te s nogu obore\n",
      "#####\n",
      "#####\n",
      "Ti si moj, moj i Božiji, ti si moj i više ničiji, nek svi odu samo nemoj ti, moja ljubavi. Ja ću tebe uvijek ljubiti, i ako odeš to me može ubiti, ja sad letim tvojim krilima, moja ljubavi jedina. Ne dam te, ne dam nikome, što ću ja sama bez tebe, jer ja sam s tobom srce slomila, moja ljubavi jedina. Na tvom ramenu, ja sam spavala, u tvojim očima, zoru gledala, želim to da znaš, ja zbog tebe postojim, sve bi dala da te zadržim. Ti si moj, moj i Božiji, ti si moj i više ničiji, ja sad letim tvojim krilima, moja ljubavi jedina. Na tvom ramenu, ja sam spavala, u tvojim očima, zoru gledala, želim to da znaš, ja zbog tebe postojim, sve bih dala da te zadrzim.\n",
      "#####\n",
      "#####\n",
      "Vani tuče sunce i miriše dan. Ti si umoran i bježiš u hlad. A doli je ekipa i čekaju me. Ptice pjevaju, probudi se. Mala daj se smiri i poslušaj me. Tvoje godine su opasne. I svi ti dječaci što te čekaju. Ljubiti ko ja ne znaju. Ti srce moje, ja sam tvoje. Ovaj svijet je stvoren za nas dvoje. Kad te poljubim ja se rastopim. Oči zatvorim pa poludim. Ti srce moje, ja sam tvoje. Ovaj svijet je stvoren za nas dvoje. Kad te poljubim ja se rastopim. Oči zatvorim pa poludim. Dok te gledam zemlja mi se okreće. Sva se svjetla zapale. A ljubit ću te nećeš znati što ti je. Vjeruj, ja to radim najbolje. Ti srce moje, ja sam tvoje. Ovaj svijet je stvoren za nas dvoje. Kad te poljubim ja se rastopim. Oči zatvorim pa poludim.\n",
      "#####\n",
      "#####\n",
      "Kad bi znala ko te noćas ljubi, čija ruka miluje, ko te jutrom rano budi, dok ja mislim na tebe. Vratit ćeš se ako ima sreće, vjetrove ću moliti, srce moje nikog neće, kao tebe voljeti. Ti si suza na mome jastuku, što mi duši krade snove, ti si suza bez koje ne mogu, oko moje, oko moje nevjerno. Vratit ćeš se ako ima sreće, vjetrove ću moliti, srce moje nikog neće, kao tebe voljeti.\n",
      "#####\n",
      "#####\n",
      "Raste trava zelena, zelena, zelena. Ti si ljubav jedina, jedina, jedina. Sanjala sam plavi ružmarin. I dvije ptice kako lome krila. Vidjela sam zemlju ljubavi. Tamo gdje sam nekad s tobom bila. Procvao je cvijet u kamenu. Kao milost iz visina. Moje misli tebi putuju iz daljina. Raste trava zelena, zelena, zelena. Ti si ljubav jedina, jedina, jedina. Tu u srcu mom, tu je tvoj dom. Raste trava zelena, ljubavi jedina. Procvao je cvijet u kamenu. Kao milost iz visina. Moje misli tebi putuju iz daljina. Raste trava zelena, zelena, zelena. Ti si ljubav jedina, jedina, jedina. Raste trava zelena, zelena, zelena. Ti si ljubav jedina, jedina, jedina. Tu u srcu mom, tu je tvoj dom. Raste trava zelena, ljubavi jedina. Raste trava zelena, ljubavi jedina. Raste trava zelena, ljubavi jedina...\n",
      "#####\n",
      "#####\n",
      "Učinilo mi se da kažeš grudi su ti kao rahatlokumi'. Polako tvoja ruka kreće, mislim Bože, nek' radi što naumi'. A ti od prvoga minuta znaš da ovo vodi do kreveta, A ja od prvoga minuta znam bit ćeš moj muž, otac mog dijeteta. Na prvi pogled čini ti se sve će biti kao i obično. A ja na prvi pogled znam izabrala sam odlično. Shvati ovako ili onako, samo nemoj naopako. To je k'o ljubav vrlo slično. Tridesete, ništa neobično... Da li sam ja skroz pameću skrenula. Kad sam ti tako nešto spomenula. To su samo prvi znaci, prvi znaci da me sjete. Lete mi, lete tridesete.\n",
      "#####\n",
      "#####\n",
      "Hej, zašto me nikada ne upitaš, ja, zašto sam svake noći ovdje baš, jer ti, što isti osmijeh daješ svakome, znaj, da srce kuca mi drugačije. Tuđa srećo šta ću ja od tebe, za mene si samo novi grijeh, čuvaj sreću, loša su vremena, za drugog si ljubav, za mene tek žena. Hej, ma nije stari svirac za tebe, ni ti, nisi mi za takve birtije, i znaj, da čuvaš ljubav pravu dok je tu, jer ja, takvih sam prevario stotinu.  Nisam došla zbog tambure, ni zbog pjesme, ni zbog vina, srce je u ove cure puklo po šavu, da ne bude rim. Ne glumi kad znam, da jesi janje koji vuk se pravi, nećeš da se ljubav desi, jer se plašiš šta je ljubav, zelene oči bile su moje.\n",
      "#####\n",
      "#####\n",
      "Sa neba oblaci prijete sudbinom, u raj ga vijetrovi nose, bez njega nema života sudbino, nek i mene anđeli prose. refren-:. Daj mi da živim bez njega o Bože, da vidam tuge od sna. Skinite lance sa mene o Bože, jer bez njega nisam ja. Dala bi sve na ovom svijetu, da nas nema, da nas nije. Neka me sijećanje mine sudbinom, da sati su kao prije. refren-:. Kako da živim bez njega o Bože, da vidam tuge od sna. Skinite lance sa njega o Bože, i vrati ga tu gdije sam ja\n",
      "#####\n",
      "#####\n",
      "Koga foliram, za ljubav se izoliram, sa mnom si u snovima, sa njom si u kolima. . A ja bi’ pila, ja bi’ pila, sto promila, noćima bi’ lila, ne bi krila, s kim bi’ bila, jer za ljubav trebam tutorial. Ja bi’ pila, ja bi’ pila, sto promila, noćima bi’ lila, ne bi krila, s kim bi’ bila, jer za ljubav trebam tutorial. Ljubomora safata, kao luda mlada bahata. Pola grada nada se, napada. A ja sama, a ja sama. Ja sto sam suza prolila, on je sto čaša razbio. Na kraju ko ruža sam sklopila, latice što je slomio. Nađi me, nađi me, tamo gdje mlada noć pada. Slađi je, slađi je, okus pobjede nego usne tog gada. . A ja pojma, pojma nemam, ma sta je to ljubav, pojma nemam. Pojma, pojma nemam, ma sta je to ljubav, pojma nemam. I budi me na tmurna jutra, godi mi k’o dim na svaki gutljaj. Dodiri vreli kao ognjište kamina, tragovi mog karmina bi na ta usta. Nađi me, nađi me, tamo gdje mlada noć pada. Slađi je, slađi je, okus pobjede nego usne tog gada. . A ja pojma, pojma nemam, ma sta je to ljubav, pojma nemam. Pojma, pojma nemam, ma sta je to ljubav, pojma nemam, )\n",
      "#####\n",
      "#####\n",
      "Rasuo se jedan život, rasuo se svijet. Slomljenih krila ptica ne može u let. Ne mogu ja živjet' više, za vratom mi tuga diše. Tuga teška kao godina. Lijepa li sam, mlada li sam, ali sretna nisam, nisam. Sreća je za tobom otišla. Lijepa li sam, mlada li sam, ali sretna nisam, nisam. Tuga je za tobom ostala. Pitala sam ljude znane, pitala sam sve. Da mi nađu srcu hrane, lijek da ne umrem. Ne mogu ja živjet' više, za vratom mi tuga diše. Tuga teška kao godina. Lijepa li sam, mlada li sam, ali sretna nisam, nisam. Sreća je za tobom otišla. Lijepa li sam, mlada li sam, ali sretna nisam, nisam. Tuga je za tobom ostala. Tuga je za tobom ostala\n",
      "#####\n",
      "#####\n",
      "Došao si tiho na prstima. Rekao da sam tvoja jedina. Pričali smo i svjetlo ugasili. Malo se ljubili. Noć je bila duga. Sva od zvjezdica. Na putu do mjeseca. Danas si daleko 200 godina. Ali si na usnama. Bila sam tvoja prva djevojka. Sva tvoja ljubav tu je ostala. I svaku noć sanjaš me. U svakoj drugoj tražiš me. Tvoja prva djevojka\n",
      "#####\n",
      "#####\n",
      "Nismo bili mi iz iste priče. A ni istih godina, a ni istih razloga. Al kad ljubav nemoguće spoji. Tad joj vrata otvoriš. Pustiš je bez naloga. U znoju te mom ima ko ranije. Još moja krv nikom ne da te. Dok s drugom gledam, gledam te. Ruke služe mi da pijem. Soba da se u njoj krijem. Da se ni sa kim tu ne družim. Usne da ih na led stavim. Poslije tebe da ti javim. Da nemam kog da zavolim. A htjela sam te za godina sto. A bilo je unaprijed gotovo. Nismo bili mi iz istog filma. A ni istih uloga, a ni istih svjetova. Al kad oči zatvorim nas vidim. Pa se vrati stari sjaj. U naš izgubljeni raj. U znoju te mom ima ko ranije. Još moja krv nikom ne da te. Dok s drugom gledam, gledam te. Ruke služe mi da pijem. Soba da se u njoj krijem. Da se ni sa kim tu ne družim. Usne da ih na led stavim. Poslije tebe da ti javim. Da nemam kog da zavolim. A htjela sam te za godina sto. A bilo je unaprijed gotovo\n",
      "#####\n",
      "#####\n",
      "Možda si ti i genije za žene, ali ovaj put zaboravi na mene, kažu ti da si istek'o prije roka, u mojoj knjizi utisaka, ti si slaba trojka. Hajde, zaboravi na to, ne treba mi ljubav, meni treba lom, praštaj, lutko, sada sve, ja reći ću ti Ne. Koliko pijem, nije humano, subota je dan za alkohol, uno momento 1, uspori tempo, možda sutra se vidimo. Tika-taka, tika-tak, isteklo ti vrijeme, pao si kod mene, baš si sladak kad si ljut, više sreće drugi put. Ниси мој тип, нећу да те лажем, тражиш мој број, зини да ти кажем, желео би да идемо код тебе, али тамо ноћас водиш само себе. Хајде, заборави на то, не треба ми љубав, мени треба лом, праштај, лутко, сада све, ја рећи ћу ти Не.\n",
      "#####\n",
      "#####\n",
      "Ja ne znam za sebe, tablete ne vrijede, od prvog do prvog, ja mislim na tebe. I ne znam šta pijem, od sunca se krijem, kako bez tebe živim, bolje je da me nije. Gdje si sad, dižem grad, zovem sve koje znam, ma da te nađu, mada znam, nisi sam, ljubiš ti jer si gad, neku mlađu. Uzbuna, čuju se sirene, uzbuna, nisi pored mene, uzbuna, ove noći lude, ove usne hoće da te ljube. Tvoje mi sve fali, svi drugi su mali, dok grad noću gori, ja sam u ilegali. Od ljeta do zime, se borim sa time, što još na koži nosim, tvoje slatko ime.\n",
      "#####\n",
      "#####\n",
      "Ništa više vjeruj mi od tebe ne tražim, vrijeme je da neko novo rame potražim, trebam nekoga, laganog k'o dim, da gorim dok me izgorim, izgorim. Nema više razloga što ovdje drže me, jer ja sam oblak, vjetar po svijetu nosi me, a nebo je plavo i tako veliko, i najbolje je krenut' visoko. Ja sam kao vatra, ti kao led, ti ostaješ tu, ja se spremam za let, ja sam kao vatra, ti si kao led, previše si volio pa si se istopio. Bolje bi ti bilo da mi nisi rekao, kako si od uvijek baš na mene čekao, trebam nekoga, laganog k'o dim, da gorim dok ne izgorim, izgorim. A nebo je plavo i tako veliko, i najbolje je krenut' visoko. Ja sam kao vatra, ti kao led, ti ostaješ tu, ja se spremam za let, ja sam kao vatra ti hladan kao led, previše si sanjao, pa si se probudio. Ja sam kao vatra, ti hladan kao led, ti ostaješ tu, ja se spremam za let, ja sam kao vatra, ti hladan kao led, previše si volio, pa si se istopio\n",
      "#####\n",
      "#####\n",
      "Nima dana, nima ure. Da mi nisi cvit i pitar. Puna mi je duša bure. Jer ti si mi val i vitar. Nemoj nikad poć bez mene. Ni u crkvu Boga molit. Pusti vitar da okrene. Jedna će me suza slomit. Virujen u te, s tobom živin lipo. Sve dok me bude volit ću te slipo. Virujen u te, ispovidan grije. I kad me varaš s tobom lipo mi je. Znaš da mi je bila boja. U dnu srca kao znamen. Samo s tobom želin dite. Te jubavi vični plamen. Nemoj nikad poć bez mene. Ni u crkvu Boga molit. Pusti vitar da okrene. Jedna će me suza slomit\n",
      "#####\n",
      "#####\n",
      "Plovi nad morem žut mjesec, k'o gusar na oblaku, muzika stara, i pali i šara u srcu. Svi se već dižu, i zanosno njišu uz valove, poljubac vrući, i noćas se kući ne ide. Na ples, vodi me na ples, vodi me na ples, vodi me da opasno ljuljamo se, . Na ples, vodi me na ples, vodi me na ples, vodi me do zore da igramo se. Svi se već dižu, i zanosno njišu uz valove, poljubac vrući, i noćas se kući ne ide.\n",
      "#####\n",
      "#####\n",
      "Probudim se, probudiš se, samo navika, što bi drugo bilo, znaju već od lani, i ptice na grani, da te više ne volim ko prije. Okrenem se, okreneš se, još si uvijek tu, pravimo se da je sve u redu, vidiš da smo stranci, na nama su lanci, nema više ničeg u pogledu. Voli me, ne voli, voli me, ne voli, zaboravit ću sve, nek sve zaboravi, voli me, ne voli, sad mi je svejedno. Poljubim te, poljubiš me, samo navika, što bi drugo bilo, predugo smo skupa, ni srce ne lupa, i ono se malo umorilo. Voli me, ne voli, voli me, ne voli, zaboravit ću sve, nek sve zaboravi, voli me, ne voli, sad mi je svejedno, voli me, ne voli, stvarno je svejedno)\n",
      "#####\n",
      "#####\n",
      "Sretna sam k'o malo dijete, od trepavice pa do pete, pa ti vidi kako ćeš, kad bez mene ostaneš. A nesretna sam kad te nema, u srcu mi sto problema, jer smo, dušo, ti i ja, k'o ruka i rukavica. Gdje ćeš naći takvu kao ja, ma takva ti se dvaput ne rađa, kao ja... Moram ti reći nešto jako bitno, otiđi gdje hoćeš, al' vrati se pod hitno. O znaš ti ko sam ja, malo dobra, malo zla, a kad spojiš dva i dva, ja sam najbolja.\n",
      "#####\n",
      "#####\n",
      "Bio mi je tako blizu, milovao svojim usnama, kao nikad do tada. A mjesec se nakrivio, jednim okom zazmirio, i sa smiješkom gledao na nas. Ljubio me cijele noći, ko da jutro neće doći nikada. Zamisli sliku tako punu ljubavi, zamisli nešto kao raj, zamisli srce, a u njemu spavam ja, da li je to tako bilo, il' sam možda samo sanjala. Il' sam možda samo sanjala\n",
      "#####\n",
      "#####\n",
      "Vrela noć je, grad spava, tramvaj vozi zadnji krug, a ja teško sobom vladam, jer zavolio si nju. Kažu da se ne raspituješ, više za mene, i da te nikad sretnijeg, ne pamte. Zaustavite tramvaj, i vjetar i ljude, noćas sa mnom budite, dok oni se ljube. Novo jutro, što mi nosi, kada ljubav prestaje, miris ljeta i sol u kosi, sve polako nestaje. Dovoljna bi bila jedna riječ, dovoljna za sve, dovoljan si ti, za mene.  Ma noćas sa mnom budite, dok oni se ljube\n",
      "#####\n",
      "#####\n",
      "Rakija se liječi vinom, Marihuana kokainom. Sve ostalo, sve ostalo. Sve ostalo Severinom. Škorpija, i ti, i ja. Paz' da se ne spotaknemo. Do sad se ni jedna nije žalila. Pu, da te ne ureknemo. Noć, dvije, malo li je. Paz' da se ne naviknemo. Sviđa mi se tvoja anatomija. Pu, da te ne ureknemo. Nekad si mi dobar, Nekad ne valjaš. Valjaš, valjaš, valjaš momak. Da me zabavljaš. Molite se, cure, Molite se, Molim se i ja. Aleluja. Daj nam, Bože, više. Muškaraca nego godina. Aleluja. Rakija se liječi vinom, Marihuana kokainom. Sve ostalo, sve ostalo. Sve ostalo Severinom. Zdravo, Marijo, Neka bude volja tvoja, Da ne budem stara cura, Bez avantura. Aleluja, aleluja, aleluja. Ne bih ni ja, ali prija. Hajde da se dotaknemo, Bit će noćas maratonija. Pu, da te ne ureknemo. Škorpija, i ti, i ja. Paz' da se ne spotaknemo. Do sad se ni jedna nije žalila. Pu, da te ne ureknemo.\n",
      "#####\n",
      "#####\n",
      "Kada oči otvorim, ti si prvo što mi padne na pamet, svoju tugu zagrlim, baš me briga kuda ide svijet. Pričam sama sa sobom, plaše me goli, bijeli zidovi, jesi li dobro i gdje si sad, moja ljubav će me ubiti. Zime, ljeta, jeseni, zauvijek si u meni, vrijeme neće ništa promijeniti, ti si ja, a ja sam ti. Sve sam s tobom probala, prve suze, rajske jabuke, s tobom sam prohodala, svaki put me vodi do tebe.\n",
      "#####\n",
      "#####\n",
      "Živila nan jubav!. Viva l'amor!. Dicu će nan donit, Bit će pun ih dvor!. Iz mora cvita cvit. A ime mu je Split. Tu loza naša raste oduvik!. Moj Marjane, moj Jadrane i lipi Splite moj. Plavo more, sunca sjaj, na svitu ti si raj. Dalmacijo, Croatio, Bog ti sriće da. Jubija te pape moj, jubin te i ja. Živila nan jubav!. Viva l'amor!. Ča još čovik triba?. Ti si kruv i sol. Po malin kalama. I bilin skalama. Sve klape će ti pivat zauvik!. Moj Marjane, moj Jadrane i lipi Splite moj. Plavo more, sunca sjaj, na svitu ti si raj. Dalmacijo, Croatio, Bog ti sriće da. Jubija te pape moj, jubin te i ja.\n",
      "#####\n",
      "#####\n",
      "Zakomplicirao si stvar, prevario si me, možda ti jednom oprostim, ne traži da zaboravim. Laku noć gospodine, još samo jedno pitanje, koliko ima godina, i da li to radi kao ja. Zvijezde padaju, zvijezde padaju, srca lutaju, srca lutaju, volio si me, voljela sam te, a sada gotovo je, zvijezde padaju, zvijezde padaju, srca lutaju, srca lutaju, volio si me, voljela sam te, a sada gotovo je sve. Ako me sutra poželiš, ma bilo što da učiniš, pred tobom ću biti bilo s kim, da i ja tebe povrijedim. Zvijezde padaju...\n",
      "#####\n",
      "#####\n"
     ]
    }
   ],
   "source": [
    "for l in corrected_lyrics:\n",
    "    print(l)\n",
    "    print(\"#####\")\n",
    "    print(\"#####\")"
   ]
  },
  {
   "cell_type": "code",
   "execution_count": 407,
   "metadata": {},
   "outputs": [],
   "source": [
    "final_lyrics_df = pd.DataFrame([df.Song_ID.values, song_df.values, corrected_lyrics]).transpose()\n",
    "final_lyrics_df.columns = [\"Song_ID\", \"Song\", \"Lyrics\"]\n",
    "final_lyrics_df\n",
    "final_lyrics_df.to_csv(f\"data/{artist_name}_final_lyrics.csv\")"
   ]
  },
  {
   "cell_type": "code",
   "execution_count": 408,
   "metadata": {},
   "outputs": [
    {
     "name": "stderr",
     "output_type": "stream",
     "text": [
      "2022-02-21 18:55:47 INFO: Loading these models for language: hr (Croatian):\n",
      "===========================\n",
      "| Processor | Package     |\n",
      "---------------------------\n",
      "| tokenize  | nonstandard |\n",
      "| pos       | nonstandard |\n",
      "| lemma     | nonstandard |\n",
      "| depparse  | standard    |\n",
      "| ner       | nonstandard |\n",
      "===========================\n",
      "\n",
      "2022-02-21 18:55:47 INFO: Use device: cpu\n",
      "2022-02-21 18:55:47 INFO: Loading: tokenize\n",
      "2022-02-21 18:55:47 INFO: Loading: pos\n",
      "2022-02-21 18:55:48 INFO: Loading: lemma\n",
      "2022-02-21 18:55:54 INFO: Loading: depparse\n",
      "2022-02-21 18:55:55 INFO: Loading: ner\n",
      "2022-02-21 18:55:55 INFO: Done loading processors!\n"
     ]
    }
   ],
   "source": [
    "#classla.download('hr', type='nonstandard')\n",
    "nlp = classla.Pipeline('hr', type='nonstandard') # run classla.download('hr', type='nonstandard') beforehand if necessary"
   ]
  },
  {
   "cell_type": "code",
   "execution_count": 409,
   "metadata": {},
   "outputs": [],
   "source": [
    "df_nlp = pd.DataFrame()\n",
    "\n",
    "for cl, song, song_id in zip(corrected_lyrics, song_df, df[\"Song_ID\"].values):\n",
    "\n",
    "    doc = nlp(cl)\n",
    "    doc_dict = doc.to_dict()\n",
    "\n",
    "    #df_song = pd.DataFrame([doc_dict[i][0] for i, _ in enumerate(doc_dict)]).transpose()\n",
    "    sentences = [doc_dict[i][0] for i, _ in enumerate(doc_dict)]\n",
    "    df_song = pd.DataFrame(sentences[0])\n",
    "    for sentence in sentences[1:]:\n",
    "        df_song = pd.concat([df_song, pd.DataFrame(sentence)])\n",
    "\n",
    "    df_song[\"Song\"] = song \n",
    "    df_song[\"Song_ID\"] = song_id\n",
    "    df_nlp = pd.concat([df_nlp, df_song])"
   ]
  },
  {
   "cell_type": "code",
   "execution_count": 410,
   "metadata": {},
   "outputs": [],
   "source": [
    "df_nlp.reset_index(drop=True, inplace=True)"
   ]
  },
  {
   "cell_type": "code",
   "execution_count": null,
   "metadata": {},
   "outputs": [],
   "source": []
  },
  {
   "cell_type": "code",
   "execution_count": 411,
   "metadata": {},
   "outputs": [],
   "source": [
    "features_df = pd.DataFrame()\n",
    "rows = df_nlp.feats.str.split(\"|\").to_list()"
   ]
  },
  {
   "cell_type": "code",
   "execution_count": 412,
   "metadata": {},
   "outputs": [],
   "source": [
    "for i, row in enumerate(rows):\n",
    "    if not type(row) == float:\n",
    "        for f in row:\n",
    "            features_df.loc[i, f[0:f.index(\"=\")]] = f[f.index(\"=\")+1:]\n"
   ]
  },
  {
   "cell_type": "code",
   "execution_count": 413,
   "metadata": {},
   "outputs": [],
   "source": [
    "df_nlp = df_nlp.join(features_df)"
   ]
  },
  {
   "cell_type": "code",
   "execution_count": null,
   "metadata": {},
   "outputs": [],
   "source": []
  },
  {
   "cell_type": "code",
   "execution_count": 414,
   "metadata": {},
   "outputs": [],
   "source": [
    "df_nlp.to_csv(f\"{artist_name}_nlp.csv\", index=False)"
   ]
  },
  {
   "cell_type": "code",
   "execution_count": 415,
   "metadata": {},
   "outputs": [
    {
     "data": {
      "text/plain": [
       "Marjan      4\n",
       "Split       4\n",
       "Brazil      2\n",
       "Azija       2\n",
       "Kina        2\n",
       "Rio         1\n",
       "Zagreb      1\n",
       "južan       1\n",
       "vatren      1\n",
       "Hrvatska    1\n",
       "Name: lemma, dtype: int64"
      ]
     },
     "execution_count": 415,
     "metadata": {},
     "output_type": "execute_result"
    }
   ],
   "source": [
    "df_nlp[(df_nlp.ner==\"B-LOC\")][\"lemma\"].value_counts()[0:10]"
   ]
  },
  {
   "cell_type": "code",
   "execution_count": 416,
   "metadata": {},
   "outputs": [
    {
     "data": {
      "text/plain": [
       "Tuborg      2\n",
       "Calimero    1\n",
       "Hajduk      1\n",
       "Manolov     1\n",
       "Diorov      1\n",
       "Viber       1\n",
       "Name: lemma, dtype: int64"
      ]
     },
     "execution_count": 416,
     "metadata": {},
     "output_type": "execute_result"
    }
   ],
   "source": [
    "df_nlp[(df_nlp.ner==\"B-ORG\")][\"lemma\"].value_counts()[0:10]"
   ]
  },
  {
   "cell_type": "code",
   "execution_count": 417,
   "metadata": {},
   "outputs": [
    {
     "data": {
      "text/plain": [
       "Bog            36\n",
       "Marija          5\n",
       "Bogo            5\n",
       "Marijo          5\n",
       "Ante            5\n",
       "Severina        4\n",
       "Hurem           3\n",
       "Lola            3\n",
       "Taliman         3\n",
       "Esmeralda       3\n",
       "Croatia         2\n",
       "Split           2\n",
       "Buldog          2\n",
       "Dioklecijan     2\n",
       "božiji          2\n",
       "Hrvatica        2\n",
       "Duje            2\n",
       "Jadran          2\n",
       "Isus            2\n",
       "svet            2\n",
       "Mare            2\n",
       "Cartier         2\n",
       "Marjan          2\n",
       "Jere            1\n",
       "Danica          1\n",
       "andiamati       1\n",
       "Alcatraz        1\n",
       "Seve            1\n",
       "Copacabana      1\n",
       "Brad            1\n",
       "Fića            1\n",
       "Adame           1\n",
       "Nagi            1\n",
       "drug            1\n",
       "haljinica       1\n",
       "Frane           1\n",
       "Šime            1\n",
       "šic             1\n",
       "Calimero        1\n",
       "Muškarec        1\n",
       "Tony            1\n",
       "Name: lemma, dtype: int64"
      ]
     },
     "execution_count": 417,
     "metadata": {},
     "output_type": "execute_result"
    }
   ],
   "source": [
    "df_nlp[(df_nlp.ner==\"B-PER\")][\"lemma\"].value_counts()[0:50]"
   ]
  },
  {
   "cell_type": "code",
   "execution_count": 418,
   "metadata": {},
   "outputs": [
    {
     "data": {
      "text/plain": [
       "Series([], Name: lemma, dtype: int64)"
      ]
     },
     "execution_count": 418,
     "metadata": {},
     "output_type": "execute_result"
    }
   ],
   "source": [
    "df_nlp[(df_nlp.upos==\"SYM\")][\"lemma\"].value_counts()[0:10]"
   ]
  },
  {
   "cell_type": "code",
   "execution_count": 419,
   "metadata": {},
   "outputs": [
    {
     "data": {
      "text/plain": [
       "Bog           36\n",
       "Verse         11\n",
       "Marjan         8\n",
       "Split          6\n",
       "Marijo         6\n",
       "Bogo           5\n",
       "Beo            5\n",
       "Pre-Chorus     5\n",
       "Marija         5\n",
       "Ante           5\n",
       "Name: lemma, dtype: int64"
      ]
     },
     "execution_count": 419,
     "metadata": {},
     "output_type": "execute_result"
    }
   ],
   "source": [
    "df_nlp[(df_nlp.upos==\"PROPN\")][\"lemma\"].value_counts()[0:10]"
   ]
  },
  {
   "cell_type": "code",
   "execution_count": 420,
   "metadata": {},
   "outputs": [
    {
     "data": {
      "text/plain": [
       "Bog          36\n",
       "Marija        5\n",
       "Marijo        5\n",
       "Bogo          5\n",
       "Ante          5\n",
       "Severina      4\n",
       "Hurem         3\n",
       "Lola          3\n",
       "Taliman       3\n",
       "Esmeralda     3\n",
       "Name: lemma, dtype: int64"
      ]
     },
     "execution_count": 420,
     "metadata": {},
     "output_type": "execute_result"
    }
   ],
   "source": [
    "df_nlp[(df_nlp.upos==\"PROPN\")& (df_nlp.ner==\"B-PER\")][\"lemma\"].value_counts()[0:10]"
   ]
  },
  {
   "cell_type": "code",
   "execution_count": 421,
   "metadata": {},
   "outputs": [
    {
     "data": {
      "text/plain": [
       "array([], dtype=object)"
      ]
     },
     "execution_count": 421,
     "metadata": {},
     "output_type": "execute_result"
    }
   ],
   "source": [
    "df_nlp[df_nlp.lemma==\"Goran\"].Song.unique()"
   ]
  },
  {
   "cell_type": "code",
   "execution_count": 422,
   "metadata": {},
   "outputs": [
    {
     "data": {
      "text/plain": [
       "znati      141\n",
       "voljeti    107\n",
       "dati       101\n",
       "imati       93\n",
       "ljubiti     83\n",
       "nemati      78\n",
       "moći        61\n",
       "htjeti      51\n",
       "ići         47\n",
       "trebati     45\n",
       "Name: lemma, dtype: int64"
      ]
     },
     "execution_count": 422,
     "metadata": {},
     "output_type": "execute_result"
    }
   ],
   "source": [
    "df_nlp[(df_nlp.upos==\"VERB\")][\"lemma\"].value_counts()[0:10]"
   ]
  },
  {
   "cell_type": "code",
   "execution_count": 423,
   "metadata": {},
   "outputs": [
    {
     "data": {
      "text/plain": [
       "ljubav    134\n",
       "srce      105\n",
       "noć        70\n",
       "oko        54\n",
       "svijet     51\n",
       "dan        45\n",
       "ruka       38\n",
       "duša       37\n",
       "suza       37\n",
       "vikend     36\n",
       "Name: lemma, dtype: int64"
      ]
     },
     "execution_count": 423,
     "metadata": {},
     "output_type": "execute_result"
    }
   ],
   "source": [
    "df_nlp[(df_nlp.upos==\"NOUN\")][\"lemma\"].value_counts()[0:10]"
   ]
  },
  {
   "cell_type": "code",
   "execution_count": 424,
   "metadata": {},
   "outputs": [
    {
     "data": {
      "text/plain": [
       "ljubav    134\n",
       "srce      105\n",
       "noć        70\n",
       "oko        54\n",
       "svijet     51\n",
       "dan        45\n",
       "ruka       38\n",
       "duša       37\n",
       "suza       37\n",
       "vikend     36\n",
       "Name: lemma, dtype: int64"
      ]
     },
     "execution_count": 424,
     "metadata": {},
     "output_type": "execute_result"
    }
   ],
   "source": [
    "df_nlp[(df_nlp.upos==\"NOUN\")][\"lemma\"].value_counts()[0:10]"
   ]
  },
  {
   "cell_type": "code",
   "execution_count": 425,
   "metadata": {},
   "outputs": [
    {
     "data": {
      "text/plain": [
       "array(['Slaba na slabića'], dtype=object)"
      ]
     },
     "execution_count": 425,
     "metadata": {},
     "output_type": "execute_result"
    }
   ],
   "source": [
    "df_nlp[df_nlp.lemma==\"Hajduk\"].Song.unique()"
   ]
  },
  {
   "cell_type": "code",
   "execution_count": 426,
   "metadata": {},
   "outputs": [
    {
     "data": {
      "text/plain": [
       "array(['538Exp8s_1_120'], dtype=object)"
      ]
     },
     "execution_count": 426,
     "metadata": {},
     "output_type": "execute_result"
    }
   ],
   "source": [
    "df_nlp[df_nlp.lemma==\"Hajduk\"].Song_ID.unique()"
   ]
  },
  {
   "cell_type": "code",
   "execution_count": 427,
   "metadata": {},
   "outputs": [
    {
     "data": {
      "text/plain": [
       "array([], dtype=object)"
      ]
     },
     "execution_count": 427,
     "metadata": {},
     "output_type": "execute_result"
    }
   ],
   "source": [
    "df_nlp[df_nlp.lemma==\"Indira\"].Song_ID.unique()"
   ]
  },
  {
   "cell_type": "code",
   "execution_count": 428,
   "metadata": {},
   "outputs": [
    {
     "data": {
      "text/plain": [
       "array(['Nudili mi pola Novog Sada\\r\\nZagreb nocu kada kisa pada\\r\\nnudili mi Bosanske doline\\r\\npored Save zelja da me mine\\r\\n\\nRef.\\r\\nA ja slaba na slabica\\r\\nsto suplja mu je prica\\r\\npa me laze evo noc i dan\\r\\n \\nSlaba na slabica\\r\\nsto nema ni za pica\\r\\nali sta cu kad je lijep ko san\\r\\n\\nAjmo momci\\r\\n\\nNudili mi rasne konje vrane\\r\\ni bogatstvo da ti pamet stane\\r\\nnudili mi trideset salasa\\r\\nda me prati dvijesto tamburasa\\r\\n\\nRef. \\r\\n\\nNudili mi otoke kraj Splita\\r\\ni da Hajduk bude prvak svita\\r\\nnudili mi brda i doline\\r\\na reci Seve sta ti srce zine\\r\\n\\nRef. 2x'],\n",
       "      dtype=object)"
      ]
     },
     "execution_count": 428,
     "metadata": {},
     "output_type": "execute_result"
    }
   ],
   "source": [
    "df[df.Song_ID == '538Exp8s_1_120'].Lyrics_tekstovinet.values"
   ]
  }
 ],
 "metadata": {
  "interpreter": {
   "hash": "e2508fbeaf0035d4c531c3d527c39fb188abce83002e3c53cf0e64c03f8f5210"
  },
  "kernelspec": {
   "display_name": "Python 3.8.3 ('base')",
   "language": "python",
   "name": "python3"
  },
  "language_info": {
   "codemirror_mode": {
    "name": "ipython",
    "version": 3
   },
   "file_extension": ".py",
   "mimetype": "text/x-python",
   "name": "python",
   "nbconvert_exporter": "python",
   "pygments_lexer": "ipython3",
   "version": "3.8.3"
  },
  "orig_nbformat": 4
 },
 "nbformat": 4,
 "nbformat_minor": 2
}
