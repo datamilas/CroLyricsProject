{
 "cells": [
  {
   "cell_type": "code",
   "execution_count": 40,
   "metadata": {},
   "outputs": [],
   "source": [
    "import classla\n",
    "import pandas as pd\n",
    "import numpy as np\n",
    "import re\n",
    "\n",
    "#classla.download('hr')\n",
    "#classla.download('hr', type='nonstandard')"
   ]
  },
  {
   "cell_type": "code",
   "execution_count": 41,
   "metadata": {},
   "outputs": [],
   "source": [
    "def is_float(element):\n",
    "    try:\n",
    "        float(element)\n",
    "        return True\n",
    "    except ValueError:\n",
    "        return False"
   ]
  },
  {
   "cell_type": "code",
   "execution_count": 42,
   "metadata": {},
   "outputs": [],
   "source": [
    "artist_name = \"Plavi Orkestar\"\n",
    "df = pd.read_csv(f'data/{artist_name}_final.csv')\n",
    "\n"
   ]
  },
  {
   "cell_type": "code",
   "execution_count": 43,
   "metadata": {},
   "outputs": [
    {
     "data": {
      "text/plain": [
       "9"
      ]
     },
     "execution_count": 43,
     "metadata": {},
     "output_type": "execute_result"
    }
   ],
   "source": [
    "df.Lyrics_lyricstranslate.isnull().sum()"
   ]
  },
  {
   "cell_type": "code",
   "execution_count": 44,
   "metadata": {},
   "outputs": [
    {
     "data": {
      "text/plain": [
       "7"
      ]
     },
     "execution_count": 44,
     "metadata": {},
     "output_type": "execute_result"
    }
   ],
   "source": [
    "df.Lyrics_lyricstranslate.fillna(df.Lyrics_cuspajz).isnull().sum()\n"
   ]
  },
  {
   "cell_type": "code",
   "execution_count": 45,
   "metadata": {},
   "outputs": [
    {
     "data": {
      "text/plain": [
       "0"
      ]
     },
     "execution_count": 45,
     "metadata": {},
     "output_type": "execute_result"
    }
   ],
   "source": [
    "df.Lyrics_lyricstranslate.fillna(df.Lyrics_cuspajz).fillna(df.Lyrics_tekstovinet).isnull().sum()"
   ]
  },
  {
   "cell_type": "code",
   "execution_count": 46,
   "metadata": {},
   "outputs": [],
   "source": [
    "lyrics_df = df.Lyrics_lyricstranslate.fillna(df.Lyrics_cuspajz).fillna(df.Lyrics_tekstovinet)"
   ]
  },
  {
   "cell_type": "code",
   "execution_count": 47,
   "metadata": {},
   "outputs": [],
   "source": [
    "song_df = df.Song_lyricstranslate.fillna(df.Song_cuspajz).fillna(df.Song_tekstovinet)"
   ]
  },
  {
   "cell_type": "code",
   "execution_count": 48,
   "metadata": {},
   "outputs": [],
   "source": [
    "lyrics = [l.splitlines() for l in lyrics_df]"
   ]
  },
  {
   "cell_type": "code",
   "execution_count": 49,
   "metadata": {},
   "outputs": [],
   "source": [
    "all_lyrics = [\", \".join(l) for l in lyrics if \"https:\" not in l]# and is_float(l[0])]"
   ]
  },
  {
   "cell_type": "code",
   "execution_count": 50,
   "metadata": {},
   "outputs": [],
   "source": [
    "ref = re.compile(re.escape('ref '), re.IGNORECASE)\n",
    "ref = re.compile(re.escape('ref. '), re.IGNORECASE)\n",
    "refren = re.compile(re.escape('refren'), re.IGNORECASE)\n",
    "pripjev = re.compile(re.escape('pripjev'), re.IGNORECASE)"
   ]
  },
  {
   "cell_type": "code",
   "execution_count": 51,
   "metadata": {},
   "outputs": [],
   "source": [
    "corrected_lyrics=[]\n",
    "for l in all_lyrics:\n",
    "    l = ref.sub('', l)\n",
    "    l = refren.sub('', l)\n",
    "    l = pripjev.sub('', l)\n",
    "    l = re.sub(\"\\dx\", \"\", l)\n",
    "    l = re.sub(\"x\\d\", \"\", l)\n",
    "    l = re.sub(\" ,\", \"\", l)\n",
    "    l = re.sub(\" ,\", \"\", l)\n",
    "    l = re.sub(\" \\.\", \"\", l)\n",
    "    l = re.sub(\" ,\", \"\", l)\n",
    "    #l = re.sub(\"\\.,\", \". \", l)\n",
    "    #l = re.sub(\",.\", \".\", l)\n",
    "\n",
    "    \n",
    "    corrected_lyrics.append(l)\n"
   ]
  },
  {
   "cell_type": "code",
   "execution_count": 52,
   "metadata": {},
   "outputs": [
    {
     "name": "stderr",
     "output_type": "stream",
     "text": [
      "2022-02-21 13:51:27 INFO: Loading these models for language: hr (Croatian):\n",
      "===========================\n",
      "| Processor | Package     |\n",
      "---------------------------\n",
      "| tokenize  | nonstandard |\n",
      "| pos       | nonstandard |\n",
      "| lemma     | nonstandard |\n",
      "| depparse  | standard    |\n",
      "| ner       | nonstandard |\n",
      "===========================\n",
      "\n",
      "2022-02-21 13:51:27 INFO: Use device: cpu\n",
      "2022-02-21 13:51:27 INFO: Loading: tokenize\n",
      "2022-02-21 13:51:27 INFO: Loading: pos\n",
      "2022-02-21 13:51:32 INFO: Loading: lemma\n",
      "2022-02-21 13:51:54 INFO: Loading: depparse\n",
      "2022-02-21 13:51:58 INFO: Loading: ner\n",
      "2022-02-21 13:51:58 INFO: Done loading processors!\n"
     ]
    }
   ],
   "source": [
    "#classla.download('hr', type='nonstandard')\n",
    "nlp = classla.Pipeline('hr', type='nonstandard') # run classla.download('hr', type='nonstandard') beforehand if necessary\n",
    "#doc = nlp(\".\".join(corrected_lyrics))\n",
    "\n"
   ]
  },
  {
   "cell_type": "code",
   "execution_count": 53,
   "metadata": {},
   "outputs": [],
   "source": [
    "df_nlp = pd.DataFrame()\n",
    "\n",
    "for cl, song, song_id in zip(corrected_lyrics, song_df, df[\"Song_ID\"].values):\n",
    "\n",
    "    doc = nlp(cl)\n",
    "    doc_dict = doc.to_dict()\n",
    "\n",
    "    #df_song = pd.DataFrame([doc_dict[i][0] for i, _ in enumerate(doc_dict)]).transpose()\n",
    "    sentences = [doc_dict[i][0] for i, _ in enumerate(doc_dict)]\n",
    "    df_song = pd.DataFrame(sentences[0])\n",
    "    for sentence in sentences[1:]:\n",
    "        df_song = pd.concat([df_song, pd.DataFrame(sentence)])\n",
    "\n",
    "    df_song[\"Song\"] = song \n",
    "    df_song[\"Song_ID\"] = song_id\n",
    "    df_nlp = pd.concat([df_nlp, df_song])"
   ]
  },
  {
   "cell_type": "code",
   "execution_count": 54,
   "metadata": {},
   "outputs": [],
   "source": [
    "df_nlp.reset_index(drop=True, inplace=True)"
   ]
  },
  {
   "cell_type": "code",
   "execution_count": 55,
   "metadata": {},
   "outputs": [
    {
     "data": {
      "text/html": [
       "<div>\n",
       "<style scoped>\n",
       "    .dataframe tbody tr th:only-of-type {\n",
       "        vertical-align: middle;\n",
       "    }\n",
       "\n",
       "    .dataframe tbody tr th {\n",
       "        vertical-align: top;\n",
       "    }\n",
       "\n",
       "    .dataframe thead th {\n",
       "        text-align: right;\n",
       "    }\n",
       "</style>\n",
       "<table border=\"1\" class=\"dataframe\">\n",
       "  <thead>\n",
       "    <tr style=\"text-align: right;\">\n",
       "      <th></th>\n",
       "      <th>id</th>\n",
       "      <th>text</th>\n",
       "      <th>lemma</th>\n",
       "      <th>upos</th>\n",
       "      <th>xpos</th>\n",
       "      <th>feats</th>\n",
       "      <th>head</th>\n",
       "      <th>deprel</th>\n",
       "      <th>ner</th>\n",
       "      <th>misc</th>\n",
       "      <th>Song</th>\n",
       "      <th>Song_ID</th>\n",
       "    </tr>\n",
       "  </thead>\n",
       "  <tbody>\n",
       "    <tr>\n",
       "      <th>0</th>\n",
       "      <td>1</td>\n",
       "      <td>Nisam</td>\n",
       "      <td>biti</td>\n",
       "      <td>AUX</td>\n",
       "      <td>Var1s</td>\n",
       "      <td>Mood=Ind|Number=Sing|Person=1|Tense=Pres|VerbF...</td>\n",
       "      <td>2</td>\n",
       "      <td>cop</td>\n",
       "      <td>O</td>\n",
       "      <td>NaN</td>\n",
       "      <td>(R)evolucija</td>\n",
       "      <td>EOkBEcEU_1_0</td>\n",
       "    </tr>\n",
       "    <tr>\n",
       "      <th>1</th>\n",
       "      <td>2</td>\n",
       "      <td>spreman</td>\n",
       "      <td>spreman</td>\n",
       "      <td>ADJ</td>\n",
       "      <td>Agpmsnn</td>\n",
       "      <td>Case=Nom|Definite=Ind|Degree=Pos|Gender=Masc|N...</td>\n",
       "      <td>0</td>\n",
       "      <td>root</td>\n",
       "      <td>O</td>\n",
       "      <td>NaN</td>\n",
       "      <td>(R)evolucija</td>\n",
       "      <td>EOkBEcEU_1_0</td>\n",
       "    </tr>\n",
       "    <tr>\n",
       "      <th>2</th>\n",
       "      <td>3</td>\n",
       "      <td>vise</td>\n",
       "      <td>mnogo</td>\n",
       "      <td>ADV</td>\n",
       "      <td>Rgc</td>\n",
       "      <td>Degree=Cmp</td>\n",
       "      <td>2</td>\n",
       "      <td>advmod</td>\n",
       "      <td>O</td>\n",
       "      <td>NaN</td>\n",
       "      <td>(R)evolucija</td>\n",
       "      <td>EOkBEcEU_1_0</td>\n",
       "    </tr>\n",
       "    <tr>\n",
       "      <th>3</th>\n",
       "      <td>4</td>\n",
       "      <td>za</td>\n",
       "      <td>za</td>\n",
       "      <td>ADP</td>\n",
       "      <td>Sa</td>\n",
       "      <td>Case=Acc</td>\n",
       "      <td>5</td>\n",
       "      <td>case</td>\n",
       "      <td>O</td>\n",
       "      <td>NaN</td>\n",
       "      <td>(R)evolucija</td>\n",
       "      <td>EOkBEcEU_1_0</td>\n",
       "    </tr>\n",
       "    <tr>\n",
       "      <th>4</th>\n",
       "      <td>5</td>\n",
       "      <td>parole</td>\n",
       "      <td>parola</td>\n",
       "      <td>NOUN</td>\n",
       "      <td>Ncfpa</td>\n",
       "      <td>Case=Acc|Gender=Fem|Number=Plur</td>\n",
       "      <td>2</td>\n",
       "      <td>obl</td>\n",
       "      <td>O</td>\n",
       "      <td>SpaceAfter=No</td>\n",
       "      <td>(R)evolucija</td>\n",
       "      <td>EOkBEcEU_1_0</td>\n",
       "    </tr>\n",
       "    <tr>\n",
       "      <th>...</th>\n",
       "      <td>...</td>\n",
       "      <td>...</td>\n",
       "      <td>...</td>\n",
       "      <td>...</td>\n",
       "      <td>...</td>\n",
       "      <td>...</td>\n",
       "      <td>...</td>\n",
       "      <td>...</td>\n",
       "      <td>...</td>\n",
       "      <td>...</td>\n",
       "      <td>...</td>\n",
       "      <td>...</td>\n",
       "    </tr>\n",
       "    <tr>\n",
       "      <th>11748</th>\n",
       "      <td>23</td>\n",
       "      <td>nadam</td>\n",
       "      <td>nadati</td>\n",
       "      <td>VERB</td>\n",
       "      <td>Vmr1s</td>\n",
       "      <td>Mood=Ind|Number=Sing|Person=1|Tense=Pres|VerbF...</td>\n",
       "      <td>20</td>\n",
       "      <td>ccomp</td>\n",
       "      <td>O</td>\n",
       "      <td>SpaceAfter=No</td>\n",
       "      <td>Zivot nije bajka</td>\n",
       "      <td>EOkBEcEU_1_82</td>\n",
       "    </tr>\n",
       "    <tr>\n",
       "      <th>11749</th>\n",
       "      <td>24</td>\n",
       "      <td>,</td>\n",
       "      <td>,</td>\n",
       "      <td>PUNCT</td>\n",
       "      <td>Z</td>\n",
       "      <td>NaN</td>\n",
       "      <td>27</td>\n",
       "      <td>punct</td>\n",
       "      <td>O</td>\n",
       "      <td>NaN</td>\n",
       "      <td>Zivot nije bajka</td>\n",
       "      <td>EOkBEcEU_1_82</td>\n",
       "    </tr>\n",
       "    <tr>\n",
       "      <th>11750</th>\n",
       "      <td>25</td>\n",
       "      <td>sve</td>\n",
       "      <td>sve</td>\n",
       "      <td>PART</td>\n",
       "      <td>Qo</td>\n",
       "      <td>NaN</td>\n",
       "      <td>26</td>\n",
       "      <td>discourse</td>\n",
       "      <td>O</td>\n",
       "      <td>NaN</td>\n",
       "      <td>Zivot nije bajka</td>\n",
       "      <td>EOkBEcEU_1_82</td>\n",
       "    </tr>\n",
       "    <tr>\n",
       "      <th>11751</th>\n",
       "      <td>26</td>\n",
       "      <td>do</td>\n",
       "      <td>do</td>\n",
       "      <td>ADP</td>\n",
       "      <td>Sg</td>\n",
       "      <td>Case=Gen</td>\n",
       "      <td>27</td>\n",
       "      <td>case</td>\n",
       "      <td>O</td>\n",
       "      <td>NaN</td>\n",
       "      <td>Zivot nije bajka</td>\n",
       "      <td>EOkBEcEU_1_82</td>\n",
       "    </tr>\n",
       "    <tr>\n",
       "      <th>11752</th>\n",
       "      <td>27</td>\n",
       "      <td>dna</td>\n",
       "      <td>dno</td>\n",
       "      <td>NOUN</td>\n",
       "      <td>Ncnsg</td>\n",
       "      <td>Case=Gen|Gender=Neut|Number=Sing</td>\n",
       "      <td>23</td>\n",
       "      <td>obl</td>\n",
       "      <td>O</td>\n",
       "      <td>NaN</td>\n",
       "      <td>Zivot nije bajka</td>\n",
       "      <td>EOkBEcEU_1_82</td>\n",
       "    </tr>\n",
       "  </tbody>\n",
       "</table>\n",
       "<p>11753 rows × 12 columns</p>\n",
       "</div>"
      ],
      "text/plain": [
       "       id     text    lemma   upos     xpos  \\\n",
       "0       1    Nisam     biti    AUX    Var1s   \n",
       "1       2  spreman  spreman    ADJ  Agpmsnn   \n",
       "2       3     vise    mnogo    ADV      Rgc   \n",
       "3       4       za       za    ADP       Sa   \n",
       "4       5   parole   parola   NOUN    Ncfpa   \n",
       "...    ..      ...      ...    ...      ...   \n",
       "11748  23    nadam   nadati   VERB    Vmr1s   \n",
       "11749  24        ,        ,  PUNCT        Z   \n",
       "11750  25      sve      sve   PART       Qo   \n",
       "11751  26       do       do    ADP       Sg   \n",
       "11752  27      dna      dno   NOUN    Ncnsg   \n",
       "\n",
       "                                                   feats  head     deprel ner  \\\n",
       "0      Mood=Ind|Number=Sing|Person=1|Tense=Pres|VerbF...     2        cop   O   \n",
       "1      Case=Nom|Definite=Ind|Degree=Pos|Gender=Masc|N...     0       root   O   \n",
       "2                                             Degree=Cmp     2     advmod   O   \n",
       "3                                               Case=Acc     5       case   O   \n",
       "4                        Case=Acc|Gender=Fem|Number=Plur     2        obl   O   \n",
       "...                                                  ...   ...        ...  ..   \n",
       "11748  Mood=Ind|Number=Sing|Person=1|Tense=Pres|VerbF...    20      ccomp   O   \n",
       "11749                                                NaN    27      punct   O   \n",
       "11750                                                NaN    26  discourse   O   \n",
       "11751                                           Case=Gen    27       case   O   \n",
       "11752                   Case=Gen|Gender=Neut|Number=Sing    23        obl   O   \n",
       "\n",
       "                misc              Song        Song_ID  \n",
       "0                NaN      (R)evolucija   EOkBEcEU_1_0  \n",
       "1                NaN      (R)evolucija   EOkBEcEU_1_0  \n",
       "2                NaN      (R)evolucija   EOkBEcEU_1_0  \n",
       "3                NaN      (R)evolucija   EOkBEcEU_1_0  \n",
       "4      SpaceAfter=No      (R)evolucija   EOkBEcEU_1_0  \n",
       "...              ...               ...            ...  \n",
       "11748  SpaceAfter=No  Zivot nije bajka  EOkBEcEU_1_82  \n",
       "11749            NaN  Zivot nije bajka  EOkBEcEU_1_82  \n",
       "11750            NaN  Zivot nije bajka  EOkBEcEU_1_82  \n",
       "11751            NaN  Zivot nije bajka  EOkBEcEU_1_82  \n",
       "11752            NaN  Zivot nije bajka  EOkBEcEU_1_82  \n",
       "\n",
       "[11753 rows x 12 columns]"
      ]
     },
     "execution_count": 55,
     "metadata": {},
     "output_type": "execute_result"
    }
   ],
   "source": [
    "df_nlp"
   ]
  },
  {
   "cell_type": "code",
   "execution_count": 56,
   "metadata": {},
   "outputs": [],
   "source": [
    "pos_tags = \"ADJ – ADP – ADV – AUX – CCONJ – DET – INTJ – NOUN – NUM – PART – PRON – PROPN – PUNCT – SCONJ – SYM – VERB – X\".split(\" – \")\n",
    "relations = \"acl – advcl – advmod – advmod:emph – amod – appos – aux – case – cc – ccomp – compound – conj – cop – csubj – dep – det – det:numgov – discourse – dislocated – expl – fixed – flat – flat:foreign – iobj – list – mark – nmod – nsubj – nummod – obj – obl – orphan – parataxis – punct – root – vocative – xcomp\".split(\" – \")\n",
    "word_features = \"Animacy – Case – Definite – Degree – Foreign – Gender – Gender[psor] – Mood – Number – Number[psor] – NumType – Person – Polarity – Poss – PronType – Reflex – Tense – VerbForm – Voice\".split(\" – \")"
   ]
  },
  {
   "cell_type": "code",
   "execution_count": 57,
   "metadata": {},
   "outputs": [],
   "source": [
    "features_df = pd.DataFrame()\n",
    "rows = df_nlp.feats.str.split(\"|\").to_list()"
   ]
  },
  {
   "cell_type": "code",
   "execution_count": 58,
   "metadata": {},
   "outputs": [],
   "source": [
    "for i, row in enumerate(rows):\n",
    "    if not type(row) == float:\n",
    "        for f in row:\n",
    "            features_df.loc[i, f[0:f.index(\"=\")]] = f[f.index(\"=\")+1:]\n"
   ]
  },
  {
   "cell_type": "code",
   "execution_count": 59,
   "metadata": {},
   "outputs": [],
   "source": [
    "df_nlp = df_nlp.join(features_df)"
   ]
  },
  {
   "cell_type": "code",
   "execution_count": null,
   "metadata": {},
   "outputs": [],
   "source": []
  },
  {
   "cell_type": "code",
   "execution_count": 60,
   "metadata": {},
   "outputs": [],
   "source": [
    "df_nlp.to_csv(f\"{artist_name}_nlp.csv\")"
   ]
  },
  {
   "cell_type": "code",
   "execution_count": 61,
   "metadata": {},
   "outputs": [
    {
     "data": {
      "text/plain": [
       "Index(['id', 'text', 'lemma', 'upos', 'xpos', 'feats', 'head', 'deprel', 'ner',\n",
       "       'misc', 'Song', 'Song_ID', 'Mood', 'Number', 'Person', 'Tense',\n",
       "       'VerbForm', 'Case', 'Definite', 'Degree', 'Gender', 'PronType',\n",
       "       'Reflex', 'Polarity', 'Number[psor]', 'Poss', 'Animacy', 'Voice',\n",
       "       'NumType', 'Gender[psor]', 'Foreign'],\n",
       "      dtype='object')"
      ]
     },
     "execution_count": 61,
     "metadata": {},
     "output_type": "execute_result"
    }
   ],
   "source": [
    "df_nlp.columns"
   ]
  },
  {
   "cell_type": "code",
   "execution_count": 62,
   "metadata": {},
   "outputs": [
    {
     "data": {
      "text/plain": [
       "array(['1', nan, '3', '2'], dtype=object)"
      ]
     },
     "execution_count": 62,
     "metadata": {},
     "output_type": "execute_result"
    }
   ],
   "source": [
    "df_nlp.Person.unique()"
   ]
  },
  {
   "cell_type": "code",
   "execution_count": 63,
   "metadata": {},
   "outputs": [
    {
     "data": {
      "text/plain": [
       "da    2\n",
       "Name: lemma, dtype: int64"
      ]
     },
     "execution_count": 63,
     "metadata": {},
     "output_type": "execute_result"
    }
   ],
   "source": [
    "df_nlp[(df_nlp.Polarity==\"Pos\")][\"lemma\"].value_counts()[0:10]"
   ]
  },
  {
   "cell_type": "code",
   "execution_count": 64,
   "metadata": {},
   "outputs": [
    {
     "data": {
      "text/plain": [
       "array(['O', 'B-PER', 'B-ORG', 'B-LOC', 'I-PER', 'B-DERIV-PER', 'B-MISC',\n",
       "       'I-MISC', 'I-LOC', 'I-ORG'], dtype=object)"
      ]
     },
     "execution_count": 64,
     "metadata": {},
     "output_type": "execute_result"
    }
   ],
   "source": [
    "df_nlp.ner.unique()"
   ]
  },
  {
   "cell_type": "code",
   "execution_count": 65,
   "metadata": {},
   "outputs": [
    {
     "data": {
      "text/plain": [
       "Sava         4\n",
       "Amerika      3\n",
       "Hvar         3\n",
       "sad          2\n",
       "Triglav      2\n",
       "prohladan    1\n",
       "Čitluk       1\n",
       "Neum         1\n",
       "Višnjik      1\n",
       "Vardar       1\n",
       "Name: lemma, dtype: int64"
      ]
     },
     "execution_count": 65,
     "metadata": {},
     "output_type": "execute_result"
    }
   ],
   "source": [
    "df_nlp[(df_nlp.ner==\"B-LOC\")][\"lemma\"].value_counts()[0:10]"
   ]
  },
  {
   "cell_type": "code",
   "execution_count": 66,
   "metadata": {},
   "outputs": [
    {
     "data": {
      "text/plain": [
       "Stambol     3\n",
       "živjeti     2\n",
       "Facebook    1\n",
       "Name: lemma, dtype: int64"
      ]
     },
     "execution_count": 66,
     "metadata": {},
     "output_type": "execute_result"
    }
   ],
   "source": [
    "df_nlp[(df_nlp.ner==\"B-ORG\")][\"lemma\"].value_counts()[0:10]"
   ]
  },
  {
   "cell_type": "code",
   "execution_count": 67,
   "metadata": {},
   "outputs": [
    {
     "data": {
      "text/plain": [
       "KAJA           8\n",
       "Bog            8\n",
       "Pešta          6\n",
       "Bečlija        6\n",
       "Mladen         6\n",
       "Beograđanka    4\n",
       "kaja           4\n",
       "Azra           3\n",
       "Stambol        3\n",
       "Krajina        2\n",
       "Name: lemma, dtype: int64"
      ]
     },
     "execution_count": 67,
     "metadata": {},
     "output_type": "execute_result"
    }
   ],
   "source": [
    "df_nlp[(df_nlp.ner==\"B-PER\")][\"lemma\"].value_counts()[0:10]"
   ]
  },
  {
   "cell_type": "code",
   "execution_count": 68,
   "metadata": {},
   "outputs": [
    {
     "data": {
      "text/plain": [
       "array(['AUX', 'ADJ', 'ADV', 'ADP', 'NOUN', 'PUNCT', 'CCONJ', 'SCONJ',\n",
       "       'VERB', 'PRON', 'DET', 'PART', 'PROPN', 'INTJ', 'NUM', 'X'],\n",
       "      dtype=object)"
      ]
     },
     "execution_count": 68,
     "metadata": {},
     "output_type": "execute_result"
    }
   ],
   "source": [
    "df_nlp.upos.unique()"
   ]
  },
  {
   "cell_type": "code",
   "execution_count": 69,
   "metadata": {},
   "outputs": [
    {
     "data": {
      "text/plain": [
       "Series([], Name: lemma, dtype: int64)"
      ]
     },
     "execution_count": 69,
     "metadata": {},
     "output_type": "execute_result"
    }
   ],
   "source": [
    "df_nlp[(df_nlp.upos==\"SYM\")][\"lemma\"].value_counts()[0:10]"
   ]
  },
  {
   "cell_type": "code",
   "execution_count": 70,
   "metadata": {},
   "outputs": [
    {
     "data": {
      "text/plain": [
       "Ref            9\n",
       "KAJA           8\n",
       "Bog            8\n",
       "Pešta          6\n",
       "Bečlija        6\n",
       "Mladen         6\n",
       "Stambol        6\n",
       "Azra           6\n",
       "po             5\n",
       "Beograđanka    4\n",
       "Name: lemma, dtype: int64"
      ]
     },
     "execution_count": 70,
     "metadata": {},
     "output_type": "execute_result"
    }
   ],
   "source": [
    "df_nlp[(df_nlp.upos==\"PROPN\")][\"lemma\"].value_counts()[0:10]"
   ]
  },
  {
   "cell_type": "code",
   "execution_count": 71,
   "metadata": {},
   "outputs": [
    {
     "data": {
      "text/plain": [
       "Series([], Name: Song, dtype: object)"
      ]
     },
     "execution_count": 71,
     "metadata": {},
     "output_type": "execute_result"
    }
   ],
   "source": [
    "df_nlp[df_nlp.lemma==\"Zorz\"].Song"
   ]
  },
  {
   "cell_type": "code",
   "execution_count": null,
   "metadata": {},
   "outputs": [],
   "source": []
  },
  {
   "cell_type": "code",
   "execution_count": 72,
   "metadata": {},
   "outputs": [
    {
     "data": {
      "text/plain": [
       "znati      67\n",
       "voljeti    59\n",
       "moći       46\n",
       "dati       41\n",
       "doći       31\n",
       "ljubiti    28\n",
       "otići      27\n",
       "nemati     25\n",
       "čekati     23\n",
       "vratiti    22\n",
       "Name: lemma, dtype: int64"
      ]
     },
     "execution_count": 72,
     "metadata": {},
     "output_type": "execute_result"
    }
   ],
   "source": [
    "df_nlp[(df_nlp.upos==\"VERB\")][\"lemma\"].value_counts()[0:10]"
   ]
  },
  {
   "cell_type": "code",
   "execution_count": 73,
   "metadata": {},
   "outputs": [
    {
     "data": {
      "text/plain": [
       "dan       51\n",
       "ljubav    43\n",
       "život     41\n",
       "oko       39\n",
       "srce      38\n",
       "noć       33\n",
       "drug      24\n",
       "čovjek    20\n",
       "tuga      20\n",
       "kuća      18\n",
       "Name: lemma, dtype: int64"
      ]
     },
     "execution_count": 73,
     "metadata": {},
     "output_type": "execute_result"
    }
   ],
   "source": [
    "df_nlp[(df_nlp.upos==\"NOUN\")][\"lemma\"].value_counts()[0:10]"
   ]
  },
  {
   "cell_type": "code",
   "execution_count": 88,
   "metadata": {},
   "outputs": [
    {
     "data": {
      "text/plain": [
       "array([], dtype=object)"
      ]
     },
     "execution_count": 88,
     "metadata": {},
     "output_type": "execute_result"
    }
   ],
   "source": [
    "df_nlp[df_nlp.lemma==\"vojska\"].Song.unique()"
   ]
  },
  {
   "cell_type": "code",
   "execution_count": 80,
   "metadata": {},
   "outputs": [
    {
     "data": {
      "text/plain": [
       "array(['EOkBEcEU_1_6', 'EOkBEcEU_1_8', 'EOkBEcEU_1_12', 'EOkBEcEU_1_19',\n",
       "       'EOkBEcEU_1_31', 'EOkBEcEU_1_45', 'EOkBEcEU_1_48', 'EOkBEcEU_1_62',\n",
       "       'EOkBEcEU_1_69', 'EOkBEcEU_1_78'], dtype=object)"
      ]
     },
     "execution_count": 80,
     "metadata": {},
     "output_type": "execute_result"
    }
   ],
   "source": [
    "df_nlp[df_nlp.lemma==\"tuga\"].Song_ID.unique()"
   ]
  },
  {
   "cell_type": "code",
   "execution_count": 86,
   "metadata": {},
   "outputs": [
    {
     "data": {
      "text/plain": [
       "array([\"Ti si zadnja misao pred san\\r\\ni prva kad se probudim\\r\\nkako sporo prolazi mi dan\\r\\nkad nemam sta da izgubim\\r\\n\\nLjubav putuje\\r\\nal' nekom drugom odlazi\\r\\nljubav putuje\\r\\ntu ne postoje razlozi\\r\\n \\nRef.\\r\\nKad me pozdravis, ti i ne slutis\\r\\nod tvog osmijeha ja zivim danima\\r\\nali sta to sada vrijedi\\r\\ntaj biser u nizu\\r\\nto je samo sjaj u bijedi\\r\\nkad nisam ti blizu\\r\\n\\nTi si zadnja misao pred san\\r\\ni prva kad se probudim\\r\\nkako sporo prolazi mi dan\\r\\nkad nemam sta da izgubim\\r\\n\\nTuga putuje\\r\\npred mojim srcem zakoci\\r\\ntuga putuje\\r\\ntu razum nece pomoci\\r\\n\\nRef.\"],\n",
       "      dtype=object)"
      ]
     },
     "execution_count": 86,
     "metadata": {},
     "output_type": "execute_result"
    }
   ],
   "source": [
    "df[df.Song_ID == \"EOkBEcEU_1_6\"].Lyrics_tekstovinet.values"
   ]
  },
  {
   "cell_type": "code",
   "execution_count": 74,
   "metadata": {},
   "outputs": [],
   "source": [
    "df_nlp.to_csv(f\"{artist_name}_nlp.csv\", index=False)"
   ]
  },
  {
   "cell_type": "code",
   "execution_count": 103,
   "metadata": {},
   "outputs": [],
   "source": [
    "artist_name = \"Magazin\"\n",
    "df_nlp_load = pd.read_csv(f\"{artist_name}_nlp.csv\")"
   ]
  },
  {
   "cell_type": "code",
   "execution_count": 101,
   "metadata": {},
   "outputs": [],
   "source": [
    "artist_name = \"Magazin\"\n",
    "df_load = pd.read_csv(f\"data/{artist_name}_final.csv\")"
   ]
  },
  {
   "cell_type": "code",
   "execution_count": 118,
   "metadata": {},
   "outputs": [
    {
     "data": {
      "text/plain": [
       "array(['Kunigunda'], dtype=object)"
      ]
     },
     "execution_count": 118,
     "metadata": {},
     "output_type": "execute_result"
    }
   ],
   "source": [
    "df_nlp_load[df_nlp_load.lemma==\"Ana\"].Song.unique()"
   ]
  },
  {
   "cell_type": "code",
   "execution_count": 105,
   "metadata": {},
   "outputs": [
    {
     "ename": "AttributeError",
     "evalue": "'DataFrame' object has no attribute 'Song_ID'",
     "output_type": "error",
     "traceback": [
      "\u001b[1;31m---------------------------------------------------------------------------\u001b[0m",
      "\u001b[1;31mAttributeError\u001b[0m                            Traceback (most recent call last)",
      "\u001b[1;32m<ipython-input-105-05bfaf019e93>\u001b[0m in \u001b[0;36m<module>\u001b[1;34m\u001b[0m\n\u001b[1;32m----> 1\u001b[1;33m \u001b[0mdf_nlp_load\u001b[0m\u001b[1;33m[\u001b[0m\u001b[0mdf_nlp_load\u001b[0m\u001b[1;33m.\u001b[0m\u001b[0mlemma\u001b[0m\u001b[1;33m==\u001b[0m\u001b[1;34m\"vojska\"\u001b[0m\u001b[1;33m]\u001b[0m\u001b[1;33m.\u001b[0m\u001b[0mSong_ID\u001b[0m\u001b[1;33m.\u001b[0m\u001b[0munique\u001b[0m\u001b[1;33m(\u001b[0m\u001b[1;33m)\u001b[0m\u001b[1;33m\u001b[0m\u001b[1;33m\u001b[0m\u001b[0m\n\u001b[0m",
      "\u001b[1;32mC:\\Python\\Python38\\lib\\site-packages\\pandas\\core\\generic.py\u001b[0m in \u001b[0;36m__getattr__\u001b[1;34m(self, name)\u001b[0m\n\u001b[0;32m   5476\u001b[0m         ):\n\u001b[0;32m   5477\u001b[0m             \u001b[1;32mreturn\u001b[0m \u001b[0mself\u001b[0m\u001b[1;33m[\u001b[0m\u001b[0mname\u001b[0m\u001b[1;33m]\u001b[0m\u001b[1;33m\u001b[0m\u001b[1;33m\u001b[0m\u001b[0m\n\u001b[1;32m-> 5478\u001b[1;33m         \u001b[1;32mreturn\u001b[0m \u001b[0mobject\u001b[0m\u001b[1;33m.\u001b[0m\u001b[0m__getattribute__\u001b[0m\u001b[1;33m(\u001b[0m\u001b[0mself\u001b[0m\u001b[1;33m,\u001b[0m \u001b[0mname\u001b[0m\u001b[1;33m)\u001b[0m\u001b[1;33m\u001b[0m\u001b[1;33m\u001b[0m\u001b[0m\n\u001b[0m\u001b[0;32m   5479\u001b[0m \u001b[1;33m\u001b[0m\u001b[0m\n\u001b[0;32m   5480\u001b[0m     \u001b[1;32mdef\u001b[0m \u001b[0m__setattr__\u001b[0m\u001b[1;33m(\u001b[0m\u001b[0mself\u001b[0m\u001b[1;33m,\u001b[0m \u001b[0mname\u001b[0m\u001b[1;33m:\u001b[0m \u001b[0mstr\u001b[0m\u001b[1;33m,\u001b[0m \u001b[0mvalue\u001b[0m\u001b[1;33m)\u001b[0m \u001b[1;33m->\u001b[0m \u001b[1;32mNone\u001b[0m\u001b[1;33m:\u001b[0m\u001b[1;33m\u001b[0m\u001b[1;33m\u001b[0m\u001b[0m\n",
      "\u001b[1;31mAttributeError\u001b[0m: 'DataFrame' object has no attribute 'Song_ID'"
     ]
    }
   ],
   "source": [
    "df_nlp_load[df_nlp_load.lemma==\"vojska\"].Song_ID.unique()"
   ]
  },
  {
   "cell_type": "code",
   "execution_count": 100,
   "metadata": {},
   "outputs": [
    {
     "data": {
      "text/plain": [
       "array(['Od vremena jos od Krista\\r\\nnova lica, scena ista\\r\\nvrazje sile se trude\\r\\nda nas ne bude\\r\\n\\nAntikristi i masoni\\r\\nkomunisti ovi, oni\\r\\nsire sotonske fraze\\r\\nda nas poraze\\r\\ne, moj narode, e, moj narode\\r\\n \\nA mi gluhi, nijemi, slijepi\\r\\nsvatko u svom mraku strepi\\r\\nnarod biran od Boga\\r\\ngusi nesloga\\r\\n\\nIz povijesti nase slavne\\r\\na i ove ne bas davne\\r\\nsve smo sto nam je vrijedno\\r\\nstekli zajedno\\r\\ne, moj narode, e, moj narode\\r\\n\\nRef.\\r\\n    Uzmimo u ruke sudbinu i srecu\\r\\n   ni ja vise tako ne mogu ni necu\\r\\n    uzmimo u ruke sudbinu i srecu\\r\\n    e, moj narode, e, moj narode\\r\\n\\nGeneracije junaka\\r\\ni pobjednicka vojska jaka\\r\\njos se brine i gine\\r\\nzbog domovine\\r\\n\\nS nebeskih tih visina\\r\\ndaj nam Boze opet sina\\r\\nda nas vodi iz bijede\\r\\nsve do pobjede, e moj narode\\r\\n\\n   Ref.'],\n",
       "      dtype=object)"
      ]
     },
     "execution_count": 100,
     "metadata": {},
     "output_type": "execute_result"
    }
   ],
   "source": [
    "df_load[df_load.Song_ID == \"Wm5tG4b5_1_19\"].Lyrics_tekstovinet.values"
   ]
  },
  {
   "cell_type": "code",
   "execution_count": 119,
   "metadata": {},
   "outputs": [
    {
     "data": {
      "text/plain": [
       "array([\"Nije da necu, ma bas bi' htio\\r\\nime je, eto, nezgodno malo\\r\\nnemam za njega bas prikladne rime\\r\\nti odmah mislis da nije mi stalo\\r\\n\\nDa si bar Ana, Marija, Tanja\\r\\nnesreca odmah bila bi manja\\r\\ncak da si neka Selma il' Kate\\r\\nopet bi' nesto lako smislio za te\\r\\n \\nRef.\\r\\nKu, Ku, Kunigunda\\r\\nzbog imena mi zvoca i brunda\\r\\nKu, Ku, Kunigunda\\r\\nmuci me time da nadjem mu rime\\r\\n\\nKu, Ku, Kunigunda\\r\\nma kad bi htjela da se strpi\\r\\nstvar vec hoda jer za par dana\\r\\nstizu rime iz Japana\\r\\n\\nPostaje teze zivjeti s njom\\r\\ngrozi se, prijeti, ucinit' ce lom\\r\\ndig'o bi' pozdrav peru papiru\\r\\nma kad bi htjela barem pustit' me na miru\\r\\n\\nDa sam bar Ana, Marija, Tanja\\r\\nnesreca odmah bila bi manja\\r\\ncak da sam neka Selma il' Kate\\r\\nopet bi' nesto lako smislio za te\\r\\n\\nRef. 2x\"],\n",
       "      dtype=object)"
      ]
     },
     "execution_count": 119,
     "metadata": {},
     "output_type": "execute_result"
    }
   ],
   "source": [
    "df_load[df_load.Song_tekstovinet == \"Kunigunda\"].Lyrics_tekstovinet.values"
   ]
  }
 ],
 "metadata": {
  "interpreter": {
   "hash": "e2508fbeaf0035d4c531c3d527c39fb188abce83002e3c53cf0e64c03f8f5210"
  },
  "kernelspec": {
   "display_name": "Python 3.8.3 ('base')",
   "language": "python",
   "name": "python3"
  },
  "language_info": {
   "codemirror_mode": {
    "name": "ipython",
    "version": 3
   },
   "file_extension": ".py",
   "mimetype": "text/x-python",
   "name": "python",
   "nbconvert_exporter": "python",
   "pygments_lexer": "ipython3",
   "version": "3.8.1"
  },
  "orig_nbformat": 4
 },
 "nbformat": 4,
 "nbformat_minor": 2
}
