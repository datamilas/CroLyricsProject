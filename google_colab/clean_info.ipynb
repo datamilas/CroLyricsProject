{
  "nbformat": 4,
  "nbformat_minor": 0,
  "metadata": {
    "colab": {
      "name": "clean_info.ipynb",
      "provenance": [],
      "collapsed_sections": [],
      "authorship_tag": "ABX9TyM/WzlINHsNPushgYYjqQwg",
      "include_colab_link": true
    },
    "kernelspec": {
      "name": "python3",
      "display_name": "Python 3"
    },
    "language_info": {
      "name": "python"
    }
  },
  "cells": [
    {
      "cell_type": "markdown",
      "metadata": {
        "id": "view-in-github",
        "colab_type": "text"
      },
      "source": [
        "<a href=\"https://colab.research.google.com/github/datamilas/CroLyricsProject/blob/master/google_colab/clean_info.ipynb\" target=\"_parent\"><img src=\"https://colab.research.google.com/assets/colab-badge.svg\" alt=\"Open In Colab\"/></a>"
      ]
    },
    {
      "cell_type": "code",
      "execution_count": 149,
      "metadata": {
        "id": "X_6tLpceriNx"
      },
      "outputs": [],
      "source": [
        "import pandas as pd\n",
        "from os import path\n",
        "import numpy as np"
      ]
    },
    {
      "cell_type": "code",
      "source": [
        ""
      ],
      "metadata": {
        "id": "i6uoWLiIrukW"
      },
      "execution_count": null,
      "outputs": []
    },
    {
      "cell_type": "code",
      "source": [
        "from google.colab import drive\n",
        "drive.mount('/content/gdrive')"
      ],
      "metadata": {
        "colab": {
          "base_uri": "https://localhost:8080/"
        },
        "id": "FTD6QtIvruqd",
        "outputId": "9605a222-ed8d-4ac2-bcbb-0a76286a796b"
      },
      "execution_count": 3,
      "outputs": [
        {
          "output_type": "stream",
          "name": "stdout",
          "text": [
            "Mounted at /content/gdrive\n"
          ]
        }
      ]
    },
    {
      "cell_type": "code",
      "source": [
        "def clean_data(df):\n",
        "  clean_df = pd.DataFrame()\n",
        "  clean_df[\"Song_ID\"] = df[\"Song_ID\"]\n",
        "  clean_df[\"Artist\"] = df[\"Artist\"]\n",
        "  clean_df[\"Song\"] = df.Song_lyricstranslate.fillna(df.Song_cuspajz).fillna(df.Song_tekstovinet)\n",
        "  clean_df[\"Views\"] = df.Views_tekstovinet\n",
        "\n",
        "  if not \"Stihovi_diskografija\" in df.columns: df[\"Stihovi_diskografija\"] = np.nan\n",
        "  else: df.Stihovi_diskografija = df.Stihovi_diskografija.str.replace(\"'\", \"\")\n",
        "  if (~df.Writer_lyricstranslate.isnull()).sum()>0: df.Writer_lyricstranslate = \"[\" + df.Writer_lyricstranslate + \"]\"\n",
        "  if not \"Lyrics By_discogs\" in df.columns: df[\"Lyrics By_discogs\"] = np.nan\n",
        "  if (~df[\"Lyrics By_discogs\"].isnull()).sum()>0: df[\"Lyrics By_discogs\"] = \"[\" + df[\"Lyrics By_discogs\"] + \"]\"\n",
        "  clean_df[\"Lyrics_by\"] = df.Stihovi_diskografija.fillna(df['Lyrics By_discogs']).fillna(df.Writer_lyricstranslate)\n",
        "\n",
        "  if not \"Skladba_diskografija\" in df.columns: df[\"Skladba_diskografija\"] = np.nan\n",
        "  else: df.Skladba_diskografija = df.Skladba_diskografija.str.replace(\"'\", \"\")\n",
        "  if not \"Music By_discogs\" in df.columns: df[\"Music By_discogs\"] = np.nan\n",
        "  if (~df[\"Music By_discogs\"].isnull()).sum()>0: df[\"Music By_discogs\"] = \"[\" + df[\"Music By_discogs\"] + \"]\"\n",
        "  clean_df[\"Music_by\"] = df.Skladba_diskografija.fillna(df['Music By_discogs'])\n",
        "\n",
        "  if not \"Album_1_diskografija\" in df.columns:\n",
        "    clean_df[\"Year\"] = np.nan\n",
        "    clean_df[\"Album\"] = np.nan\n",
        "  else: \n",
        "    df[[\"year_diskografija\", \"album_diskografija\"]] = df.Album_1_diskografija.str.split(\" - \", expand=True, n=1)\n",
        "    clean_df[\"Year\"] = df.year_diskografija.fillna(df.Album_year_discogs)\n",
        "    clean_df[\"Album\"] = df.album_diskografija.fillna(df.Album_title_discogs).fillna(df.Album_lyricstranslate)\n",
        "  clean_df[\"Song_duration_discogs\"] = df[\"Song_duration_discogs\"]\n",
        "\n",
        "  return clean_df\n"
      ],
      "metadata": {
        "id": "UX5W-mwx1oFI"
      },
      "execution_count": 171,
      "outputs": []
    },
    {
      "cell_type": "code",
      "source": [
        "df_info = pd.read_csv(f\"/content/gdrive/My Drive/CroLyrics_data/info_for_scraping.csv\")"
      ],
      "metadata": {
        "id": "gGFLPpmerrWP"
      },
      "execution_count": 143,
      "outputs": []
    },
    {
      "cell_type": "code",
      "source": [
        ""
      ],
      "metadata": {
        "colab": {
          "base_uri": "https://localhost:8080/"
        },
        "id": "7FkTo2Wp4YJA",
        "outputId": "366a0381-d224-4cb6-8a91-c4956fb74f28"
      },
      "execution_count": 139,
      "outputs": [
        {
          "output_type": "execute_result",
          "data": {
            "text/plain": [
              "0"
            ]
          },
          "metadata": {},
          "execution_count": 139
        }
      ]
    },
    {
      "cell_type": "code",
      "source": [
        "for artist_name in df_info.artist_name:\n",
        "  path_info = f'/content/gdrive/MyDrive/CroLyrics_data/{artist_name}_final.csv'\n",
        "  \n",
        "  if path.exists(path_info):\n",
        "    df = pd.read_csv(path_info)\n",
        "   \n",
        "    clean_df = clean_data(df)\n",
        "    df.to_csv(f\"/content/gdrive/My Drive/CroLyrics_data/{artist_name}_clean_info.csv\", index=False)"
      ],
      "metadata": {
        "id": "rvQG_niesApV"
      },
      "execution_count": 172,
      "outputs": []
    },
    {
      "cell_type": "code",
      "source": [
        "clean_df.Lyrics_by.isnull().sum()/len(clean_df)"
      ],
      "metadata": {
        "colab": {
          "base_uri": "https://localhost:8080/"
        },
        "id": "zJRD73bkswR-",
        "outputId": "f2636754-d6a4-46cc-b5e2-71ed6f84ef0e"
      },
      "execution_count": 180,
      "outputs": [
        {
          "output_type": "execute_result",
          "data": {
            "text/plain": [
              "0.449438202247191"
            ]
          },
          "metadata": {},
          "execution_count": 180
        }
      ]
    },
    {
      "cell_type": "code",
      "source": [
        ""
      ],
      "metadata": {
        "id": "57XbRuxyyc1s"
      },
      "execution_count": 69,
      "outputs": []
    }
  ]
}